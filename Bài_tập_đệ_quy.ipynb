{
  "nbformat": 4,
  "nbformat_minor": 0,
  "metadata": {
    "colab": {
      "name": "Bài tập đệ quy.ipynb",
      "provenance": [],
      "authorship_tag": "ABX9TyPN7/mqbDS+g1IapD46tUa6",
      "include_colab_link": true
    },
    "kernelspec": {
      "name": "python3",
      "display_name": "Python 3"
    }
  },
  "cells": [
    {
      "cell_type": "markdown",
      "metadata": {
        "id": "view-in-github",
        "colab_type": "text"
      },
      "source": [
        "<a href=\"https://colab.research.google.com/github/LBMH-lang/LBMH/blob/master/B%C3%A0i_t%E1%BA%ADp_%C4%91%E1%BB%87_quy.ipynb\" target=\"_parent\"><img src=\"https://colab.research.google.com/assets/colab-badge.svg\" alt=\"Open In Colab\"/></a>"
      ]
    },
    {
      "cell_type": "code",
      "metadata": {
        "colab": {
          "base_uri": "https://localhost:8080/"
        },
        "id": "EjETdn9JMCor",
        "outputId": "0a8a5945-5a8f-4312-e141-0419de0d6bd1"
      },
      "source": [
        "def factorial(number):\r\n",
        "    if number == 0:\r\n",
        "        return 1\r\n",
        "    else:\r\n",
        "        return number * factorial(number-1)\r\n",
        " \r\n",
        "if __name__ == '__main__':\r\n",
        "    print(factorial(3))\r\n",
        "    print(factorial(5))"
      ],
      "execution_count": 2,
      "outputs": [
        {
          "output_type": "stream",
          "text": [
            "6\n",
            "120\n"
          ],
          "name": "stdout"
        }
      ]
    },
    {
      "cell_type": "markdown",
      "metadata": {
        "id": "hC5Thah1MzKa"
      },
      "source": [
        " Sửa đổi mã này một chút để có được số lần đã đệ quy:"
      ]
    },
    {
      "cell_type": "code",
      "metadata": {
        "colab": {
          "base_uri": "https://localhost:8080/"
        },
        "id": "JYHJuW-HMpaT",
        "outputId": "2567241c-3467-4a2f-e47f-ad411d933a9b"
      },
      "source": [
        "def factorial(number, recursed=0):\r\n",
        "    if number == 0:\r\n",
        "        return 1\r\n",
        "    else:\r\n",
        "        print('Recursed {} time(s)'.format(recursed))\r\n",
        "        recursed += 1\r\n",
        "        return number * factorial(number-1, recursed)\r\n",
        " \r\n",
        "if __name__ == '__main__':\r\n",
        "    print(factorial(3))"
      ],
      "execution_count": 3,
      "outputs": [
        {
          "output_type": "stream",
          "text": [
            "Recursed 0 time(s)\n",
            "Recursed 1 time(s)\n",
            "Recursed 2 time(s)\n",
            "6\n"
          ],
          "name": "stdout"
        }
      ]
    }
  ]
}