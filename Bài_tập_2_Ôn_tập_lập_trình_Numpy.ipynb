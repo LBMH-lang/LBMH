{
  "nbformat": 4,
  "nbformat_minor": 0,
  "metadata": {
    "colab": {
      "name": "Bài tập 2: Ôn tập lập trình Numpy.ipynb",
      "provenance": [],
      "authorship_tag": "ABX9TyMHra1mnYBCUXzoux7+ko9c",
      "include_colab_link": true
    },
    "kernelspec": {
      "name": "python3",
      "display_name": "Python 3"
    },
    "language_info": {
      "name": "python"
    }
  },
  "cells": [
    {
      "cell_type": "markdown",
      "metadata": {
        "id": "view-in-github",
        "colab_type": "text"
      },
      "source": [
        "<a href=\"https://colab.research.google.com/github/LBMH-lang/LBMH/blob/master/B%C3%A0i_t%E1%BA%ADp_2_%C3%94n_t%E1%BA%ADp_l%E1%BA%ADp_tr%C3%ACnh_Numpy.ipynb\" target=\"_parent\"><img src=\"https://colab.research.google.com/assets/colab-badge.svg\" alt=\"Open In Colab\"/></a>"
      ]
    },
    {
      "cell_type": "markdown",
      "source": [
        "Cài Đặt thư viện Numpy"
      ],
      "metadata": {
        "id": "CXjpiTieozq9"
      }
    },
    {
      "cell_type": "code",
      "source": [
        "import numpy as np"
      ],
      "metadata": {
        "id": "uTsdHGe-oy-B"
      },
      "execution_count": 1,
      "outputs": []
    },
    {
      "cell_type": "markdown",
      "source": [
        "Khởi tạo mảng một chiều\n"
      ],
      "metadata": {
        "id": "9h2qjrQCo0bY"
      }
    },
    {
      "cell_type": "code",
      "source": [
        "#Khởi tạo mảng một chiều với kiểu dữ liệu các phần tử là Integer\n",
        "arr = np.array([1,3,4,5,6], dtype = int)\n",
        "\n",
        "#Khởi tạo mảng một chiều với kiểu dữ liệu mặc định\n",
        "arr = np.array([1,3,4,5,6])\n",
        "\n",
        "print(arr)"
      ],
      "metadata": {
        "colab": {
          "base_uri": "https://localhost:8080/"
        },
        "id": "Nlm1bUzGo0H1",
        "outputId": "365ba691-0ee3-4542-a4b3-9853d6a12a8f"
      },
      "execution_count": 2,
      "outputs": [
        {
          "output_type": "stream",
          "name": "stdout",
          "text": [
            "[1 3 4 5 6]\n"
          ]
        }
      ]
    },
    {
      "cell_type": "markdown",
      "source": [
        "Khởi tạo mảng hai chiều"
      ],
      "metadata": {
        "id": "SFRD55wjqNW4"
      }
    },
    {
      "cell_type": "code",
      "source": [
        "arr1 = np.array([(4,5,6), (1,2,3)], dtype = int)\n",
        "\n",
        "print(arr1)"
      ],
      "metadata": {
        "colab": {
          "base_uri": "https://localhost:8080/"
        },
        "id": "f0spLMHxqJUy",
        "outputId": "a3341370-c22f-4f91-fe26-557ed579fe3c"
      },
      "execution_count": 3,
      "outputs": [
        {
          "output_type": "stream",
          "name": "stdout",
          "text": [
            "[[4 5 6]\n",
            " [1 2 3]]\n"
          ]
        }
      ]
    },
    {
      "cell_type": "markdown",
      "source": [
        "Khởi tạo mảng ba chiều"
      ],
      "metadata": {
        "id": "6eLGnHn4qbo8"
      }
    },
    {
      "cell_type": "code",
      "source": [
        "arr2 = np.array(([(2,4,0,6), (4,7,5,6)],\n",
        "                 [(0,3,2,1), (9,4,5,6)],\n",
        "                 [(5,8,6,4), (1,4,6,8)]), dtype = int)\n",
        "\n",
        "print(arr2)"
      ],
      "metadata": {
        "colab": {
          "base_uri": "https://localhost:8080/"
        },
        "id": "UJrVAv1GqcCS",
        "outputId": "ca442717-ce15-451e-f0de-3d0d58f92df4"
      },
      "execution_count": 4,
      "outputs": [
        {
          "output_type": "stream",
          "name": "stdout",
          "text": [
            "[[[2 4 0 6]\n",
            "  [4 7 5 6]]\n",
            "\n",
            " [[0 3 2 1]\n",
            "  [9 4 5 6]]\n",
            "\n",
            " [[5 8 6 4]\n",
            "  [1 4 6 8]]]\n"
          ]
        }
      ]
    },
    {
      "cell_type": "markdown",
      "source": [
        "Khởi tạo Vector"
      ],
      "metadata": {
        "id": "7b816hxZrjKN"
      }
    },
    {
      "cell_type": "code",
      "source": [
        "_a = [ 1, 2, 3, 4 ] #array-like object  \n",
        "a = np.array(_a) #create a 1-dimension array (vector) from _a \n",
        "print('Vector 4 chiều:', a) #print vector a"
      ],
      "metadata": {
        "colab": {
          "base_uri": "https://localhost:8080/"
        },
        "id": "vpcYyP8Frj4J",
        "outputId": "7f5265f3-b973-41e7-f614-9228cc01c530"
      },
      "execution_count": 7,
      "outputs": [
        {
          "output_type": "stream",
          "name": "stdout",
          "text": [
            "Vector 4 chiều: [1 2 3 4]\n"
          ]
        }
      ]
    },
    {
      "cell_type": "markdown",
      "source": [
        "Các toán tử với ma trận và vector"
      ],
      "metadata": {
        "id": "GzZxJZs_sKZd"
      }
    },
    {
      "cell_type": "code",
      "source": [
        "#Cộng trừ hai ma trận:\n",
        "import numpy as np\n",
        "_a = [ [ 1, 2, 3 ], [ 4, 5, 6 ] ]\n",
        "_b = [ [ 2, 3, 5], [7, 9, 21] ]\n",
        "a = np.array(_a) #create 2 * 3 matrix: a\n",
        "b = np.array(_b) #create 2 * 3 matrix: b\n",
        "print('a + b =', a + b) #print out a + b\n",
        "print('a – b =', a - b) #print out a - b"
      ],
      "metadata": {
        "colab": {
          "base_uri": "https://localhost:8080/"
        },
        "id": "BfKYbEqWsMER",
        "outputId": "60c5c8c2-89b5-46be-cf56-f5a00396843f"
      },
      "execution_count": 9,
      "outputs": [
        {
          "output_type": "stream",
          "name": "stdout",
          "text": [
            "a + b = [[ 3  5  8]\n",
            " [11 14 27]]\n",
            "a – b = [[ -1  -1  -2]\n",
            " [ -3  -4 -15]]\n"
          ]
        }
      ]
    },
    {
      "cell_type": "code",
      "source": [
        "#Nhân chia ma trận với một số:\n",
        "import numpy as np\n",
        "_a = [ [ 3, 2, 1 ], [ 2, 4, 6 ] ]\n",
        "a = np.array(_a)\n",
        "print('a / 2 =', a / 2) #print giá trị a / 2\n",
        "print('a * 2 =', a * 2) #print giá trị a * 2"
      ],
      "metadata": {
        "colab": {
          "base_uri": "https://localhost:8080/"
        },
        "id": "CjqZ9uw4s_yU",
        "outputId": "1e450af2-6e3a-4d98-ba61-a9513e9b8344"
      },
      "execution_count": 11,
      "outputs": [
        {
          "output_type": "stream",
          "name": "stdout",
          "text": [
            "a / 2 = [[1.5 1.  0.5]\n",
            " [1.  2.  3. ]]\n",
            "a * 2 = [[ 6  4  2]\n",
            " [ 4  8 12]]\n"
          ]
        }
      ]
    },
    {
      "cell_type": "code",
      "source": [
        "#Nhân ma trận với vector:\n",
        "import numpy as np\n",
        "_a = [ [ 1, 2 ], [ 3, 4 ], [ 5, 6 ] ]\n",
        "a = np.array(_a) #Tạo ma trận 3 * 2\n",
        "_b = [ 1, 2 ]\n",
        "b = np.array(_b) #Tạo vector hai chiều\n",
        "print(a)\n",
        "print(b)\n",
        "print('a * b =', a.dot(b)) #In giá trị a * b khi dùng narray.dot()\n",
        "print('a * b =', a @ b) #In giá trị a * b khi dùng @ operation"
      ],
      "metadata": {
        "colab": {
          "base_uri": "https://localhost:8080/"
        },
        "id": "9Jqzgx7ftjN9",
        "outputId": "62cfc032-5fb6-46aa-ddda-9df9895d79f6"
      },
      "execution_count": 13,
      "outputs": [
        {
          "output_type": "stream",
          "name": "stdout",
          "text": [
            "[[1 2]\n",
            " [3 4]\n",
            " [5 6]]\n",
            "[1 2]\n",
            "a * b = [ 5 11 17]\n",
            "a * b = [ 5 11 17]\n"
          ]
        }
      ]
    },
    {
      "cell_type": "code",
      "source": [
        "#Nhân ma trận với ma trận:\n",
        "import numpy as np\n",
        "_a = [ [ 1, 2 ], [ 3, 4 ], [ 5, 6 ] ]\n",
        "a = np.array(_a) #Tạo ma trận 3 * 2 \n",
        "_b = [ [1, 3], [2, 1] ]\n",
        "b = np.array(_b) #Tạo ma trận 2 * 2 \n",
        "print(a)\n",
        "print(b)\n",
        "print('a * b =', a.dot(b)) #In giá trị a * b khi dùng narray.dot()\n",
        "print('a * b =', a @ b) #In giá trị a * b khi dùng @ operation"
      ],
      "metadata": {
        "colab": {
          "base_uri": "https://localhost:8080/"
        },
        "id": "9gy2X2APujql",
        "outputId": "e7c70173-aa13-446d-c7f6-bbebc3ecdd0d"
      },
      "execution_count": 14,
      "outputs": [
        {
          "output_type": "stream",
          "name": "stdout",
          "text": [
            "[[1 2]\n",
            " [3 4]\n",
            " [5 6]]\n",
            "[[1 3]\n",
            " [2 1]]\n",
            "a * b = [[ 5  5]\n",
            " [11 13]\n",
            " [17 21]]\n",
            "a * b = [[ 5  5]\n",
            " [11 13]\n",
            " [17 21]]\n"
          ]
        }
      ]
    },
    {
      "cell_type": "markdown",
      "source": [
        ""
      ],
      "metadata": {
        "id": "-ddT3k7UsLPp"
      }
    }
  ]
}