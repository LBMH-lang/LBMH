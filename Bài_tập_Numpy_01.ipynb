{
  "nbformat": 4,
  "nbformat_minor": 0,
  "metadata": {
    "colab": {
      "name": "Bài tập Numpy 01.ipynb",
      "provenance": [],
      "authorship_tag": "ABX9TyMHsYUQeXLFIm8iQmlLgX1j",
      "include_colab_link": true
    },
    "kernelspec": {
      "name": "python3",
      "display_name": "Python 3"
    },
    "language_info": {
      "name": "python"
    }
  },
  "cells": [
    {
      "cell_type": "markdown",
      "metadata": {
        "id": "view-in-github",
        "colab_type": "text"
      },
      "source": [
        "<a href=\"https://colab.research.google.com/github/LBMH-lang/LBMH/blob/master/B%C3%A0i_t%E1%BA%ADp_Numpy_01.ipynb\" target=\"_parent\"><img src=\"https://colab.research.google.com/assets/colab-badge.svg\" alt=\"Open In Colab\"/></a>"
      ]
    },
    {
      "cell_type": "code",
      "execution_count": 1,
      "metadata": {
        "id": "NNII_pRr_7Oc"
      },
      "outputs": [],
      "source": [
        "import numpy as np"
      ]
    },
    {
      "cell_type": "code",
      "source": [
        "#Bài 1:\n",
        "A = np.array([5, 7, 14])\n",
        "print(\"Giá trị của A:\", A)"
      ],
      "metadata": {
        "colab": {
          "base_uri": "https://localhost:8080/"
        },
        "id": "_bOcfQeuAf4Z",
        "outputId": "7743a36f-6454-4d3e-9fde-af86bfc5219b"
      },
      "execution_count": 3,
      "outputs": [
        {
          "output_type": "stream",
          "name": "stdout",
          "text": [
            "Giá trị của A: [ 5  7 14]\n"
          ]
        }
      ]
    },
    {
      "cell_type": "code",
      "source": [
        "#Bài 2:\n",
        "A1 = np.array([1, 2, 3, 4, 5, 6, 7, 8, 9, 10, 11, 12, 13, 14, 15])\n",
        "print(\"Giá trị của A:\", A1)"
      ],
      "metadata": {
        "colab": {
          "base_uri": "https://localhost:8080/"
        },
        "id": "3WAPMyhZB5kt",
        "outputId": "2fa5c20e-8555-4ce9-80a6-21d6da8a8742"
      },
      "execution_count": 8,
      "outputs": [
        {
          "output_type": "stream",
          "name": "stdout",
          "text": [
            "Giá trị của A: [ 1  2  3  4  5  6  7  8  9 10 11 12 13 14 15]\n"
          ]
        }
      ]
    },
    {
      "cell_type": "code",
      "source": [
        "#Bài 3:\n",
        "import random\n",
        "n = int(input(\"Nhap vao mot so n bat ky: \"))\n",
        "A = np.zeros((1, n), dtype = float)\n",
        "A[0][0] = 2\n",
        "d = -0.5\n",
        "for i in range(1, n, 1):\n",
        "    if(i % 2 == 1):\n",
        "        A[0][i] = -1.0\n",
        "    else:\n",
        "        A[0][i] = A[0][i] + (i - 1)*d\n",
        "print(A)"
      ],
      "metadata": {
        "colab": {
          "base_uri": "https://localhost:8080/"
        },
        "id": "_NkCoYX3DOUJ",
        "outputId": "f1a1e30a-5aa0-4461-9b49-47dc5445a1ab"
      },
      "execution_count": 10,
      "outputs": [
        {
          "output_type": "stream",
          "name": "stdout",
          "text": [
            "Nhap vao mot so n bat ky: 5\n",
            "[[ 2.  -1.  -0.5 -1.  -1.5]]\n"
          ]
        }
      ]
    },
    {
      "cell_type": "code",
      "source": [
        "#Bài 4:\n",
        "OA = np.random.randint(3, 5, (2, 4))\n",
        "print(\"Độ dài của OA:\",len(OA))"
      ],
      "metadata": {
        "colab": {
          "base_uri": "https://localhost:8080/"
        },
        "id": "aDxW4QfIFoM9",
        "outputId": "5f0a99df-5af2-4f57-966a-08f11a69cb27"
      },
      "execution_count": 23,
      "outputs": [
        {
          "output_type": "stream",
          "name": "stdout",
          "text": [
            "Độ dài của OA: 2\n"
          ]
        }
      ]
    },
    {
      "cell_type": "code",
      "source": [
        "from typing import AbstractSet\n",
        "#Bài 6:\n",
        "a = np.random.rand(2,3)\n",
        "b = np.random.rand(2,3)\n",
        "print (np.inner(a,b))"
      ],
      "metadata": {
        "colab": {
          "base_uri": "https://localhost:8080/"
        },
        "id": "zf6NRUG-JQrm",
        "outputId": "4756f1a0-506f-4259-f7ac-4c25a112704e"
      },
      "execution_count": 31,
      "outputs": [
        {
          "output_type": "stream",
          "name": "stdout",
          "text": [
            "[[0.87378827 0.89362166]\n",
            " [0.35109979 0.51427287]]\n"
          ]
        }
      ]
    },
    {
      "cell_type": "code",
      "source": [
        "#Bài 7:\n",
        "print(np.cross(a,b))"
      ],
      "metadata": {
        "colab": {
          "base_uri": "https://localhost:8080/"
        },
        "id": "8tLvSMyIRRfx",
        "outputId": "072341c9-cc81-4842-b94d-e8a7315b7656"
      },
      "execution_count": 32,
      "outputs": [
        {
          "output_type": "stream",
          "name": "stdout",
          "text": [
            "[[-0.26534009  0.04574933  0.50098836]\n",
            " [-0.43094503  0.27874895  0.0776115 ]]\n"
          ]
        }
      ]
    },
    {
      "cell_type": "code",
      "source": [
        "#Bài 8:\n",
        "a1 = np.random.random(3)\n",
        "print(np.transpose(a1))"
      ],
      "metadata": {
        "colab": {
          "base_uri": "https://localhost:8080/"
        },
        "id": "x4A4BPITRlle",
        "outputId": "caafd316-cb78-4aa0-c4a3-6dd0fafe2a19"
      },
      "execution_count": 34,
      "outputs": [
        {
          "output_type": "stream",
          "name": "stdout",
          "text": [
            "[0.07334308 0.00094954 0.36912131]\n"
          ]
        }
      ]
    },
    {
      "cell_type": "code",
      "source": [
        "#Bài 9:\n",
        "a = [1, 2, 3, 4, 5]\n",
        "b = [[1], [2], [3], [4], [5]]\n",
        "print(\"a=\",a)\n",
        "print(\"b=\",b)\n",
        "A = np.array(a)\n",
        "B = np.array(b)\n",
        "print(\"Vector a:\",A)\n",
        "print(\"Vector b:\",B)\n",
        "print(\"a^T= \",np.transpose(A))\n",
        "print(\"b^T= \",np.transpose(B))"
      ],
      "metadata": {
        "colab": {
          "base_uri": "https://localhost:8080/"
        },
        "id": "bfKISZkUUqQ9",
        "outputId": "5b58bf48-64a1-4213-e2ba-9985d3fab615"
      },
      "execution_count": 43,
      "outputs": [
        {
          "output_type": "stream",
          "name": "stdout",
          "text": [
            "a= [1, 2, 3, 4, 5]\n",
            "b= [[1], [2], [3], [4], [5]]\n",
            "Vector a: [1 2 3 4 5]\n",
            "Vector b: [[1]\n",
            " [2]\n",
            " [3]\n",
            " [4]\n",
            " [5]]\n",
            "a^T=  [1 2 3 4 5]\n",
            "b^T=  [[1 2 3 4 5]]\n"
          ]
        }
      ]
    }
  ]
}