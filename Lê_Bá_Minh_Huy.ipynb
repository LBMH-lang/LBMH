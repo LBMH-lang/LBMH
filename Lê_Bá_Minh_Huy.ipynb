{
  "nbformat": 4,
  "nbformat_minor": 0,
  "metadata": {
    "colab": {
      "name": "Lê Bá Minh Huy.ipynb",
      "provenance": [],
      "authorship_tag": "ABX9TyMqAYtdwd/IrNW90ekhctPL",
      "include_colab_link": true
    },
    "kernelspec": {
      "name": "python3",
      "display_name": "Python 3"
    }
  },
  "cells": [
    {
      "cell_type": "markdown",
      "metadata": {
        "id": "view-in-github",
        "colab_type": "text"
      },
      "source": [
        "<a href=\"https://colab.research.google.com/github/LBMH-lang/LBMH/blob/master/L%C3%AA_B%C3%A1_Minh_Huy.ipynb\" target=\"_parent\"><img src=\"https://colab.research.google.com/assets/colab-badge.svg\" alt=\"Open In Colab\"/></a>"
      ]
    },
    {
      "cell_type": "markdown",
      "metadata": {
        "id": "x4f-6sjmO7Ae"
      },
      "source": [
        "THƯ VIỆN NUMPY\r\n"
      ]
    },
    {
      "cell_type": "markdown",
      "metadata": {
        "id": "isKjFS1LVfrN"
      },
      "source": [
        ""
      ]
    },
    {
      "cell_type": "code",
      "metadata": {
        "colab": {
          "base_uri": "https://localhost:8080/"
        },
        "id": "wFlDuOoyNzL2",
        "outputId": "a644f29e-f4e4-4907-eb23-b182397daf0b"
      },
      "source": [
        "import numpy as np\r\n",
        "import random\r\n",
        "def matran(m, n): #Hàm tạo ma trận  hàng n cột m\r\n",
        "    #Nhập ma trận ngẫu nhiên\r\n",
        "    a = np.random.randint(-10, 10, size= (m, n))\r\n",
        "    #Khởi tạo ma trận \r\n",
        "    b = np.array([[3,1,4], [7, 5, 0]])\r\n",
        "    \r\n",
        "    print(\"Ma trận random a= \", a)\r\n",
        "    \r\n",
        "    print(\"Ma trận b= \", b)\r\n",
        "    #Thực hiện phép cộng ma trận\r\n",
        "    print(\"phép cộng ma trận: \", a+b)\r\n",
        "    #Thực hiện phép trừ ma trận\r\n",
        "    print(\"phép trừ ma trận: \", a-b)\r\n",
        "    #Thực hiện phép nhân ma trận\r\n",
        "    print(\"phép nhân ma trận: \", a*b)\r\n",
        "    #Thực hiện phép chia ma trận\r\n",
        "    print(\"chia hai ma trận: \", a/b)\r\n",
        "    #Chuyển vị ma trận\r\n",
        "    print(b.transpose()) \r\n",
        "    return (a, b)\r\n",
        "matran(2, 3)"
      ],
      "execution_count": 9,
      "outputs": [
        {
          "output_type": "stream",
          "text": [
            "Ma trận random a=  [[ 3 -4  0]\n",
            " [-6  5 -3]]\n",
            "Ma trận b=  [[3 1 4]\n",
            " [7 5 0]]\n",
            "phép cộng ma trận:  [[ 6 -3  4]\n",
            " [ 1 10 -3]]\n",
            "phép trừ ma trận:  [[  0  -5  -4]\n",
            " [-13   0  -3]]\n",
            "phép nhân ma trận:  [[  9  -4   0]\n",
            " [-42  25   0]]\n",
            "chia hai ma trận:  [[ 1.         -4.          0.        ]\n",
            " [-0.85714286  1.                -inf]]\n",
            "[[3 7]\n",
            " [1 5]\n",
            " [4 0]]\n"
          ],
          "name": "stdout"
        },
        {
          "output_type": "stream",
          "text": [
            "/usr/local/lib/python3.6/dist-packages/ipykernel_launcher.py:19: RuntimeWarning: divide by zero encountered in true_divide\n"
          ],
          "name": "stderr"
        },
        {
          "output_type": "execute_result",
          "data": {
            "text/plain": [
              "(array([[ 3, -4,  0],\n",
              "        [-6,  5, -3]]), array([[3, 1, 4],\n",
              "        [7, 5, 0]]))"
            ]
          },
          "metadata": {
            "tags": []
          },
          "execution_count": 9
        }
      ]
    },
    {
      "cell_type": "code",
      "metadata": {
        "id": "zQKeMFIwPZMd"
      },
      "source": [
        ""
      ],
      "execution_count": null,
      "outputs": []
    }
  ]
}