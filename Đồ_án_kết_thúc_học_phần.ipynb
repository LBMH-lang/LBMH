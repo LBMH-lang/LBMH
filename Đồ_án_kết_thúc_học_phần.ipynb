{
  "nbformat": 4,
  "nbformat_minor": 0,
  "metadata": {
    "colab": {
      "name": "Đồ án kết thúc học phần.ipynb",
      "provenance": [],
      "authorship_tag": "ABX9TyNxi/EELgZgPvZssVm2cgG5",
      "include_colab_link": true
    },
    "kernelspec": {
      "name": "python3",
      "display_name": "Python 3"
    },
    "language_info": {
      "name": "python"
    }
  },
  "cells": [
    {
      "cell_type": "markdown",
      "metadata": {
        "id": "view-in-github",
        "colab_type": "text"
      },
      "source": [
        "<a href=\"https://colab.research.google.com/github/LBMH-lang/LBMH/blob/master/%C4%90%E1%BB%93_%C3%A1n_k%E1%BA%BFt_th%C3%BAc_h%E1%BB%8Dc_ph%E1%BA%A7n.ipynb\" target=\"_parent\"><img src=\"https://colab.research.google.com/assets/colab-badge.svg\" alt=\"Open In Colab\"/></a>"
      ]
    },
    {
      "cell_type": "markdown",
      "metadata": {
        "id": "vQpQEv9A8hxh"
      },
      "source": [
        "# **1) Sử dụng tập tin Inc_Exp_Data.csv để thực hiện phân tích thống kê mô tả về tập dữ liệu này**"
      ]
    },
    {
      "cell_type": "code",
      "metadata": {
        "id": "n_30oiLHlXvV"
      },
      "source": [
        "import pandas as pd\n",
        "import numpy as np\n",
        "from scipy import stats\n",
        "import statistics\n",
        "import matplotlib.pyplot as plt\n",
        "import seaborn as sns\n",
        "import statsmodels.api as sm\n",
        "import pylab\n",
        "import scipy.stats as stats"
      ],
      "execution_count": 3,
      "outputs": []
    },
    {
      "cell_type": "code",
      "metadata": {
        "id": "YMzX3ewpxNnQ"
      },
      "source": [
        "Du_lieu1 = pd.read_csv(\"Diet_R.csv\")"
      ],
      "execution_count": 3,
      "outputs": []
    },
    {
      "cell_type": "code",
      "metadata": {
        "colab": {
          "base_uri": "https://localhost:8080/",
          "height": 359
        },
        "id": "qpuvVXPQDCmW",
        "outputId": "c1bc3154-0d89-493c-b531-2f3180df3214"
      },
      "source": [
        "Du_lieu1.sample(10)"
      ],
      "execution_count": 4,
      "outputs": [
        {
          "output_type": "execute_result",
          "data": {
            "text/html": [
              "<div>\n",
              "<style scoped>\n",
              "    .dataframe tbody tr th:only-of-type {\n",
              "        vertical-align: middle;\n",
              "    }\n",
              "\n",
              "    .dataframe tbody tr th {\n",
              "        vertical-align: top;\n",
              "    }\n",
              "\n",
              "    .dataframe thead th {\n",
              "        text-align: right;\n",
              "    }\n",
              "</style>\n",
              "<table border=\"1\" class=\"dataframe\">\n",
              "  <thead>\n",
              "    <tr style=\"text-align: right;\">\n",
              "      <th></th>\n",
              "      <th>Person</th>\n",
              "      <th>gender</th>\n",
              "      <th>Age</th>\n",
              "      <th>Height</th>\n",
              "      <th>pre.weight</th>\n",
              "      <th>Diet</th>\n",
              "      <th>weight6weeks</th>\n",
              "    </tr>\n",
              "  </thead>\n",
              "  <tbody>\n",
              "    <tr>\n",
              "      <th>42</th>\n",
              "      <td>64</td>\n",
              "      <td>0.0</td>\n",
              "      <td>56</td>\n",
              "      <td>171</td>\n",
              "      <td>73</td>\n",
              "      <td>3</td>\n",
              "      <td>68.9</td>\n",
              "    </tr>\n",
              "    <tr>\n",
              "      <th>55</th>\n",
              "      <td>41</td>\n",
              "      <td>1.0</td>\n",
              "      <td>51</td>\n",
              "      <td>191</td>\n",
              "      <td>71</td>\n",
              "      <td>2</td>\n",
              "      <td>66.8</td>\n",
              "    </tr>\n",
              "    <tr>\n",
              "      <th>59</th>\n",
              "      <td>45</td>\n",
              "      <td>1.0</td>\n",
              "      <td>45</td>\n",
              "      <td>160</td>\n",
              "      <td>78</td>\n",
              "      <td>2</td>\n",
              "      <td>72.7</td>\n",
              "    </tr>\n",
              "    <tr>\n",
              "      <th>62</th>\n",
              "      <td>48</td>\n",
              "      <td>1.0</td>\n",
              "      <td>40</td>\n",
              "      <td>171</td>\n",
              "      <td>79</td>\n",
              "      <td>2</td>\n",
              "      <td>72.9</td>\n",
              "    </tr>\n",
              "    <tr>\n",
              "      <th>56</th>\n",
              "      <td>42</td>\n",
              "      <td>1.0</td>\n",
              "      <td>38</td>\n",
              "      <td>199</td>\n",
              "      <td>75</td>\n",
              "      <td>2</td>\n",
              "      <td>72.6</td>\n",
              "    </tr>\n",
              "    <tr>\n",
              "      <th>61</th>\n",
              "      <td>47</td>\n",
              "      <td>1.0</td>\n",
              "      <td>44</td>\n",
              "      <td>163</td>\n",
              "      <td>79</td>\n",
              "      <td>2</td>\n",
              "      <td>73.6</td>\n",
              "    </tr>\n",
              "    <tr>\n",
              "      <th>44</th>\n",
              "      <td>66</td>\n",
              "      <td>0.0</td>\n",
              "      <td>41</td>\n",
              "      <td>157</td>\n",
              "      <td>76</td>\n",
              "      <td>3</td>\n",
              "      <td>71.0</td>\n",
              "    </tr>\n",
              "    <tr>\n",
              "      <th>64</th>\n",
              "      <td>50</td>\n",
              "      <td>1.0</td>\n",
              "      <td>39</td>\n",
              "      <td>180</td>\n",
              "      <td>80</td>\n",
              "      <td>2</td>\n",
              "      <td>81.4</td>\n",
              "    </tr>\n",
              "    <tr>\n",
              "      <th>76</th>\n",
              "      <td>77</td>\n",
              "      <td>1.0</td>\n",
              "      <td>40</td>\n",
              "      <td>167</td>\n",
              "      <td>87</td>\n",
              "      <td>3</td>\n",
              "      <td>77.8</td>\n",
              "    </tr>\n",
              "    <tr>\n",
              "      <th>57</th>\n",
              "      <td>43</td>\n",
              "      <td>1.0</td>\n",
              "      <td>54</td>\n",
              "      <td>196</td>\n",
              "      <td>75</td>\n",
              "      <td>2</td>\n",
              "      <td>69.2</td>\n",
              "    </tr>\n",
              "  </tbody>\n",
              "</table>\n",
              "</div>"
            ],
            "text/plain": [
              "    Person  gender  Age  Height  pre.weight  Diet  weight6weeks\n",
              "42      64     0.0   56     171          73     3          68.9\n",
              "55      41     1.0   51     191          71     2          66.8\n",
              "59      45     1.0   45     160          78     2          72.7\n",
              "62      48     1.0   40     171          79     2          72.9\n",
              "56      42     1.0   38     199          75     2          72.6\n",
              "61      47     1.0   44     163          79     2          73.6\n",
              "44      66     0.0   41     157          76     3          71.0\n",
              "64      50     1.0   39     180          80     2          81.4\n",
              "76      77     1.0   40     167          87     3          77.8\n",
              "57      43     1.0   54     196          75     2          69.2"
            ]
          },
          "metadata": {
            "tags": []
          },
          "execution_count": 4
        }
      ]
    },
    {
      "cell_type": "markdown",
      "metadata": {
        "id": "zmeoFb5S0JtJ"
      },
      "source": [
        "Chạy mô hình kiểm định ANOVA"
      ]
    },
    {
      "cell_type": "code",
      "metadata": {
        "id": "K8HGYKBX0Ja9"
      },
      "source": [
        "from statsmodels.formula.api import ols\n",
        "import statsmodels.api as sm"
      ],
      "execution_count": 6,
      "outputs": []
    },
    {
      "cell_type": "code",
      "metadata": {
        "id": "VXzNPFtP0QQP"
      },
      "source": [
        "model = ols('weight6weeks ~ C(gender)', data=Du_lieu1).fit()\n",
        "anova_table = sm.stats.anova_lm(model, typ=2)"
      ],
      "execution_count": 13,
      "outputs": []
    },
    {
      "cell_type": "code",
      "metadata": {
        "id": "E81KFwGa0soZ",
        "outputId": "8dd69d99-6ff3-496d-bd78-95956d6e62e8",
        "colab": {
          "base_uri": "https://localhost:8080/",
          "height": 111
        }
      },
      "source": [
        "anova_table"
      ],
      "execution_count": 14,
      "outputs": [
        {
          "output_type": "execute_result",
          "data": {
            "text/html": [
              "<div>\n",
              "<style scoped>\n",
              "    .dataframe tbody tr th:only-of-type {\n",
              "        vertical-align: middle;\n",
              "    }\n",
              "\n",
              "    .dataframe tbody tr th {\n",
              "        vertical-align: top;\n",
              "    }\n",
              "\n",
              "    .dataframe thead th {\n",
              "        text-align: right;\n",
              "    }\n",
              "</style>\n",
              "<table border=\"1\" class=\"dataframe\">\n",
              "  <thead>\n",
              "    <tr style=\"text-align: right;\">\n",
              "      <th></th>\n",
              "      <th>sum_sq</th>\n",
              "      <th>df</th>\n",
              "      <th>F</th>\n",
              "      <th>PR(&gt;F)</th>\n",
              "    </tr>\n",
              "  </thead>\n",
              "  <tbody>\n",
              "    <tr>\n",
              "      <th>C(gender)</th>\n",
              "      <td>2596.187542</td>\n",
              "      <td>1.0</td>\n",
              "      <td>84.454874</td>\n",
              "      <td>7.289364e-14</td>\n",
              "    </tr>\n",
              "    <tr>\n",
              "      <th>Residual</th>\n",
              "      <td>2274.799168</td>\n",
              "      <td>74.0</td>\n",
              "      <td>NaN</td>\n",
              "      <td>NaN</td>\n",
              "    </tr>\n",
              "  </tbody>\n",
              "</table>\n",
              "</div>"
            ],
            "text/plain": [
              "                sum_sq    df          F        PR(>F)\n",
              "C(gender)  2596.187542   1.0  84.454874  7.289364e-14\n",
              "Residual   2274.799168  74.0        NaN           NaN"
            ]
          },
          "metadata": {
            "tags": []
          },
          "execution_count": 14
        }
      ]
    },
    {
      "cell_type": "code",
      "metadata": {
        "id": "Xr_wSdT0N5FF"
      },
      "source": [
        "Du_lieu1.drop('Person', axis= 1, inplace= True)"
      ],
      "execution_count": 63,
      "outputs": []
    },
    {
      "cell_type": "code",
      "metadata": {
        "id": "g_5mV2gJDflH"
      },
      "source": [
        "high = low =  placebo = []\n",
        "high = Du_lieu1['gender'][Du_lieu1['Age'][Du_lieu1['Height'][Du_lieu1['pre.weight'][Du_lieu1['Diet'][Du_lieu1['weight6weeks'] == 'high']]]]]\n",
        "low = Du_lieu1['gender'][Du_lieu1['Age'][Du_lieu1['Height'][Du_lieu1['pre.weight'][Du_lieu1['Diet'][Du_lieu1['weight6weeks'] == 'low']]]]]\n",
        "placebo = Du_lieu1['gender'][Du_lieu1['Age'][Du_lieu1['Height'][Du_lieu1['pre.weight'][Du_lieu1['Diet'][Du_lieu1['weight6weeks'] == 'placebo']]]]]"
      ],
      "execution_count": 64,
      "outputs": []
    },
    {
      "cell_type": "code",
      "metadata": {
        "id": "CVGP7dzOE59P"
      },
      "source": [
        "gender = Du_lieu1['gender']\n",
        "Age = Du_lieu1['Age']\n",
        "Height = Du_lieu1['Height']\n",
        "weight = Du_lieu1['pre.weight']\n",
        "Diet = Du_lieu1['Diet']\n",
        "weight6weeks = Du_lieu1['weight6weeks']"
      ],
      "execution_count": 65,
      "outputs": []
    },
    {
      "cell_type": "code",
      "metadata": {
        "id": "imh68J9_TPVU"
      },
      "source": [
        "class thongke():\n",
        "    def __init__(self, data):\n",
        "        self.mean = np.mean(data)\n",
        "        self.med = np.median(data)\n",
        "        self.mod = statistics.mode(data)\n",
        "        self.min = np.min(data)\n",
        "        self.max = np.max(data)\n",
        "        self.std = np.std(data)\n",
        "        self.name = data.name\n",
        "        self.data = (data - self.mean) /self.std\n",
        "      \n",
        "    def hist(self):\n",
        "        plt.figure()\n",
        "        ax = sns.distplot(self.data)\n",
        "        plt.axvline(np.mean(self.data), color=\"r\", linestyle=\"dashed\", linewidth=5)\n",
        "        _, max_ = plt.ylim()\n",
        "        plt.text(\n",
        "            self.data.mean() + self.data.mean() / 10,\n",
        "            max_ - max_ / 10,\n",
        "            \"Mean: {:.2f}\".format(self.mean),\n",
        "        )\n",
        "        plt.title(self.name)\n",
        "        plt.xlabel(\"x\")\n",
        "        plt.ylabel(\"y\")\n",
        "        plt.show();   \n",
        "    def qq(self):\n",
        "        sm.qqplot(self.data, line='45')\n",
        "        plt.show()\n",
        "        a = [0.25,0.5,0.75]\n",
        "        b = self.data.quantile(a)\n",
        "        c = pd.DataFrame(b,a)\n",
        "        print(c)\n",
        "        print('-'*50)\n",
        "    def shapiro(self):\n",
        "        print('Kiểm định Shapori:')\n",
        "        stat, p = stats.shapiro(self.data)\n",
        "        print('stat=%.3f, p=%.3f' % (stat, p))\n",
        "        if p > 0.05:\n",
        "            print('Không thể bác bỏ giả thiết H0: Phân phối của dữ liệu là chuẩn')\n",
        "        else:\n",
        "            print('Dữ liệu không tuân theo luật phân phối chuẩn, ta không thể sử dụng kiểm định Anova')\n",
        "        print('-'*50)\n",
        "    #def anova(self):\n",
        "        #print('kiểm định anova:')\n",
        "        #statistic, p_value = f_oneway(self.name)\n",
        "        #print('statistic:',statistic, '; p value:',p_value)"
      ],
      "execution_count": 11,
      "outputs": []
    },
    {
      "cell_type": "code",
      "metadata": {
        "id": "ejgv-ZEHTWhR"
      },
      "source": [
        "#Đầu tiên ta tiến hành kiểm tra các giả định\n",
        "# Ta thấy các giả định đều độc lập với nhau\n",
        "#\"Giả định này được kiểm tra khi nghiên cứu được thiết kế.\n",
        "#Điều này có nghĩa là tất cả các nhóm đều loại trừ lẫn nhau,\n",
        "#tức là một cá nhân chỉ có thể thuộc về một nhóm.\n",
        "#Ngoài ra, điều này có nghĩa là dữ liệu không phải là các thước đo lặp lại (không được thu thập theo thời gian). \n",
        "#Trong ví dụ này, điều kiện này được đáp ứng\""
      ],
      "execution_count": null,
      "outputs": []
    },
    {
      "cell_type": "code",
      "metadata": {
        "colab": {
          "base_uri": "https://localhost:8080/"
        },
        "id": "dtjziTaCTZTL",
        "outputId": "e36699cd-8d7e-4f81-98af-9a1926878133"
      },
      "source": [
        "# tiếp theo ta sẽ dùng Kiểm định tính thuần nhất của phương sai (homogeneity of variance)\n",
        "from scipy.stats import bartlett\n",
        "print('Kiểm định Bartlett:')\n",
        "bartlett_test = bartlett(gender,Age,Height,weight,Diet,weight6weeks)\n",
        "print(bartlett_test)\n",
        "bartlettvalue,pvalue=bartlett_test\n",
        "if (bartlettvalue > 0) and (pvalue < 0.05):\n",
        "    print('Phương sai các nhóm không bằng nhau. Ta không thể sử dụng kiểm định Anova')\n",
        "else:\n",
        "    print('Phương sai các nhóm  bằng nhau.')\n",
        "print('-'*50)"
      ],
      "execution_count": 67,
      "outputs": [
        {
          "output_type": "stream",
          "text": [
            "Kiểm định Bartlett:\n",
            "BartlettResult(statistic=656.9361929299977, pvalue=1.002775173314174e-139)\n",
            "Phương sai các nhóm không bằng nhau. Ta không thể sử dụng kiểm định Anova\n",
            "--------------------------------------------------\n"
          ],
          "name": "stdout"
        }
      ]
    },
    {
      "cell_type": "code",
      "metadata": {
        "colab": {
          "base_uri": "https://localhost:8080/",
          "height": 672
        },
        "id": "Yr37wM27Oz6e",
        "outputId": "73f16284-778d-49fc-80cf-e72a3e7df655"
      },
      "source": [
        "gender = thongke(gender)\n",
        "gender.hist()\n",
        "gender.qq()"
      ],
      "execution_count": 68,
      "outputs": [
        {
          "output_type": "stream",
          "text": [
            "/usr/local/lib/python3.7/dist-packages/seaborn/distributions.py:2557: FutureWarning: `distplot` is a deprecated function and will be removed in a future version. Please adapt your code to use either `displot` (a figure-level function with similar flexibility) or `histplot` (an axes-level function for histograms).\n",
            "  warnings.warn(msg, FutureWarning)\n"
          ],
          "name": "stderr"
        },
        {
          "output_type": "display_data",
          "data": {
            "image/png": "[encoded data removed]",
            "text/plain": [
              "<Figure size 432x288 with 1 Axes>"
            ]
          },
          "metadata": {
            "tags": [],
            "needs_background": "light"
          }
        },
        {
          "output_type": "error",
          "ename": "RuntimeError",
          "evalue": "ignored",
          "traceback": [
            "\u001b[0;31m---------------------------------------------------------------------------\u001b[0m",
            "\u001b[0;31mRuntimeError\u001b[0m                              Traceback (most recent call last)",
            "\u001b[0;32m<ipython-input-68-ad897ef0f322>\u001b[0m in \u001b[0;36m<module>\u001b[0;34m()\u001b[0m\n\u001b[1;32m      1\u001b[0m \u001b[0mgender\u001b[0m \u001b[0;34m=\u001b[0m \u001b[0mthongke\u001b[0m\u001b[0;34m(\u001b[0m\u001b[0mgender\u001b[0m\u001b[0;34m)\u001b[0m\u001b[0;34m\u001b[0m\u001b[0;34m\u001b[0m\u001b[0m\n\u001b[1;32m      2\u001b[0m \u001b[0mgender\u001b[0m\u001b[0;34m.\u001b[0m\u001b[0mhist\u001b[0m\u001b[0;34m(\u001b[0m\u001b[0;34m)\u001b[0m\u001b[0;34m\u001b[0m\u001b[0;34m\u001b[0m\u001b[0m\n\u001b[0;32m----> 3\u001b[0;31m \u001b[0mgender\u001b[0m\u001b[0;34m.\u001b[0m\u001b[0mqq\u001b[0m\u001b[0;34m(\u001b[0m\u001b[0;34m)\u001b[0m\u001b[0;34m\u001b[0m\u001b[0;34m\u001b[0m\u001b[0m\n\u001b[0m",
            "\u001b[0;32m<ipython-input-66-37dc0f81790f>\u001b[0m in \u001b[0;36mqq\u001b[0;34m(self)\u001b[0m\n\u001b[1;32m     25\u001b[0m         \u001b[0mplt\u001b[0m\u001b[0;34m.\u001b[0m\u001b[0mshow\u001b[0m\u001b[0;34m(\u001b[0m\u001b[0;34m)\u001b[0m\u001b[0;34m;\u001b[0m\u001b[0;34m\u001b[0m\u001b[0;34m\u001b[0m\u001b[0m\n\u001b[1;32m     26\u001b[0m     \u001b[0;32mdef\u001b[0m \u001b[0mqq\u001b[0m\u001b[0;34m(\u001b[0m\u001b[0mself\u001b[0m\u001b[0;34m)\u001b[0m\u001b[0;34m:\u001b[0m\u001b[0;34m\u001b[0m\u001b[0;34m\u001b[0m\u001b[0m\n\u001b[0;32m---> 27\u001b[0;31m         \u001b[0msm\u001b[0m\u001b[0;34m.\u001b[0m\u001b[0mqqplot\u001b[0m\u001b[0;34m(\u001b[0m\u001b[0mself\u001b[0m\u001b[0;34m.\u001b[0m\u001b[0mdata\u001b[0m\u001b[0;34m,\u001b[0m \u001b[0mline\u001b[0m\u001b[0;34m=\u001b[0m\u001b[0;34m'45'\u001b[0m\u001b[0;34m)\u001b[0m\u001b[0;34m\u001b[0m\u001b[0;34m\u001b[0m\u001b[0m\n\u001b[0m\u001b[1;32m     28\u001b[0m         \u001b[0mplt\u001b[0m\u001b[0;34m.\u001b[0m\u001b[0mshow\u001b[0m\u001b[0;34m(\u001b[0m\u001b[0;34m)\u001b[0m\u001b[0;34m\u001b[0m\u001b[0;34m\u001b[0m\u001b[0m\n\u001b[1;32m     29\u001b[0m         \u001b[0ma\u001b[0m \u001b[0;34m=\u001b[0m \u001b[0;34m[\u001b[0m\u001b[0;36m0.25\u001b[0m\u001b[0;34m,\u001b[0m\u001b[0;36m0.5\u001b[0m\u001b[0;34m,\u001b[0m\u001b[0;36m0.75\u001b[0m\u001b[0;34m]\u001b[0m\u001b[0;34m\u001b[0m\u001b[0;34m\u001b[0m\u001b[0m\n",
            "\u001b[0;32m/usr/local/lib/python3.7/dist-packages/statsmodels/graphics/gofplots.py\u001b[0m in \u001b[0;36mqqplot\u001b[0;34m(data, dist, distargs, a, loc, scale, fit, line, ax, **plotkwargs)\u001b[0m\n\u001b[1;32m    578\u001b[0m     \"\"\"\n\u001b[1;32m    579\u001b[0m     probplot = ProbPlot(data, dist=dist, distargs=distargs,\n\u001b[0;32m--> 580\u001b[0;31m                          fit=fit, a=a, loc=loc, scale=scale)\n\u001b[0m\u001b[1;32m    581\u001b[0m     \u001b[0mfig\u001b[0m \u001b[0;34m=\u001b[0m \u001b[0mprobplot\u001b[0m\u001b[0;34m.\u001b[0m\u001b[0mqqplot\u001b[0m\u001b[0;34m(\u001b[0m\u001b[0max\u001b[0m\u001b[0;34m=\u001b[0m\u001b[0max\u001b[0m\u001b[0;34m,\u001b[0m \u001b[0mline\u001b[0m\u001b[0;34m=\u001b[0m\u001b[0mline\u001b[0m\u001b[0;34m,\u001b[0m \u001b[0;34m**\u001b[0m\u001b[0mplotkwargs\u001b[0m\u001b[0;34m)\u001b[0m\u001b[0;34m\u001b[0m\u001b[0;34m\u001b[0m\u001b[0m\n\u001b[1;32m    582\u001b[0m     \u001b[0;32mreturn\u001b[0m \u001b[0mfig\u001b[0m\u001b[0;34m\u001b[0m\u001b[0;34m\u001b[0m\u001b[0m\n",
            "\u001b[0;32m/usr/local/lib/python3.7/dist-packages/statsmodels/graphics/gofplots.py\u001b[0m in \u001b[0;36m__init__\u001b[0;34m(self, data, dist, fit, distargs, a, loc, scale)\u001b[0m\n\u001b[1;32m    174\u001b[0m             \u001b[0mdist\u001b[0m \u001b[0;34m=\u001b[0m \u001b[0mgetattr\u001b[0m\u001b[0;34m(\u001b[0m\u001b[0mstats\u001b[0m\u001b[0;34m,\u001b[0m \u001b[0mdist\u001b[0m\u001b[0;34m)\u001b[0m\u001b[0;34m\u001b[0m\u001b[0;34m\u001b[0m\u001b[0m\n\u001b[1;32m    175\u001b[0m \u001b[0;34m\u001b[0m\u001b[0m\n\u001b[0;32m--> 176\u001b[0;31m         \u001b[0mself\u001b[0m\u001b[0;34m.\u001b[0m\u001b[0mfit_params\u001b[0m \u001b[0;34m=\u001b[0m \u001b[0mdist\u001b[0m\u001b[0;34m.\u001b[0m\u001b[0mfit\u001b[0m\u001b[0;34m(\u001b[0m\u001b[0mdata\u001b[0m\u001b[0;34m)\u001b[0m\u001b[0;34m\u001b[0m\u001b[0;34m\u001b[0m\u001b[0m\n\u001b[0m\u001b[1;32m    177\u001b[0m         \u001b[0;32mif\u001b[0m \u001b[0mfit\u001b[0m\u001b[0;34m:\u001b[0m\u001b[0;34m\u001b[0m\u001b[0;34m\u001b[0m\u001b[0m\n\u001b[1;32m    178\u001b[0m             \u001b[0mself\u001b[0m\u001b[0;34m.\u001b[0m\u001b[0mloc\u001b[0m \u001b[0;34m=\u001b[0m \u001b[0mself\u001b[0m\u001b[0;34m.\u001b[0m\u001b[0mfit_params\u001b[0m\u001b[0;34m[\u001b[0m\u001b[0;34m-\u001b[0m\u001b[0;36m2\u001b[0m\u001b[0;34m]\u001b[0m\u001b[0;34m\u001b[0m\u001b[0;34m\u001b[0m\u001b[0m\n",
            "\u001b[0;32m/usr/local/lib/python3.7/dist-packages/scipy/stats/_continuous_distns.py\u001b[0m in \u001b[0;36mfit\u001b[0;34m(self, data, **kwds)\u001b[0m\n\u001b[1;32m    286\u001b[0m \u001b[0;34m\u001b[0m\u001b[0m\n\u001b[1;32m    287\u001b[0m         \u001b[0;32mif\u001b[0m \u001b[0;32mnot\u001b[0m \u001b[0mnp\u001b[0m\u001b[0;34m.\u001b[0m\u001b[0misfinite\u001b[0m\u001b[0;34m(\u001b[0m\u001b[0mdata\u001b[0m\u001b[0;34m)\u001b[0m\u001b[0;34m.\u001b[0m\u001b[0mall\u001b[0m\u001b[0;34m(\u001b[0m\u001b[0;34m)\u001b[0m\u001b[0;34m:\u001b[0m\u001b[0;34m\u001b[0m\u001b[0;34m\u001b[0m\u001b[0m\n\u001b[0;32m--> 288\u001b[0;31m             \u001b[0;32mraise\u001b[0m \u001b[0mRuntimeError\u001b[0m\u001b[0;34m(\u001b[0m\u001b[0;34m\"The data contains non-finite values.\"\u001b[0m\u001b[0;34m)\u001b[0m\u001b[0;34m\u001b[0m\u001b[0;34m\u001b[0m\u001b[0m\n\u001b[0m\u001b[1;32m    289\u001b[0m \u001b[0;34m\u001b[0m\u001b[0m\n\u001b[1;32m    290\u001b[0m         \u001b[0;32mif\u001b[0m \u001b[0mfloc\u001b[0m \u001b[0;32mis\u001b[0m \u001b[0;32mNone\u001b[0m\u001b[0;34m:\u001b[0m\u001b[0;34m\u001b[0m\u001b[0;34m\u001b[0m\u001b[0m\n",
            "\u001b[0;31mRuntimeError\u001b[0m: The data contains non-finite values."
          ]
        }
      ]
    },
    {
      "cell_type": "code",
      "metadata": {
        "colab": {
          "base_uri": "https://localhost:8080/",
          "height": 696
        },
        "id": "CPak07PsOzzk",
        "outputId": "3e2429fc-0f92-41da-e4ac-9088b9a749c6"
      },
      "source": [
        "Age = thongke(Age)\n",
        "Age.hist()\n",
        "Age.qq()"
      ],
      "execution_count": 71,
      "outputs": [
        {
          "output_type": "stream",
          "text": [
            "/usr/local/lib/python3.7/dist-packages/seaborn/distributions.py:2557: FutureWarning: `distplot` is a deprecated function and will be removed in a future version. Please adapt your code to use either `displot` (a figure-level function with similar flexibility) or `histplot` (an axes-level function for histograms).\n",
            "  warnings.warn(msg, FutureWarning)\n"
          ],
          "name": "stderr"
        },
        {
          "output_type": "display_data",
          "data": {
            "image/png": "[encoded data removed]",
            "text/plain": [
              "<Figure size 432x288 with 1 Axes>"
            ]
          },
          "metadata": {
            "tags": [],
            "needs_background": "light"
          }
        },
        {
          "output_type": "display_data",
          "data": {
            "image/png": "[encoded data removed]",
            "text/plain": [
              "<Figure size 432x288 with 1 Axes>"
            ]
          },
          "metadata": {
            "tags": [],
            "needs_background": "light"
          }
        },
        {
          "output_type": "stream",
          "text": [
            "           Age\n",
            "0.25 -0.707930\n",
            "0.50 -0.015776\n",
            "0.75  0.778921\n",
            "--------------------------------------------------\n"
          ],
          "name": "stdout"
        }
      ]
    },
    {
      "cell_type": "code",
      "metadata": {
        "colab": {
          "base_uri": "https://localhost:8080/"
        },
        "id": "PixEe-eCOy85",
        "outputId": "af9c4227-fd5a-4e86-bad0-d20ab1ff5bf9"
      },
      "source": [
        "gender.shapiro()"
      ],
      "execution_count": 69,
      "outputs": [
        {
          "output_type": "stream",
          "text": [
            "Kiểm định Shapori:\n",
            "stat=nan, p=1.000\n",
            "Không thể bác bỏ giả thiết H0: Phân phối của dữ liệu là chuẩn\n",
            "--------------------------------------------------\n"
          ],
          "name": "stdout"
        }
      ]
    },
    {
      "cell_type": "code",
      "metadata": {
        "colab": {
          "base_uri": "https://localhost:8080/"
        },
        "id": "IQdGccVLR0Bv",
        "outputId": "b5686110-10a8-4ea3-b801-03be304cc265"
      },
      "source": [
        "Age.shapiro()"
      ],
      "execution_count": 77,
      "outputs": [
        {
          "output_type": "stream",
          "text": [
            "Kiểm định Shapori:\n",
            "stat=0.987, p=0.645\n",
            "Không thể bác bỏ giả thiết H0: Phân phối của dữ liệu là chuẩn\n",
            "--------------------------------------------------\n"
          ],
          "name": "stdout"
        }
      ]
    },
    {
      "cell_type": "code",
      "metadata": {
        "colab": {
          "base_uri": "https://localhost:8080/"
        },
        "id": "kjl4NCh2Rzhe",
        "outputId": "489dd154-f18d-4226-ba33-6f879ffbbaea"
      },
      "source": [
        "print('Kiểm định ANOVA 1 chiều:')\n",
        "stat, pvalue = stats.f_oneway(Du_lieu1['gender'].dropna(), Du_lieu1['Age'].dropna(),Du_lieu1['Height'].dropna(),Du_lieu1['pre.weight'].dropna(),Du_lieu1['Diet'].dropna(),Du_lieu1['weight6weeks'].dropna())\n",
        "print('stat=%.5f, p=%.8f' % (stat, pvalue))\n",
        "if (stat > 0) and (pvalue > 0.05):\n",
        "    print('Không thể bác bỏ giả thiết H0: Các cặp giá trị trung bình bằng nhau')\n",
        "else:\n",
        "    print('Có bắng chứng bác bỏ giả thuyết H0: Có tối thiểu một cặp giá trị trung bình có giá trị khác nhau.')\n",
        "print('-'*50)"
      ],
      "execution_count": 82,
      "outputs": [
        {
          "output_type": "stream",
          "text": [
            "Kiểm định ANOVA 1 chiều:\n",
            "stat=4844.41986, p=0.00000000\n",
            "Có bắng chứng bác bỏ giả thuyết H0: Có tối thiểu một cặp giá trị trung bình có giá trị khác nhau.\n",
            "--------------------------------------------------\n"
          ],
          "name": "stdout"
        }
      ]
    },
    {
      "cell_type": "code",
      "metadata": {
        "id": "JfQAS52ZIyiQ"
      },
      "source": [
        "# class phân tích avova\n",
        "# đầu vào là một data frame\n",
        "class projectAnova:\n",
        "    def __init__(self,data):\n",
        "        self.data = data\n",
        "        self.samples = []\n",
        "        for i in data.columns:\n",
        "            self.samples.append(data[i].dropna())\n",
        "    #kiem tra su phan phoi chuan\n",
        "    def shapiro_test(self):\n",
        "        for (stt, sample) in enumerate(self.samples):\n",
        "            pv_s = stats.shapiro(sample)[1]\n",
        "            if pv_s > 0.05:\n",
        "                print(f'Mẫu {stt} tuân theo phân phối chuẩn')\n",
        "            else:\n",
        "                print(f'Mẫu {stt} không tuân theo phân phối chuẩn')\n",
        "    #kiem tra su khac biet cua phuong sai\n",
        "    def levene_test(self):\n",
        "        pv_l = stats.levene(*self.samples)[1]\n",
        "        if pv_l > 0.05:\n",
        "            print('Phương sai bằng nhau')\n",
        "        else:\n",
        "            print('Có ít nhất một cặp Phương sai không bằng nhau')\n",
        "    #anova test\n",
        "    def anova_test(self):\n",
        "        pv_a = stats.f_oneway(*self.samples)[1]\n",
        "        if pv_a > 0.05:\n",
        "            print('các giá trị trung bình bằng nhau')\n",
        "        else:\n",
        "            print('Có tối thiểu một cặp giá trị trung bình có giá trị khác nhau')"
      ],
      "execution_count": 78,
      "outputs": []
    },
    {
      "cell_type": "code",
      "metadata": {
        "id": "ps468mFjRzaL"
      },
      "source": [
        "a1 = projectAnova(Du_lieu1)"
      ],
      "execution_count": 80,
      "outputs": []
    },
    {
      "cell_type": "markdown",
      "metadata": {
        "id": "vGZrUqz5z-4n"
      },
      "source": [
        "Kiểm định hậu nghiệm cho Anova (one-way)"
      ]
    },
    {
      "cell_type": "code",
      "metadata": {
        "id": "vCUmUqWX6ngY"
      },
      "source": [
        "def results(p, alpha=0.05):\n",
        "    cols=['f_score', 'p_value', 'KetLuan']\n",
        "    if p['p_value'] < alpha:\n",
        "        p['KetLuan'] = f\"Chấp nhận H1 với mức ý nghĩa {alpha}\"\n",
        "    if p['p_value'] >= alpha:\n",
        "        p['KetLuan'] = f\"Chấp nhận H0 với mức ý nghĩa {alpha}\"\n",
        "    df = pd.DataFrame(p, index=[''])\n",
        "    return df[cols]"
      ],
      "execution_count": 17,
      "outputs": []
    },
    {
      "cell_type": "code",
      "metadata": {
        "id": "hmCPdiQOz-ev"
      },
      "source": [
        "from statsmodels.stats.multicomp import pairwise_tukeyhsd"
      ],
      "execution_count": 9,
      "outputs": []
    },
    {
      "cell_type": "code",
      "metadata": {
        "id": "qgHysH4q2Y2f",
        "outputId": "59647c8b-2b8a-41e2-9dc7-0ff2cf1e6efe",
        "colab": {
          "base_uri": "https://localhost:8080/",
          "height": 183
        }
      },
      "source": [
        "tukey = pairwise_tukeyhsd(endog=Du_lieu1['weight6weeks'],\n",
        "                          groups=Du_lieu1['gender'],\n",
        "                          alpha=0.05)\n",
        "tukey.summary()"
      ],
      "execution_count": 15,
      "outputs": [
        {
          "output_type": "execute_result",
          "data": {
            "text/html": [
              "<table class=\"simpletable\">\n",
              "<caption>Multiple Comparison of Means - Tukey HSD, FWER=0.05</caption>\n",
              "<tr>\n",
              "  <th>group1</th> <th>group2</th> <th>meandiff</th>  <th>p-adj</th>   <th>lower</th>    <th>upper</th>  <th>reject</th>\n",
              "</tr>\n",
              "<tr>\n",
              "    <td>0.0</td>    <td>1.0</td>   <td>11.7919</td>  <td>0.001</td>  <td>8.4192</td>   <td>15.1646</td>  <td>True</td> \n",
              "</tr>\n",
              "<tr>\n",
              "    <td>0.0</td>    <td>nan</td>   <td>39.7767</td>  <td>0.001</td>  <td>25.0349</td>  <td>54.5186</td>  <td>True</td> \n",
              "</tr>\n",
              "<tr>\n",
              "    <td>0.0</td>    <td>nan</td>   <td>-3.2233</td>   <td>0.9</td>  <td>-17.9651</td>  <td>11.5186</td>  <td>False</td>\n",
              "</tr>\n",
              "<tr>\n",
              "    <td>1.0</td>    <td>nan</td>   <td>27.9848</td>  <td>0.001</td>  <td>13.1924</td>  <td>42.7773</td>  <td>True</td> \n",
              "</tr>\n",
              "<tr>\n",
              "    <td>1.0</td>    <td>nan</td>  <td>-15.0152</td> <td>0.0453</td> <td>-29.8076</td>  <td>-0.2227</td>  <td>True</td> \n",
              "</tr>\n",
              "<tr>\n",
              "    <td>nan</td>    <td>nan</td>    <td>-43.0</td>   <td>0.001</td> <td>-63.6098</td> <td>-22.3902</td>  <td>True</td> \n",
              "</tr>\n",
              "</table>"
            ],
            "text/plain": [
              "<class 'statsmodels.iolib.table.SimpleTable'>"
            ]
          },
          "metadata": {
            "tags": []
          },
          "execution_count": 15
        }
      ]
    },
    {
      "cell_type": "markdown",
      "metadata": {
        "id": "zolNb9XA3hM4"
      },
      "source": [
        "Mô tả trực quan hóa cho phần hậu nghiệm"
      ]
    },
    {
      "cell_type": "code",
      "metadata": {
        "id": "K-y1j0ec3e1r",
        "outputId": "fa4c9004-bc8f-4677-f706-630ed8428864",
        "colab": {
          "base_uri": "https://localhost:8080/",
          "height": 279
        }
      },
      "source": [
        "# Kỹ thuật EDA:\n",
        "sns.boxplot(x='gender', y='weight6weeks', data=Du_lieu1, color='cyan')\n",
        "sns.swarmplot(x=\"gender\", y=\"weight6weeks\", data=Du_lieu1, color='red')\n",
        "plt.show()"
      ],
      "execution_count": 16,
      "outputs": [
        {
          "output_type": "display_data",
          "data": {
            "image/png": "[encoded data removed]",
            "text/plain": [
              "<Figure size 432x288 with 1 Axes>"
            ]
          },
          "metadata": {
            "tags": [],
            "needs_background": "light"
          }
        }
      ]
    },
    {
      "cell_type": "code",
      "metadata": {
        "id": "7e0BMBDT6qLh"
      },
      "source": [
        "gender_weight_df = Du_lieu1[['gender', 'weight6weeks']].copy()\n",
        "white = gender_weight_df[gender_weight_df['gender']=='0.0']\n",
        "black = gender_weight_df[gender_weight_df['gender']=='1.0']"
      ],
      "execution_count": 20,
      "outputs": []
    },
    {
      "cell_type": "code",
      "metadata": {
        "id": "nffJF9-o6qA8",
        "outputId": "987260ee-61eb-4583-f693-b5455d41f398",
        "colab": {
          "base_uri": "https://localhost:8080/"
        }
      },
      "source": [
        "p = {}\n",
        "p['f_score'], p['p_value'] = stats.f_oneway(white['weight6weeks'],black['weight6weeks'])\n"
      ],
      "execution_count": 23,
      "outputs": [
        {
          "output_type": "stream",
          "text": [
            "/usr/local/lib/python3.7/dist-packages/scipy/stats/stats.py:3333: RuntimeWarning: Mean of empty slice.\n",
            "  offset = alldata.mean()\n",
            "/usr/local/lib/python3.7/dist-packages/numpy/core/_methods.py:170: RuntimeWarning: invalid value encountered in double_scalars\n",
            "  ret = ret.dtype.type(ret / rcount)\n",
            "/usr/local/lib/python3.7/dist-packages/scipy/stats/stats.py:3336: RuntimeWarning: invalid value encountered in double_scalars\n",
            "  sstot = _sum_of_squares(alldata) - (_square_of_sums(alldata) / bign)\n",
            "/usr/local/lib/python3.7/dist-packages/scipy/stats/stats.py:3339: RuntimeWarning: invalid value encountered in double_scalars\n",
            "  ssbn += _square_of_sums(a - offset) / len(a)\n",
            "/usr/local/lib/python3.7/dist-packages/scipy/stats/stats.py:3343: RuntimeWarning: invalid value encountered in double_scalars\n",
            "  ssbn -= _square_of_sums(alldata) / bign\n"
          ],
          "name": "stderr"
        },
        {
          "output_type": "execute_result",
          "data": {
            "text/plain": [
              "{'f_score': nan, 'p_value': nan}"
            ]
          },
          "metadata": {
            "tags": []
          },
          "execution_count": 23
        }
      ]
    },
    {
      "cell_type": "markdown",
      "metadata": {
        "id": "ZJKuKB78bgjk"
      },
      "source": [
        "Trung bình cộng của cột Age"
      ]
    },
    {
      "cell_type": "code",
      "metadata": {
        "colab": {
          "base_uri": "https://localhost:8080/"
        },
        "id": "3NCASygKZDx9",
        "outputId": "36d1b8a1-b3ff-4439-eeed-de30bdf03989"
      },
      "source": [
        "Mean1 = Du_lieu1['Age'].mean(axis = 0)\n",
        "Mean1"
      ],
      "execution_count": 95,
      "outputs": [
        {
          "output_type": "execute_result",
          "data": {
            "text/plain": [
              "39.15384615384615"
            ]
          },
          "metadata": {
            "tags": []
          },
          "execution_count": 95
        }
      ]
    },
    {
      "cell_type": "markdown",
      "metadata": {
        "id": "RA-uyUsIcEUp"
      },
      "source": [
        "Trung bình cộng của cột Height"
      ]
    },
    {
      "cell_type": "code",
      "metadata": {
        "colab": {
          "base_uri": "https://localhost:8080/"
        },
        "id": "5fqZDQbvbfnL",
        "outputId": "64a7e7b9-93f4-4dc8-99a9-fb4413155ffa"
      },
      "source": [
        "Mean2 = Du_lieu1['Height'].mean(axis = 0)\n",
        "Mean2"
      ],
      "execution_count": 96,
      "outputs": [
        {
          "output_type": "execute_result",
          "data": {
            "text/plain": [
              "170.82051282051282"
            ]
          },
          "metadata": {
            "tags": []
          },
          "execution_count": 96
        }
      ]
    },
    {
      "cell_type": "markdown",
      "metadata": {
        "id": "-37yOMc5ct8U"
      },
      "source": [
        "Trung bình cộng của cột pre.weight"
      ]
    },
    {
      "cell_type": "code",
      "metadata": {
        "colab": {
          "base_uri": "https://localhost:8080/"
        },
        "id": "meC3vZR7bftX",
        "outputId": "f762a23d-b680-4c72-cd08-65c1eb246a57"
      },
      "source": [
        "Mean3 = Du_lieu1['pre.weight'].mean(axis = 0)\n",
        "Mean3"
      ],
      "execution_count": 97,
      "outputs": [
        {
          "output_type": "execute_result",
          "data": {
            "text/plain": [
              "72.52564102564102"
            ]
          },
          "metadata": {
            "tags": []
          },
          "execution_count": 97
        }
      ]
    },
    {
      "cell_type": "markdown",
      "metadata": {
        "id": "oFUI4DA_c_UE"
      },
      "source": [
        "Trung bình cộng của cột Diet"
      ]
    },
    {
      "cell_type": "code",
      "metadata": {
        "id": "Arx-xBGHc5EV",
        "outputId": "1f388e60-ae3e-4760-ab8a-100e6cc8471c",
        "colab": {
          "base_uri": "https://localhost:8080/"
        }
      },
      "source": [
        "Mean4 = Du_lieu1['Diet'].mean(axis = 0)\n",
        "Mean4"
      ],
      "execution_count": 98,
      "outputs": [
        {
          "output_type": "execute_result",
          "data": {
            "text/plain": [
              "2.0384615384615383"
            ]
          },
          "metadata": {
            "tags": []
          },
          "execution_count": 98
        }
      ]
    },
    {
      "cell_type": "markdown",
      "metadata": {
        "id": "jEN_EOawdxMn"
      },
      "source": [
        "Trung bình cộng của cột weight6weeks"
      ]
    },
    {
      "cell_type": "code",
      "metadata": {
        "colab": {
          "base_uri": "https://localhost:8080/"
        },
        "id": "JhR9O05Ibfxv",
        "outputId": "5761a0e4-4c67-4301-e6a7-97f5ccdda0c9"
      },
      "source": [
        "Mean5 = Du_lieu1['weight6weeks'].mean(axis = 0)\n",
        "Mean5"
      ],
      "execution_count": 99,
      "outputs": [
        {
          "output_type": "execute_result",
          "data": {
            "text/plain": [
              "68.6807692307692"
            ]
          },
          "metadata": {
            "tags": []
          },
          "execution_count": 99
        }
      ]
    },
    {
      "cell_type": "markdown",
      "metadata": {
        "id": "IyJw3JcreITj"
      },
      "source": [
        "Tính phương sai"
      ]
    },
    {
      "cell_type": "code",
      "metadata": {
        "colab": {
          "base_uri": "https://localhost:8080/"
        },
        "id": "oEz2TviLbf3a",
        "outputId": "29d4e929-db0d-4660-df05-4030eded3dc9"
      },
      "source": [
        "Mean_v = Du_lieu1.var(axis= 0)\n",
        "Mean_v"
      ],
      "execution_count": 101,
      "outputs": [
        {
          "output_type": "execute_result",
          "data": {
            "text/plain": [
              "gender            0.248947\n",
              "Age              96.339660\n",
              "Height          127.162171\n",
              "pre.weight       76.096737\n",
              "Diet              0.660839\n",
              "weight6weeks     79.646768\n",
              "dtype: float64"
            ]
          },
          "metadata": {
            "tags": []
          },
          "execution_count": 101
        }
      ]
    },
    {
      "cell_type": "markdown",
      "metadata": {
        "id": "QzjQ-bIbegZi"
      },
      "source": [
        "Tính độ lệch chuẩn "
      ]
    },
    {
      "cell_type": "code",
      "metadata": {
        "id": "RFBD4afieXlv",
        "outputId": "f88afe24-3a69-422a-a689-eed7440fa845",
        "colab": {
          "base_uri": "https://localhost:8080/"
        }
      },
      "source": [
        "Mean_s = Du_lieu1.std(axis= 0)\n",
        "Mean_s"
      ],
      "execution_count": 102,
      "outputs": [
        {
          "output_type": "execute_result",
          "data": {
            "text/plain": [
              "gender           0.498946\n",
              "Age              9.815277\n",
              "Height          11.276621\n",
              "pre.weight       8.723344\n",
              "Diet             0.812920\n",
              "weight6weeks     8.924504\n",
              "dtype: float64"
            ]
          },
          "metadata": {
            "tags": []
          },
          "execution_count": 102
        }
      ]
    },
    {
      "cell_type": "code",
      "metadata": {
        "id": "6qc4dDN0euWy"
      },
      "source": [
        ""
      ],
      "execution_count": null,
      "outputs": []
    },
    {
      "cell_type": "markdown",
      "metadata": {
        "id": "gfED-OeZ848K"
      },
      "source": [
        "# ***2) Sử dụng tập tin Diet_R.csv để thực hiện phân tích thống kê suy diễn - ANOVA một chiều. Tham khảo tập tin mô tả tập dữ liệu được kèm theo.***"
      ]
    },
    {
      "cell_type": "code",
      "metadata": {
        "id": "OEuv0FWveuNa",
        "outputId": "c0f95ce7-f264-43ff-df46-63677635f36d",
        "colab": {
          "base_uri": "https://localhost:8080/",
          "height": 379
        }
      },
      "source": [
        "df = pd.read_csv('Inc_Exp_Data.csv')\n",
        "df.sample(10)"
      ],
      "execution_count": 5,
      "outputs": [
        {
          "output_type": "execute_result",
          "data": {
            "text/html": [
              "<div>\n",
              "<style scoped>\n",
              "    .dataframe tbody tr th:only-of-type {\n",
              "        vertical-align: middle;\n",
              "    }\n",
              "\n",
              "    .dataframe tbody tr th {\n",
              "        vertical-align: top;\n",
              "    }\n",
              "\n",
              "    .dataframe thead th {\n",
              "        text-align: right;\n",
              "    }\n",
              "</style>\n",
              "<table border=\"1\" class=\"dataframe\">\n",
              "  <thead>\n",
              "    <tr style=\"text-align: right;\">\n",
              "      <th></th>\n",
              "      <th>Mthly_HH_Income</th>\n",
              "      <th>Mthly_HH_Expense</th>\n",
              "      <th>No_of_Fly_Members</th>\n",
              "      <th>Emi_or_Rent_Amt</th>\n",
              "      <th>Annual_HH_Income</th>\n",
              "      <th>Highest_Qualified_Member</th>\n",
              "      <th>No_of_Earning_Members</th>\n",
              "    </tr>\n",
              "  </thead>\n",
              "  <tbody>\n",
              "    <tr>\n",
              "      <th>16</th>\n",
              "      <td>25000</td>\n",
              "      <td>20000</td>\n",
              "      <td>3</td>\n",
              "      <td>3500</td>\n",
              "      <td>261000</td>\n",
              "      <td>Graduate</td>\n",
              "      <td>1</td>\n",
              "    </tr>\n",
              "    <tr>\n",
              "      <th>4</th>\n",
              "      <td>12500</td>\n",
              "      <td>12000</td>\n",
              "      <td>2</td>\n",
              "      <td>3000</td>\n",
              "      <td>147000</td>\n",
              "      <td>Graduate</td>\n",
              "      <td>1</td>\n",
              "    </tr>\n",
              "    <tr>\n",
              "      <th>22</th>\n",
              "      <td>34000</td>\n",
              "      <td>19000</td>\n",
              "      <td>6</td>\n",
              "      <td>0</td>\n",
              "      <td>330480</td>\n",
              "      <td>Professional</td>\n",
              "      <td>1</td>\n",
              "    </tr>\n",
              "    <tr>\n",
              "      <th>43</th>\n",
              "      <td>80000</td>\n",
              "      <td>20000</td>\n",
              "      <td>4</td>\n",
              "      <td>0</td>\n",
              "      <td>1075200</td>\n",
              "      <td>Graduate</td>\n",
              "      <td>1</td>\n",
              "    </tr>\n",
              "    <tr>\n",
              "      <th>38</th>\n",
              "      <td>55000</td>\n",
              "      <td>45000</td>\n",
              "      <td>6</td>\n",
              "      <td>12000</td>\n",
              "      <td>600600</td>\n",
              "      <td>Graduate</td>\n",
              "      <td>2</td>\n",
              "    </tr>\n",
              "    <tr>\n",
              "      <th>23</th>\n",
              "      <td>34000</td>\n",
              "      <td>25000</td>\n",
              "      <td>3</td>\n",
              "      <td>4000</td>\n",
              "      <td>469200</td>\n",
              "      <td>Professional</td>\n",
              "      <td>1</td>\n",
              "    </tr>\n",
              "    <tr>\n",
              "      <th>27</th>\n",
              "      <td>40000</td>\n",
              "      <td>10000</td>\n",
              "      <td>4</td>\n",
              "      <td>0</td>\n",
              "      <td>412800</td>\n",
              "      <td>Under-Graduate</td>\n",
              "      <td>1</td>\n",
              "    </tr>\n",
              "    <tr>\n",
              "      <th>2</th>\n",
              "      <td>10000</td>\n",
              "      <td>4500</td>\n",
              "      <td>2</td>\n",
              "      <td>0</td>\n",
              "      <td>112800</td>\n",
              "      <td>Under-Graduate</td>\n",
              "      <td>1</td>\n",
              "    </tr>\n",
              "    <tr>\n",
              "      <th>19</th>\n",
              "      <td>30000</td>\n",
              "      <td>13000</td>\n",
              "      <td>4</td>\n",
              "      <td>0</td>\n",
              "      <td>385200</td>\n",
              "      <td>Graduate</td>\n",
              "      <td>1</td>\n",
              "    </tr>\n",
              "    <tr>\n",
              "      <th>0</th>\n",
              "      <td>5000</td>\n",
              "      <td>8000</td>\n",
              "      <td>3</td>\n",
              "      <td>2000</td>\n",
              "      <td>64200</td>\n",
              "      <td>Under-Graduate</td>\n",
              "      <td>1</td>\n",
              "    </tr>\n",
              "  </tbody>\n",
              "</table>\n",
              "</div>"
            ],
            "text/plain": [
              "    Mthly_HH_Income  ...  No_of_Earning_Members\n",
              "16            25000  ...                      1\n",
              "4             12500  ...                      1\n",
              "22            34000  ...                      1\n",
              "43            80000  ...                      1\n",
              "38            55000  ...                      2\n",
              "23            34000  ...                      1\n",
              "27            40000  ...                      1\n",
              "2             10000  ...                      1\n",
              "19            30000  ...                      1\n",
              "0              5000  ...                      1\n",
              "\n",
              "[10 rows x 7 columns]"
            ]
          },
          "metadata": {
            "tags": []
          },
          "execution_count": 5
        }
      ]
    },
    {
      "cell_type": "markdown",
      "metadata": {
        "id": "Xzk7B0oyiqUV"
      },
      "source": [
        " Trung bình cộng của từng cột"
      ]
    },
    {
      "cell_type": "code",
      "metadata": {
        "id": "zlQe0FXtet1j",
        "outputId": "970ca1b1-eb66-49c6-a9a6-ad4dcab2f7c0",
        "colab": {
          "base_uri": "https://localhost:8080/"
        }
      },
      "source": [
        "Mean_EX = df.mean(axis = 0)\n",
        "Mean_EX"
      ],
      "execution_count": 6,
      "outputs": [
        {
          "output_type": "execute_result",
          "data": {
            "text/plain": [
              "Mthly_HH_Income           41558.00\n",
              "Mthly_HH_Expense          18818.00\n",
              "No_of_Fly_Members             4.06\n",
              "Emi_or_Rent_Amt            3060.00\n",
              "Annual_HH_Income         490019.04\n",
              "No_of_Earning_Members         1.46\n",
              "dtype: float64"
            ]
          },
          "metadata": {
            "tags": []
          },
          "execution_count": 6
        }
      ]
    },
    {
      "cell_type": "markdown",
      "metadata": {
        "id": "j2ucSbbXjE8x"
      },
      "source": [
        "Phương sai của từng cột"
      ]
    },
    {
      "cell_type": "code",
      "metadata": {
        "id": "BdXAwC56i5sx",
        "outputId": "fdb3899c-cbe9-44cb-804a-88030def4acf",
        "colab": {
          "base_uri": "https://localhost:8080/"
        }
      },
      "source": [
        "Mean_EX2 = df.var(axis= 0)\n",
        "Mean_EX2"
      ],
      "execution_count": 7,
      "outputs": [
        {
          "output_type": "execute_result",
          "data": {
            "text/plain": [
              "Mthly_HH_Income          6.811009e+08\n",
              "Mthly_HH_Expense         1.461733e+08\n",
              "No_of_Fly_Members        2.302449e+00\n",
              "Emi_or_Rent_Amt          3.895551e+07\n",
              "Annual_HH_Income         1.024869e+11\n",
              "No_of_Earning_Members    5.391837e-01\n",
              "dtype: float64"
            ]
          },
          "metadata": {
            "tags": []
          },
          "execution_count": 7
        }
      ]
    },
    {
      "cell_type": "markdown",
      "metadata": {
        "id": "qv8zwRV4kCYy"
      },
      "source": [
        "Độ lệch chuẩn của từng cột"
      ]
    },
    {
      "cell_type": "code",
      "metadata": {
        "id": "KMK4I-Y5i5l_",
        "outputId": "e0f3b4b3-2b5a-4807-8c9a-780e1e9e7c83",
        "colab": {
          "base_uri": "https://localhost:8080/"
        }
      },
      "source": [
        "Mean_EX3 = df.std(axis= 0)\n",
        "Mean_EX3"
      ],
      "execution_count": 8,
      "outputs": [
        {
          "output_type": "execute_result",
          "data": {
            "text/plain": [
              "Mthly_HH_Income           26097.908979\n",
              "Mthly_HH_Expense          12090.216824\n",
              "No_of_Fly_Members             1.517382\n",
              "Emi_or_Rent_Amt            6241.434948\n",
              "Annual_HH_Income         320135.792123\n",
              "No_of_Earning_Members         0.734291\n",
              "dtype: float64"
            ]
          },
          "metadata": {
            "tags": []
          },
          "execution_count": 8
        }
      ]
    },
    {
      "cell_type": "markdown",
      "metadata": {
        "id": "QQUIdtVVk9tV"
      },
      "source": [
        "Giá trị lớn nhất và nhỏ nhất của từng cột "
      ]
    },
    {
      "cell_type": "code",
      "metadata": {
        "id": "1FMdyKlqi5fA",
        "outputId": "b9f28f26-5a7f-4e4b-9f33-270bb90725f8",
        "colab": {
          "base_uri": "https://localhost:8080/"
        }
      },
      "source": [
        "max1 = np.nanmax(df.iloc[:, 1].values)\n",
        "min1 = np.nanmin(df.iloc[:, 1].values)\n",
        "max2 = np.nanmax(df.iloc[:, 2].values)\n",
        "min2 = np.nanmin(df.iloc[:, 2].values)\n",
        "max3 = np.nanmax(df.iloc[:, 3].values)\n",
        "min3 = np.nanmin(df.iloc[:, 3].values)\n",
        "max4 = np.nanmax(df.iloc[:, 4].values)\n",
        "min4 = np.nanmin(df.iloc[:, 4].values)\n",
        "max5 = np.nanmax(df.iloc[:, 5].values)\n",
        "min5 = np.nanmin(df.iloc[:, 5].values)\n",
        "max6 = np.nanmax(df.iloc[:, 6].values)\n",
        "min6 = np.nanmin(df.iloc[:, 6].values)\n",
        "print('max cua Mthly_HH_Income', max1)\n",
        "print('min cua Mthly_HH_Income', min1)\n",
        "print('max cua Mthly_HH_Expense', max2)\n",
        "print('min cua Mthly_HH_Expense', min2)\n",
        "print('max cua No_of_Fly_Members', max3)\n",
        "print('min cua No_of_Fly_Members', min3)\n",
        "print('max cua Emi_or_Rent_Amt', max4)\n",
        "print('min cua Emi_or_Rent_Amt', min4)\n",
        "print('max cua Annual_HH_Income', max5)\n",
        "print('min cua Annual_HH_Income', min5)\n",
        "print('max cua No_of_Earning_Members', max6)\n",
        "print('min cua No_of_Earning_Members', min6)"
      ],
      "execution_count": 9,
      "outputs": [
        {
          "output_type": "stream",
          "text": [
            "max cua Mthly_HH_Income 50000\n",
            "min cua Mthly_HH_Income 2000\n",
            "max cua Mthly_HH_Expense 7\n",
            "min cua Mthly_HH_Expense 1\n",
            "max cua No_of_Fly_Members 35000\n",
            "min cua No_of_Fly_Members 0\n",
            "max cua Emi_or_Rent_Amt 1404000\n",
            "min cua Emi_or_Rent_Amt 64200\n",
            "max cua Annual_HH_Income Under-Graduate\n",
            "min cua Annual_HH_Income Graduate\n",
            "max cua No_of_Earning_Members 4\n",
            "min cua No_of_Earning_Members 1\n"
          ],
          "name": "stdout"
        }
      ]
    },
    {
      "cell_type": "code",
      "metadata": {
        "id": "caVdxWSrP5tA"
      },
      "source": [
        "high = low =  placebo = []\n",
        "high = df['Mthly_HH_Expense'][df['No_of_Fly_Members'][df['Emi_or_Rent_Amt'][df['Annual_HH_Income'][df['Highest_Qualified_Member'][df['No_of_Earning_Members'] == 'high']]]]]\n",
        "low = df['Mthly_HH_Expense'][df['No_of_Fly_Members'][df['Emi_or_Rent_Amt'][df['Annual_HH_Income'][df['Highest_Qualified_Member'][df['No_of_Earning_Members'] == 'low']]]]]\n",
        "placebo = df['Mthly_HH_Expense'][df['No_of_Fly_Members'][df['Emi_or_Rent_Amt'][df['Annual_HH_Income'][df['Highest_Qualified_Member'][df['No_of_Earning_Members'] == 'placebo']]]]]"
      ],
      "execution_count": 15,
      "outputs": []
    },
    {
      "cell_type": "code",
      "metadata": {
        "id": "kuYBDMHhSIF5"
      },
      "source": [
        "Mthly_HH_Expense = df['Mthly_HH_Expense']\n",
        "No_of_Fly_Members = df['No_of_Fly_Members']\n",
        "Emi_or_Rent_Amt = df['Emi_or_Rent_Amt']\n",
        "Annual_HH_Income = df['Annual_HH_Income']\n",
        "Highest_Qualified_Member = df['Highest_Qualified_Member']\n",
        "No_of_Earning_Members = df['No_of_Earning_Members']"
      ],
      "execution_count": 14,
      "outputs": []
    },
    {
      "cell_type": "code",
      "metadata": {
        "colab": {
          "base_uri": "https://localhost:8080/"
        },
        "id": "N6H0-6cBTZuq",
        "outputId": "b6a17c02-a3b4-4702-f9d3-103b5717188b"
      },
      "source": [
        "# tiếp theo ta sẽ dùng Kiểm định tính thuần nhất của phương sai (homogeneity of variance)\n",
        "from scipy.stats import bartlett\n",
        "print('Kiểm định Bartlett:')\n",
        "bartlett_test = bartlett(Mthly_HH_Expense, No_of_Fly_Members, Emi_or_Rent_Amt, Annual_HH_Income, No_of_Earning_Members)\n",
        "print(bartlett_test)\n",
        "bartlettvalue,pvalue=bartlett_test\n",
        "if (bartlettvalue > 0) and (pvalue < 0.05):\n",
        "    print('Phương sai các nhóm không bằng nhau. Ta không thể sử dụng kiểm định Anova')\n",
        "else:\n",
        "    print('Phương sai các nhóm  bằng nhau.')\n",
        "print('-'*50)"
      ],
      "execution_count": 20,
      "outputs": [
        {
          "output_type": "stream",
          "text": [
            "Kiểm định Bartlett:\n",
            "BartlettResult(statistic=2764.519639416905, pvalue=0.0)\n",
            "Phương sai các nhóm không bằng nhau. Ta không thể sử dụng kiểm định Anova\n",
            "--------------------------------------------------\n"
          ],
          "name": "stdout"
        }
      ]
    },
    {
      "cell_type": "code",
      "metadata": {
        "id": "JdMCfLtfrpj4",
        "outputId": "5e344909-2df1-4cd3-a9fa-b6d726455d27",
        "colab": {
          "base_uri": "https://localhost:8080/",
          "height": 696
        }
      },
      "source": [
        "Mthly_HH_Expense = thongke(Mthly_HH_Expense)\n",
        "Mthly_HH_Expense.hist()\n",
        "Mthly_HH_Expense.qq()"
      ],
      "execution_count": 21,
      "outputs": [
        {
          "output_type": "stream",
          "text": [
            "/usr/local/lib/python3.7/dist-packages/seaborn/distributions.py:2557: FutureWarning: `distplot` is a deprecated function and will be removed in a future version. Please adapt your code to use either `displot` (a figure-level function with similar flexibility) or `histplot` (an axes-level function for histograms).\n",
            "  warnings.warn(msg, FutureWarning)\n"
          ],
          "name": "stderr"
        },
        {
          "output_type": "display_data",
          "data": {
            "image/png": "[encoded data removed]",
            "text/plain": [
              "<Figure size 432x288 with 1 Axes>"
            ]
          },
          "metadata": {
            "tags": [],
            "needs_background": "light"
          }
        },
        {
          "output_type": "display_data",
          "data": {
            "image/png": "[encoded data removed]",
            "text/plain": [
              "<Figure size 432x288 with 1 Axes>"
            ]
          },
          "metadata": {
            "tags": [],
            "needs_background": "light"
          }
        },
        {
          "output_type": "stream",
          "text": [
            "      Mthly_HH_Expense\n",
            "0.25         -0.736755\n",
            "0.50         -0.277223\n",
            "0.75          0.516514\n",
            "--------------------------------------------------\n"
          ],
          "name": "stdout"
        }
      ]
    },
    {
      "cell_type": "code",
      "metadata": {
        "id": "XbRGQKYRrvjZ",
        "outputId": "e159cc68-916a-4f0c-ab70-15b45ee0f396",
        "colab": {
          "base_uri": "https://localhost:8080/",
          "height": 696
        }
      },
      "source": [
        "No_of_Fly_Members = thongke(No_of_Fly_Members)\n",
        "No_of_Fly_Members.hist()\n",
        "No_of_Fly_Members.qq()"
      ],
      "execution_count": 22,
      "outputs": [
        {
          "output_type": "stream",
          "text": [
            "/usr/local/lib/python3.7/dist-packages/seaborn/distributions.py:2557: FutureWarning: `distplot` is a deprecated function and will be removed in a future version. Please adapt your code to use either `displot` (a figure-level function with similar flexibility) or `histplot` (an axes-level function for histograms).\n",
            "  warnings.warn(msg, FutureWarning)\n"
          ],
          "name": "stderr"
        },
        {
          "output_type": "display_data",
          "data": {
            "image/png": "[encoded data removed]",
            "text/plain": [
              "<Figure size 432x288 with 1 Axes>"
            ]
          },
          "metadata": {
            "tags": [],
            "needs_background": "light"
          }
        },
        {
          "output_type": "display_data",
          "data": {
            "image/png": "[encoded data removed]",
            "text/plain": [
              "<Figure size 432x288 with 1 Axes>"
            ]
          },
          "metadata": {
            "tags": [],
            "needs_background": "light"
          }
        },
        {
          "output_type": "stream",
          "text": [
            "      No_of_Fly_Members\n",
            "0.25          -0.705664\n",
            "0.50          -0.039943\n",
            "0.75           0.625777\n",
            "--------------------------------------------------\n"
          ],
          "name": "stdout"
        }
      ]
    },
    {
      "cell_type": "code",
      "metadata": {
        "id": "J5vXO21nrysi",
        "outputId": "8c5c1f01-79b1-4827-c2e7-7b6a0b459d14",
        "colab": {
          "base_uri": "https://localhost:8080/",
          "height": 696
        }
      },
      "source": [
        "Emi_or_Rent_Amt = thongke(Emi_or_Rent_Amt)\n",
        "Emi_or_Rent_Amt.hist()\n",
        "Emi_or_Rent_Amt.qq()"
      ],
      "execution_count": 23,
      "outputs": [
        {
          "output_type": "stream",
          "text": [
            "/usr/local/lib/python3.7/dist-packages/seaborn/distributions.py:2557: FutureWarning: `distplot` is a deprecated function and will be removed in a future version. Please adapt your code to use either `displot` (a figure-level function with similar flexibility) or `histplot` (an axes-level function for histograms).\n",
            "  warnings.warn(msg, FutureWarning)\n"
          ],
          "name": "stderr"
        },
        {
          "output_type": "display_data",
          "data": {
            "image/png": "[encoded data removed]",
            "text/plain": [
              "<Figure size 432x288 with 1 Axes>"
            ]
          },
          "metadata": {
            "tags": [],
            "needs_background": "light"
          }
        },
        {
          "output_type": "display_data",
          "data": {
            "image/png": "[encoded data removed]",
            "text/plain": [
              "<Figure size 432x288 with 1 Axes>"
            ]
          },
          "metadata": {
            "tags": [],
            "needs_background": "light"
          }
        },
        {
          "output_type": "stream",
          "text": [
            "      Emi_or_Rent_Amt\n",
            "0.25        -0.495249\n",
            "0.50        -0.495249\n",
            "0.75         0.071212\n",
            "--------------------------------------------------\n"
          ],
          "name": "stdout"
        }
      ]
    },
    {
      "cell_type": "code",
      "metadata": {
        "id": "IBFU5-XWryfV",
        "outputId": "1248debb-41e5-44d2-ee4b-3cd19661f503",
        "colab": {
          "base_uri": "https://localhost:8080/",
          "height": 696
        }
      },
      "source": [
        "Annual_HH_Income = thongke(Annual_HH_Income)\n",
        "Annual_HH_Income.hist()\n",
        "Annual_HH_Income.qq()"
      ],
      "execution_count": 24,
      "outputs": [
        {
          "output_type": "stream",
          "text": [
            "/usr/local/lib/python3.7/dist-packages/seaborn/distributions.py:2557: FutureWarning: `distplot` is a deprecated function and will be removed in a future version. Please adapt your code to use either `displot` (a figure-level function with similar flexibility) or `histplot` (an axes-level function for histograms).\n",
            "  warnings.warn(msg, FutureWarning)\n"
          ],
          "name": "stderr"
        },
        {
          "output_type": "display_data",
          "data": {
            "image/png": "[encoded data removed]",
            "text/plain": [
              "<Figure size 432x288 with 1 Axes>"
            ]
          },
          "metadata": {
            "tags": [],
            "needs_background": "light"
          }
        },
        {
          "output_type": "display_data",
          "data": {
            "image/png": "[encoded data removed]",
            "text/plain": [
              "<Figure size 432x288 with 1 Axes>"
            ]
          },
          "metadata": {
            "tags": [],
            "needs_background": "light"
          }
        },
        {
          "output_type": "stream",
          "text": [
            "      Annual_HH_Income\n",
            "0.25         -0.729743\n",
            "0.50         -0.134416\n",
            "0.75          0.330372\n",
            "--------------------------------------------------\n"
          ],
          "name": "stdout"
        }
      ]
    },
    {
      "cell_type": "code",
      "metadata": {
        "id": "dItLlqzEryYS",
        "outputId": "d48a6388-45fc-4fbd-f214-91b6d16be343",
        "colab": {
          "base_uri": "https://localhost:8080/",
          "height": 696
        }
      },
      "source": [
        "No_of_Earning_Members = thongke(No_of_Earning_Members)\n",
        "No_of_Earning_Members.hist()\n",
        "No_of_Earning_Members.qq()"
      ],
      "execution_count": 25,
      "outputs": [
        {
          "output_type": "stream",
          "text": [
            "/usr/local/lib/python3.7/dist-packages/seaborn/distributions.py:2557: FutureWarning: `distplot` is a deprecated function and will be removed in a future version. Please adapt your code to use either `displot` (a figure-level function with similar flexibility) or `histplot` (an axes-level function for histograms).\n",
            "  warnings.warn(msg, FutureWarning)\n"
          ],
          "name": "stderr"
        },
        {
          "output_type": "display_data",
          "data": {
            "image/png": "[encoded data removed]",
            "text/plain": [
              "<Figure size 432x288 with 1 Axes>"
            ]
          },
          "metadata": {
            "tags": [],
            "needs_background": "light"
          }
        },
        {
          "output_type": "display_data",
          "data": {
            "image/png": "[encoded data removed]",
            "text/plain": [
              "<Figure size 432x288 with 1 Axes>"
            ]
          },
          "metadata": {
            "tags": [],
            "needs_background": "light"
          }
        },
        {
          "output_type": "stream",
          "text": [
            "      No_of_Earning_Members\n",
            "0.25              -0.632815\n",
            "0.50              -0.632815\n",
            "0.75               0.742869\n",
            "--------------------------------------------------\n"
          ],
          "name": "stdout"
        }
      ]
    },
    {
      "cell_type": "code",
      "metadata": {
        "id": "HujKgUy0s8oT",
        "outputId": "151dd45e-6065-4e21-ca87-062e77c44be4",
        "colab": {
          "base_uri": "https://localhost:8080/"
        }
      },
      "source": [
        "Mthly_HH_Expense.shapiro()"
      ],
      "execution_count": 26,
      "outputs": [
        {
          "output_type": "stream",
          "text": [
            "Kiểm định Shapori:\n",
            "stat=0.873, p=0.000\n",
            "Dữ liệu không tuân theo luật phân phối chuẩn, ta không thể sử dụng kiểm định Anova\n",
            "--------------------------------------------------\n"
          ],
          "name": "stdout"
        }
      ]
    },
    {
      "cell_type": "code",
      "metadata": {
        "id": "4TAbDu9Os8xX",
        "outputId": "a3aa81f1-1de4-443a-e861-54d8fcc2b733",
        "colab": {
          "base_uri": "https://localhost:8080/"
        }
      },
      "source": [
        "No_of_Fly_Members.shapiro()"
      ],
      "execution_count": 27,
      "outputs": [
        {
          "output_type": "stream",
          "text": [
            "Kiểm định Shapori:\n",
            "stat=0.933, p=0.007\n",
            "Dữ liệu không tuân theo luật phân phối chuẩn, ta không thể sử dụng kiểm định Anova\n",
            "--------------------------------------------------\n"
          ],
          "name": "stdout"
        }
      ]
    },
    {
      "cell_type": "code",
      "metadata": {
        "id": "ZPWq2Ba8s84w",
        "outputId": "34d7ff68-661b-4e8c-fa46-d4e5f879ca21",
        "colab": {
          "base_uri": "https://localhost:8080/"
        }
      },
      "source": [
        "Emi_or_Rent_Amt.shapiro()"
      ],
      "execution_count": 28,
      "outputs": [
        {
          "output_type": "stream",
          "text": [
            "Kiểm định Shapori:\n",
            "stat=0.554, p=0.000\n",
            "Dữ liệu không tuân theo luật phân phối chuẩn, ta không thể sử dụng kiểm định Anova\n",
            "--------------------------------------------------\n"
          ],
          "name": "stdout"
        }
      ]
    },
    {
      "cell_type": "code",
      "metadata": {
        "id": "0YmnIlccs9Bx",
        "outputId": "d244ca55-4e80-4585-c2c9-e24e798eee60",
        "colab": {
          "base_uri": "https://localhost:8080/"
        }
      },
      "source": [
        "Annual_HH_Income.shapiro()"
      ],
      "execution_count": 29,
      "outputs": [
        {
          "output_type": "stream",
          "text": [
            "Kiểm định Shapori:\n",
            "stat=0.891, p=0.000\n",
            "Dữ liệu không tuân theo luật phân phối chuẩn, ta không thể sử dụng kiểm định Anova\n",
            "--------------------------------------------------\n"
          ],
          "name": "stdout"
        }
      ]
    },
    {
      "cell_type": "code",
      "metadata": {
        "id": "CaavBAbNs9Oe",
        "outputId": "0b3193ee-e9e3-4884-9d98-2d5ba32bbcc1",
        "colab": {
          "base_uri": "https://localhost:8080/"
        }
      },
      "source": [
        "No_of_Earning_Members.shapiro()"
      ],
      "execution_count": 32,
      "outputs": [
        {
          "output_type": "stream",
          "text": [
            "Kiểm định Shapori:\n",
            "stat=0.663, p=0.000\n",
            "Dữ liệu không tuân theo luật phân phối chuẩn, ta không thể sử dụng kiểm định Anova\n",
            "--------------------------------------------------\n"
          ],
          "name": "stdout"
        }
      ]
    }
  ]
}