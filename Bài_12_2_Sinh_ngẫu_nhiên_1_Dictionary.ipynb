{
  "nbformat": 4,
  "nbformat_minor": 0,
  "metadata": {
    "colab": {
      "name": "Bài 12-2: Sinh ngẫu nhiên 1 Dictionary.ipynb",
      "provenance": [],
      "authorship_tag": "ABX9TyOwHpKlOJ1gUIA16xHu6VgR",
      "include_colab_link": true
    },
    "kernelspec": {
      "name": "python3",
      "display_name": "Python 3"
    }
  },
  "cells": [
    {
      "cell_type": "markdown",
      "metadata": {
        "id": "view-in-github",
        "colab_type": "text"
      },
      "source": [
        "<a href=\"https://colab.research.google.com/github/LBMH-lang/LBMH/blob/master/B%C3%A0i_12_2_Sinh_ng%E1%BA%ABu_nhi%C3%AAn_1_Dictionary.ipynb\" target=\"_parent\"><img src=\"https://colab.research.google.com/assets/colab-badge.svg\" alt=\"Open In Colab\"/></a>"
      ]
    },
    {
      "cell_type": "code",
      "metadata": {
        "colab": {
          "base_uri": "https://localhost:8080/"
        },
        "id": "opinpJDhMsAS",
        "outputId": "b75c1d0a-b2aa-4a95-bd78-7e15b9aa70fa"
      },
      "source": [
        "import random\n",
        "dictionary = ['John- 31 tuổi', 'Roobie- 20 tuổi', 'Rage- 18', 'Carl- 54']\n",
        "value = random.choice(dictionary)\n",
        "print(value)"
      ],
      "execution_count": 9,
      "outputs": [
        {
          "output_type": "stream",
          "text": [
            "Roobie- 20 tuổi\n"
          ],
          "name": "stdout"
        }
      ]
    }
  ]
}