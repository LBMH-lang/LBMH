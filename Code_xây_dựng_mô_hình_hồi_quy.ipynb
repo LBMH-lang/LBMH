{
  "nbformat": 4,
  "nbformat_minor": 0,
  "metadata": {
    "colab": {
      "name": "Code xây dựng mô hình hồi quy.ipynb",
      "provenance": [],
      "authorship_tag": "ABX9TyOIEUs3hRQdM7DIV63ww3+P",
      "include_colab_link": true
    },
    "kernelspec": {
      "name": "python3",
      "display_name": "Python 3"
    },
    "language_info": {
      "name": "python"
    }
  },
  "cells": [
    {
      "cell_type": "markdown",
      "metadata": {
        "id": "view-in-github",
        "colab_type": "text"
      },
      "source": [
        "<a href=\"https://colab.research.google.com/github/LBMH-lang/LBMH/blob/master/Code_x%C3%A2y_d%E1%BB%B1ng_m%C3%B4_h%C3%ACnh_h%E1%BB%93i_quy.ipynb\" target=\"_parent\"><img src=\"https://colab.research.google.com/assets/colab-badge.svg\" alt=\"Open In Colab\"/></a>"
      ]
    },
    {
      "cell_type": "markdown",
      "source": [
        "Cài các thư viện cần thiết"
      ],
      "metadata": {
        "id": "g41rGtr-Zs3H"
      }
    },
    {
      "cell_type": "code",
      "execution_count": 41,
      "metadata": {
        "id": "x3V5O0J4o5IO"
      },
      "outputs": [],
      "source": [
        "import numpy as np\n",
        "import pandas as pd\n",
        "import sklearn"
      ]
    },
    {
      "cell_type": "code",
      "source": [
        "import matplotlib.pyplot as plt\n",
        "from sklearn import neighbors\n",
        "from sklearn import datasets"
      ],
      "metadata": {
        "id": "AIgO7n8yThku"
      },
      "execution_count": 42,
      "outputs": []
    },
    {
      "cell_type": "markdown",
      "source": [
        "Tải datasets:"
      ],
      "metadata": {
        "id": "X46TuzzLZyBm"
      }
    },
    {
      "cell_type": "code",
      "source": [
        "data = pd.read_csv(\"Tập dữ liệu Z.csv\")"
      ],
      "metadata": {
        "id": "jlJvqi-TnhQg"
      },
      "execution_count": 51,
      "outputs": []
    },
    {
      "cell_type": "code",
      "source": [
        "data.sample(10)"
      ],
      "metadata": {
        "colab": {
          "base_uri": "https://localhost:8080/",
          "height": 363
        },
        "id": "hoW1xtxx-dNA",
        "outputId": "3a952f2e-5666-4949-b4fb-56f87e38fd3c"
      },
      "execution_count": 52,
      "outputs": [
        {
          "output_type": "execute_result",
          "data": {
            "text/plain": [
              "    Person  gender  Age  Height  pre.weight  Diet  weight6weeks\n",
              "27      38       0   37     167          68     2          63.3\n",
              "72      73       1   40     179          79     3          74.5\n",
              "68      69       1   29     166          76     3          72.5\n",
              "55      41       1   51     191          71     2          66.8\n",
              "15      14       0   37     167          82     1          81.1\n",
              "62      48       1   40     171          79     2          72.9\n",
              "49      19       1   43     162          80     1          71.0\n",
              "31      53       0   35     169          62     3          56.4\n",
              "12      11       0   60     173          72     1          70.5\n",
              "45      15       1   39     168          71     1          71.6"
            ],
            "text/html": [
              "\n",
              "  <div id=\"df-13688728-c32a-4e90-acc8-c6b388729b2e\">\n",
              "    <div class=\"colab-df-container\">\n",
              "      <div>\n",
              "<style scoped>\n",
              "    .dataframe tbody tr th:only-of-type {\n",
              "        vertical-align: middle;\n",
              "    }\n",
              "\n",
              "    .dataframe tbody tr th {\n",
              "        vertical-align: top;\n",
              "    }\n",
              "\n",
              "    .dataframe thead th {\n",
              "        text-align: right;\n",
              "    }\n",
              "</style>\n",
              "<table border=\"1\" class=\"dataframe\">\n",
              "  <thead>\n",
              "    <tr style=\"text-align: right;\">\n",
              "      <th></th>\n",
              "      <th>Person</th>\n",
              "      <th>gender</th>\n",
              "      <th>Age</th>\n",
              "      <th>Height</th>\n",
              "      <th>pre.weight</th>\n",
              "      <th>Diet</th>\n",
              "      <th>weight6weeks</th>\n",
              "    </tr>\n",
              "  </thead>\n",
              "  <tbody>\n",
              "    <tr>\n",
              "      <th>27</th>\n",
              "      <td>38</td>\n",
              "      <td>0</td>\n",
              "      <td>37</td>\n",
              "      <td>167</td>\n",
              "      <td>68</td>\n",
              "      <td>2</td>\n",
              "      <td>63.3</td>\n",
              "    </tr>\n",
              "    <tr>\n",
              "      <th>72</th>\n",
              "      <td>73</td>\n",
              "      <td>1</td>\n",
              "      <td>40</td>\n",
              "      <td>179</td>\n",
              "      <td>79</td>\n",
              "      <td>3</td>\n",
              "      <td>74.5</td>\n",
              "    </tr>\n",
              "    <tr>\n",
              "      <th>68</th>\n",
              "      <td>69</td>\n",
              "      <td>1</td>\n",
              "      <td>29</td>\n",
              "      <td>166</td>\n",
              "      <td>76</td>\n",
              "      <td>3</td>\n",
              "      <td>72.5</td>\n",
              "    </tr>\n",
              "    <tr>\n",
              "      <th>55</th>\n",
              "      <td>41</td>\n",
              "      <td>1</td>\n",
              "      <td>51</td>\n",
              "      <td>191</td>\n",
              "      <td>71</td>\n",
              "      <td>2</td>\n",
              "      <td>66.8</td>\n",
              "    </tr>\n",
              "    <tr>\n",
              "      <th>15</th>\n",
              "      <td>14</td>\n",
              "      <td>0</td>\n",
              "      <td>37</td>\n",
              "      <td>167</td>\n",
              "      <td>82</td>\n",
              "      <td>1</td>\n",
              "      <td>81.1</td>\n",
              "    </tr>\n",
              "    <tr>\n",
              "      <th>62</th>\n",
              "      <td>48</td>\n",
              "      <td>1</td>\n",
              "      <td>40</td>\n",
              "      <td>171</td>\n",
              "      <td>79</td>\n",
              "      <td>2</td>\n",
              "      <td>72.9</td>\n",
              "    </tr>\n",
              "    <tr>\n",
              "      <th>49</th>\n",
              "      <td>19</td>\n",
              "      <td>1</td>\n",
              "      <td>43</td>\n",
              "      <td>162</td>\n",
              "      <td>80</td>\n",
              "      <td>1</td>\n",
              "      <td>71.0</td>\n",
              "    </tr>\n",
              "    <tr>\n",
              "      <th>31</th>\n",
              "      <td>53</td>\n",
              "      <td>0</td>\n",
              "      <td>35</td>\n",
              "      <td>169</td>\n",
              "      <td>62</td>\n",
              "      <td>3</td>\n",
              "      <td>56.4</td>\n",
              "    </tr>\n",
              "    <tr>\n",
              "      <th>12</th>\n",
              "      <td>11</td>\n",
              "      <td>0</td>\n",
              "      <td>60</td>\n",
              "      <td>173</td>\n",
              "      <td>72</td>\n",
              "      <td>1</td>\n",
              "      <td>70.5</td>\n",
              "    </tr>\n",
              "    <tr>\n",
              "      <th>45</th>\n",
              "      <td>15</td>\n",
              "      <td>1</td>\n",
              "      <td>39</td>\n",
              "      <td>168</td>\n",
              "      <td>71</td>\n",
              "      <td>1</td>\n",
              "      <td>71.6</td>\n",
              "    </tr>\n",
              "  </tbody>\n",
              "</table>\n",
              "</div>\n",
              "      <button class=\"colab-df-convert\" onclick=\"convertToInteractive('df-13688728-c32a-4e90-acc8-c6b388729b2e')\"\n",
              "              title=\"Convert this dataframe to an interactive table.\"\n",
              "              style=\"display:none;\">\n",
              "        \n",
              "  <svg xmlns=\"http://www.w3.org/2000/svg\" height=\"24px\"viewBox=\"0 0 24 24\"\n",
              "       width=\"24px\">\n",
              "    <path d=\"M0 0h24v24H0V0z\" fill=\"none\"/>\n",
              "    <path d=\"M18.56 5.44l.94 2.06.94-2.06 2.06-.94-2.06-.94-.94-2.06-.94 2.06-2.06.94zm-11 1L8.5 8.5l.94-2.06 2.06-.94-2.06-.94L8.5 2.5l-.94 2.06-2.06.94zm10 10l.94 2.06.94-2.06 2.06-.94-2.06-.94-.94-2.06-.94 2.06-2.06.94z\"/><path d=\"M17.41 7.96l-1.37-1.37c-.4-.4-.92-.59-1.43-.59-.52 0-1.04.2-1.43.59L10.3 9.45l-7.72 7.72c-.78.78-.78 2.05 0 2.83L4 21.41c.39.39.9.59 1.41.59.51 0 1.02-.2 1.41-.59l7.78-7.78 2.81-2.81c.8-.78.8-2.07 0-2.86zM5.41 20L4 18.59l7.72-7.72 1.47 1.35L5.41 20z\"/>\n",
              "  </svg>\n",
              "      </button>\n",
              "      \n",
              "  <style>\n",
              "    .colab-df-container {\n",
              "      display:flex;\n",
              "      flex-wrap:wrap;\n",
              "      gap: 12px;\n",
              "    }\n",
              "\n",
              "    .colab-df-convert {\n",
              "      background-color: #E8F0FE;\n",
              "      border: none;\n",
              "      border-radius: 50%;\n",
              "      cursor: pointer;\n",
              "      display: none;\n",
              "      fill: #1967D2;\n",
              "      height: 32px;\n",
              "      padding: 0 0 0 0;\n",
              "      width: 32px;\n",
              "    }\n",
              "\n",
              "    .colab-df-convert:hover {\n",
              "      background-color: #E2EBFA;\n",
              "      box-shadow: 0px 1px 2px rgba(60, 64, 67, 0.3), 0px 1px 3px 1px rgba(60, 64, 67, 0.15);\n",
              "      fill: #174EA6;\n",
              "    }\n",
              "\n",
              "    [theme=dark] .colab-df-convert {\n",
              "      background-color: #3B4455;\n",
              "      fill: #D2E3FC;\n",
              "    }\n",
              "\n",
              "    [theme=dark] .colab-df-convert:hover {\n",
              "      background-color: #434B5C;\n",
              "      box-shadow: 0px 1px 3px 1px rgba(0, 0, 0, 0.15);\n",
              "      filter: drop-shadow(0px 1px 2px rgba(0, 0, 0, 0.3));\n",
              "      fill: #FFFFFF;\n",
              "    }\n",
              "  </style>\n",
              "\n",
              "      <script>\n",
              "        const buttonEl =\n",
              "          document.querySelector('#df-13688728-c32a-4e90-acc8-c6b388729b2e button.colab-df-convert');\n",
              "        buttonEl.style.display =\n",
              "          google.colab.kernel.accessAllowed ? 'block' : 'none';\n",
              "\n",
              "        async function convertToInteractive(key) {\n",
              "          const element = document.querySelector('#df-13688728-c32a-4e90-acc8-c6b388729b2e');\n",
              "          const dataTable =\n",
              "            await google.colab.kernel.invokeFunction('convertToInteractive',\n",
              "                                                     [key], {});\n",
              "          if (!dataTable) return;\n",
              "\n",
              "          const docLinkHtml = 'Like what you see? Visit the ' +\n",
              "            '<a target=\"_blank\" href=https://colab.research.google.com/notebooks/data_table.ipynb>data table notebook</a>'\n",
              "            + ' to learn more about interactive tables.';\n",
              "          element.innerHTML = '';\n",
              "          dataTable['output_type'] = 'display_data';\n",
              "          await google.colab.output.renderOutput(dataTable, element);\n",
              "          const docLink = document.createElement('div');\n",
              "          docLink.innerHTML = docLinkHtml;\n",
              "          element.appendChild(docLink);\n",
              "        }\n",
              "      </script>\n",
              "    </div>\n",
              "  </div>\n",
              "  "
            ]
          },
          "metadata": {},
          "execution_count": 52
        }
      ]
    },
    {
      "cell_type": "markdown",
      "source": [
        "Phân chia train – test (tỉ lệ 70% -30%)"
      ],
      "metadata": {
        "id": "OPODuPsSaVPX"
      }
    },
    {
      "cell_type": "code",
      "source": [
        "import pandas as pd\n",
        "from sklearn.model_selection import train_test_split\n",
        "from sklearn.neighbors import KNeighborsClassifier\n",
        "#Drop id column\n",
        "\n",
        "X = data.iloc[:, :-1].values\n",
        "y = data.iloc[:, 4].values\n",
        "#Split arrays or matrices into random train and test subsets\n",
        "X_train, X_test, y_train, y_test = train_test_split(X, y, test_size=0.30)\n",
        "\n",
        "print(\"\\n70% train data:\")\n",
        "print(X_train)\n",
        "print(y_train)\n",
        "print(\"\\n30% test data:\")\n",
        "print(X_test)\n",
        "print(y_test)\n",
        "\n",
        "#Create KNN Classifier\n",
        "#Number of neighbors to use by default for kneighbors queries.\n",
        "knn = KNeighborsClassifier(n_neighbors=5)\n",
        "#Train the model using the training sets\n",
        "knn.fit(X_train, y_train)\n",
        "#Predict the response for test dataset\n",
        "print(\"Response for test dataset:\")\n",
        "y_pred = knn.predict(X_test)\n",
        "print(y_pred)"
      ],
      "metadata": {
        "colab": {
          "base_uri": "https://localhost:8080/"
        },
        "id": "EMoO54fY-iuV",
        "outputId": "e384997e-f48e-495f-d746-98e6bf892e4a"
      },
      "execution_count": 53,
      "outputs": [
        {
          "output_type": "stream",
          "name": "stdout",
          "text": [
            "\n",
            "70% train data:\n",
            "[[ 34   0  54 173  63   2]\n",
            " [ 35   0  50 166  65   2]\n",
            " [  2   0  46 192  60   1]\n",
            " [ 72   1  26 179  78   3]\n",
            " [ 43   1  54 196  75   2]\n",
            " [ 45   1  45 160  78   2]\n",
            " [  5   0  50 170  65   1]\n",
            " [ 46   1  37 194  78   2]\n",
            " [ 44   1  33 190  76   2]\n",
            " [ 16   1  31 158  72   1]\n",
            " [ 55   0  22 169  65   3]\n",
            " [ 62   0  31 170  72   3]\n",
            " [ 68   1  47 179  73   3]\n",
            " [  4   0  33 171  64   1]\n",
            " [ 40   0  29 169  77   2]\n",
            " [ 39   0  30 161  76   2]\n",
            " [ 38   0  37 167  68   2]\n",
            " [ 41   1  51 191  71   2]\n",
            " [ 17   1  40 173  74   1]\n",
            " [ 57   0  20 169  67   3]\n",
            " [ 33   0  31 163  63   2]\n",
            " [ 75   1  49 177  84   3]\n",
            " [ 67   1  36 155  71   3]\n",
            " [ 60   0  58 141  70   3]\n",
            " [ 11   0  60 173  72   1]\n",
            " [ 20   1  25 165  80   1]\n",
            " [ 56   0  36 160  66   3]\n",
            " [ 69   1  29 166  76   3]\n",
            " [ 19   1  43 162  80   1]\n",
            " [ 49   1  37 198  79   2]\n",
            " [ 74   1  35 183  83   3]\n",
            " [ 13   0  41 163  72   1]\n",
            " [ 14   0  37 167  82   1]\n",
            " [ 22   1  42 166  85   1]\n",
            " [ 48   1  40 171  79   2]\n",
            " [ 63   0  35 171  72   3]\n",
            " [ 32   0  51 174  63   2]\n",
            " [ 52   0  51 165  60   3]\n",
            " [ 28   0  37 172  58   2]\n",
            " [ 42   1  38 199  75   2]\n",
            " [ 78   1  51 175  88   3]\n",
            " [ 77   1  40 167  87   3]\n",
            " [ 27   0  44 174  58   2]\n",
            " [ 51   1  31 182  80   2]\n",
            " [ 30   0  43 171  61   2]\n",
            " [  8   0  28 176  69   1]\n",
            " [ 53   0  35 169  62   3]\n",
            " [  6   0  50 201  66   1]\n",
            " [ 70   1  37 173  78   3]\n",
            " [ 59   0  45 155  69   3]\n",
            " [ 73   1  40 179  79   3]\n",
            " [ 23   1  39 166  87   1]\n",
            " [ 21   1  52 177  83   1]\n",
            " [ 26   0  32 174 103   2]]\n",
            "[ 63  65  60  78  75  78  65  78  76  72  65  72  73  64  77  76  68  71\n",
            "  74  67  63  84  71  70  72  80  66  76  80  79  83  72  82  85  79  72\n",
            "  63  60  58  75  88  87  58  80  61  69  62  66  78  69  79  87  83 103]\n",
            "\n",
            "30% test data:\n",
            "[[  7   0  37 174  67   1]\n",
            " [ 31   0  20 169  62   2]\n",
            " [ 50   1  39 180  80   2]\n",
            " [ 12   0  48 156  72   1]\n",
            " [ 76   1  28 164  85   3]\n",
            " [  1   0  22 159  58   1]\n",
            " [ 25   0  41 171  60   2]\n",
            " [  3   0  55 170  64   1]\n",
            " [ 65   0  48 153  75   3]\n",
            " [ 61   0  37 170  70   3]\n",
            " [ 18   1  50 160  78   1]\n",
            " [ 37   0  16 165  68   2]\n",
            " [ 15   1  39 168  71   1]\n",
            " [ 36   0  48 163  66   2]\n",
            " [ 58   0  35 163  67   3]\n",
            " [ 24   1  40 190  88   1]\n",
            " [ 54   0  21 159  64   3]\n",
            " [ 29   0  41 165  59   2]\n",
            " [ 10   0  45 165  70   1]\n",
            " [ 47   1  44 163  79   2]\n",
            " [ 66   0  41 157  76   3]\n",
            " [ 64   0  56 171  73   3]\n",
            " [  9   0  28 165  70   1]\n",
            " [ 71   1  31 177  78   3]]\n",
            "[67 62 80 72 85 58 60 64 75 70 78 68 71 66 67 88 64 59 70 79 76 73 70 78]\n",
            "Response for test dataset:\n",
            "[64 58 79 72 78 72 58 72 66 72 72 63 72 63 72 74 62 58 65 68 66 60 72 78]\n"
          ]
        }
      ]
    },
    {
      "cell_type": "code",
      "source": [
        "from sklearn.model_selection import train_test_split\n",
        "X_train, X_test, y_train, y_test = train_test_split(X, y, test_size=50)\n",
        "\n",
        "print(\"Training size: %d\" %len(y_train))\n",
        "print(\"Test size    : %d\" %len(y_test))"
      ],
      "metadata": {
        "colab": {
          "base_uri": "https://localhost:8080/"
        },
        "id": "RWc9n49B-61u",
        "outputId": "69544a54-4b14-4493-96cc-77e98d6cb40b"
      },
      "execution_count": 54,
      "outputs": [
        {
          "output_type": "stream",
          "name": "stdout",
          "text": [
            "Training size: 28\n",
            "Test size    : 50\n"
          ]
        }
      ]
    },
    {
      "cell_type": "markdown",
      "source": [
        "Huấn luyện mô hình với train set (10-fold cross validation) Từ thư viện sklearn import KFold"
      ],
      "metadata": {
        "id": "rvLGu-bBai-U"
      }
    },
    {
      "cell_type": "code",
      "source": [
        "# evaluate a logistic regression model using k-fold cross-validation\n",
        "from numpy import mean\n",
        "from numpy import std\n",
        "from sklearn.datasets import make_classification\n",
        "from sklearn.model_selection import KFold\n",
        "from sklearn.model_selection import cross_val_score\n",
        "from sklearn.linear_model import LogisticRegression\n",
        "\n",
        "# prepare the cross-validation procedure\n",
        "cv = KFold(n_splits=10, random_state=1, shuffle=True)\n",
        "# create model\n",
        "model = LogisticRegression()\n",
        "# evaluate model\n",
        "scores = cross_val_score(model, X_train, y_train, scoring='accuracy', cv=cv, n_jobs=-1)\n",
        "# report performance\n",
        "print('Accuracy: %.3f (%.3f)' % (mean(scores), std(scores)))"
      ],
      "metadata": {
        "colab": {
          "base_uri": "https://localhost:8080/"
        },
        "id": "y2SJcb1WDMP1",
        "outputId": "ab1a46aa-edc6-41db-8091-750d9f868c16"
      },
      "execution_count": 55,
      "outputs": [
        {
          "output_type": "stream",
          "name": "stdout",
          "text": [
            "Accuracy: 0.033 (0.100)\n"
          ]
        }
      ]
    },
    {
      "cell_type": "markdown",
      "source": [
        "Kiểm thử mô hình với test set"
      ],
      "metadata": {
        "id": "zG7jSXPUjfSn"
      }
    },
    {
      "cell_type": "code",
      "source": [
        "print(\"\\n30% test data:\")\n",
        "print(X_test)\n",
        "print(y_test)\n",
        "#Number of neighbors to use by default for kneighbors queries.\n",
        "knn = KNeighborsClassifier(n_neighbors=5)\n",
        "#Train the model using the training sets\n",
        "knn.fit(X_train, y_train)\n",
        "#Predict the response for test dataset\n",
        "print(\"Response for test dataset:\")\n",
        "y_pred = knn.predict(X_test)\n",
        "print(y_pred)"
      ],
      "metadata": {
        "colab": {
          "base_uri": "https://localhost:8080/"
        },
        "id": "jScYsjfDO4hT",
        "outputId": "63f9e266-d692-4424-9f8e-19a170362785"
      },
      "execution_count": 57,
      "outputs": [
        {
          "output_type": "stream",
          "name": "stdout",
          "text": [
            "\n",
            "30% test data:\n",
            "[[ 60   0  58 141  70   3]\n",
            " [ 31   0  20 169  62   2]\n",
            " [ 68   1  47 179  73   3]\n",
            " [ 33   0  31 163  63   2]\n",
            " [ 45   1  45 160  78   2]\n",
            " [ 62   0  31 170  72   3]\n",
            " [ 28   0  37 172  58   2]\n",
            " [ 70   1  37 173  78   3]\n",
            " [ 78   1  51 175  88   3]\n",
            " [ 49   1  37 198  79   2]\n",
            " [ 34   0  54 173  63   2]\n",
            " [ 64   0  56 171  73   3]\n",
            " [ 15   1  39 168  71   1]\n",
            " [ 48   1  40 171  79   2]\n",
            " [ 58   0  35 163  67   3]\n",
            " [ 76   1  28 164  85   3]\n",
            " [ 10   0  45 165  70   1]\n",
            " [  6   0  50 201  66   1]\n",
            " [ 57   0  20 169  67   3]\n",
            " [ 39   0  30 161  76   2]\n",
            " [ 56   0  36 160  66   3]\n",
            " [ 59   0  45 155  69   3]\n",
            " [ 13   0  41 163  72   1]\n",
            " [ 26   0  32 174 103   2]\n",
            " [ 43   1  54 196  75   2]\n",
            " [ 22   1  42 166  85   1]\n",
            " [ 35   0  50 166  65   2]\n",
            " [ 37   0  16 165  68   2]\n",
            " [  9   0  28 165  70   1]\n",
            " [ 17   1  40 173  74   1]\n",
            " [ 36   0  48 163  66   2]\n",
            " [ 55   0  22 169  65   3]\n",
            " [ 38   0  37 167  68   2]\n",
            " [ 54   0  21 159  64   3]\n",
            " [ 75   1  49 177  84   3]\n",
            " [ 11   0  60 173  72   1]\n",
            " [ 42   1  38 199  75   2]\n",
            " [ 19   1  43 162  80   1]\n",
            " [ 51   1  31 182  80   2]\n",
            " [  7   0  37 174  67   1]\n",
            " [  8   0  28 176  69   1]\n",
            " [ 67   1  36 155  71   3]\n",
            " [ 12   0  48 156  72   1]\n",
            " [ 18   1  50 160  78   1]\n",
            " [ 72   1  26 179  78   3]\n",
            " [  5   0  50 170  65   1]\n",
            " [ 27   0  44 174  58   2]\n",
            " [ 52   0  51 165  60   3]\n",
            " [ 46   1  37 194  78   2]\n",
            " [ 20   1  25 165  80   1]]\n",
            "[ 70  62  73  63  78  72  58  78  88  79  63  73  71  79  67  85  70  66\n",
            "  67  76  66  69  72 103  75  85  65  68  70  74  66  65  68  64  84  72\n",
            "  75  80  80  67  69  71  72  78  78  65  58  60  78  80]\n",
            "Response for test dataset:\n",
            "[62 59 70 59 75 62 59 72 76 71 59 70 60 70 76 76 64 64 62 59 62 62 60 77\n",
            " 63 72 59 59 58 60 59 62 59 62 72 60 71 60 70 64 58 76 64 64 72 60 59 62\n",
            " 71 64]\n"
          ]
        }
      ]
    },
    {
      "cell_type": "markdown",
      "source": [
        "Kiểm tra hiệu suất của mô hình - Ma trận hỗn tạp"
      ],
      "metadata": {
        "id": "pgZTdNXb8LbR"
      }
    },
    {
      "cell_type": "code",
      "source": [
        "from sklearn.metrics import confusion_matrix\n",
        "cm = confusion_matrix(y_test, y_pred)\n",
        "\n",
        "print (\"Confusion Matrix : \\n\", cm)"
      ],
      "metadata": {
        "colab": {
          "base_uri": "https://localhost:8080/"
        },
        "id": "uOoA6jUU70oA",
        "outputId": "28659df5-606e-47d1-b85b-a5e1b16d0810"
      },
      "execution_count": 64,
      "outputs": [
        {
          "output_type": "stream",
          "name": "stdout",
          "text": [
            "Confusion Matrix : \n",
            " [[0 2 0 0 0 0 0 0 0 0 0 0 0 0 0 0 0 0 0 0 0 0 0 0 0 0]\n",
            " [0 0 0 0 0 0 0 0 0 0 0 0 0 0 0 0 0 0 0 0 0 0 0 0 0 0]\n",
            " [0 0 0 1 0 0 0 0 0 0 0 0 0 0 0 0 0 0 0 0 0 0 0 0 0 0]\n",
            " [0 1 0 0 0 0 0 0 0 0 0 0 0 0 0 0 0 0 0 0 0 0 0 0 0 0]\n",
            " [0 2 0 0 0 0 0 0 0 0 0 0 0 0 0 0 0 0 0 0 0 0 0 0 0 0]\n",
            " [0 0 0 1 0 0 0 0 0 0 0 0 0 0 0 0 0 0 0 0 0 0 0 0 0 0]\n",
            " [0 1 1 1 0 0 0 0 0 0 0 0 0 0 0 0 0 0 0 0 0 0 0 0 0 0]\n",
            " [0 1 0 1 0 1 0 0 0 0 0 0 0 0 0 0 0 0 0 0 0 0 0 0 0 0]\n",
            " [0 0 0 1 0 1 0 0 0 0 0 0 0 0 0 0 0 1 0 0 0 0 0 0 0 0]\n",
            " [0 2 0 0 0 0 0 0 0 0 0 0 0 0 0 0 0 0 0 0 0 0 0 0 0 0]\n",
            " [1 0 0 1 0 0 0 0 0 0 0 0 0 0 0 0 0 0 0 0 0 0 0 0 0 0]\n",
            " [1 0 0 1 0 1 0 0 0 0 0 0 0 0 0 0 0 0 0 0 0 0 0 0 0 0]\n",
            " [0 0 1 0 0 0 0 0 0 0 0 0 0 0 0 0 0 1 0 0 0 0 0 0 0 0]\n",
            " [0 0 2 1 0 1 0 0 0 0 0 0 0 0 0 0 0 0 0 0 0 0 0 0 0 0]\n",
            " [0 0 0 0 0 0 0 0 0 0 0 2 0 0 0 0 0 0 0 0 0 0 0 0 0 0]\n",
            " [0 0 1 0 0 0 0 0 0 0 0 0 0 0 0 0 0 0 0 0 0 0 0 0 0 0]\n",
            " [0 0 0 0 1 0 0 0 0 0 0 0 1 0 0 0 0 0 0 0 0 0 0 0 0 0]\n",
            " [0 1 0 0 0 0 0 0 0 0 0 0 0 0 0 0 0 0 0 0 0 0 0 0 0 0]\n",
            " [0 0 0 0 0 0 0 0 0 0 0 0 0 0 0 0 0 0 0 0 0 0 0 0 0 0]\n",
            " [0 0 0 0 0 1 0 0 0 0 0 0 1 2 0 0 1 0 0 0 0 0 0 0 0 0]\n",
            " [0 0 0 0 0 0 0 0 0 0 0 1 1 0 0 0 0 0 0 0 0 0 0 0 0 0]\n",
            " [0 0 1 0 0 1 0 0 0 0 0 1 0 0 0 0 0 0 0 0 0 0 0 0 0 0]\n",
            " [0 0 0 0 0 0 0 0 0 0 0 0 0 1 0 0 0 0 0 0 0 0 0 0 0 0]\n",
            " [0 0 0 0 0 0 0 0 0 0 0 0 0 1 0 0 0 1 0 0 0 0 0 0 0 0]\n",
            " [0 0 0 0 0 0 0 0 0 0 0 0 0 0 0 0 0 1 0 0 0 0 0 0 0 0]\n",
            " [0 0 0 0 0 0 0 0 0 0 0 0 0 0 0 0 0 0 1 0 0 0 0 0 0 0]]\n"
          ]
        }
      ]
    },
    {
      "cell_type": "markdown",
      "source": [
        "Trình bày kết quả và nhận xét.Tiến hành chạy hồi quy tuyến tính."
      ],
      "metadata": {
        "id": "zXJl4pQl9XwY"
      }
    },
    {
      "cell_type": "code",
      "source": [
        "import matplotlib.pyplot as plt\n",
        "import numpy as np\n",
        "from sklearn import datasets, linear_model, metrics\n",
        " \n",
        "# create linear regression object\n",
        "reg = linear_model.LinearRegression(fit_intercept=False)\n",
        "reg.fit(X_train, y_train)\n",
        "print('Coefficients: ', reg.coef_)"
      ],
      "metadata": {
        "colab": {
          "base_uri": "https://localhost:8080/"
        },
        "id": "qwRnyp7nTKro",
        "outputId": "12c5d862-01c4-47a2-97ba-440886622d74"
      },
      "execution_count": 59,
      "outputs": [
        {
          "output_type": "stream",
          "name": "stdout",
          "text": [
            "Coefficients:  [ 1.16270779e-15 -9.93649607e-15 -4.16333634e-16 -6.10622664e-16\n",
            "  1.00000000e+00 -3.31774538e-14]\n"
          ]
        }
      ]
    },
    {
      "cell_type": "code",
      "source": [
        "# variance score: 1 means perfect prediction\n",
        "print('Variance score: {}'.format(reg.score(X_test, y_test)))\n",
        " \n",
        "# plot for residual error\n",
        " \n",
        "## setting plot style\n",
        "plt.style.use('fivethirtyeight')\n",
        " \n",
        "## plotting residual errors in training data\n",
        "plt.scatter(reg.predict(X_train), reg.predict(X_train) - y_train,\n",
        "            color = \"green\", s = 10, label = 'Train data')\n",
        " \n",
        "## plotting residual errors in test data\n",
        "plt.scatter(reg.predict(X_test), reg.predict(X_test) - y_test,\n",
        "            color = \"blue\", s = 10, label = 'Test data')\n",
        " \n",
        "## plotting line for zero residual error\n",
        "plt.hlines(y = 0, xmin = 0, xmax = 50, linewidth = 2)\n",
        " \n",
        "## plotting legend\n",
        "plt.legend(loc = 'upper right')\n",
        " \n",
        "## plot title\n",
        "plt.title(\"Residual errors\")\n",
        " \n",
        "## method call for showing the plot\n",
        "plt.show()"
      ],
      "metadata": {
        "colab": {
          "base_uri": "https://localhost:8080/",
          "height": 321
        },
        "id": "IZcHWtd1yyyg",
        "outputId": "212adb10-b998-43f0-c9c1-a8b5824ab543"
      },
      "execution_count": 60,
      "outputs": [
        {
          "output_type": "stream",
          "name": "stdout",
          "text": [
            "Variance score: 1.0\n"
          ]
        },
        {
          "output_type": "display_data",
          "data": {
            "text/plain": [
              "<Figure size 432x288 with 1 Axes>"
            ],
            "image/png": "[encoded data removed]"
          },
          "metadata": {}
        }
      ]
    },
    {
      "cell_type": "markdown",
      "source": [
        "Nhận xét: Đồ thị trên xác định điểm chính xác bằng cách sử dụng điểm phương sai qua công thức: Explain_variance_score = 1 - Var {y - y '} / Var {y}\n",
        "\n",
        "Trong đó y' là đầu ra mục tiêu ước tính, y là đầu ra mục tiêu tương ứng (đúng) và Var là Phương sai, bình phương của độ lệch chuẩn."
      ],
      "metadata": {
        "id": "oqbUhpv6-DWW"
      }
    },
    {
      "cell_type": "code",
      "source": [
        "lm = LinearRegression()\n",
        "lm.fit(X_train, y_train)\n",
        "\n",
        "Y_pred = lm.predict(X_test)\n",
        "\n",
        "plt.scatter(y_test, Y_pred)"
      ],
      "metadata": {
        "colab": {
          "base_uri": "https://localhost:8080/",
          "height": 300
        },
        "id": "3p2rLDIzCpvD",
        "outputId": "3cc94e80-0e99-40a6-8358-e5c24d2d4015"
      },
      "execution_count": 66,
      "outputs": [
        {
          "output_type": "execute_result",
          "data": {
            "text/plain": [
              "<matplotlib.collections.PathCollection at 0x7fa50f010f50>"
            ]
          },
          "metadata": {},
          "execution_count": 66
        },
        {
          "output_type": "display_data",
          "data": {
            "text/plain": [
              "<Figure size 432x288 with 1 Axes>"
            ],
            "image/png": "[encoded data removed]"
          },
          "metadata": {}
        }
      ]
    },
    {
      "cell_type": "code",
      "source": [
        "np.isnan(data.any()) #and gets False\n",
        "np.isfinite(data.all()) #and gets True"
      ],
      "metadata": {
        "colab": {
          "base_uri": "https://localhost:8080/"
        },
        "id": "nN1ndnPpYUtH",
        "outputId": "d23395e6-ee5c-4848-f2e5-a9b53d238245"
      },
      "execution_count": null,
      "outputs": [
        {
          "output_type": "execute_result",
          "data": {
            "text/plain": [
              "Person          True\n",
              "gender          True\n",
              "Age             True\n",
              "Height          True\n",
              "pre.weight      True\n",
              "Diet            True\n",
              "weight6weeks    True\n",
              "dtype: bool"
            ]
          },
          "metadata": {},
          "execution_count": 37
        }
      ]
    },
    {
      "cell_type": "code",
      "source": [
        "mse = sklearn.metrics.mean_squared_error(y_test, y_pred)\n",
        "print(mse)"
      ],
      "metadata": {
        "colab": {
          "base_uri": "https://localhost:8080/"
        },
        "id": "cqDZVgBh7M1Y",
        "outputId": "9b018e03-7b45-46c4-a6dc-2ca3e98836f4"
      },
      "execution_count": 61,
      "outputs": [
        {
          "output_type": "stream",
          "name": "stdout",
          "text": [
            "91.66\n"
          ]
        }
      ]
    },
    {
      "cell_type": "code",
      "source": [
        "mse1 = sklearn.metrics.mean_squared_error(y_test, Y_pred)\n",
        "print(mse1)"
      ],
      "metadata": {
        "colab": {
          "base_uri": "https://localhost:8080/"
        },
        "id": "X8oSS_3WDDN-",
        "outputId": "5edc2a4d-a595-4b58-fc58-2593bcbe5c0c"
      },
      "execution_count": 67,
      "outputs": [
        {
          "output_type": "stream",
          "name": "stdout",
          "text": [
            "1.8276329452160402e-28\n"
          ]
        }
      ]
    }
  ]
}