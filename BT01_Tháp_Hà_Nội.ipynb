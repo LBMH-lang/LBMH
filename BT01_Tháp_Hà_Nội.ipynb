{
  "nbformat": 4,
  "nbformat_minor": 0,
  "metadata": {
    "colab": {
      "name": "BT01: Tháp Hà Nội.ipynb",
      "provenance": [],
      "authorship_tag": "ABX9TyPWYJLmRmiQIR6swKRVDK4h",
      "include_colab_link": true
    },
    "kernelspec": {
      "name": "python3",
      "display_name": "Python 3"
    },
    "language_info": {
      "name": "python"
    }
  },
  "cells": [
    {
      "cell_type": "markdown",
      "metadata": {
        "id": "view-in-github",
        "colab_type": "text"
      },
      "source": [
        "<a href=\"https://colab.research.google.com/github/LBMH-lang/LBMH/blob/master/BT01_Th%C3%A1p_H%C3%A0_N%E1%BB%99i.ipynb\" target=\"_parent\"><img src=\"https://colab.research.google.com/assets/colab-badge.svg\" alt=\"Open In Colab\"/></a>"
      ]
    },
    {
      "cell_type": "code",
      "metadata": {
        "id": "gzOG3HD6YKNx"
      },
      "source": [
        "#BT01: Tháp Hà Nội\n",
        "def thapHaNoi(n, toaMot, toaHai, toaBa):\n",
        "\n",
        "if n == 1:\n",
        "\tprint \"chuyen tu\", toaMot, \"sang\", toaBa\n",
        "\n",
        "else:\n",
        "\tthapHaNoi(n-1, toaMot, toaBa, toaHai)\n",
        "\tprint \"chuyen tu\", toaMot, \"sang\", toaBa\n",
        "\tthapHaNoi(n-1, toaHai, toaMot, toaBa)"
      ],
      "execution_count": null,
      "outputs": []
    }
  ]
}