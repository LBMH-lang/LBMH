{
  "nbformat": 4,
  "nbformat_minor": 0,
  "metadata": {
    "kernelspec": {
      "display_name": "Python 3",
      "language": "python",
      "name": "python3"
    },
    "language_info": {
      "codemirror_mode": {
        "name": "ipython",
        "version": 3
      },
      "file_extension": ".py",
      "mimetype": "text/x-python",
      "name": "python",
      "nbconvert_exporter": "python",
      "pygments_lexer": "ipython3",
      "version": "3.7.3"
    },
    "colab": {
      "name": "Bản sao của thuc-hanh-03.ipynb",
      "provenance": [],
      "include_colab_link": true
    }
  },
  "cells": [
    {
      "cell_type": "markdown",
      "metadata": {
        "id": "view-in-github",
        "colab_type": "text"
      },
      "source": [
        "<a href=\"https://colab.research.google.com/github/LBMH-lang/LBMH/blob/master/B%E1%BA%A3n_sao_c%E1%BB%A7a_thuc_hanh_03.ipynb\" target=\"_parent\"><img src=\"https://colab.research.google.com/assets/colab-badge.svg\" alt=\"Open In Colab\"/></a>"
      ]
    },
    {
      "cell_type": "markdown",
      "metadata": {
        "id": "ETi3fyWO5XlB"
      },
      "source": [
        "THỰC HÀNH THỐNG KÊ MÔ TẢ VỚI DỮ LIỆU ĐỊNH LƯỢNG\n",
        "\n",
        "Sử dụng tập dữ liệu microbiome.csv được cung cấp để hoàn thành các bài tập sau"
      ]
    },
    {
      "cell_type": "markdown",
      "metadata": {
        "id": "Wtj3BtOY5XlG"
      },
      "source": [
        "Câu 1: Tải tập dữ liệu microbiome.csv vào bộ nhớ (sử dụng pandas)"
      ]
    },
    {
      "cell_type": "code",
      "metadata": {
        "id": "g1kF4yVl5XlG",
        "colab": {
          "base_uri": "https://localhost:8080/"
        },
        "outputId": "d1c7b09a-d7ef-4a0c-d89b-c39f8174cbc5"
      },
      "source": [
        "import pandas as pd\r\n",
        "\r\n",
        "\r\n",
        "df = pd.read_csv('thuchanh3.csv')\r\n",
        "print(df)"
      ],
      "execution_count": 7,
      "outputs": [
        {
          "output_type": "stream",
          "text": [
            "         Taxon  Patient  Tissue  Stool\n",
            "0   Firmicutes        1     632    305\n",
            "1   Firmicutes        2     136   4182\n",
            "2   Firmicutes        3    1174    703\n",
            "3   Firmicutes        4     408   3946\n",
            "4   Firmicutes        5     831   8605\n",
            "..         ...      ...     ...    ...\n",
            "70       Other       11     203      6\n",
            "71       Other       12     392      6\n",
            "72       Other       13      28     25\n",
            "73       Other       14      12     22\n",
            "74       Other       15     305     32\n",
            "\n",
            "[75 rows x 4 columns]\n"
          ],
          "name": "stdout"
        }
      ]
    },
    {
      "cell_type": "markdown",
      "metadata": {
        "id": "kdbcf8185XlH"
      },
      "source": [
        "NHÓM CÁC CÂU LỆNH THỰC HIỆN CÁC PHÉP TÍNH HƯỚNG TÂM\n",
        "\n",
        "Câu 2: Hãy tính trung bình cộng của cột Patient"
      ]
    },
    {
      "cell_type": "code",
      "metadata": {
        "colab": {
          "base_uri": "https://localhost:8080/"
        },
        "id": "yWszNokq5XlH",
        "outputId": "6dac0181-a26c-4c0f-dc99-efab72ccc2ec"
      },
      "source": [
        "\r\n",
        "Mean = df['Patient'].mean(axis = 0)\r\n",
        "Mean"
      ],
      "execution_count": null,
      "outputs": [
        {
          "output_type": "execute_result",
          "data": {
            "text/plain": [
              "8.0"
            ]
          },
          "metadata": {
            "tags": []
          },
          "execution_count": 20
        }
      ]
    },
    {
      "cell_type": "markdown",
      "metadata": {
        "id": "n3g9Knrb5XlH"
      },
      "source": [
        "Câu 3: Hãy tính trung bình cộng (mean) đồng thời cho 3 cột Patient, Tissue và Stool"
      ]
    },
    {
      "cell_type": "code",
      "metadata": {
        "id": "l9jgwv0T5XlH",
        "colab": {
          "base_uri": "https://localhost:8080/"
        },
        "outputId": "d68cf6de-6d7c-4b17-b60c-25bd6bedd95e"
      },
      "source": [
        "\r\n",
        "Mean2 = df.mean(axis = 0)\r\n",
        "Mean2"
      ],
      "execution_count": null,
      "outputs": [
        {
          "output_type": "execute_result",
          "data": {
            "text/plain": [
              "Patient      8.000000\n",
              "Tissue     975.000000\n",
              "Stool      723.786667\n",
              "dtype: float64"
            ]
          },
          "metadata": {
            "tags": []
          },
          "execution_count": 21
        }
      ]
    },
    {
      "cell_type": "markdown",
      "metadata": {
        "id": "-tVH-fTt5XlI"
      },
      "source": [
        "Câu 4: Hãy tính trung vị (median) cho 2 cột Tissue và Stool"
      ]
    },
    {
      "cell_type": "code",
      "metadata": {
        "id": "J2GcqV455XlI",
        "colab": {
          "base_uri": "https://localhost:8080/"
        },
        "outputId": "fc6bb1aa-1b64-4a93-f892-44a48caaab1a"
      },
      "source": [
        "Mean3 = df['Stool'].median(axis = 0)\r\n",
        "Mean0 = df['Tissue'].median(axis = 0)\r\n",
        "Mean3\r\n",
        "Mean0"
      ],
      "execution_count": null,
      "outputs": [
        {
          "output_type": "execute_result",
          "data": {
            "text/plain": [
              "310.0"
            ]
          },
          "metadata": {
            "tags": []
          },
          "execution_count": 38
        }
      ]
    },
    {
      "cell_type": "markdown",
      "metadata": {
        "id": "ilcmoOMB5XlI"
      },
      "source": [
        "Câu 5: Hãy tính số yếu vị (mode) cho 3 cột Patient, Tissue và Stool"
      ]
    },
    {
      "cell_type": "code",
      "metadata": {
        "id": "cjOt951G5XlI",
        "colab": {
          "base_uri": "https://localhost:8080/",
          "height": 514
        },
        "outputId": "df4aebec-0d73-46ee-a1c9-385b9d685cd9"
      },
      "source": [
        "Mean4 = df.mode(axis= 0)\r\n",
        "Mean4"
      ],
      "execution_count": null,
      "outputs": [
        {
          "output_type": "execute_result",
          "data": {
            "text/html": [
              "<div>\n",
              "<style scoped>\n",
              "    .dataframe tbody tr th:only-of-type {\n",
              "        vertical-align: middle;\n",
              "    }\n",
              "\n",
              "    .dataframe tbody tr th {\n",
              "        vertical-align: top;\n",
              "    }\n",
              "\n",
              "    .dataframe thead th {\n",
              "        text-align: right;\n",
              "    }\n",
              "</style>\n",
              "<table border=\"1\" class=\"dataframe\">\n",
              "  <thead>\n",
              "    <tr style=\"text-align: right;\">\n",
              "      <th></th>\n",
              "      <th>Taxon</th>\n",
              "      <th>Patient</th>\n",
              "      <th>Tissue</th>\n",
              "      <th>Stool</th>\n",
              "    </tr>\n",
              "  </thead>\n",
              "  <tbody>\n",
              "    <tr>\n",
              "      <th>0</th>\n",
              "      <td>Actinobacteria</td>\n",
              "      <td>1</td>\n",
              "      <td>42.0</td>\n",
              "      <td>0.0</td>\n",
              "    </tr>\n",
              "    <tr>\n",
              "      <th>1</th>\n",
              "      <td>Bacteroidetes</td>\n",
              "      <td>2</td>\n",
              "      <td>51.0</td>\n",
              "      <td>2.0</td>\n",
              "    </tr>\n",
              "    <tr>\n",
              "      <th>2</th>\n",
              "      <td>Firmicutes</td>\n",
              "      <td>3</td>\n",
              "      <td>67.0</td>\n",
              "      <td>NaN</td>\n",
              "    </tr>\n",
              "    <tr>\n",
              "      <th>3</th>\n",
              "      <td>Other</td>\n",
              "      <td>4</td>\n",
              "      <td>106.0</td>\n",
              "      <td>NaN</td>\n",
              "    </tr>\n",
              "    <tr>\n",
              "      <th>4</th>\n",
              "      <td>Proteobacteria</td>\n",
              "      <td>5</td>\n",
              "      <td>678.0</td>\n",
              "      <td>NaN</td>\n",
              "    </tr>\n",
              "    <tr>\n",
              "      <th>5</th>\n",
              "      <td>NaN</td>\n",
              "      <td>6</td>\n",
              "      <td>NaN</td>\n",
              "      <td>NaN</td>\n",
              "    </tr>\n",
              "    <tr>\n",
              "      <th>6</th>\n",
              "      <td>NaN</td>\n",
              "      <td>7</td>\n",
              "      <td>NaN</td>\n",
              "      <td>NaN</td>\n",
              "    </tr>\n",
              "    <tr>\n",
              "      <th>7</th>\n",
              "      <td>NaN</td>\n",
              "      <td>8</td>\n",
              "      <td>NaN</td>\n",
              "      <td>NaN</td>\n",
              "    </tr>\n",
              "    <tr>\n",
              "      <th>8</th>\n",
              "      <td>NaN</td>\n",
              "      <td>9</td>\n",
              "      <td>NaN</td>\n",
              "      <td>NaN</td>\n",
              "    </tr>\n",
              "    <tr>\n",
              "      <th>9</th>\n",
              "      <td>NaN</td>\n",
              "      <td>10</td>\n",
              "      <td>NaN</td>\n",
              "      <td>NaN</td>\n",
              "    </tr>\n",
              "    <tr>\n",
              "      <th>10</th>\n",
              "      <td>NaN</td>\n",
              "      <td>11</td>\n",
              "      <td>NaN</td>\n",
              "      <td>NaN</td>\n",
              "    </tr>\n",
              "    <tr>\n",
              "      <th>11</th>\n",
              "      <td>NaN</td>\n",
              "      <td>12</td>\n",
              "      <td>NaN</td>\n",
              "      <td>NaN</td>\n",
              "    </tr>\n",
              "    <tr>\n",
              "      <th>12</th>\n",
              "      <td>NaN</td>\n",
              "      <td>13</td>\n",
              "      <td>NaN</td>\n",
              "      <td>NaN</td>\n",
              "    </tr>\n",
              "    <tr>\n",
              "      <th>13</th>\n",
              "      <td>NaN</td>\n",
              "      <td>14</td>\n",
              "      <td>NaN</td>\n",
              "      <td>NaN</td>\n",
              "    </tr>\n",
              "    <tr>\n",
              "      <th>14</th>\n",
              "      <td>NaN</td>\n",
              "      <td>15</td>\n",
              "      <td>NaN</td>\n",
              "      <td>NaN</td>\n",
              "    </tr>\n",
              "  </tbody>\n",
              "</table>\n",
              "</div>"
            ],
            "text/plain": [
              "             Taxon  Patient  Tissue  Stool\n",
              "0   Actinobacteria        1    42.0    0.0\n",
              "1    Bacteroidetes        2    51.0    2.0\n",
              "2       Firmicutes        3    67.0    NaN\n",
              "3            Other        4   106.0    NaN\n",
              "4   Proteobacteria        5   678.0    NaN\n",
              "5              NaN        6     NaN    NaN\n",
              "6              NaN        7     NaN    NaN\n",
              "7              NaN        8     NaN    NaN\n",
              "8              NaN        9     NaN    NaN\n",
              "9              NaN       10     NaN    NaN\n",
              "10             NaN       11     NaN    NaN\n",
              "11             NaN       12     NaN    NaN\n",
              "12             NaN       13     NaN    NaN\n",
              "13             NaN       14     NaN    NaN\n",
              "14             NaN       15     NaN    NaN"
            ]
          },
          "metadata": {
            "tags": []
          },
          "execution_count": 24
        }
      ]
    },
    {
      "cell_type": "markdown",
      "metadata": {
        "id": "GPeiWeTe5XlI"
      },
      "source": [
        "NHÓM CÂU LỆNH TÍNH PHƯƠNG SAI - ĐỘ LỆCH CHUẨN\n",
        "\n",
        "Câu 6: Hãy tính phương sai (variance) của cột Tissue"
      ]
    },
    {
      "cell_type": "code",
      "metadata": {
        "id": "P4yxcdKk5XlJ",
        "colab": {
          "base_uri": "https://localhost:8080/"
        },
        "outputId": "620acec0-e7ad-4aa9-93b4-3635e6a167b8"
      },
      "source": [
        "Mean5 = df['Tissue'].var(axis= 0)\r\n",
        "Mean5"
      ],
      "execution_count": null,
      "outputs": [
        {
          "output_type": "execute_result",
          "data": {
            "text/plain": [
              "3306370.027027027"
            ]
          },
          "metadata": {
            "tags": []
          },
          "execution_count": 39
        }
      ]
    },
    {
      "cell_type": "markdown",
      "metadata": {
        "id": "IuGoaPu55XlJ"
      },
      "source": [
        "Câu 7: Hãy tính phương sai của 3 cột Patient, Tissue và Stool"
      ]
    },
    {
      "cell_type": "code",
      "metadata": {
        "id": "bnF7Jjqg5XlJ",
        "colab": {
          "base_uri": "https://localhost:8080/"
        },
        "outputId": "173ec3e9-b4af-47b4-8a8d-8b44c0f19351"
      },
      "source": [
        "Mean6 = df.var(axis= 0)\r\n",
        "Mean6"
      ],
      "execution_count": null,
      "outputs": [
        {
          "output_type": "execute_result",
          "data": {
            "text/plain": [
              "Patient    1.891892e+01\n",
              "Tissue     3.306370e+06\n",
              "Stool      2.108251e+06\n",
              "dtype: float64"
            ]
          },
          "metadata": {
            "tags": []
          },
          "execution_count": 41
        }
      ]
    },
    {
      "cell_type": "markdown",
      "metadata": {
        "id": "rKEsosbJ5XlJ"
      },
      "source": [
        "Câu 8: Hãy tính độ lệch chuẩn (standard deviation) của 3 cột Patient, Tissue và Stool"
      ]
    },
    {
      "cell_type": "code",
      "metadata": {
        "id": "_XTcyQ8t5XlJ",
        "colab": {
          "base_uri": "https://localhost:8080/"
        },
        "outputId": "fe3df568-9d28-4e59-8d05-4d4ca538e4e8"
      },
      "source": [
        "Mean7 = df.std(axis= 0)\r\n",
        "Mean7"
      ],
      "execution_count": null,
      "outputs": [
        {
          "output_type": "execute_result",
          "data": {
            "text/plain": [
              "Patient       4.349588\n",
              "Tissue     1818.342659\n",
              "Stool      1451.981733\n",
              "dtype: float64"
            ]
          },
          "metadata": {
            "tags": []
          },
          "execution_count": 42
        }
      ]
    },
    {
      "cell_type": "markdown",
      "metadata": {
        "id": "4vz5T-I65XlJ"
      },
      "source": [
        "NHÓM CÂU LỆNH TÍNH PHÂN VỊ (PERCENTILE)"
      ]
    },
    {
      "cell_type": "markdown",
      "metadata": {
        "id": "9X0rk4y85XlK"
      },
      "source": [
        "Câu 9: Tính Q1 Q2 và Q3 cho cột Tissue\n",
        "\n",
        "Tham khảo:\n",
        "\n",
        "1) https://www.geeksforgeeks.org/python-pandas-dataframe-quantile/\n",
        "\n",
        "2) https://stackoverflow.com/questions/45926230/how-to-calculate-1st-and-3rd-quartiles/45926291"
      ]
    },
    {
      "cell_type": "code",
      "metadata": {
        "id": "fP_vsxxW5XlK",
        "colab": {
          "base_uri": "https://localhost:8080/",
          "height": 173
        },
        "outputId": "281fb5e2-6a0b-488c-93e5-26e3d97f5aab"
      },
      "source": [
        "df.quantile([.1, .25, .5, .75], axis = 0)\r\n"
      ],
      "execution_count": null,
      "outputs": [
        {
          "output_type": "execute_result",
          "data": {
            "text/html": [
              "<div>\n",
              "<style scoped>\n",
              "    .dataframe tbody tr th:only-of-type {\n",
              "        vertical-align: middle;\n",
              "    }\n",
              "\n",
              "    .dataframe tbody tr th {\n",
              "        vertical-align: top;\n",
              "    }\n",
              "\n",
              "    .dataframe thead th {\n",
              "        text-align: right;\n",
              "    }\n",
              "</style>\n",
              "<table border=\"1\" class=\"dataframe\">\n",
              "  <thead>\n",
              "    <tr style=\"text-align: right;\">\n",
              "      <th></th>\n",
              "      <th>Patient</th>\n",
              "      <th>Tissue</th>\n",
              "      <th>Stool</th>\n",
              "    </tr>\n",
              "  </thead>\n",
              "  <tbody>\n",
              "    <tr>\n",
              "      <th>0.10</th>\n",
              "      <td>2.0</td>\n",
              "      <td>51.0</td>\n",
              "      <td>5.4</td>\n",
              "    </tr>\n",
              "    <tr>\n",
              "      <th>0.25</th>\n",
              "      <td>4.0</td>\n",
              "      <td>108.0</td>\n",
              "      <td>16.0</td>\n",
              "    </tr>\n",
              "    <tr>\n",
              "      <th>0.50</th>\n",
              "      <td>8.0</td>\n",
              "      <td>310.0</td>\n",
              "      <td>80.0</td>\n",
              "    </tr>\n",
              "    <tr>\n",
              "      <th>0.75</th>\n",
              "      <td>12.0</td>\n",
              "      <td>835.0</td>\n",
              "      <td>656.0</td>\n",
              "    </tr>\n",
              "  </tbody>\n",
              "</table>\n",
              "</div>"
            ],
            "text/plain": [
              "      Patient  Tissue  Stool\n",
              "0.10      2.0    51.0    5.4\n",
              "0.25      4.0   108.0   16.0\n",
              "0.50      8.0   310.0   80.0\n",
              "0.75     12.0   835.0  656.0"
            ]
          },
          "metadata": {
            "tags": []
          },
          "execution_count": 50
        }
      ]
    },
    {
      "cell_type": "markdown",
      "metadata": {
        "id": "-IvVztxd5XlK"
      },
      "source": [
        "Câu 10: Hãy tính z-score cho cột Tissue\n",
        "\n",
        "Gợi ý: sử dụng hàm zscore của thư viện scipy\n",
        "\n",
        "Tham khảo: https://stackoverflow.com/questions/24761998/pandas-compute-z-score-for-all-columns"
      ]
    },
    {
      "cell_type": "code",
      "metadata": {
        "id": "Lta2M1NN5XlK",
        "colab": {
          "base_uri": "https://localhost:8080/"
        },
        "outputId": "7c998d3b-d812-458e-81e5-5335041a83de"
      },
      "source": [
        "from scipy.stats import zscore\r\n",
        "z = zscore(df['Tissue'])\r\n",
        "z"
      ],
      "execution_count": 8,
      "outputs": [
        {
          "output_type": "execute_result",
          "data": {
            "text/plain": [
              "array([-0.18990359, -0.46451635,  0.1101773 , -0.31392225, -0.07972629,\n",
              "       -0.15613064, -0.14228928, -0.44403112, -0.41358011, -0.45012133,\n",
              "       -0.33385382,  1.81598764, -0.48057234, -0.48666254, -0.38423641,\n",
              "        0.36707311,  0.82716022, -0.07529705,  1.90401875,  6.12840462,\n",
              "        0.73912911,  1.15049461, -0.32111977,  0.92792539,  0.12180405,\n",
              "        3.25659734, -0.27239815,  1.09346817,  0.3133686 ,  0.18381338,\n",
              "       -0.22478384,  0.34049768, -0.52597203, -0.39641681, -0.22533749,\n",
              "        0.07031416, -0.16443547, -0.39586316, -0.30506378, -0.23641059,\n",
              "       -0.42852879, -0.5165599 , -0.47946503, -0.51157701, -0.36818042,\n",
              "       -0.4761431 , -0.50271853, -0.5398134 , -0.49275274, -0.46064077,\n",
              "       -0.16443547,  2.13378547, -0.49884295, -0.44624574, -0.48112599,\n",
              "       -0.4993966 , -0.52320376, -0.51157701,  0.82937484, -0.48334061,\n",
              "       -0.47669676, -0.43185072, -0.5165599 , -0.36485849, -0.42797514,\n",
              "       -0.47558945, -0.24803734, -0.34215865, -0.48112599, -0.50271853,\n",
              "       -0.42742148, -0.32278073, -0.52431107, -0.53316954, -0.37094869])"
            ]
          },
          "metadata": {
            "tags": []
          },
          "execution_count": 8
        }
      ]
    },
    {
      "cell_type": "markdown",
      "metadata": {
        "id": "DyU1AbY65XlK"
      },
      "source": [
        "NHÓM CÂU LỆNH TỔNG HỢP\n",
        "\n",
        "Câu 11: (bổ sung) Hãy tính giá trị lớn nhất và nhỏ nhất của 3 cột Patient, Tissue và Stool"
      ]
    },
    {
      "cell_type": "code",
      "metadata": {
        "id": "uMp91dv25XlK",
        "colab": {
          "base_uri": "https://localhost:8080/"
        },
        "outputId": "75f2390f-0bde-4cf5-8856-9d13946f934c"
      },
      "source": [
        "import numpy as np\r\n",
        "\r\n",
        "max1 = np.nanmax(df.iloc[:, 1].values)\r\n",
        "min1 = np.nanmin(df.iloc[:, 1].values)\r\n",
        "max2 = np.nanmax(df.iloc[:, 2].values)\r\n",
        "min2 = np.nanmin(df.iloc[:, 2].values)\r\n",
        "max3 = np.nanmax(df.iloc[:, 3].values)\r\n",
        "min3 = np.nanmin(df.iloc[:, 3].values)\r\n",
        "print('max cua Patient', max1)\r\n",
        "print('min cua Patient', min1)\r\n",
        "print('max cua Tissue', max2)\r\n",
        "print('min cua Tissue', min2)\r\n",
        "print('max cua Stool', max3)\r\n",
        "print('min cua Stool', min3)"
      ],
      "execution_count": 13,
      "outputs": [
        {
          "output_type": "stream",
          "text": [
            "max cua Patient 15\n",
            "min cua Patient 1\n",
            "max cua Tissue 12044\n",
            "min cua Tissue 0\n",
            "max cua Stool 8605\n",
            "min cua Stool 0\n"
          ],
          "name": "stdout"
        }
      ]
    },
    {
      "cell_type": "markdown",
      "metadata": {
        "id": "eFD9yYkT5XlL"
      },
      "source": [
        "Câu 12: Hãy thực thi hàm describe đối với data frame chứa dữ liệu của microbiome.csv\n",
        "\n",
        "Tham khảo: https://pandas.pydata.org/docs/reference/api/pandas.DataFrame.describe.html"
      ]
    },
    {
      "cell_type": "code",
      "metadata": {
        "id": "QrVHpZuW5XlL",
        "colab": {
          "base_uri": "https://localhost:8080/",
          "height": 297
        },
        "outputId": "76d1697c-7e96-4e51-a5b8-c2a824ce195f"
      },
      "source": [
        "df.describe()"
      ],
      "execution_count": 14,
      "outputs": [
        {
          "output_type": "execute_result",
          "data": {
            "text/html": [
              "<div>\n",
              "<style scoped>\n",
              "    .dataframe tbody tr th:only-of-type {\n",
              "        vertical-align: middle;\n",
              "    }\n",
              "\n",
              "    .dataframe tbody tr th {\n",
              "        vertical-align: top;\n",
              "    }\n",
              "\n",
              "    .dataframe thead th {\n",
              "        text-align: right;\n",
              "    }\n",
              "</style>\n",
              "<table border=\"1\" class=\"dataframe\">\n",
              "  <thead>\n",
              "    <tr style=\"text-align: right;\">\n",
              "      <th></th>\n",
              "      <th>Patient</th>\n",
              "      <th>Tissue</th>\n",
              "      <th>Stool</th>\n",
              "    </tr>\n",
              "  </thead>\n",
              "  <tbody>\n",
              "    <tr>\n",
              "      <th>count</th>\n",
              "      <td>75.000000</td>\n",
              "      <td>75.000000</td>\n",
              "      <td>75.000000</td>\n",
              "    </tr>\n",
              "    <tr>\n",
              "      <th>mean</th>\n",
              "      <td>8.000000</td>\n",
              "      <td>975.000000</td>\n",
              "      <td>723.786667</td>\n",
              "    </tr>\n",
              "    <tr>\n",
              "      <th>std</th>\n",
              "      <td>4.349588</td>\n",
              "      <td>1818.342659</td>\n",
              "      <td>1451.981733</td>\n",
              "    </tr>\n",
              "    <tr>\n",
              "      <th>min</th>\n",
              "      <td>1.000000</td>\n",
              "      <td>0.000000</td>\n",
              "      <td>0.000000</td>\n",
              "    </tr>\n",
              "    <tr>\n",
              "      <th>25%</th>\n",
              "      <td>4.000000</td>\n",
              "      <td>108.000000</td>\n",
              "      <td>16.000000</td>\n",
              "    </tr>\n",
              "    <tr>\n",
              "      <th>50%</th>\n",
              "      <td>8.000000</td>\n",
              "      <td>310.000000</td>\n",
              "      <td>80.000000</td>\n",
              "    </tr>\n",
              "    <tr>\n",
              "      <th>75%</th>\n",
              "      <td>12.000000</td>\n",
              "      <td>835.000000</td>\n",
              "      <td>656.000000</td>\n",
              "    </tr>\n",
              "    <tr>\n",
              "      <th>max</th>\n",
              "      <td>15.000000</td>\n",
              "      <td>12044.000000</td>\n",
              "      <td>8605.000000</td>\n",
              "    </tr>\n",
              "  </tbody>\n",
              "</table>\n",
              "</div>"
            ],
            "text/plain": [
              "         Patient        Tissue        Stool\n",
              "count  75.000000     75.000000    75.000000\n",
              "mean    8.000000    975.000000   723.786667\n",
              "std     4.349588   1818.342659  1451.981733\n",
              "min     1.000000      0.000000     0.000000\n",
              "25%     4.000000    108.000000    16.000000\n",
              "50%     8.000000    310.000000    80.000000\n",
              "75%    12.000000    835.000000   656.000000\n",
              "max    15.000000  12044.000000  8605.000000"
            ]
          },
          "metadata": {
            "tags": []
          },
          "execution_count": 14
        }
      ]
    },
    {
      "cell_type": "markdown",
      "metadata": {
        "id": "dcGqJjjO5XlL"
      },
      "source": [
        "NHÓM CÂU LỆNH ĐỒ HỌA\n",
        "\n",
        "Câu 13: Hãy vẽ biểu đồ box plot cho cột Tissue"
      ]
    },
    {
      "cell_type": "code",
      "metadata": {
        "id": "0NEyh3lU5XlL",
        "colab": {
          "base_uri": "https://localhost:8080/",
          "height": 265
        },
        "outputId": "78f4d639-0819-4b64-f8dc-21b3c0b74f2c"
      },
      "source": [
        "import matplotlib.pyplot as plt\r\n",
        "plt.boxplot(df['Tissue'], notch=None, vert=None, patch_artist=None, widths=None, labels = ['Tissue'])\r\n",
        "plt.show()"
      ],
      "execution_count": 39,
      "outputs": [
        {
          "output_type": "display_data",
          "data": {
            "image/png": "[encoded data removed]",
            "text/plain": [
              "<Figure size 432x288 with 1 Axes>"
            ]
          },
          "metadata": {
            "tags": [],
            "needs_background": "light"
          }
        }
      ]
    },
    {
      "cell_type": "markdown",
      "metadata": {
        "id": "oi954Zor5XlL"
      },
      "source": [
        "Câu 14: Hãy vẽ biểu đồ box plot cho cả 2 cột Tissue và Stool chung 1 hình (gồm có 2 box plot)"
      ]
    },
    {
      "cell_type": "code",
      "metadata": {
        "id": "d0x6vxkB5XlL",
        "colab": {
          "base_uri": "https://localhost:8080/",
          "height": 265
        },
        "outputId": "5edf6dc6-d26f-480d-9094-6f83a11be7ac"
      },
      "source": [
        "dat = [df['Tissue'], df['Stool']]\r\n",
        "plt.boxplot(dat, notch='True', patch_artist=True, labels = ['Tissue','Stool'])\r\n",
        "plt.show()"
      ],
      "execution_count": 21,
      "outputs": [
        {
          "output_type": "display_data",
          "data": {
            "image/png": "[encoded data removed]",
            "text/plain": [
              "<Figure size 432x288 with 1 Axes>"
            ]
          },
          "metadata": {
            "tags": [],
            "needs_background": "light"
          }
        }
      ]
    },
    {
      "cell_type": "markdown",
      "metadata": {
        "id": "KYppCQb-5XlL"
      },
      "source": [
        "Câu 15: Hãy vẽ lại câu 14 với các box plot nằm ngang"
      ]
    },
    {
      "cell_type": "code",
      "metadata": {
        "id": "dRevqRQ65XlM",
        "colab": {
          "base_uri": "https://localhost:8080/",
          "height": 129
        },
        "outputId": "3d7c74ef-4773-4cdf-c719-94c1164e82fb"
      },
      "source": [
        "box = plt.boxplot(dat, vert = 0, patch_artist = True, labels=['Tissue', 'Stool'])\r\n",
        "colors = ['lightgreen', 'red']\r\n",
        "for patch, color in zip(box['boxes'], colors):\r\n",
        "patch.set_facecolor(color)\r\n",
        "plt.show()"
      ],
      "execution_count": 41,
      "outputs": [
        {
          "output_type": "error",
          "ename": "IndentationError",
          "evalue": "ignored",
          "traceback": [
            "\u001b[0;36m  File \u001b[0;32m\"<ipython-input-41-b6652ade671d>\"\u001b[0;36m, line \u001b[0;32m4\u001b[0m\n\u001b[0;31m    patch.set_facecolor('color')\u001b[0m\n\u001b[0m        ^\u001b[0m\n\u001b[0;31mIndentationError\u001b[0m\u001b[0;31m:\u001b[0m expected an indented block\n"
          ]
        }
      ]
    },
    {
      "cell_type": "markdown",
      "metadata": {
        "id": "Y3IyoLPF5XlM"
      },
      "source": [
        "Câu 16: Hãy sử dụng thư viện seaborn để vẽ biểu đồ box plot cho Tissue và Stool"
      ]
    },
    {
      "cell_type": "code",
      "metadata": {
        "id": "PHYliGsL5XlM",
        "colab": {
          "base_uri": "https://localhost:8080/",
          "height": 268
        },
        "outputId": "b7bd5f00-ac58-429b-d471-f5e1ff3b5685"
      },
      "source": [
        "import seaborn as sns\r\n",
        "sns.set(color_codes=True)\r\n",
        "ax = sns.boxplot(data = df[['Tissue', 'Stool']], palette = \"Set2\")"
      ],
      "execution_count": 43,
      "outputs": [
        {
          "output_type": "display_data",
          "data": {
            "image/png": "[encoded data removed]",
            "text/plain": [
              "<Figure size 432x288 with 1 Axes>"
            ]
          },
          "metadata": {
            "tags": []
          }
        }
      ]
    },
    {
      "cell_type": "code",
      "metadata": {
        "id": "rJc3CG2cmJ4D"
      },
      "source": [
        ""
      ],
      "execution_count": null,
      "outputs": []
    }
  ]
}