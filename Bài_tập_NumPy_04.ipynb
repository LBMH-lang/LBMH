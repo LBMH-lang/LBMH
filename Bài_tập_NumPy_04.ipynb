{
  "nbformat": 4,
  "nbformat_minor": 0,
  "metadata": {
    "colab": {
      "name": "Bài tập NumPy 04.ipynb",
      "provenance": [],
      "collapsed_sections": [],
      "authorship_tag": "ABX9TyMS+PpwlG7UlMaBqZfkMyYZ",
      "include_colab_link": true
    },
    "kernelspec": {
      "name": "python3",
      "display_name": "Python 3"
    },
    "language_info": {
      "name": "python"
    }
  },
  "cells": [
    {
      "cell_type": "markdown",
      "metadata": {
        "id": "view-in-github",
        "colab_type": "text"
      },
      "source": [
        "<a href=\"https://colab.research.google.com/github/LBMH-lang/LBMH/blob/master/B%C3%A0i_t%E1%BA%ADp_NumPy_04.ipynb\" target=\"_parent\"><img src=\"https://colab.research.google.com/assets/colab-badge.svg\" alt=\"Open In Colab\"/></a>"
      ]
    },
    {
      "cell_type": "code",
      "execution_count": 8,
      "metadata": {
        "id": "A2nHn2tdRYzI"
      },
      "outputs": [],
      "source": [
        "import numpy as np\n",
        "import random"
      ]
    },
    {
      "cell_type": "markdown",
      "source": [
        "Câu 1:"
      ],
      "metadata": {
        "id": "xNTpR6B-m6bB"
      }
    },
    {
      "cell_type": "code",
      "source": [
        "\n",
        "a0 = np.arange(-3, 4, dtype=int)\n",
        "a1 = np.linspace(1.0, 5.0, num=7)\n",
        "a2 = np.logspace(2.0, 3.0, num=7)\n",
        "a3 = np.random.rand(7)\n",
        "print('a0 =' ,a0)\n",
        "print('a1 =' ,a1)\n",
        "print('a2 =' ,a2)\n",
        "print('a3 =' ,a3)\n",
        "#Số chiều của các vector:\n",
        "print('Số chiều của a0:' ,a0.ndim)\n",
        "print('Số chiều của a1:' ,a1.ndim)\n",
        "print('Số chiều của a2:' ,a2.ndim)\n",
        "print('Số chiều của a3:' ,a3.ndim)\n",
        "#Số chiều của vector chuyển vị:\n",
        "a0_ = np.transpose(a0)\n",
        "print('Số chiều của a0^T:' ,a0_.ndim)\n",
        "a1_ = np.transpose(a1)\n",
        "print('Số chiều của a1^T:' ,a1_.ndim)\n",
        "a2_ = np.transpose(a2)\n",
        "print('Số chiều của a2^T:' ,a2_.ndim)\n",
        "a3_ = np.transpose(a3)\n",
        "print('Số chiều của a3^T:' ,a3_.ndim)"
      ],
      "metadata": {
        "colab": {
          "base_uri": "https://localhost:8080/"
        },
        "id": "Ljneed_nRzxY",
        "outputId": "8055d9ef-e827-4a53-81bf-6ac72d9c13f4"
      },
      "execution_count": 22,
      "outputs": [
        {
          "output_type": "stream",
          "name": "stdout",
          "text": [
            "a0 = [-3 -2 -1  0  1  2  3]\n",
            "a1 = [1.         1.66666667 2.33333333 3.         3.66666667 4.33333333\n",
            " 5.        ]\n",
            "a2 = [ 100.          146.77992676  215.443469    316.22776602  464.15888336\n",
            "  681.29206906 1000.        ]\n",
            "a3 = [0.19081215 0.70535103 0.00630224 0.71958479 0.86058805 0.69672045\n",
            " 0.2596849 ]\n",
            "Số chiều của a0: 1\n",
            "Số chiều của a1: 1\n",
            "Số chiều của a2: 1\n",
            "Số chiều của a3: 1\n",
            "Số chiều của a0^T: 1\n",
            "Số chiều của a1^T: 1\n",
            "Số chiều của a2^T: 1\n",
            "Số chiều của a3^T: 1\n"
          ]
        }
      ]
    },
    {
      "cell_type": "markdown",
      "source": [
        "Câu 2:"
      ],
      "metadata": {
        "id": "jZ8oFA4Sm-5x"
      }
    },
    {
      "cell_type": "code",
      "source": [
        "\n",
        "A0 = np.random.rand(10,7)\n",
        "A1 = np.arange(70).reshape(10, 7)\n",
        "\n",
        "print('A0 =' ,A0)\n",
        "print('A1 =' ,A1)\n",
        "#Số chiều của các ma trận:\n",
        "print('Số chiều của A0:' ,A0.ndim)\n",
        "print('Số chiều của A1:' ,A1.ndim)\n",
        "#Số chiều của vector chuyển vị:\n",
        "A0_ = np.transpose(A0)\n",
        "print('Số chiều của A0^T:' ,A0_.ndim)\n",
        "A1_ = np.transpose(a1)\n",
        "print('Số chiều của A1^T:' ,A1_.ndim)"
      ],
      "metadata": {
        "colab": {
          "base_uri": "https://localhost:8080/"
        },
        "id": "gycxxFv2gCoB",
        "outputId": "4ad07b95-6112-4889-81e8-985712a26635"
      },
      "execution_count": 34,
      "outputs": [
        {
          "output_type": "stream",
          "name": "stdout",
          "text": [
            "A0 = [[0.4214017  0.4156901  0.26250085 0.5931919  0.64451568 0.37157685\n",
            "  0.32926339]\n",
            " [0.16397851 0.83826246 0.23694749 0.93774244 0.78198585 0.1089181\n",
            "  0.343823  ]\n",
            " [0.30651751 0.71656246 0.32705257 0.92530278 0.24345159 0.33919654\n",
            "  0.44999069]\n",
            " [0.17353249 0.64758928 0.62389801 0.64923023 0.30921266 0.44580119\n",
            "  0.96917971]\n",
            " [0.01825367 0.48897787 0.03834306 0.76990831 0.24983602 0.22322401\n",
            "  0.46302712]\n",
            " [0.83085882 0.27718996 0.60751749 0.94823313 0.71601171 0.14981695\n",
            "  0.69134394]\n",
            " [0.30804756 0.09040706 0.48656625 0.76833173 0.67302695 0.94413741\n",
            "  0.71388627]\n",
            " [0.32904125 0.43583125 0.09425904 0.48442046 0.2156832  0.79410975\n",
            "  0.27090742]\n",
            " [0.3763833  0.77127202 0.22647219 0.78441675 0.06432495 0.34072017\n",
            "  0.33677048]\n",
            " [0.33381297 0.83661176 0.19854183 0.81729236 0.36704336 0.13017395\n",
            "  0.6367145 ]]\n",
            "A1 = [[ 0  1  2  3  4  5  6]\n",
            " [ 7  8  9 10 11 12 13]\n",
            " [14 15 16 17 18 19 20]\n",
            " [21 22 23 24 25 26 27]\n",
            " [28 29 30 31 32 33 34]\n",
            " [35 36 37 38 39 40 41]\n",
            " [42 43 44 45 46 47 48]\n",
            " [49 50 51 52 53 54 55]\n",
            " [56 57 58 59 60 61 62]\n",
            " [63 64 65 66 67 68 69]]\n",
            "Số chiều của A0: 2\n",
            "Số chiều của A1: 2\n",
            "Số chiều của A0^T: 2\n",
            "Số chiều của A1^T: 1\n"
          ]
        }
      ]
    },
    {
      "cell_type": "markdown",
      "source": [
        "Câu 3:"
      ],
      "metadata": {
        "id": "QNx2_Etrm38J"
      }
    },
    {
      "cell_type": "code",
      "source": [
        "\n",
        "#Chuyển ma trận A ở câu 2 thành vector:\n",
        "print(A0.flatten())\n",
        "print(A1.flatten())\n"
      ],
      "metadata": {
        "colab": {
          "base_uri": "https://localhost:8080/"
        },
        "id": "5pb49hvklQhg",
        "outputId": "49a900b5-f6d7-4929-db17-b34f0b5db683"
      },
      "execution_count": 36,
      "outputs": [
        {
          "output_type": "stream",
          "name": "stdout",
          "text": [
            "[ 0  1  2  3  4  5  6  7  8  9 10 11 12 13 14 15 16 17 18 19 20 21 22 23\n",
            " 24 25 26 27 28 29 30 31 32 33 34 35 36 37 38 39 40 41 42 43 44 45 46 47\n",
            " 48 49 50 51 52 53 54 55 56 57 58 59 60 61 62 63 64 65 66 67 68 69]\n",
            "[10.          9.93877551  9.87755102  9.81632653  9.75510204  9.69387755\n",
            "  9.63265306  9.57142857  9.51020408  9.44897959  9.3877551   9.32653061\n",
            "  9.26530612  9.20408163  9.14285714  9.08163265  9.02040816  8.95918367\n",
            "  8.89795918  8.83673469  8.7755102   8.71428571  8.65306122  8.59183673\n",
            "  8.53061224  8.46938776  8.40816327  8.34693878  8.28571429  8.2244898\n",
            "  8.16326531  8.10204082  8.04081633  7.97959184  7.91836735  7.85714286\n",
            "  7.79591837  7.73469388  7.67346939  7.6122449   7.55102041  7.48979592\n",
            "  7.42857143  7.36734694  7.30612245  7.24489796  7.18367347  7.12244898\n",
            "  7.06122449  7.        ]\n"
          ]
        }
      ]
    },
    {
      "cell_type": "markdown",
      "source": [
        "Câu 5:"
      ],
      "metadata": {
        "id": "XgwkTE9oonwL"
      }
    },
    {
      "cell_type": "code",
      "source": [
        "A = np.array([[1, 2, 3, 4], [5, 6, 7, 8], [9, 10, 11, 12]])\n",
        "print('A= ',A)\n",
        "print(\"Trung bình: \",np.mean(A, axis = 0))\n",
        "print(\"Trung vị: \",np.median(A))\n",
        "print(\"Phương sai: \", np.var(A))\n",
        "print(\"Độ lệch chuẩn: \", np.std(A))"
      ],
      "metadata": {
        "colab": {
          "base_uri": "https://localhost:8080/"
        },
        "id": "5gtUnhlMoChZ",
        "outputId": "c693420f-5b90-489f-dd07-7671ca35d7e7"
      },
      "execution_count": 49,
      "outputs": [
        {
          "output_type": "stream",
          "name": "stdout",
          "text": [
            "A=  [[ 1  2  3  4]\n",
            " [ 5  6  7  8]\n",
            " [ 9 10 11 12]]\n",
            "Trung bình:  [5. 6. 7. 8.]\n",
            "Trung vị:  6.5\n",
            "Phương sai:  11.916666666666666\n",
            "Độ lệch chuẩn:  3.452052529534663\n"
          ]
        }
      ]
    },
    {
      "cell_type": "code",
      "source": [
        "A15 = np.arange(150).reshape(15,10)\n",
        "print(\"Ma trận A: \", A15)\n",
        "print('A= ',A)\n",
        "print(\"Trung bình A: \",np.mean(A15, axis = 0))\n",
        "print(\"Trung vị A: \",np.median(A15))\n",
        "print(\"Phương sai A: \", np.var(A15))\n",
        "print(\"Độ lệch chuẩn A: \", np.std(A15))"
      ],
      "metadata": {
        "colab": {
          "base_uri": "https://localhost:8080/"
        },
        "id": "O-9AKltXrag5",
        "outputId": "0cb3c415-c92b-442f-9fe0-c410754d21de"
      },
      "execution_count": 54,
      "outputs": [
        {
          "output_type": "stream",
          "name": "stdout",
          "text": [
            "Ma trận A:  [[  0   1   2   3   4   5   6   7   8   9]\n",
            " [ 10  11  12  13  14  15  16  17  18  19]\n",
            " [ 20  21  22  23  24  25  26  27  28  29]\n",
            " [ 30  31  32  33  34  35  36  37  38  39]\n",
            " [ 40  41  42  43  44  45  46  47  48  49]\n",
            " [ 50  51  52  53  54  55  56  57  58  59]\n",
            " [ 60  61  62  63  64  65  66  67  68  69]\n",
            " [ 70  71  72  73  74  75  76  77  78  79]\n",
            " [ 80  81  82  83  84  85  86  87  88  89]\n",
            " [ 90  91  92  93  94  95  96  97  98  99]\n",
            " [100 101 102 103 104 105 106 107 108 109]\n",
            " [110 111 112 113 114 115 116 117 118 119]\n",
            " [120 121 122 123 124 125 126 127 128 129]\n",
            " [130 131 132 133 134 135 136 137 138 139]\n",
            " [140 141 142 143 144 145 146 147 148 149]]\n",
            "A=  [[ 1  2  3  4]\n",
            " [ 5  6  7  8]\n",
            " [ 9 10 11 12]]\n",
            "Trung bình A:  [70. 71. 72. 73. 74. 75. 76. 77. 78. 79.]\n",
            "Trung vị A:  74.5\n",
            "Phương sai A:  1874.9166666666667\n",
            "Độ lệch chuẩn A:  43.300307928081374\n"
          ]
        }
      ]
    }
  ]
}