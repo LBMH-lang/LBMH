{
  "nbformat": 4,
  "nbformat_minor": 0,
  "metadata": {
    "kernelspec": {
      "display_name": "Python 3",
      "language": "python",
      "name": "python3"
    },
    "language_info": {
      "codemirror_mode": {
        "name": "ipython",
        "version": 3
      },
      "file_extension": ".py",
      "mimetype": "text/x-python",
      "name": "python",
      "nbconvert_exporter": "python",
      "pygments_lexer": "ipython3",
      "version": "3.7.3"
    },
    "colab": {
      "name": "huong-dan-gia-dinh-ANOVA.ipynb",
      "provenance": [],
      "include_colab_link": true
    }
  },
  "cells": [
    {
      "cell_type": "markdown",
      "metadata": {
        "id": "view-in-github",
        "colab_type": "text"
      },
      "source": [
        "<a href=\"https://colab.research.google.com/github/LBMH-lang/LBMH/blob/master/huong_dan_gia_dinh_ANOVA.ipynb\" target=\"_parent\"><img src=\"https://colab.research.google.com/assets/colab-badge.svg\" alt=\"Open In Colab\"/></a>"
      ]
    },
    {
      "cell_type": "markdown",
      "metadata": {
        "id": "lbpe7GToQAkY"
      },
      "source": [
        "PHÂN TÍCH ANOVA MỘT CHIỀU\n",
        "\n",
        "Phân tích ANOVA chấp nhận các giả định sau:\n",
        "\n",
        "(1) Tất cả các nhóm đều độc lập với nhau\n",
        "\n",
        "(2) Dữ liệu của mỗi nhóm đều tuân theo phân phối chuẩn. Tính chất này có thể được kiểm định bằng phương pháp Shapiro-Wilks.\n",
        "\n",
        "(3) Phương sai (variance) của các nhóm bằng nhau. Tính chất này có thể được kiểm định bằng phương pháp kiểm định Bartlett hay Levene.\n",
        "\n",
        "Nếu dữ liệu hiện có thỏa mãn các tính chất trên thì chúng ta mới tiến hành kiểm định ANOVA. Do vậy trước khi tiến hành kiểm định ANOVA, chúng ta cần thực hiện kiểm tra tập dữ liệu cần thỏa mãn 3 tính chất trên.\n",
        "    "
      ]
    },
    {
      "cell_type": "code",
      "metadata": {
        "id": "JKs7X6WAVnpm"
      },
      "source": [
        "import numpy as np\n",
        "import pandas as pd\n",
        "\n"
      ],
      "execution_count": 13,
      "outputs": []
    },
    {
      "cell_type": "code",
      "metadata": {
        "id": "KwVUsvX2QAkg",
        "outputId": "ec58a8fe-d99b-4ffe-d6b9-766c072b55d2",
        "colab": {
          "base_uri": "https://localhost:8080/"
        }
      },
      "source": [
        "#Bước 1: Hãy tạo một tập dữ liệu mẫu sample_1 với kích thước 100 tuân theo phân phối chuẩn\n",
        "sample_1 = samples = np.random.normal(2.7, 1.2, 100)\n",
        "print(sample_1)"
      ],
      "execution_count": 17,
      "outputs": [
        {
          "output_type": "stream",
          "text": [
            "[ 2.77663661  4.48048028  2.8017518   1.12149105  1.14722761  5.24801355\n",
            "  1.4668068   2.42591178  3.93817349  4.82678199  1.66669954  1.50776581\n",
            "  3.00702077  2.54406233  4.37714572  3.2802043   1.30648384  0.82930272\n",
            "  1.30648858  0.40259552  1.49280824  3.67629673  2.08050839  1.9959879\n",
            "  3.68097781  4.37409682  3.44283393  3.46575548  3.61018736  1.11991964\n",
            "  3.84369846  2.90476743  1.93710267  2.25457514  1.08054482  2.47982412\n",
            "  2.74385855  2.11664437  3.96674867  3.09651     0.85759767  2.00472961\n",
            "  3.61478375  3.50074848  4.71281485  1.43045799 -0.34089406  3.65235474\n",
            "  0.61066465  1.19927684  2.57648261  4.15598986  1.28244357  3.06002528\n",
            "  4.91162003  5.38676167  5.37923675  2.84287341  0.38970479  3.26800632\n",
            "  3.07996022  4.39966123  0.59013109  1.66485021  3.09837397  1.55524857\n",
            "  3.34983123  0.82388406  1.03833578  3.00444127  3.26057038  2.89867576\n",
            "  2.36755556  2.59829792  1.79394218  2.6445464   5.04702631  2.69088596\n",
            "  6.4544003   2.46906024  4.40767007  2.67129101  1.87271577  2.28839271\n",
            "  4.50652138  3.1046652   1.71981877  2.54745804  4.02384766  3.07716495\n",
            "  5.02296377  3.5752126   4.42993717  2.8276471   2.94325647  0.71800575\n",
            "  3.1881149   1.63293558  3.03346084  2.1912351 ]\n"
          ],
          "name": "stdout"
        }
      ]
    },
    {
      "cell_type": "code",
      "metadata": {
        "id": "4EXYIJAPQAkh",
        "outputId": "412c8f90-b0dd-4a46-eed0-541d2732827d",
        "colab": {
          "base_uri": "https://localhost:8080/"
        }
      },
      "source": [
        "#Bước 2: hãy tạo tập dữ liệu mẫu sample_2 với kích thước 100 tuân theo phân phối Poisson\n",
        "sample_2 = np.random.poisson(lam=(10., 50.), size=(100, 2))\n",
        "print(sample_2)"
      ],
      "execution_count": 18,
      "outputs": [
        {
          "output_type": "stream",
          "text": [
            "[[ 9 47]\n",
            " [ 7 32]\n",
            " [ 8 52]\n",
            " [12 40]\n",
            " [ 8 51]\n",
            " [ 7 50]\n",
            " [13 47]\n",
            " [12 45]\n",
            " [ 9 54]\n",
            " [ 9 39]\n",
            " [10 42]\n",
            " [12 29]\n",
            " [10 44]\n",
            " [ 5 40]\n",
            " [ 7 45]\n",
            " [19 43]\n",
            " [ 7 45]\n",
            " [11 54]\n",
            " [ 9 49]\n",
            " [17 58]\n",
            " [11 52]\n",
            " [ 9 46]\n",
            " [15 42]\n",
            " [ 5 53]\n",
            " [ 6 48]\n",
            " [ 7 51]\n",
            " [ 6 39]\n",
            " [10 59]\n",
            " [ 5 65]\n",
            " [ 8 51]\n",
            " [ 6 42]\n",
            " [ 9 44]\n",
            " [ 9 47]\n",
            " [ 9 54]\n",
            " [ 9 53]\n",
            " [12 48]\n",
            " [11 45]\n",
            " [12 58]\n",
            " [ 9 41]\n",
            " [14 54]\n",
            " [11 52]\n",
            " [ 9 41]\n",
            " [15 42]\n",
            " [ 9 41]\n",
            " [12 43]\n",
            " [12 47]\n",
            " [12 48]\n",
            " [12 42]\n",
            " [10 49]\n",
            " [10 49]\n",
            " [ 4 54]\n",
            " [ 5 39]\n",
            " [10 49]\n",
            " [11 42]\n",
            " [12 55]\n",
            " [12 41]\n",
            " [ 8 53]\n",
            " [ 9 39]\n",
            " [ 9 51]\n",
            " [ 7 48]\n",
            " [10 38]\n",
            " [12 48]\n",
            " [ 7 46]\n",
            " [ 5 62]\n",
            " [11 58]\n",
            " [ 8 48]\n",
            " [10 58]\n",
            " [10 52]\n",
            " [ 7 45]\n",
            " [13 43]\n",
            " [11 42]\n",
            " [ 9 46]\n",
            " [ 5 46]\n",
            " [14 60]\n",
            " [ 9 42]\n",
            " [10 57]\n",
            " [12 60]\n",
            " [13 55]\n",
            " [ 8 63]\n",
            " [10 48]\n",
            " [10 50]\n",
            " [10 64]\n",
            " [13 51]\n",
            " [10 44]\n",
            " [11 36]\n",
            " [ 7 47]\n",
            " [13 47]\n",
            " [14 51]\n",
            " [ 6 38]\n",
            " [14 59]\n",
            " [15 41]\n",
            " [ 9 58]\n",
            " [10 53]\n",
            " [ 8 65]\n",
            " [ 7 49]\n",
            " [ 8 52]\n",
            " [15 48]\n",
            " [ 8 64]\n",
            " [ 8 49]\n",
            " [ 9 50]]\n"
          ],
          "name": "stdout"
        }
      ]
    },
    {
      "cell_type": "markdown",
      "metadata": {
        "id": "8bQopa_3QAki"
      },
      "source": [
        "Hãy tham khảo các hướng dẫn sau để kiểm định tính chất thứ 2 bằng phương pháp Shapiro-Wilks đối với sample_1 và sample_2\n",
        "\n",
        "(1) [Tài liệu tham khảo scipy](https://docs.scipy.org/doc/scipy/reference/generated/scipy.stats.shapiro.html)\n",
        "\n",
        "(2) [Hướng dẫn cụ thể của statology](https://www.statology.org/shapiro-wilk-test-python/)"
      ]
    },
    {
      "cell_type": "code",
      "metadata": {
        "id": "jqFKonvBQAki",
        "outputId": "5ae98fce-9058-4393-c13e-cc832819eea1",
        "colab": {
          "base_uri": "https://localhost:8080/"
        }
      },
      "source": [
        "#Code kiểm định tính chất thứ 2 của sample_1 và sample_2\n",
        "from scipy import stats\n",
        "np.random.seed(12345678)\n",
        "shapiro_test  = stats.shapiro(sample_1)\n",
        "shapiro_test_  = stats.shapiro(sample_2)\n",
        "shapiro_test \n",
        "shapiro_test_"
      ],
      "execution_count": 28,
      "outputs": [
        {
          "output_type": "execute_result",
          "data": {
            "text/plain": [
              "(0.8306891322135925, 5.436079917372355e-14)"
            ]
          },
          "metadata": {
            "tags": []
          },
          "execution_count": 28
        }
      ]
    },
    {
      "cell_type": "markdown",
      "metadata": {
        "id": "mGknpMjUQAkj"
      },
      "source": [
        "Hãy tham khảo các hướng dẫn sau để kiểm định tính chất thứ 3 bằng kiểm định Bartlett hoặc kiểm định Levene\n",
        "\n",
        "(1) [Hướng dẫn tổng quát](https://www.marsja.se/levenes-bartletts-test-of-equality-homogeneity-of-variance-in-python/)\n",
        "\n",
        "(2) [Hướng dẫn ở stackoverflow](https://stackoverflow.com/questions/36141254/how-to-test-for-homoscedasticity-having-the-same-population-variance-in-python)\n",
        "\n",
        "(3) Sử dụng bài giảng về kiểm định Bartlett và Levene ở buổi trước"
      ]
    },
    {
      "cell_type": "code",
      "metadata": {
        "id": "xfY7e7-vQAkj",
        "outputId": "35e5a319-5304-425d-e058-e5747814ae4d",
        "colab": {
          "base_uri": "https://localhost:8080/"
        }
      },
      "source": [
        "#Code kiểm định tính đồng nhất về phương sai của các nhóm\n",
        "from scipy.stats import bartlett\n",
        "a = [8.88, 9.12, 9.04, 8.98, 9.00, 9.08, 9.01, 8.85, 9.06, 8.99]\n",
        "b = [8.88, 8.95, 9.29, 9.44, 9.15, 9.58, 8.36, 9.18, 8.67, 9.05]\n",
        "c = [8.95, 9.12, 8.95, 8.85, 9.03, 8.84, 9.07, 8.98, 8.86, 8.98]\n",
        "stat, p = bartlett(a, b, c)\n",
        "p"
      ],
      "execution_count": 29,
      "outputs": [
        {
          "output_type": "execute_result",
          "data": {
            "text/plain": [
              "1.1254782518834628e-05"
            ]
          },
          "metadata": {
            "tags": []
          },
          "execution_count": 29
        }
      ]
    },
    {
      "cell_type": "code",
      "metadata": {
        "id": "zi5QXmeomwDB",
        "outputId": "9eb97550-7b51-4b66-aa1c-481047cc134e",
        "colab": {
          "base_uri": "https://localhost:8080/"
        }
      },
      "source": [
        "from scipy.stats import levene\n",
        "a = [8.88, 9.12, 9.04, 8.98, 9.00, 9.08, 9.01, 8.85, 9.06, 8.99]\n",
        "b = [8.88, 8.95, 9.29, 9.44, 9.15, 9.58, 8.36, 9.18, 8.67, 9.05]\n",
        "c = [8.95, 9.12, 8.95, 8.85, 9.03, 8.84, 9.07, 8.98, 8.86, 8.98]\n",
        "stat, s = levene(a, b, c)\n",
        "s"
      ],
      "execution_count": 30,
      "outputs": [
        {
          "output_type": "execute_result",
          "data": {
            "text/plain": [
              "0.002431505967249681"
            ]
          },
          "metadata": {
            "tags": []
          },
          "execution_count": 30
        }
      ]
    }
  ]
}