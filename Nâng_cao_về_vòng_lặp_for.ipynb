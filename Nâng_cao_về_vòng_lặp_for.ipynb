{
  "nbformat": 4,
  "nbformat_minor": 0,
  "metadata": {
    "colab": {
      "name": "Nâng cao về vòng lặp for.ipynb",
      "provenance": [],
      "authorship_tag": "ABX9TyOPjSAQ8e3HRLM3KBXDFw4Q",
      "include_colab_link": true
    },
    "kernelspec": {
      "name": "python3",
      "display_name": "Python 3"
    }
  },
  "cells": [
    {
      "cell_type": "markdown",
      "metadata": {
        "id": "view-in-github",
        "colab_type": "text"
      },
      "source": [
        "<a href=\"https://colab.research.google.com/github/LBMH-lang/LBMH/blob/master/N%C3%A2ng_cao_v%E1%BB%81_v%C3%B2ng_l%E1%BA%B7p_for.ipynb\" target=\"_parent\"><img src=\"https://colab.research.google.com/assets/colab-badge.svg\" alt=\"Open In Colab\"/></a>"
      ]
    },
    {
      "cell_type": "code",
      "metadata": {
        "id": "D5taGQXGckhl"
      },
      "source": [
        "list2 = [({'name': 'Peter', 'age':2}, {'name': 'John', 'age':21}), \n",
        "         ({'name': 'Mary', 'age':2}, {'name': 'Trandanpro', 'age':21}), \n",
        "         ({'name': 'Nam', 'age':2}, {'name': 'Hung', 'age':21}), \n",
        "         ({'name': 'Mai', 'age':2}, {'name': 'Loan', 'age':21})]\n"
      ],
      "execution_count": null,
      "outputs": []
    },
    {
      "cell_type": "code",
      "metadata": {
        "colab": {
          "base_uri": "https://localhost:8080/"
        },
        "id": "Tdigh935eTS9",
        "outputId": "c5e5ce40-0950-4b8c-bf1c-bfd9cb0ba28c"
      },
      "source": [
        "print(list2)"
      ],
      "execution_count": 6,
      "outputs": [
        {
          "output_type": "stream",
          "text": [
            "[({'name': 'Peter', 'age': 2}, {'name': 'John', 'age': 21}), ({'name': 'Mary', 'age': 2}, {'name': 'Trandanpro', 'age': 21}), ({'name': 'Nam', 'age': 2}, {'name': 'Hung', 'age': 21}), ({'name': 'Mai', 'age': 2}, {'name': 'Loan', 'age': 21})]\n"
          ],
          "name": "stdout"
        }
      ]
    },
    {
      "cell_type": "code",
      "metadata": {
        "colab": {
          "base_uri": "https://localhost:8080/"
        },
        "id": "WgIXnhwaegAL",
        "outputId": "2156e2c5-abde-43fb-a68e-91815d9525c3"
      },
      "source": [
        "for index, x in enumerate(list2, start = 1):\n",
        "  print(f\"x #{index}: {x}\")"
      ],
      "execution_count": 8,
      "outputs": [
        {
          "output_type": "stream",
          "text": [
            "x #1: ({'name': 'Peter', 'age': 2}, {'name': 'John', 'age': 21})\n",
            "x #2: ({'name': 'Mary', 'age': 2}, {'name': 'Trandanpro', 'age': 21})\n",
            "x #3: ({'name': 'Nam', 'age': 2}, {'name': 'Hung', 'age': 21})\n",
            "x #4: ({'name': 'Mai', 'age': 2}, {'name': 'Loan', 'age': 21})\n"
          ],
          "name": "stdout"
        }
      ]
    }
  ]
}