{
  "nbformat": 4,
  "nbformat_minor": 0,
  "metadata": {
    "colab": {
      "name": "Tạo mẫu ngẫu nhiên.ipynb",
      "provenance": [],
      "authorship_tag": "ABX9TyNBx6urwQpgHbcjCavb3Rmy",
      "include_colab_link": true
    },
    "kernelspec": {
      "name": "python3",
      "display_name": "Python 3"
    }
  },
  "cells": [
    {
      "cell_type": "markdown",
      "metadata": {
        "id": "view-in-github",
        "colab_type": "text"
      },
      "source": [
        "<a href=\"https://colab.research.google.com/github/LBMH-lang/LBMH/blob/master/T%E1%BA%A1o_m%E1%BA%ABu_ng%E1%BA%ABu_nhi%C3%AAn.ipynb\" target=\"_parent\"><img src=\"https://colab.research.google.com/assets/colab-badge.svg\" alt=\"Open In Colab\"/></a>"
      ]
    },
    {
      "cell_type": "code",
      "metadata": {
        "id": "jUorS_tRPZJQ"
      },
      "source": [
        "import numpy as np\r\n",
        "import pandas as pd"
      ],
      "execution_count": 2,
      "outputs": []
    },
    {
      "cell_type": "code",
      "metadata": {
        "colab": {
          "base_uri": "https://localhost:8080/"
        },
        "id": "4EK3K7JMB5us",
        "outputId": "333713d1-03a6-4127-db9b-d78a111a6aaa"
      },
      "source": [
        "df = pd.read_csv('danh-sach-sinh-vien.csv')\r\n",
        "print(df)"
      ],
      "execution_count": 3,
      "outputs": [
        {
          "output_type": "stream",
          "text": [
            "    STT     Ho va ten\n",
            "0     1  Nguyen Van A\n",
            "1     2      Le Van B\n",
            "2     3     Ngo Thi C\n",
            "3     4     Lam Van D\n",
            "4     5  Nguyen Van A\n",
            "5     6      Le Van B\n",
            "6     7     Ngo Thi C\n",
            "7     8     Lam Van D\n",
            "8     9  Nguyen Van A\n",
            "9    10      Le Van B\n",
            "10   11  Nguyen Van A\n",
            "11   12      Le Van B\n",
            "12   13     Ngo Thi C\n",
            "13   14     Lam Van D\n",
            "14   15  Nguyen Van A\n",
            "15   16      Le Van B\n",
            "16   17     Ngo Thi C\n",
            "17   18     Lam Van D\n",
            "18   19  Nguyen Van A\n",
            "19   20      Le Van B\n",
            "20   21  Nguyen Van A\n",
            "21   22      Le Van B\n",
            "22   23     Ngo Thi C\n",
            "23   24     Lam Van D\n",
            "24   25  Nguyen Van A\n",
            "25   26      Le Van B\n",
            "26   27     Ngo Thi C\n",
            "27   28     Lam Van D\n",
            "28   29  Nguyen Van A\n",
            "29   30      Le Van B\n",
            "30   31  Nguyen Van A\n",
            "31   32      Le Van B\n",
            "32   33     Ngo Thi C\n",
            "33   34     Lam Van D\n"
          ],
          "name": "stdout"
        }
      ]
    },
    {
      "cell_type": "code",
      "metadata": {
        "colab": {
          "base_uri": "https://localhost:8080/",
          "height": 129
        },
        "id": "SimIvxa3YnsK",
        "outputId": "6f390118-b1f6-46e8-992d-8b3395d4fe2a"
      },
      "source": [
        "import random\r\n",
        "p = 0.01 \r\n",
        "df = pd.read_csv(\r\n",
        "         filename,\r\n",
        "         header=0, \r\n",
        "         skiprows=lambda i: i>0 and random.random() > p\r\n",
        "         n= 100\r\n",
        "df = pd.read_csv('danh-sach-sinh-vien.csv', header=0, skiprows=lambda i: i % n != 0)"
      ],
      "execution_count": 6,
      "outputs": [
        {
          "output_type": "error",
          "ename": "SyntaxError",
          "evalue": "ignored",
          "traceback": [
            "\u001b[0;36m  File \u001b[0;32m\"<ipython-input-6-b638a004cecd>\"\u001b[0;36m, line \u001b[0;32m7\u001b[0m\n\u001b[0;31m    n= 100\u001b[0m\n\u001b[0m    ^\u001b[0m\n\u001b[0;31mSyntaxError\u001b[0m\u001b[0;31m:\u001b[0m invalid syntax\n"
          ]
        }
      ]
    }
  ]
}