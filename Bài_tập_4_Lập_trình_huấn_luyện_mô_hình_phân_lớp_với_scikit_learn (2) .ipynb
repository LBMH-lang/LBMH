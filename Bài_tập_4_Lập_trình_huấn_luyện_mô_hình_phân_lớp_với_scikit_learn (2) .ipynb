{
  "nbformat": 4,
  "nbformat_minor": 0,
  "metadata": {
    "colab": {
      "name": "Bài tập 4: Lập trình huấn luyện mô hình phân lớp với scikit-learn.ipynb",
      "provenance": [],
      "authorship_tag": "ABX9TyMxwHZy/lF3kkuxEz06tZVD",
      "include_colab_link": true
    },
    "kernelspec": {
      "name": "python3",
      "display_name": "Python 3"
    },
    "language_info": {
      "name": "python"
    }
  },
  "cells": [
    {
      "cell_type": "markdown",
      "metadata": {
        "id": "view-in-github",
        "colab_type": "text"
      },
      "source": [
        "<a href=\"https://colab.research.google.com/github/LBMH-lang/LBMH/blob/master/B%C3%A0i_t%E1%BA%ADp_4_L%E1%BA%ADp_tr%C3%ACnh_hu%E1%BA%A5n_luy%E1%BB%87n_m%C3%B4_h%C3%ACnh_ph%C3%A2n_l%E1%BB%9Bp_v%E1%BB%9Bi_scikit_learn%20(2)%20.ipynb\" target=\"_parent\"><img src=\"https://colab.research.google.com/assets/colab-badge.svg\" alt=\"Open In Colab\"/></a>"
      ]
    },
    {
      "cell_type": "markdown",
      "source": [
        "Cài đặt scikit-learn"
      ],
      "metadata": {
        "id": "oBhpT55RuFeS"
      }
    },
    {
      "cell_type": "code",
      "execution_count": null,
      "metadata": {
        "colab": {
          "base_uri": "https://localhost:8080/"
        },
        "id": "PODWUrv9tOfG",
        "outputId": "8b3682d1-6fdb-49c8-a1fb-32fafe2473f3"
      },
      "outputs": [
        {
          "output_type": "stream",
          "name": "stdout",
          "text": [
            "Requirement already satisfied: scikit-learn in /usr/local/lib/python3.7/dist-packages (1.0.2)\n",
            "Requirement already satisfied: scipy>=1.1.0 in /usr/local/lib/python3.7/dist-packages (from scikit-learn) (1.4.1)\n",
            "Requirement already satisfied: threadpoolctl>=2.0.0 in /usr/local/lib/python3.7/dist-packages (from scikit-learn) (3.1.0)\n",
            "Requirement already satisfied: numpy>=1.14.6 in /usr/local/lib/python3.7/dist-packages (from scikit-learn) (1.21.5)\n",
            "Requirement already satisfied: joblib>=0.11 in /usr/local/lib/python3.7/dist-packages (from scikit-learn) (1.1.0)\n"
          ]
        }
      ],
      "source": [
        "pip install scikit-learn"
      ]
    },
    {
      "cell_type": "code",
      "source": [
        "\n",
        "from sklearn import datasets\n",
        "from sklearn import metrics\n",
        "from sklearn.tree import DecisionTreeClassifier\n",
        "# Tải tập dữ liệu iris\n",
        "dataset = datasets.load_iris()\n",
        "# Lập mô hình CART trong dữ liệu\n",
        "model = DecisionTreeClassifier()\n",
        "model.fit(dataset.data, dataset.target)\n",
        "print(model)\n",
        "# Dự đoán mô hình\n",
        "expected = dataset.target\n",
        "predicted = model.predict(dataset.data)\n",
        "# Tóm tắt mô hình\n",
        "print(metrics.classification_report(expected, predicted))\n",
        "print(metrics.confusion_matrix(expected, predicted))"
      ],
      "metadata": {
        "colab": {
          "base_uri": "https://localhost:8080/"
        },
        "id": "gpBxqwCcxKYD",
        "outputId": "6254ffcd-e4fc-4064-f9fb-d9b81e33f7cb"
      },
      "execution_count": 3,
      "outputs": [
        {
          "output_type": "stream",
          "name": "stdout",
          "text": [
            "DecisionTreeClassifier()\n",
            "              precision    recall  f1-score   support\n",
            "\n",
            "           0       1.00      1.00      1.00        50\n",
            "           1       1.00      1.00      1.00        50\n",
            "           2       1.00      1.00      1.00        50\n",
            "\n",
            "    accuracy                           1.00       150\n",
            "   macro avg       1.00      1.00      1.00       150\n",
            "weighted avg       1.00      1.00      1.00       150\n",
            "\n",
            "[[50  0  0]\n",
            " [ 0 50  0]\n",
            " [ 0  0 50]]\n"
          ]
        }
      ]
    },
    {
      "cell_type": "code",
      "source": [
        "# Cài thêm Numpy và Matplotlib\n",
        "import numpy as np\n",
        "import matplotlib.pyplot as plt\n",
        "iris = datasets.load_iris()\n",
        "iris_X = iris.data\n",
        "iris_y = iris.target"
      ],
      "metadata": {
        "id": "r2iMV5TIyUu7"
      },
      "execution_count": 4,
      "outputs": []
    },
    {
      "cell_type": "code",
      "source": [
        "# Load dữ liệu và hiện thị vài dữ liệu mẫu. Các class được gán nhãn là 0, 1, và 2.\n",
        "print ('Number of classes: %d' %len(np.unique(iris_y)))\n",
        "print ('Number of data points: %d' %len(iris_y))\n",
        "X0 = iris_X[iris_y == 0,:]\n",
        "print ('\\nSamples from class 0:\\n', X0[:5,:])\n",
        "\n",
        "X1 = iris_X[iris_y == 1,:]\n",
        "print ('\\nSamples from class 1:\\n', X1[:5,:])\n",
        "\n",
        "X2 = iris_X[iris_y == 2,:]\n",
        "print ('\\nSamples from class 2:\\n', X2[:5,:])"
      ],
      "metadata": {
        "colab": {
          "base_uri": "https://localhost:8080/"
        },
        "id": "9GCk9Ojw0pP9",
        "outputId": "e9d6c4ef-6b1e-4e19-fd5f-c78814cb6382"
      },
      "execution_count": 5,
      "outputs": [
        {
          "output_type": "stream",
          "name": "stdout",
          "text": [
            "Number of classes: 3\n",
            "Number of data points: 150\n",
            "\n",
            "Samples from class 0:\n",
            " [[5.1 3.5 1.4 0.2]\n",
            " [4.9 3.  1.4 0.2]\n",
            " [4.7 3.2 1.3 0.2]\n",
            " [4.6 3.1 1.5 0.2]\n",
            " [5.  3.6 1.4 0.2]]\n",
            "\n",
            "Samples from class 1:\n",
            " [[7.  3.2 4.7 1.4]\n",
            " [6.4 3.2 4.5 1.5]\n",
            " [6.9 3.1 4.9 1.5]\n",
            " [5.5 2.3 4.  1.3]\n",
            " [6.5 2.8 4.6 1.5]]\n",
            "\n",
            "Samples from class 2:\n",
            " [[6.3 3.3 6.  2.5]\n",
            " [5.8 2.7 5.1 1.9]\n",
            " [7.1 3.  5.9 2.1]\n",
            " [6.3 2.9 5.6 1.8]\n",
            " [6.5 3.  5.8 2.2]]\n"
          ]
        }
      ]
    },
    {
      "cell_type": "code",
      "source": [
        "X = [[0], [1], [2], [3]]\n",
        "y = [0, 0, 1, 1]\n",
        "from sklearn.neighbors import KNeighborsClassifier\n",
        "neigh = KNeighborsClassifier(n_neighbors=3)\n",
        "neigh.fit(X, y)\n",
        "KNeighborsClassifier(...)\n",
        "print(neigh.predict([[1.1]]))\n",
        "print(neigh.predict_proba([[0.9]]))"
      ],
      "metadata": {
        "id": "-XwGWtMtLmaA",
        "outputId": "12bb6c45-1483-4543-d919-c47e2ea587d6",
        "colab": {
          "base_uri": "https://localhost:8080/"
        }
      },
      "execution_count": 6,
      "outputs": [
        {
          "output_type": "stream",
          "name": "stdout",
          "text": [
            "[0]\n",
            "[[0.66666667 0.33333333]]\n"
          ]
        }
      ]
    },
    {
      "cell_type": "code",
      "source": [
        "# tạo lớp NearestNeighbors từ một mảng đại diện cho tập dữ liệu và đâu là điểm gần nhất với [1,1,1]\n",
        "samples = [[0., 0., 0.], [0., .5, 0.], [1., 1., .5]]\n",
        "from sklearn.neighbors import NearestNeighbors\n",
        "neigh = NearestNeighbors(n_neighbors=1)\n",
        "neigh.fit(samples)\n"
      ],
      "metadata": {
        "id": "avsi08IiMAyq",
        "outputId": "8088c7b9-fbcc-48f1-c08d-4d1238b12052",
        "colab": {
          "base_uri": "https://localhost:8080/"
        }
      },
      "execution_count": 10,
      "outputs": [
        {
          "output_type": "execute_result",
          "data": {
            "text/plain": [
              "NearestNeighbors(n_neighbors=1)"
            ]
          },
          "metadata": {},
          "execution_count": 10
        }
      ]
    },
    {
      "cell_type": "code",
      "source": [
        "print(neigh.kneighbors([[1., 1., 1.]]))"
      ],
      "metadata": {
        "id": "kT4OWkYlNejU",
        "outputId": "18b879c8-8ee6-4b60-e6c1-87316e16a12d",
        "colab": {
          "base_uri": "https://localhost:8080/"
        }
      },
      "execution_count": 11,
      "outputs": [
        {
          "output_type": "stream",
          "name": "stdout",
          "text": [
            "(array([[0.5]]), array([[2]]))\n"
          ]
        }
      ]
    }
  ]
}