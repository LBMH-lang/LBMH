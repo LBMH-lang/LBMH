{
  "nbformat": 4,
  "nbformat_minor": 0,
  "metadata": {
    "colab": {
      "name": "Tài liệu kỹ thuật về kiểm định t bằng gói statsmodels.ipynb",
      "provenance": [],
      "authorship_tag": "ABX9TyMP1sMSXl1Fp0nM3Bn9541B",
      "include_colab_link": true
    },
    "kernelspec": {
      "name": "python3",
      "display_name": "Python 3"
    },
    "language_info": {
      "name": "python"
    }
  },
  "cells": [
    {
      "cell_type": "markdown",
      "metadata": {
        "id": "view-in-github",
        "colab_type": "text"
      },
      "source": [
        "<a href=\"https://colab.research.google.com/github/LBMH-lang/LBMH/blob/master/T%C3%A0i_li%E1%BB%87u_k%E1%BB%B9_thu%E1%BA%ADt_v%E1%BB%81_ki%E1%BB%83m_%C4%91%E1%BB%8Bnh_t_b%E1%BA%B1ng_g%C3%B3i_statsmodels.ipynb\" target=\"_parent\"><img src=\"https://colab.research.google.com/assets/colab-badge.svg\" alt=\"Open In Colab\"/></a>"
      ]
    },
    {
      "cell_type": "code",
      "metadata": {
        "colab": {
          "base_uri": "https://localhost:8080/"
        },
        "id": "UPHh9W5_urAI",
        "outputId": "c159398c-b50c-44b0-e333-be76d7e5238a"
      },
      "source": [
        "!pip install  RESEARCHPY"
      ],
      "execution_count": null,
      "outputs": [
        {
          "output_type": "stream",
          "text": [
            "Collecting RESEARCHPY\n",
            "  Downloading https://files.pythonhosted.org/packages/4b/a3/b16ea25a5416f7c35824b2fc3ee1cdc9f9d8ab6d9fc4119679504d43b8a8/researchpy-0.2.3-py3-none-any.whl\n",
            "Requirement already satisfied: numpy in /usr/local/lib/python3.7/dist-packages (from RESEARCHPY) (1.19.5)\n",
            "Requirement already satisfied: statsmodels in /usr/local/lib/python3.7/dist-packages (from RESEARCHPY) (0.10.2)\n",
            "Requirement already satisfied: scipy in /usr/local/lib/python3.7/dist-packages (from RESEARCHPY) (1.4.1)\n",
            "Requirement already satisfied: pandas in /usr/local/lib/python3.7/dist-packages (from RESEARCHPY) (1.1.5)\n",
            "Requirement already satisfied: patsy>=0.4.0 in /usr/local/lib/python3.7/dist-packages (from statsmodels->RESEARCHPY) (0.5.1)\n",
            "Requirement already satisfied: python-dateutil>=2.7.3 in /usr/local/lib/python3.7/dist-packages (from pandas->RESEARCHPY) (2.8.1)\n",
            "Requirement already satisfied: pytz>=2017.2 in /usr/local/lib/python3.7/dist-packages (from pandas->RESEARCHPY) (2018.9)\n",
            "Requirement already satisfied: six in /usr/local/lib/python3.7/dist-packages (from patsy>=0.4.0->statsmodels->RESEARCHPY) (1.15.0)\n",
            "Installing collected packages: RESEARCHPY\n",
            "Successfully installed RESEARCHPY-0.2.3\n"
          ],
          "name": "stdout"
        }
      ]
    },
    {
      "cell_type": "code",
      "metadata": {
        "id": "NEliCUDOu3Vo"
      },
      "source": [
        "import researchpy as rp\n",
        "import scipy.stats as stats\n",
        "import matplotlib.pyplot as plt\n",
        "import pandas as pd"
      ],
      "execution_count": null,
      "outputs": []
    },
    {
      "cell_type": "markdown",
      "metadata": {
        "id": "Je9f_-KWvt9Q"
      },
      "source": [
        "# Tải tập dữ liệu và xem xét các biến ở cấp độ cao."
      ]
    },
    {
      "cell_type": "code",
      "metadata": {
        "colab": {
          "base_uri": "https://localhost:8080/"
        },
        "id": "GVKxEVz3vTkf",
        "outputId": "25e511a6-4a79-48fa-826c-5e5cd89c2ae5"
      },
      "source": [
        "df = pd.read_csv(\"https://raw.githubusercontent.com/researchpy/Data-sets/master/blood_pressure.csv\")\n",
        "df.info()"
      ],
      "execution_count": null,
      "outputs": [
        {
          "output_type": "stream",
          "text": [
            "<class 'pandas.core.frame.DataFrame'>\n",
            "RangeIndex: 120 entries, 0 to 119\n",
            "Data columns (total 5 columns):\n",
            " #   Column     Non-Null Count  Dtype \n",
            "---  ------     --------------  ----- \n",
            " 0   patient    120 non-null    int64 \n",
            " 1   sex        120 non-null    object\n",
            " 2   agegrp     120 non-null    object\n",
            " 3   bp_before  120 non-null    int64 \n",
            " 4   bp_after   120 non-null    int64 \n",
            "dtypes: int64(3), object(2)\n",
            "memory usage: 4.8+ KB\n"
          ],
          "name": "stdout"
        }
      ]
    },
    {
      "cell_type": "markdown",
      "metadata": {
        "id": "FPzWI0m2ioRb"
      },
      "source": [
        "# Kiểm tra T bằng cách sử dụng RESEARCHPY"
      ]
    },
    {
      "cell_type": "code",
      "metadata": {
        "colab": {
          "base_uri": "https://localhost:8080/"
        },
        "id": "C3y7RQfHiq_6",
        "outputId": "c977dddc-6777-4983-a935-d5b7616c330d"
      },
      "source": [
        "rp.ttest(group1= df['bp_after'][df['sex'] == 'Male'], group1_name= \"Male\",\n",
        "         group2= df['bp_after'][df['sex'] == 'Female'], group2_name= \"Female\")"
      ],
      "execution_count": null,
      "outputs": [
        {
          "output_type": "execute_result",
          "data": {
            "text/plain": [
              "(   Variable      N        Mean         SD        SE   95% Conf.    Interval\n",
              " 0      Male   60.0  155.516667  15.243217  1.967891  151.578926  159.454407\n",
              " 1    Female   60.0  147.200000  11.742722  1.515979  144.166533  150.233467\n",
              " 2  combined  120.0  151.358333  14.177622  1.294234  148.795621  153.921046,\n",
              "               Independent t-test   results\n",
              " 0  Difference (Male - Female) =     8.3167\n",
              " 1          Degrees of freedom =   118.0000\n",
              " 2                           t =     3.3480\n",
              " 3       Two side test p value =     0.0011\n",
              " 4      Difference < 0 p value =     0.9995\n",
              " 5      Difference > 0 p value =     0.0005\n",
              " 6                   Cohen's d =     0.6112\n",
              " 7                   Hedge's g =     0.6074\n",
              " 8               Glass's delta =     0.5456\n",
              " 9                           r =     0.2945)"
            ]
          },
          "metadata": {
            "tags": []
          },
          "execution_count": 6
        }
      ]
    },
    {
      "cell_type": "markdown",
      "metadata": {
        "id": "TEu2hNxnjQfi"
      },
      "source": [
        "# Nếu được lưu trữ dưới dạng các đối tượng Python, chúng sẽ được lưu trữ dưới dạng khung dữ liệu Pandas. Điều này có nghĩa là bất cứ điều gì có thể được thực hiện với khung dữ liệu Pandas truyền thống đều có thể được thực hiện với những kết quả này."
      ]
    },
    {
      "cell_type": "code",
      "metadata": {
        "colab": {
          "base_uri": "https://localhost:8080/"
        },
        "id": "eupVYFi6jP09",
        "outputId": "872317e1-0c2b-43bd-d4e4-592dde47fac8"
      },
      "source": [
        "summary, results = rp.ttest(group1= df['bp_after'][df['sex'] == 'Male'], group1_name= \"Male\",\n",
        "                            group2= df['bp_after'][df['sex'] == 'Female'], group2_name= \"Female\")\n",
        "print(summary)"
      ],
      "execution_count": null,
      "outputs": [
        {
          "output_type": "stream",
          "text": [
            "   Variable      N        Mean         SD        SE   95% Conf.    Interval\n",
            "0      Male   60.0  155.516667  15.243217  1.967891  151.578926  159.454407\n",
            "1    Female   60.0  147.200000  11.742722  1.515979  144.166533  150.233467\n",
            "2  combined  120.0  151.358333  14.177622  1.294234  148.795621  153.921046\n"
          ],
          "name": "stdout"
        }
      ]
    },
    {
      "cell_type": "code",
      "metadata": {
        "colab": {
          "base_uri": "https://localhost:8080/"
        },
        "id": "2t5JrfvVjc11",
        "outputId": "8dfe793b-8fb3-45ae-ccbc-b5af8a905ca5"
      },
      "source": [
        "print(results)"
      ],
      "execution_count": null,
      "outputs": [
        {
          "output_type": "stream",
          "text": [
            "              Independent t-test   results\n",
            "0  Difference (Male - Female) =     8.3167\n",
            "1          Degrees of freedom =   118.0000\n",
            "2                           t =     3.3480\n",
            "3       Two side test p value =     0.0011\n",
            "4      Difference < 0 p value =     0.9995\n",
            "5      Difference > 0 p value =     0.0005\n",
            "6                   Cohen's d =     0.6112\n",
            "7                   Hedge's g =     0.6074\n",
            "8               Glass's delta =     0.5456\n",
            "9                           r =     0.2945\n"
          ],
          "name": "stdout"
        }
      ]
    },
    {
      "cell_type": "markdown",
      "metadata": {
        "id": "l1jjxUtyxH9H"
      },
      "source": [
        "# Kiểm tra T indepdent bằng cách sử dụng scipy.stats"
      ]
    },
    {
      "cell_type": "code",
      "metadata": {
        "colab": {
          "base_uri": "https://localhost:8080/"
        },
        "id": "Ow8ffhWSjmcM",
        "outputId": "c0d8cb84-80ac-453e-ff09-b225dc7907b5"
      },
      "source": [
        "stats.ttest_ind(df['bp_after'][df['sex'] == 'Male'],\n",
        "                df['bp_after'][df['sex'] == 'Female'])"
      ],
      "execution_count": null,
      "outputs": [
        {
          "output_type": "execute_result",
          "data": {
            "text/plain": [
              "Ttest_indResult(statistic=3.3479506182111387, pvalue=0.0010930222986154283)"
            ]
          },
          "metadata": {
            "tags": []
          },
          "execution_count": 9
        }
      ]
    },
    {
      "cell_type": "markdown",
      "metadata": {
        "id": "rag2uwlTxyOx"
      },
      "source": [
        "# Kiểm tra giả định"
      ]
    },
    {
      "cell_type": "markdown",
      "metadata": {
        "id": "g4qGi2Y0xx94"
      },
      "source": [
        "# Hai mẫu độc lập"
      ]
    },
    {
      "cell_type": "code",
      "metadata": {
        "colab": {
          "base_uri": "https://localhost:8080/"
        },
        "id": "Iiv0ykvXj9Dw",
        "outputId": "97c85d60-dbee-4bc4-8a7d-8275e6c0e7aa"
      },
      "source": [
        "sampling_difference = df['bp_after'][df['sex'] == 'Male'].values - \\\n",
        "                      df['bp_after'][df['sex'] == 'Female'].values\n",
        "\n",
        "stats.shapiro(sampling_difference)"
      ],
      "execution_count": null,
      "outputs": [
        {
          "output_type": "execute_result",
          "data": {
            "text/plain": [
              "(0.98586106300354, 0.7147841453552246)"
            ]
          },
          "metadata": {
            "tags": []
          },
          "execution_count": 10
        }
      ]
    },
    {
      "cell_type": "markdown",
      "metadata": {
        "id": "sDTJNc8NkEfY"
      },
      "source": [
        "Một phương pháp kiểm tra phân phối bằng mắt thường là sử dụng biểu đồ xác suất có hoặc không có giá trị tương quan,\n",
        ", để đánh giá mối tương quan giữa các giá trị quan sát với phân phối lý thuyết được đề cập - trong trường hợp hiện tại, nó sẽ là phân phối Gaussian (hay còn gọi là phân phối chuẩn). Điều này có thể được hoàn thành bằng cách sử dụng phương thức probplot () từ Scipy.stats."
      ]
    },
    {
      "cell_type": "code",
      "metadata": {
        "colab": {
          "base_uri": "https://localhost:8080/",
          "height": 627
        },
        "id": "e2bUZeaFkFBu",
        "outputId": "f0952528-d520-4964-b637-45b762dc154c"
      },
      "source": [
        "fig = plt.figure(figsize= (20, 10))\n",
        "ax = fig.add_subplot(111)\n",
        "\n",
        "normality_plot, stat = stats.probplot(sampling_difference, plot= plt, rvalue= True)\n",
        "ax.set_title(\"Probability plot of sampling difference\", fontsize= 20)\n",
        "ax.set\n",
        "\n",
        "plt.show()"
      ],
      "execution_count": null,
      "outputs": [
        {
          "output_type": "display_data",
          "data": {
            "image/png": "[encoded data removed]",
            "text/plain": [
              "<Figure size 1440x720 with 1 Axes>"
            ]
          },
          "metadata": {
            "tags": [],
            "needs_background": "light"
          }
        }
      ]
    },
    {
      "cell_type": "markdown",
      "metadata": {
        "id": "0f-AkGpJyVDS"
      },
      "source": [
        "# Tính đồng nhất của phương sai"
      ]
    },
    {
      "cell_type": "markdown",
      "metadata": {
        "id": "TFQhb9k-kxiS"
      },
      "source": [
        "Một trong những giả thiết là cả hai nhóm đều có phương sai bằng nhau. Một phương pháp để kiểm tra giả định này là kiểm định của Levene về tính đồng nhất của các phương sai. Điều này có thể được hoàn thành bằng cách sử dụng phương thức levene () từ Scipy.stats"
      ]
    },
    {
      "cell_type": "code",
      "metadata": {
        "colab": {
          "base_uri": "https://localhost:8080/"
        },
        "id": "KuzctSKAksbY",
        "outputId": "6544dc70-d990-4bc8-f550-4d94e0227826"
      },
      "source": [
        "stats.levene(df['bp_after'][df['sex'] == 'Male'],\n",
        "             df['bp_after'][df['sex'] == 'Female'],\n",
        "             center= 'mean')"
      ],
      "execution_count": null,
      "outputs": [
        {
          "output_type": "execute_result",
          "data": {
            "text/plain": [
              "LeveneResult(statistic=5.865854141268659, pvalue=0.01695904277978066)"
            ]
          },
          "metadata": {
            "tags": []
          },
          "execution_count": 12
        }
      ]
    },
    {
      "cell_type": "markdown",
      "metadata": {
        "id": "OCjWLPOXkyt5"
      },
      "source": [
        "Phép thử này có ý nghĩa cho thấy các nhóm có lượng biến thiên khác nhau và phép thử t có thể không phải là phương pháp thống kê tốt nhất được sử dụng. Một lần nữa, cũng có thể đáng giá để kiểm tra giả định này một cách trực quan."
      ]
    },
    {
      "cell_type": "code",
      "metadata": {
        "colab": {
          "base_uri": "https://localhost:8080/",
          "height": 682
        },
        "id": "g2y-1YeSk5W5",
        "outputId": "9e22d914-b89d-415a-a2fc-bb7e0fe1552b"
      },
      "source": [
        "fig = plt.figure(figsize= (20, 10))\n",
        "ax = fig.add_subplot(111)\n",
        "\n",
        "\n",
        "p_bp_male = plt.hist(df['bp_after'][df['sex'] == 'Male'], label= \"Male\",\n",
        "                     density= True,\n",
        "                     alpha=0.75)\n",
        "p_bp_female = plt.hist(df['bp_after'][df['sex'] == 'Female'], label= \"Female\",\n",
        "                       density= True,\n",
        "                       alpha=0.75)\n",
        "\n",
        "\n",
        "plt.suptitle(\"Distribution of Post-Blood Pressure \\n between Males and Females\", fontsize= 20)\n",
        "plt.xlabel(\"Blood Pressure\", fontsize= 16)\n",
        "plt.ylabel(\"Probability density\", fontsize= 16)\n",
        "\n",
        "plt.text(133, .025,\n",
        "         f\"$\\mu= {df['bp_after'][df['sex'] == 'Female'].mean(): .1f}, \\ \\sigma= {df['bp_after'][df['sex'] == 'Female'].std(): .1f}$\")\n",
        "plt.text(160, .025,\n",
        "         f\"$\\mu= {df['bp_after'][df['sex'] == 'Male'].mean(): .1f}, \\ \\sigma= {df['bp_after'][df['sex'] == 'Male'].std(): .1f}$\")\n",
        "\n",
        "\n",
        "plt.show()\n"
      ],
      "execution_count": null,
      "outputs": [
        {
          "output_type": "display_data",
          "data": {
            "image/png": "[encoded data removed]",
            "text/plain": [
              "<Figure size 1440x720 with 1 Axes>"
            ]
          },
          "metadata": {
            "tags": [],
            "needs_background": "light"
          }
        }
      ]
    }
  ]
}