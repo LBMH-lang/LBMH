{
  "nbformat": 4,
  "nbformat_minor": 0,
  "metadata": {
    "kernelspec": {
      "display_name": "Python 3",
      "language": "python",
      "name": "python3"
    },
    "language_info": {
      "codemirror_mode": {
        "name": "ipython",
        "version": 3
      },
      "file_extension": ".py",
      "mimetype": "text/x-python",
      "name": "python",
      "nbconvert_exporter": "python",
      "pygments_lexer": "ipython3",
      "version": "3.7.3"
    },
    "colab": {
      "name": "bai-tap-pandas-series.ipynb",
      "provenance": [],
      "include_colab_link": true
    }
  },
  "cells": [
    {
      "cell_type": "markdown",
      "metadata": {
        "id": "view-in-github",
        "colab_type": "text"
      },
      "source": [
        "<a href=\"https://colab.research.google.com/github/LBMH-lang/LBMH/blob/master/bai_tap_pandas_series.ipynb\" target=\"_parent\"><img src=\"https://colab.research.google.com/assets/colab-badge.svg\" alt=\"Open In Colab\"/></a>"
      ]
    },
    {
      "cell_type": "markdown",
      "metadata": {
        "id": "NBtmoqD8KDW2"
      },
      "source": [
        "Câu 1: Hãy tạo 1 đối tượng kiểu Series có tối thiểu 10 phần tử (kiểu số) với giá trị tùy ý thích của bạn. \n",
        "       In giá trị của Series đó ra màn hình"
      ]
    },
    {
      "cell_type": "code",
      "metadata": {
        "id": "Xr5tfMVYTC0i",
        "outputId": "d9af0157-5575-4b0d-d331-ad5637f71ec0",
        "colab": {
          "base_uri": "https://localhost:8080/"
        }
      },
      "source": [
        "import pandas as pd\r\n",
        "import numpy as np\r\n",
        "S = pd.Series(np.random.randint(100,size = 10))\r\n",
        "print(S)"
      ],
      "execution_count": 19,
      "outputs": [
        {
          "output_type": "stream",
          "text": [
            "0    67\n",
            "1    72\n",
            "2    97\n",
            "3    64\n",
            "4    21\n",
            "5    67\n",
            "6    85\n",
            "7    26\n",
            "8    49\n",
            "9     2\n",
            "dtype: int64\n"
          ],
          "name": "stdout"
        }
      ]
    },
    {
      "cell_type": "markdown",
      "metadata": {
        "id": "T7nmJ1PZKDXC"
      },
      "source": [
        "Câu 2: Hãy tạo 1 đối tượng kiểu Series với giá trị khởi tạo hình thành từ dữ liệu kiểu Dictionary. In kết quả ra màn hình"
      ]
    },
    {
      "cell_type": "code",
      "metadata": {
        "id": "bfevN4YkTR-c",
        "outputId": "36a1b467-2514-4811-f906-ba41dcbf2c43",
        "colab": {
          "base_uri": "https://localhost:8080/"
        }
      },
      "source": [
        "phones = ['Iphone',\"Samsung Note\",\"Samsung S\",\"Nokia\",\"Apple\"]\r\n",
        "quantities = [10,12,30,100,150]\r\n",
        "dictionary = dict(zip(phones, quantities))\r\n",
        "dictionary\r\n",
        "S2 = pd.Series(dictionary)\r\n",
        "print(S2)"
      ],
      "execution_count": 23,
      "outputs": [
        {
          "output_type": "stream",
          "text": [
            "Iphone           10\n",
            "Samsung Note     12\n",
            "Samsung S        30\n",
            "Nokia           100\n",
            "Apple           150\n",
            "dtype: int64\n"
          ],
          "name": "stdout"
        }
      ]
    },
    {
      "cell_type": "markdown",
      "metadata": {
        "id": "zgoqJZkVKDXD"
      },
      "source": [
        "Câu 3: Sử dụng series ở câu 1, hãy thay đổi giá trị của cột index từ kiểu số theo kiểu ký tự với giá trị do bạn tự xác định."
      ]
    },
    {
      "cell_type": "code",
      "metadata": {
        "id": "frJ6CNq3KDXD",
        "outputId": "595de282-87fc-43ce-df39-15e81d6865c0",
        "colab": {
          "base_uri": "https://localhost:8080/"
        }
      },
      "source": [
        "S = pd.Series(np.random.randint(100,size = 10), index=[\"a\",\"b\",\"c\",\"d\",\"e\",\"f\",\"g\",\"h\",\"i\",\"j\"])\r\n",
        "print(S)"
      ],
      "execution_count": 31,
      "outputs": [
        {
          "output_type": "stream",
          "text": [
            "a    50\n",
            "b    35\n",
            "c    91\n",
            "d    59\n",
            "e    49\n",
            "f    62\n",
            "g    35\n",
            "h    75\n",
            "i    26\n",
            "j     8\n",
            "dtype: int64\n"
          ],
          "name": "stdout"
        }
      ]
    },
    {
      "cell_type": "markdown",
      "metadata": {
        "id": "zgZnUoPPKDXE"
      },
      "source": [
        "Câu 4: Sử dụng series ở câu 2, hãy truy cập đến phần tử thứ 5 và in ra màn hình"
      ]
    },
    {
      "cell_type": "code",
      "metadata": {
        "id": "gXzmnrj7KDXF",
        "outputId": "810f28c5-5986-4a6f-defb-2200d33b85a2",
        "colab": {
          "base_uri": "https://localhost:8080/"
        }
      },
      "source": [
        "print(S2[\"Apple\"])"
      ],
      "execution_count": 28,
      "outputs": [
        {
          "output_type": "stream",
          "text": [
            "150\n"
          ],
          "name": "stdout"
        }
      ]
    },
    {
      "cell_type": "markdown",
      "metadata": {
        "id": "V0bmOEVfKDXG"
      },
      "source": [
        "Câu 5: Sử dụng series ở câu 3, hãy truy cập đến 1 phần tử dựa theo chỉ số kiểu ký tự do bạn lựa chọn và in ra màn hình"
      ]
    },
    {
      "cell_type": "code",
      "metadata": {
        "id": "BJsiiUrDKDXG",
        "outputId": "599e4008-52a1-4f4f-8b8b-e1ae8250c199",
        "colab": {
          "base_uri": "https://localhost:8080/"
        }
      },
      "source": [
        "print(S[\"a\"])"
      ],
      "execution_count": 33,
      "outputs": [
        {
          "output_type": "stream",
          "text": [
            "50\n"
          ],
          "name": "stdout"
        }
      ]
    },
    {
      "cell_type": "markdown",
      "metadata": {
        "id": "IiidGebDKDXH"
      },
      "source": [
        "Câu 6: Sử dụng series ở câu 3, hãy tìm ra tính chất đặc thù trong các chỉ số kiểu kí tự, thực hiện vòng lặp for duyệt trên các chỉ mục kiểu kí tự này để lọc ra những phần tử thỏa mãn điều kiện và in ra màn hình"
      ]
    },
    {
      "cell_type": "code",
      "metadata": {
        "id": "Z_Y0o3TyKDXI"
      },
      "source": [
        "#Mã lệnh của bạn"
      ],
      "execution_count": null,
      "outputs": []
    },
    {
      "cell_type": "markdown",
      "metadata": {
        "id": "nn2gD615KDXJ"
      },
      "source": [
        "Câu 7: Sử dụng series ở câu 1, hãy đổi tên cột index thành 'STT' và đặt tên cho series là 'Gia_tri'. In kết quả ra màn hình "
      ]
    },
    {
      "cell_type": "code",
      "metadata": {
        "id": "99D95MhRKDXK",
        "outputId": "e4664f4d-4641-450e-a2f8-0fd18c47f5eb",
        "colab": {
          "base_uri": "https://localhost:8080/"
        }
      },
      "source": [
        "S = {'Gia_tri':pd.Series(np.random.randint(100,size = 10))}\r\n",
        "print(S)"
      ],
      "execution_count": 43,
      "outputs": [
        {
          "output_type": "stream",
          "text": [
            "{'Gia_tri': 0    22\n",
            "1    30\n",
            "2    74\n",
            "3    51\n",
            "4    48\n",
            "5    12\n",
            "6    51\n",
            "7    57\n",
            "8    38\n",
            "9    12\n",
            "dtype: int64}\n"
          ],
          "name": "stdout"
        }
      ]
    },
    {
      "cell_type": "markdown",
      "metadata": {
        "id": "3RTdSPovKDXK"
      },
      "source": [
        "Câu 8: Hãy áp dụng hàm logarith của gói numpy với series ở câu 1 và in kết quả ra màn hình"
      ]
    },
    {
      "cell_type": "code",
      "metadata": {
        "id": "T-dShv0JKDXL",
        "outputId": "ad623f34-20ba-45e0-cff3-c0f268ce1985",
        "colab": {
          "base_uri": "https://localhost:8080/"
        }
      },
      "source": [
        "import pandas as pd\r\n",
        "import numpy as np\r\n",
        "S = pd.Series(np.random.randint(100,size = 10))\r\n",
        "print(S)"
      ],
      "execution_count": 34,
      "outputs": [
        {
          "output_type": "stream",
          "text": [
            "0    66\n",
            "1    75\n",
            "2    27\n",
            "3    90\n",
            "4    22\n",
            "5    78\n",
            "6    75\n",
            "7    27\n",
            "8     0\n",
            "9    62\n",
            "dtype: int64\n"
          ],
          "name": "stdout"
        }
      ]
    },
    {
      "cell_type": "markdown",
      "metadata": {
        "id": "YQY35zrQKDXM"
      },
      "source": [
        "Câu 9: Lọc các giá trị của series 1 > 15 và in ra màn hình"
      ]
    },
    {
      "cell_type": "code",
      "metadata": {
        "id": "UUP1BElEKDXM",
        "outputId": "27886243-8c2a-47d4-eb0b-69c984c631ef",
        "colab": {
          "base_uri": "https://localhost:8080/"
        }
      },
      "source": [
        "print(s>15)"
      ],
      "execution_count": 35,
      "outputs": [
        {
          "output_type": "stream",
          "text": [
            "a    False\n",
            "b    False\n",
            "c    False\n",
            "d    False\n",
            "dtype: bool\n"
          ],
          "name": "stdout"
        }
      ]
    }
  ]
}