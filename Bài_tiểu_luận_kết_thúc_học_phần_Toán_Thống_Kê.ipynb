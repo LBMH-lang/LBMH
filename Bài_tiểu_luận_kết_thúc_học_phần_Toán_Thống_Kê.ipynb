{
  "nbformat": 4,
  "nbformat_minor": 0,
  "metadata": {
    "colab": {
      "name": "Bài tiểu luận kết thúc học phần.ipynb",
      "provenance": [],
      "collapsed_sections": [],
      "authorship_tag": "ABX9TyOjQkhRKHhmIskZtxqqw/Hw",
      "include_colab_link": true
    },
    "kernelspec": {
      "name": "python3",
      "display_name": "Python 3"
    },
    "language_info": {
      "name": "python"
    }
  },
  "cells": [
    {
      "cell_type": "markdown",
      "metadata": {
        "id": "view-in-github",
        "colab_type": "text"
      },
      "source": [
        "<a href=\"https://colab.research.google.com/github/LBMH-lang/LBMH/blob/master/B%C3%A0i_ti%E1%BB%83u_lu%E1%BA%ADn_k%E1%BA%BFt_th%C3%BAc_h%E1%BB%8Dc_ph%E1%BA%A7n_To%C3%A1n_Th%E1%BB%91ng_K%C3%AA.ipynb\" target=\"_parent\"><img src=\"https://colab.research.google.com/assets/colab-badge.svg\" alt=\"Open In Colab\"/></a>"
      ]
    },
    {
      "cell_type": "markdown",
      "metadata": {
        "id": "99oQPibjzgRB"
      },
      "source": [
        "**BÀI TIỂU LUẬN CUỐI HỌC KÌ**"
      ]
    },
    {
      "cell_type": "markdown",
      "metadata": {
        "id": "j4aq-K0tzplr"
      },
      "source": [
        "**Môn:** Toán và thống kê cho KHDL\n",
        "\n",
        "Họ và tên: Lê Bá Minh Huy\n",
        "\n",
        "Mã sinh viên: 20E1020004\n",
        "\n"
      ]
    },
    {
      "cell_type": "code",
      "metadata": {
        "id": "4xyFxSOGxF_L"
      },
      "source": [
        "import numpy as np\n",
        "import pandas as pd\n",
        "from matplotlib import pyplot as plt\n",
        "import seaborn as sns\n",
        "%matplotlib inline\n",
        "import statsmodels.api as sm\n",
        "from scipy.stats import shapiro\n",
        "from scipy.stats import kstest\n",
        "from scipy import stats\n"
      ],
      "execution_count": null,
      "outputs": []
    },
    {
      "cell_type": "code",
      "metadata": {
        "id": "QBZNmAIWy_OR"
      },
      "source": [
        "plt.rcParams['figure.figsize']=[16,9]\n",
        "plt.rcParams['figure.dpi']= 100\n",
        "plt.rcParams.update({'font.size': 18})"
      ],
      "execution_count": null,
      "outputs": []
    },
    {
      "cell_type": "code",
      "metadata": {
        "id": "-6pq5Z2qzf5E"
      },
      "source": [
        "df = pd.read_csv(\"Diem - Diem.csv\")"
      ],
      "execution_count": null,
      "outputs": []
    },
    {
      "cell_type": "code",
      "metadata": {
        "colab": {
          "base_uri": "https://localhost:8080/",
          "height": 376
        },
        "id": "pqVCoh7k1DL3",
        "outputId": "65dd3842-cf88-4d7a-ca74-d986c8cbc75b"
      },
      "source": [
        "df.sample(10)"
      ],
      "execution_count": null,
      "outputs": [
        {
          "output_type": "execute_result",
          "data": {
            "text/html": [
              "<div>\n",
              "<style scoped>\n",
              "    .dataframe tbody tr th:only-of-type {\n",
              "        vertical-align: middle;\n",
              "    }\n",
              "\n",
              "    .dataframe tbody tr th {\n",
              "        vertical-align: top;\n",
              "    }\n",
              "\n",
              "    .dataframe thead th {\n",
              "        text-align: right;\n",
              "    }\n",
              "</style>\n",
              "<table border=\"1\" class=\"dataframe\">\n",
              "  <thead>\n",
              "    <tr style=\"text-align: right;\">\n",
              "      <th></th>\n",
              "      <th>Mã SV</th>\n",
              "      <th>Điểm TBTN</th>\n",
              "      <th>Tỉ lệ Văn/Toán</th>\n",
              "      <th>Tổng HS</th>\n",
              "      <th>Hạng PT</th>\n",
              "      <th>Giới tính</th>\n",
              "      <th>Dân tộc</th>\n",
              "      <th>Học kỳ</th>\n",
              "      <th>Thời gian tự học</th>\n",
              "      <th>Điểm giữa kỳ</th>\n",
              "      <th>Thể thao</th>\n",
              "      <th>Điểm cuối kỳ</th>\n",
              "    </tr>\n",
              "  </thead>\n",
              "  <tbody>\n",
              "    <tr>\n",
              "      <th>644</th>\n",
              "      <td>645</td>\n",
              "      <td>5.03</td>\n",
              "      <td>0.89</td>\n",
              "      <td>584</td>\n",
              "      <td>268</td>\n",
              "      <td>Nam</td>\n",
              "      <td>Khác</td>\n",
              "      <td>2</td>\n",
              "      <td>18</td>\n",
              "      <td>1.31</td>\n",
              "      <td>1</td>\n",
              "      <td>1.38</td>\n",
              "    </tr>\n",
              "    <tr>\n",
              "      <th>469</th>\n",
              "      <td>470</td>\n",
              "      <td>7.06</td>\n",
              "      <td>0.77</td>\n",
              "      <td>771</td>\n",
              "      <td>129</td>\n",
              "      <td>Nam</td>\n",
              "      <td>Kinh</td>\n",
              "      <td>1</td>\n",
              "      <td>25</td>\n",
              "      <td>2.43</td>\n",
              "      <td>0</td>\n",
              "      <td>2.32</td>\n",
              "    </tr>\n",
              "    <tr>\n",
              "      <th>26</th>\n",
              "      <td>27</td>\n",
              "      <td>6.85</td>\n",
              "      <td>0.92</td>\n",
              "      <td>152</td>\n",
              "      <td>45</td>\n",
              "      <td>Nam</td>\n",
              "      <td>Khác</td>\n",
              "      <td>2</td>\n",
              "      <td>47</td>\n",
              "      <td>2.11</td>\n",
              "      <td>1</td>\n",
              "      <td>2.00</td>\n",
              "    </tr>\n",
              "    <tr>\n",
              "      <th>97</th>\n",
              "      <td>98</td>\n",
              "      <td>5.24</td>\n",
              "      <td>1.08</td>\n",
              "      <td>341</td>\n",
              "      <td>270</td>\n",
              "      <td>Nam</td>\n",
              "      <td>Kinh</td>\n",
              "      <td>1</td>\n",
              "      <td>0</td>\n",
              "      <td>1.92</td>\n",
              "      <td>0</td>\n",
              "      <td>0.00</td>\n",
              "    </tr>\n",
              "    <tr>\n",
              "      <th>351</th>\n",
              "      <td>352</td>\n",
              "      <td>7.69</td>\n",
              "      <td>0.75</td>\n",
              "      <td>240</td>\n",
              "      <td>129</td>\n",
              "      <td>Nam</td>\n",
              "      <td>Kinh</td>\n",
              "      <td>1</td>\n",
              "      <td>30</td>\n",
              "      <td>2.00</td>\n",
              "      <td>0</td>\n",
              "      <td>2.93</td>\n",
              "    </tr>\n",
              "    <tr>\n",
              "      <th>591</th>\n",
              "      <td>592</td>\n",
              "      <td>6.29</td>\n",
              "      <td>0.76</td>\n",
              "      <td>132</td>\n",
              "      <td>18</td>\n",
              "      <td>Nam</td>\n",
              "      <td>Kinh</td>\n",
              "      <td>1</td>\n",
              "      <td>58</td>\n",
              "      <td>3.13</td>\n",
              "      <td>0</td>\n",
              "      <td>2.89</td>\n",
              "    </tr>\n",
              "    <tr>\n",
              "      <th>410</th>\n",
              "      <td>411</td>\n",
              "      <td>6.01</td>\n",
              "      <td>0.72</td>\n",
              "      <td>413</td>\n",
              "      <td>31</td>\n",
              "      <td>Nam</td>\n",
              "      <td>Kinh</td>\n",
              "      <td>2</td>\n",
              "      <td>69</td>\n",
              "      <td>3.63</td>\n",
              "      <td>0</td>\n",
              "      <td>3.43</td>\n",
              "    </tr>\n",
              "    <tr>\n",
              "      <th>693</th>\n",
              "      <td>694</td>\n",
              "      <td>5.94</td>\n",
              "      <td>0.89</td>\n",
              "      <td>224</td>\n",
              "      <td>191</td>\n",
              "      <td>Nữ</td>\n",
              "      <td>Khác</td>\n",
              "      <td>1</td>\n",
              "      <td>0</td>\n",
              "      <td>1.64</td>\n",
              "      <td>0</td>\n",
              "      <td>0.00</td>\n",
              "    </tr>\n",
              "    <tr>\n",
              "      <th>640</th>\n",
              "      <td>641</td>\n",
              "      <td>8.04</td>\n",
              "      <td>0.74</td>\n",
              "      <td>673</td>\n",
              "      <td>106</td>\n",
              "      <td>Nam</td>\n",
              "      <td>Kinh</td>\n",
              "      <td>2</td>\n",
              "      <td>56</td>\n",
              "      <td>3.00</td>\n",
              "      <td>0</td>\n",
              "      <td>3.16</td>\n",
              "    </tr>\n",
              "    <tr>\n",
              "      <th>564</th>\n",
              "      <td>565</td>\n",
              "      <td>6.71</td>\n",
              "      <td>1.13</td>\n",
              "      <td>201</td>\n",
              "      <td>19</td>\n",
              "      <td>Nam</td>\n",
              "      <td>Kinh</td>\n",
              "      <td>2</td>\n",
              "      <td>11</td>\n",
              "      <td>2.31</td>\n",
              "      <td>0</td>\n",
              "      <td>2.90</td>\n",
              "    </tr>\n",
              "  </tbody>\n",
              "</table>\n",
              "</div>"
            ],
            "text/plain": [
              "     Mã SV  Điểm TBTN  Tỉ lệ Văn/Toán  ...  Điểm giữa kỳ  Thể thao Điểm cuối kỳ\n",
              "644    645       5.03            0.89  ...          1.31         1         1.38\n",
              "469    470       7.06            0.77  ...          2.43         0         2.32\n",
              "26      27       6.85            0.92  ...          2.11         1         2.00\n",
              "97      98       5.24            1.08  ...          1.92         0         0.00\n",
              "351    352       7.69            0.75  ...          2.00         0         2.93\n",
              "591    592       6.29            0.76  ...          3.13         0         2.89\n",
              "410    411       6.01            0.72  ...          3.63         0         3.43\n",
              "693    694       5.94            0.89  ...          1.64         0         0.00\n",
              "640    641       8.04            0.74  ...          3.00         0         3.16\n",
              "564    565       6.71            1.13  ...          2.31         0         2.90\n",
              "\n",
              "[10 rows x 12 columns]"
            ]
          },
          "metadata": {
            "tags": []
          },
          "execution_count": 4
        }
      ]
    },
    {
      "cell_type": "code",
      "metadata": {
        "id": "SRIT_H_GuSJV"
      },
      "source": [
        "df.drop('person', axis= 1, inplace= True)\n",
        "df.head()"
      ],
      "execution_count": null,
      "outputs": []
    },
    {
      "cell_type": "markdown",
      "metadata": {
        "id": "anduXMXB0qGF"
      },
      "source": [
        "## **Chạy mô hình kiểm định ANOVA**"
      ]
    },
    {
      "cell_type": "code",
      "metadata": {
        "id": "6iny72bQ197a"
      },
      "source": [
        "from statsmodels.formula.api import ols\n",
        "import statsmodels.api as sm"
      ],
      "execution_count": null,
      "outputs": []
    },
    {
      "cell_type": "code",
      "metadata": {
        "id": "c1KgRqU80etM"
      },
      "source": [
        "df.drop('Mã SV', axis= 1, inplace= True)"
      ],
      "execution_count": null,
      "outputs": []
    },
    {
      "cell_type": "code",
      "metadata": {
        "id": "auAhDvKe0mv0"
      },
      "source": [
        "high = low =  placebo = []\n",
        "high = df['Điểm TBTN'][df['Tỉ lệ Văn/Toán'][df['Tổng HS'][df['Hạng PT'][df['Giới tính'][df['Dân tộc'][df['Học kỳ'][df['Thời gian tự học'][df['Điểm giữa kỳ'][df['Thể thao'][df['Điểm cuối kỳ'] == 'high']]]]]]]]]]\n",
        "low = df['Điểm TBTN'][df['Tỉ lệ Văn/Toán'][df['Tổng HS'][df['Hạng PT'][df['Giới tính'][df['Dân tộc'][df['Học kỳ'][df['Thời gian tự học'][df['Điểm giữa kỳ'][df['Thể thao'][df['Điểm cuối kỳ'] == 'low']]]]]]]]]]\n",
        "placebo = df['Điểm TBTN'][df['Tỉ lệ Văn/Toán'][df['Tổng HS'][df['Hạng PT'][df['Giới tính'][df['Dân tộc'][df['Học kỳ'][df['Thời gian tự học'][df['Điểm giữa kỳ'][df['Thể thao'][df['Điểm cuối kỳ'] == 'placebo']]]]]]]]]]"
      ],
      "execution_count": null,
      "outputs": []
    },
    {
      "cell_type": "code",
      "metadata": {
        "id": "9swakSTW34v4"
      },
      "source": [
        "Điểm_TBTN = df['Điểm TBTN']\n",
        "\n",
        "Tổng_HS = df['Tổng HS']\n",
        "Hạng_PT = df['Hạng PT']\n",
        "Giới_tính = df['Giới tính']\n",
        "Dân_tộc = df['Dân tộc']\n",
        "Học_kỳ = df['Học kỳ']\n",
        "Thời_gian_tự_học = df['Thời gian tự học']\n",
        "Điểm_giữa_kỳ = df['Điểm giữa kỳ']\n",
        "Thể_thao = df['Thể thao']\n",
        "Điểm_cuối_kỳ = df['Điểm cuối kỳ']"
      ],
      "execution_count": null,
      "outputs": []
    },
    {
      "cell_type": "code",
      "metadata": {
        "id": "H3cD3gjH6fNg"
      },
      "source": [
        "Tỉ_lệ_Văn_Toán = df['Tỉ lệ Văn/Toán']"
      ],
      "execution_count": null,
      "outputs": []
    },
    {
      "cell_type": "code",
      "metadata": {
        "id": "QSKTMnGQn32j"
      },
      "source": [
        "class thongke():\n",
        "    def __init__(self, data):\n",
        "        self.mean = np.mean(data)\n",
        "        self.med = np.median(data)\n",
        "        self.mod = statistics.mode(data)\n",
        "        self.min = np.min(data)\n",
        "        self.max = np.max(data)\n",
        "        self.std = np.std(data)\n",
        "        self.name = data.name\n",
        "        self.data = (data - self.mean) /self.std\n",
        "      \n",
        "    def hist(self):\n",
        "        plt.figure()\n",
        "        ax = sns.distplot(self.data)\n",
        "        plt.axvline(np.mean(self.data), color=\"r\", linestyle=\"dashed\", linewidth=5)\n",
        "        _, max_ = plt.ylim()\n",
        "        plt.text(\n",
        "            self.data.mean() + self.data.mean() / 10,\n",
        "            max_ - max_ / 10,\n",
        "            \"Mean: {:.2f}\".format(self.mean),\n",
        "        )\n",
        "        plt.title(self.name)\n",
        "        plt.xlabel(\"x\")\n",
        "        plt.ylabel(\"y\")\n",
        "        plt.show();   \n",
        "    def qq(self):\n",
        "        sm.qqplot(self.data, line='45')\n",
        "        plt.show()\n",
        "        a = [0.25,0.5,0.75]\n",
        "        b = self.data.quantile(a)\n",
        "        c = pd.DataFrame(b,a)\n",
        "        print(c)\n",
        "        print('-'*50)\n",
        "    def shapiro(self):\n",
        "        print('Kiểm định Shapori:')\n",
        "        stat, p = stats.shapiro(self.data)\n",
        "        print('stat=%.3f, p=%.3f' % (stat, p))\n",
        "        if p > 0.05:\n",
        "            print('Không thể bác bỏ giả thiết H0: Phân phối của dữ liệu là chuẩn')\n",
        "        else:\n",
        "            print('Dữ liệu không tuân theo luật phân phối chuẩn, ta không thể sử dụng kiểm định Anova')\n",
        "        print('-'*50)\n",
        "    #def anova(self):\n",
        "        #print('kiểm định anova:')\n",
        "        #statistic, p_value = f_oneway(self.name)\n",
        "        #print('statistic:',statistic, '; p value:',p_value)"
      ],
      "execution_count": null,
      "outputs": []
    },
    {
      "cell_type": "code",
      "metadata": {
        "id": "GU_lDPPA8hV7"
      },
      "source": [
        "#Đầu tiên ta tiến hành kiểm tra các giả định\n",
        "# Ta thấy các giả định đều độc lập với nhau\n",
        "#\"Giả định này được kiểm tra khi nghiên cứu được thiết kế.\n",
        "#Điều này có nghĩa là tất cả các nhóm đều loại trừ lẫn nhau,\n",
        "#tức là một cá nhân chỉ có thể thuộc về một nhóm.\n",
        "#Ngoài ra, điều này có nghĩa là dữ liệu không phải là các thước đo lặp lại (không được thu thập theo thời gian). \n",
        "#Trong ví dụ này, điều kiện này được đáp ứng\""
      ],
      "execution_count": null,
      "outputs": []
    },
    {
      "cell_type": "code",
      "metadata": {
        "colab": {
          "base_uri": "https://localhost:8080/"
        },
        "id": "wvIsjhbx8mhD",
        "outputId": "6356624e-6f31-4ba2-b75c-a5993c75defa"
      },
      "source": [
        "# tiếp theo ta sẽ dùng Kiểm định tính thuần nhất của phương sai (homogeneity of variance)\n",
        "from scipy.stats import bartlett\n",
        "print('Kiểm định Bartlett:')\n",
        "bartlett_test = bartlett(Điểm_TBTN,Tổng_HS,Hạng_PT,Học_kỳ,Thời_gian_tự_học,Điểm_giữa_kỳ,Thể_thao,Điểm_cuối_kỳ)\n",
        "print(bartlett_test)\n",
        "bartlettvalue,pvalue=bartlett_test\n",
        "if (bartlettvalue > 0) and (pvalue < 0.05):\n",
        "    print('Phương sai các nhóm không bằng nhau. Ta không thể sử dụng kiểm định Anova')\n",
        "else:\n",
        "    print('Phương sai các nhóm  bằng nhau.')\n",
        "print('-'*50)"
      ],
      "execution_count": null,
      "outputs": [
        {
          "output_type": "stream",
          "text": [
            "Kiểm định Bartlett:\n",
            "BartlettResult(statistic=33852.89504863036, pvalue=0.0)\n",
            "Phương sai các nhóm không bằng nhau. Ta không thể sử dụng kiểm định Anova\n",
            "--------------------------------------------------\n"
          ],
          "name": "stdout"
        }
      ]
    },
    {
      "cell_type": "markdown",
      "metadata": {
        "id": "vAmQPqfTIxVU"
      },
      "source": [
        "# Vẽ biểu đồ:"
      ]
    },
    {
      "cell_type": "code",
      "metadata": {
        "id": "AjIZR0zP-J7C",
        "colab": {
          "base_uri": "https://localhost:8080/",
          "height": 789
        },
        "outputId": "dc3bdcb2-7062-4caf-d44f-c9b1d309c96a"
      },
      "source": [
        "Điểm_TBTN.hist()\n",
        "sm.qqplot(Điểm_TBTN)\n"
      ],
      "execution_count": null,
      "outputs": [
        {
          "output_type": "execute_result",
          "data": {
            "image/png": "[encoded data removed]",
            "text/plain": [
              "<Figure size 432x288 with 1 Axes>"
            ]
          },
          "metadata": {
            "tags": []
          },
          "execution_count": 47
        },
        {
          "output_type": "display_data",
          "data": {
            "image/png": "[encoded data removed]",
            "text/plain": [
              "<Figure size 432x288 with 1 Axes>"
            ]
          },
          "metadata": {
            "tags": [],
            "needs_background": "light"
          }
        },
        {
          "output_type": "display_data",
          "data": {
            "image/png": "[encoded data removed]",
            "text/plain": [
              "<Figure size 432x288 with 1 Axes>"
            ]
          },
          "metadata": {
            "tags": [],
            "needs_background": "light"
          }
        }
      ]
    },
    {
      "cell_type": "code",
      "metadata": {
        "colab": {
          "base_uri": "https://localhost:8080/",
          "height": 789
        },
        "id": "Dz2oPrwkPsC5",
        "outputId": "01aac300-6c87-4b01-c116-f6dc79474ec3"
      },
      "source": [
        "Tổng_HS.hist()\n",
        "sm.qqplot(Tổng_HS)\n"
      ],
      "execution_count": null,
      "outputs": [
        {
          "output_type": "execute_result",
          "data": {
            "image/png": "[encoded data removed]",
            "text/plain": [
              "<Figure size 432x288 with 1 Axes>"
            ]
          },
          "metadata": {
            "tags": []
          },
          "execution_count": 48
        },
        {
          "output_type": "display_data",
          "data": {
            "image/png": "[encoded data removed]",
            "text/plain": [
              "<Figure size 432x288 with 1 Axes>"
            ]
          },
          "metadata": {
            "tags": [],
            "needs_background": "light"
          }
        },
        {
          "output_type": "display_data",
          "data": {
            "image/png": "[encoded data removed]",
            "text/plain": [
              "<Figure size 432x288 with 1 Axes>"
            ]
          },
          "metadata": {
            "tags": [],
            "needs_background": "light"
          }
        }
      ]
    },
    {
      "cell_type": "code",
      "metadata": {
        "colab": {
          "base_uri": "https://localhost:8080/",
          "height": 789
        },
        "id": "YYw6dlCGoLA0",
        "outputId": "561347fb-c582-402c-d701-5eef25eaf97c"
      },
      "source": [
        "Hạng_PT.hist()\n",
        "sm.qqplot(Hạng_PT)"
      ],
      "execution_count": null,
      "outputs": [
        {
          "output_type": "execute_result",
          "data": {
            "image/png": "[encoded data removed]",
            "text/plain": [
              "<Figure size 432x288 with 1 Axes>"
            ]
          },
          "metadata": {
            "tags": []
          },
          "execution_count": 74
        },
        {
          "output_type": "display_data",
          "data": {
            "image/png": "[encoded data removed]",
            "text/plain": [
              "<Figure size 432x288 with 1 Axes>"
            ]
          },
          "metadata": {
            "tags": [],
            "needs_background": "light"
          }
        },
        {
          "output_type": "display_data",
          "data": {
            "image/png": "[encoded data removed]",
            "text/plain": [
              "<Figure size 432x288 with 1 Axes>"
            ]
          },
          "metadata": {
            "tags": [],
            "needs_background": "light"
          }
        }
      ]
    },
    {
      "cell_type": "code",
      "metadata": {
        "colab": {
          "base_uri": "https://localhost:8080/",
          "height": 282
        },
        "id": "FbKIg2IszDPQ",
        "outputId": "ebc8871d-d824-4ea5-8335-e94d858760f3"
      },
      "source": [
        "Giới_tính.hist()\n"
      ],
      "execution_count": null,
      "outputs": [
        {
          "output_type": "execute_result",
          "data": {
            "text/plain": [
              "<matplotlib.axes._subplots.AxesSubplot at 0x7f4f7802c6d0>"
            ]
          },
          "metadata": {
            "tags": []
          },
          "execution_count": 76
        },
        {
          "output_type": "display_data",
          "data": {
            "image/png": "[encoded data removed]",
            "text/plain": [
              "<Figure size 432x288 with 1 Axes>"
            ]
          },
          "metadata": {
            "tags": [],
            "needs_background": "light"
          }
        }
      ]
    },
    {
      "cell_type": "code",
      "metadata": {
        "colab": {
          "base_uri": "https://localhost:8080/",
          "height": 282
        },
        "id": "EpjcRbISzN3d",
        "outputId": "235009e2-112b-46ac-f48b-a7b67710755f"
      },
      "source": [
        "Dân_tộc.hist()\n"
      ],
      "execution_count": null,
      "outputs": [
        {
          "output_type": "execute_result",
          "data": {
            "text/plain": [
              "<matplotlib.axes._subplots.AxesSubplot at 0x7f4f77f5b310>"
            ]
          },
          "metadata": {
            "tags": []
          },
          "execution_count": 78
        },
        {
          "output_type": "display_data",
          "data": {
            "image/png": "[encoded data removed]",
            "text/plain": [
              "<Figure size 432x288 with 1 Axes>"
            ]
          },
          "metadata": {
            "tags": [],
            "needs_background": "light"
          }
        }
      ]
    },
    {
      "cell_type": "code",
      "metadata": {
        "colab": {
          "base_uri": "https://localhost:8080/",
          "height": 795
        },
        "id": "1zDTy7DqzONO",
        "outputId": "a28449ce-8452-497a-d0df-cdf56c3a22f1"
      },
      "source": [
        "Thời_gian_tự_học.hist()\n",
        "sm.qqplot(Thời_gian_tự_học)"
      ],
      "execution_count": null,
      "outputs": [
        {
          "output_type": "execute_result",
          "data": {
            "image/png": "[encoded data removed]",
            "text/plain": [
              "<Figure size 432x288 with 1 Axes>"
            ]
          },
          "metadata": {
            "tags": []
          },
          "execution_count": 79
        },
        {
          "output_type": "display_data",
          "data": {
            "image/png": "[encoded data removed]",
            "text/plain": [
              "<Figure size 432x288 with 1 Axes>"
            ]
          },
          "metadata": {
            "tags": [],
            "needs_background": "light"
          }
        },
        {
          "output_type": "display_data",
          "data": {
            "image/png": "[encoded data removed]",
            "text/plain": [
              "<Figure size 432x288 with 1 Axes>"
            ]
          },
          "metadata": {
            "tags": [],
            "needs_background": "light"
          }
        }
      ]
    },
    {
      "cell_type": "code",
      "metadata": {
        "colab": {
          "base_uri": "https://localhost:8080/",
          "height": 789
        },
        "id": "kGw97l2SzPKB",
        "outputId": "08e93cfd-6b42-44ab-e536-7c173e5e1e9a"
      },
      "source": [
        "Điểm_giữa_kỳ.hist()\n",
        "sm.qqplot(Điểm_giữa_kỳ)"
      ],
      "execution_count": null,
      "outputs": [
        {
          "output_type": "execute_result",
          "data": {
            "image/png": "[encoded data removed]",
            "text/plain": [
              "<Figure size 432x288 with 1 Axes>"
            ]
          },
          "metadata": {
            "tags": []
          },
          "execution_count": 81
        },
        {
          "output_type": "display_data",
          "data": {
            "image/png": "[encoded data removed]",
            "text/plain": [
              "<Figure size 432x288 with 1 Axes>"
            ]
          },
          "metadata": {
            "tags": [],
            "needs_background": "light"
          }
        },
        {
          "output_type": "display_data",
          "data": {
            "image/png": "[encoded data removed]",
            "text/plain": [
              "<Figure size 432x288 with 1 Axes>"
            ]
          },
          "metadata": {
            "tags": [],
            "needs_background": "light"
          }
        }
      ]
    },
    {
      "cell_type": "code",
      "metadata": {
        "colab": {
          "base_uri": "https://localhost:8080/",
          "height": 789
        },
        "id": "38f02GnRzPUb",
        "outputId": "9170a4f0-e46e-4036-be0e-3db73d404a4f"
      },
      "source": [
        "Thể_thao.hist()\n",
        "sm.qqplot(Thể_thao)"
      ],
      "execution_count": null,
      "outputs": [
        {
          "output_type": "execute_result",
          "data": {
            "image/png": "[encoded data removed]",
            "text/plain": [
              "<Figure size 432x288 with 1 Axes>"
            ]
          },
          "metadata": {
            "tags": []
          },
          "execution_count": 82
        },
        {
          "output_type": "display_data",
          "data": {
            "image/png": "[encoded data removed]",
            "text/plain": [
              "<Figure size 432x288 with 1 Axes>"
            ]
          },
          "metadata": {
            "tags": [],
            "needs_background": "light"
          }
        },
        {
          "output_type": "display_data",
          "data": {
            "image/png": "[encoded data removed]",
            "text/plain": [
              "<Figure size 432x288 with 1 Axes>"
            ]
          },
          "metadata": {
            "tags": [],
            "needs_background": "light"
          }
        }
      ]
    },
    {
      "cell_type": "code",
      "metadata": {
        "colab": {
          "base_uri": "https://localhost:8080/",
          "height": 789
        },
        "id": "qwdhAbY5zP9Y",
        "outputId": "1fbbcb88-11c4-4866-85df-b8a3b25fcb6e"
      },
      "source": [
        "Điểm_cuối_kỳ.hist()\n",
        "sm.qqplot(Điểm_cuối_kỳ)"
      ],
      "execution_count": null,
      "outputs": [
        {
          "output_type": "execute_result",
          "data": {
            "image/png": "[encoded data removed]",
            "text/plain": [
              "<Figure size 432x288 with 1 Axes>"
            ]
          },
          "metadata": {
            "tags": []
          },
          "execution_count": 83
        },
        {
          "output_type": "display_data",
          "data": {
            "image/png": "[encoded data removed]",
            "text/plain": [
              "<Figure size 432x288 with 1 Axes>"
            ]
          },
          "metadata": {
            "tags": [],
            "needs_background": "light"
          }
        },
        {
          "output_type": "display_data",
          "data": {
            "image/png": "[encoded data removed]",
            "text/plain": [
              "<Figure size 432x288 with 1 Axes>"
            ]
          },
          "metadata": {
            "tags": [],
            "needs_background": "light"
          }
        }
      ]
    },
    {
      "cell_type": "code",
      "metadata": {
        "colab": {
          "base_uri": "https://localhost:8080/"
        },
        "id": "vUjXaq2tRsu2",
        "outputId": "a3121c5f-6cee-44ee-dbca-20559268a9ca"
      },
      "source": [
        "pvalue_k = kstest(rvs=Điểm_TBTN, cdf='norm', args=(np.mean(Điểm_TBTN), np.std(Điểm_TBTN)))[1]\n",
        "if pvalue_k > 0.05:\n",
        "    print(f'Mẫu tuân theo phân phối chuẩn')\n",
        "else:\n",
        "    print(f'Mẫu không tuân theo phân phối chuẩn')"
      ],
      "execution_count": null,
      "outputs": [
        {
          "output_type": "stream",
          "text": [
            "Mẫu tuân theo phân phối chuẩn\n"
          ],
          "name": "stdout"
        }
      ]
    },
    {
      "cell_type": "code",
      "metadata": {
        "colab": {
          "base_uri": "https://localhost:8080/"
        },
        "id": "EmctoBOaRs7G",
        "outputId": "a93d5819-4f3c-48f2-bbd6-320474b01c73"
      },
      "source": [
        "pvalue_s = shapiro(Điểm_TBTN)[1]\n",
        "if pvalue_s > 0.05:\n",
        "    print(f'Mẫu tuân theo phân phối chuẩn')\n",
        "else:\n",
        "    print(f'Mẫu không tuân theo phân phối chuẩn')"
      ],
      "execution_count": null,
      "outputs": [
        {
          "output_type": "stream",
          "text": [
            "Mẫu không tuân theo phân phối chuẩn\n"
          ],
          "name": "stdout"
        }
      ]
    },
    {
      "cell_type": "markdown",
      "metadata": {
        "id": "HVMPOmww4xtR"
      },
      "source": [
        "# *Kiểm định Shapiro*"
      ]
    },
    {
      "cell_type": "code",
      "metadata": {
        "colab": {
          "base_uri": "https://localhost:8080/"
        },
        "id": "tZy0U-EVnqED",
        "outputId": "e2528f1e-6ad2-45d1-d21d-3aa74cfc6c79"
      },
      "source": [
        "pvalue_s = shapiro(Tổng_HS)[1]\n",
        "if pvalue_s > 0.05:\n",
        "    print(f'Mẫu tuân theo phân phối chuẩn')\n",
        "else:\n",
        "    print(f'Mẫu không tuân theo phân phối chuẩn')"
      ],
      "execution_count": null,
      "outputs": [
        {
          "output_type": "stream",
          "text": [
            "Mẫu không tuân theo phân phối chuẩn\n"
          ],
          "name": "stdout"
        }
      ]
    },
    {
      "cell_type": "code",
      "metadata": {
        "colab": {
          "base_uri": "https://localhost:8080/"
        },
        "id": "xUa6_iO13zyz",
        "outputId": "1baf9f5d-246a-4a60-b7e0-676260541bab"
      },
      "source": [
        "pvalue_s = shapiro(Tỉ_lệ_Văn_Toán)[1]\n",
        "if pvalue_s > 0.05:\n",
        "    print(f'Mẫu tuân theo phân phối chuẩn')\n",
        "else:\n",
        "    print(f'Mẫu không tuân theo phân phối chuẩn')"
      ],
      "execution_count": null,
      "outputs": [
        {
          "output_type": "stream",
          "text": [
            "Mẫu không tuân theo phân phối chuẩn\n"
          ],
          "name": "stdout"
        }
      ]
    },
    {
      "cell_type": "code",
      "metadata": {
        "colab": {
          "base_uri": "https://localhost:8080/"
        },
        "id": "745dTOsX3_nX",
        "outputId": "35b3f04a-255c-46d5-d9a7-cfabd8a16de7"
      },
      "source": [
        "pvalue_s = shapiro(Tổng_HS)[1]\n",
        "if pvalue_s > 0.05:\n",
        "    print(f'Mẫu tuân theo phân phối chuẩn')\n",
        "else:\n",
        "    print(f'Mẫu không tuân theo phân phối chuẩn')"
      ],
      "execution_count": null,
      "outputs": [
        {
          "output_type": "stream",
          "text": [
            "Mẫu không tuân theo phân phối chuẩn\n"
          ],
          "name": "stdout"
        }
      ]
    },
    {
      "cell_type": "code",
      "metadata": {
        "colab": {
          "base_uri": "https://localhost:8080/"
        },
        "id": "FL6QcXzo4It7",
        "outputId": "4190cde3-7e96-455c-d360-e284a4df8712"
      },
      "source": [
        "pvalue_s = shapiro(Thời_gian_tự_học)[1]\n",
        "if pvalue_s > 0.05:\n",
        "    print(f'Mẫu tuân theo phân phối chuẩn')\n",
        "else:\n",
        "    print(f'Mẫu không tuân theo phân phối chuẩn')"
      ],
      "execution_count": null,
      "outputs": [
        {
          "output_type": "stream",
          "text": [
            "Mẫu không tuân theo phân phối chuẩn\n"
          ],
          "name": "stdout"
        }
      ]
    },
    {
      "cell_type": "code",
      "metadata": {
        "colab": {
          "base_uri": "https://localhost:8080/"
        },
        "id": "ZA_Ikivn4VUU",
        "outputId": "bf918674-95f6-42fc-e35c-294bcfcdb062"
      },
      "source": [
        "pvalue_s = shapiro(Điểm_giữa_kỳ)[1]\n",
        "if pvalue_s > 0.05:\n",
        "    print(f'Mẫu tuân theo phân phối chuẩn')\n",
        "else:\n",
        "    print(f'Mẫu không tuân theo phân phối chuẩn')"
      ],
      "execution_count": null,
      "outputs": [
        {
          "output_type": "stream",
          "text": [
            "Mẫu không tuân theo phân phối chuẩn\n"
          ],
          "name": "stdout"
        }
      ]
    },
    {
      "cell_type": "code",
      "metadata": {
        "colab": {
          "base_uri": "https://localhost:8080/"
        },
        "id": "XrPOC7HI4cCH",
        "outputId": "6e943f02-2d42-447c-8a84-76aca2006d90"
      },
      "source": [
        "pvalue_s = shapiro(Thể_thao)[1]\n",
        "if pvalue_s > 0.05:\n",
        "    print(f'Mẫu tuân theo phân phối chuẩn')\n",
        "else:\n",
        "    print(f'Mẫu không tuân theo phân phối chuẩn')"
      ],
      "execution_count": null,
      "outputs": [
        {
          "output_type": "stream",
          "text": [
            "Mẫu không tuân theo phân phối chuẩn\n"
          ],
          "name": "stdout"
        }
      ]
    },
    {
      "cell_type": "code",
      "metadata": {
        "colab": {
          "base_uri": "https://localhost:8080/"
        },
        "id": "hfrP8YNG4qcr",
        "outputId": "7762ede3-94b7-4d71-e266-6213fa64e5f8"
      },
      "source": [
        "pvalue_s = shapiro(Điểm_cuối_kỳ)[1]\n",
        "if pvalue_s > 0.05:\n",
        "    print(f'Mẫu tuân theo phân phối chuẩn')\n",
        "else:\n",
        "    print(f'Mẫu không tuân theo phân phối chuẩn')"
      ],
      "execution_count": null,
      "outputs": [
        {
          "output_type": "stream",
          "text": [
            "Mẫu không tuân theo phân phối chuẩn\n"
          ],
          "name": "stdout"
        }
      ]
    },
    {
      "cell_type": "markdown",
      "metadata": {
        "id": "p2rS8Jqe5M1y"
      },
      "source": [
        "# Tính phương sai:"
      ]
    },
    {
      "cell_type": "code",
      "metadata": {
        "colab": {
          "base_uri": "https://localhost:8080/"
        },
        "id": "IaS-57Ik5Q1q",
        "outputId": "7b6e3b52-a35e-4989-e726-e71da9d672d4"
      },
      "source": [
        "Mean_v = df.var(axis= 0)\n",
        "Mean_v"
      ],
      "execution_count": null,
      "outputs": [
        {
          "output_type": "execute_result",
          "data": {
            "text/plain": [
              "Điểm TBTN               1.382670\n",
              "Tỉ lệ Văn/Toán          0.023597\n",
              "Tổng HS             39443.327126\n",
              "Hạng PT             12026.943039\n",
              "Học kỳ                  0.250342\n",
              "Thời gian tự học     1234.408534\n",
              "Điểm giữa kỳ            0.574804\n",
              "Thể thao                0.219879\n",
              "Điểm cuối kỳ            0.980644\n",
              "dtype: float64"
            ]
          },
          "metadata": {
            "tags": []
          },
          "execution_count": 92
        }
      ]
    },
    {
      "cell_type": "markdown",
      "metadata": {
        "id": "beAgCKXR5dNm"
      },
      "source": [
        "# Tính độ lệch chuẩn:"
      ]
    },
    {
      "cell_type": "code",
      "metadata": {
        "colab": {
          "base_uri": "https://localhost:8080/"
        },
        "id": "Xov8z4G_5iAL",
        "outputId": "2477e899-4e10-450e-c70d-a5119dfdbc82"
      },
      "source": [
        "Mean_s = df.std(axis= 0)\n",
        "Mean_s"
      ],
      "execution_count": null,
      "outputs": [
        {
          "output_type": "execute_result",
          "data": {
            "text/plain": [
              "Điểm TBTN             1.175870\n",
              "Tỉ lệ Văn/Toán        0.153612\n",
              "Tổng HS             198.603442\n",
              "Hạng PT             109.667420\n",
              "Học kỳ                0.500342\n",
              "Thời gian tự học     35.134151\n",
              "Điểm giữa kỳ          0.758158\n",
              "Thể thao              0.468913\n",
              "Điểm cuối kỳ          0.990275\n",
              "dtype: float64"
            ]
          },
          "metadata": {
            "tags": []
          },
          "execution_count": 93
        }
      ]
    },
    {
      "cell_type": "markdown",
      "metadata": {
        "id": "r2-AZM3D7bTV"
      },
      "source": [
        "# Tính giá trị trung bình:"
      ]
    },
    {
      "cell_type": "code",
      "metadata": {
        "id": "RoaHcdv95XlM"
      },
      "source": [
        "import statistics"
      ],
      "execution_count": null,
      "outputs": []
    },
    {
      "cell_type": "code",
      "metadata": {
        "colab": {
          "base_uri": "https://localhost:8080/"
        },
        "id": "Wvr5Plop7Wor",
        "outputId": "20c574c8-7292-4373-d6fa-82028215b487"
      },
      "source": [
        "x = statistics.mean(Điểm_TBTN)     \n",
        "  \n",
        "print(\"Giá trị trung bình của datasets là:\", x) "
      ],
      "execution_count": null,
      "outputs": [
        {
          "output_type": "stream",
          "text": [
            "Giá trị trung bình của datasets là: 6.283543091655266\n"
          ],
          "name": "stdout"
        }
      ]
    },
    {
      "cell_type": "code",
      "metadata": {
        "colab": {
          "base_uri": "https://localhost:8080/"
        },
        "id": "jaZokBq_8dSE",
        "outputId": "93d7c51a-d452-4cb3-ffba-a94d613c8827"
      },
      "source": [
        "x = statistics.mean(Thời_gian_tự_học)     \n",
        "# In giá trị trung bình của danh sách  \n",
        "print(\"Giá trị trung bình của datasets là:\", x) "
      ],
      "execution_count": null,
      "outputs": [
        {
          "output_type": "stream",
          "text": [
            "Giá trị trung bình của datasets là: 47.06155950752394\n"
          ],
          "name": "stdout"
        }
      ]
    },
    {
      "cell_type": "code",
      "metadata": {
        "colab": {
          "base_uri": "https://localhost:8080/"
        },
        "id": "viFHchvC8U_y",
        "outputId": "0df395a6-83bb-480e-a7c5-ab41556a8275"
      },
      "source": [
        "x = statistics.mean(Thể_thao)     \n",
        "  \n",
        "print(\"Giá trị trung bình của datasets là:\", x) "
      ],
      "execution_count": null,
      "outputs": [
        {
          "output_type": "stream",
          "text": [
            "Giá trị trung bình của datasets là: 0.32558139534883723\n"
          ],
          "name": "stdout"
        }
      ]
    },
    {
      "cell_type": "code",
      "metadata": {
        "colab": {
          "base_uri": "https://localhost:8080/"
        },
        "id": "jMgUOsMj7EH0",
        "outputId": "1fa751d1-a909-44e9-dbf7-108ad20586ad"
      },
      "source": [
        "x = statistics.mean(Điểm_giữa_kỳ)     \n",
        "  \n",
        "print(\"Giá trị trung bình của datasets là:\", x) "
      ],
      "execution_count": null,
      "outputs": [
        {
          "output_type": "stream",
          "text": [
            "Giá trị trung bình của datasets là: 2.3313816689466482\n"
          ],
          "name": "stdout"
        }
      ]
    },
    {
      "cell_type": "code",
      "metadata": {
        "colab": {
          "base_uri": "https://localhost:8080/"
        },
        "id": "NCc8xJ677toe",
        "outputId": "65035e27-a84e-459d-902b-8a4e76b09047"
      },
      "source": [
        "x = statistics.mean(Điểm_cuối_kỳ)     \n",
        "  \n",
        "print(\"Giá trị trung bình của datasets là:\", x) "
      ],
      "execution_count": null,
      "outputs": [
        {
          "output_type": "stream",
          "text": [
            "Giá trị trung bình của datasets là: 2.0806292749658004\n"
          ],
          "name": "stdout"
        }
      ]
    }
  ]
}