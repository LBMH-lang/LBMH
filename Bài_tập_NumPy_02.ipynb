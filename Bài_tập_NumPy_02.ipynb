{
  "nbformat": 4,
  "nbformat_minor": 0,
  "metadata": {
    "colab": {
      "name": "Bài tập NumPy 02.ipynb",
      "provenance": [],
      "authorship_tag": "ABX9TyMP5YauIxdQ0Kj4SgoANanj",
      "include_colab_link": true
    },
    "kernelspec": {
      "name": "python3",
      "display_name": "Python 3"
    },
    "language_info": {
      "name": "python"
    }
  },
  "cells": [
    {
      "cell_type": "markdown",
      "metadata": {
        "id": "view-in-github",
        "colab_type": "text"
      },
      "source": [
        "<a href=\"https://colab.research.google.com/github/LBMH-lang/LBMH/blob/master/B%C3%A0i_t%E1%BA%ADp_NumPy_02.ipynb\" target=\"_parent\"><img src=\"https://colab.research.google.com/assets/colab-badge.svg\" alt=\"Open In Colab\"/></a>"
      ]
    },
    {
      "cell_type": "code",
      "source": [
        "import numpy as np\n",
        "import random"
      ],
      "metadata": {
        "id": "wua1Tys3XwEU"
      },
      "execution_count": 3,
      "outputs": []
    },
    {
      "cell_type": "code",
      "execution_count": 43,
      "metadata": {
        "colab": {
          "base_uri": "https://localhost:8080/"
        },
        "id": "VwYZojKRXjUD",
        "outputId": "b1f9b827-df4f-452b-b654-0dd1de954398"
      },
      "outputs": [
        {
          "output_type": "stream",
          "name": "stdout",
          "text": [
            "[[0.42755407 0.76754397 0.62907241 0.61449792 0.97714189]\n",
            " [0.09781254 0.63592815 0.83220942 0.96441747 0.43440963]\n",
            " [0.81379783 0.73987682 0.00227471 0.56475156 0.70487428]\n",
            " [0.21028972 0.30384788 0.75298566 0.81988664 0.41539522]\n",
            " [0.10263605 0.35866125 0.8178873  0.99891089 0.24721127]\n",
            " [0.27900452 0.51450856 0.34656617 0.95869272 0.45508394]\n",
            " [0.15021406 0.26523773 0.75188202 0.58899544 0.88765298]]\n"
          ]
        }
      ],
      "source": [
        "#Bài 1:\n",
        "A_0 = np.random.rand(7, 5)\n",
        "print(A_0)"
      ]
    },
    {
      "cell_type": "code",
      "source": [
        "#Bài 2:\n",
        "A_1 = np.zeros((6,7))\n",
        "print(A_1)"
      ],
      "metadata": {
        "colab": {
          "base_uri": "https://localhost:8080/"
        },
        "id": "DNpxpIbAY4CB",
        "outputId": "07113080-7561-49f3-a602-83c8dfb44ea5"
      },
      "execution_count": 8,
      "outputs": [
        {
          "output_type": "stream",
          "name": "stdout",
          "text": [
            "[[0. 0. 0. 0. 0. 0. 0.]\n",
            " [0. 0. 0. 0. 0. 0. 0.]\n",
            " [0. 0. 0. 0. 0. 0. 0.]\n",
            " [0. 0. 0. 0. 0. 0. 0.]\n",
            " [0. 0. 0. 0. 0. 0. 0.]\n",
            " [0. 0. 0. 0. 0. 0. 0.]]\n"
          ]
        }
      ]
    },
    {
      "cell_type": "code",
      "source": [
        "#Bài 3:\n",
        "A_2 = np.random.rand(7,7)\n",
        "print(A_2)"
      ],
      "metadata": {
        "colab": {
          "base_uri": "https://localhost:8080/"
        },
        "id": "l_zEByUwbFVV",
        "outputId": "81cd1555-00e9-47fe-fc38-59186dfe4dd8"
      },
      "execution_count": 13,
      "outputs": [
        {
          "output_type": "stream",
          "name": "stdout",
          "text": [
            "[[7.26429750e-01 8.90347847e-01 7.42589977e-01 1.07536563e-04\n",
            "  8.09277693e-01 5.93638902e-01 4.63054970e-01]\n",
            " [4.99503787e-01 5.63040187e-01 5.32517013e-01 3.01101827e-01\n",
            "  5.69773137e-01 2.93809232e-01 9.54558445e-01]\n",
            " [4.88525869e-01 4.17140215e-01 3.92360226e-01 4.27920856e-01\n",
            "  1.35536466e-01 7.42766498e-01 9.76600357e-01]\n",
            " [3.46242282e-01 1.03304428e-01 4.87300598e-01 4.04667947e-01\n",
            "  2.02568958e-01 8.07494709e-02 9.22624084e-01]\n",
            " [3.67012527e-01 4.43090539e-01 7.92517067e-02 3.96321458e-01\n",
            "  8.73787525e-01 1.03337562e-01 7.44089991e-01]\n",
            " [9.89429098e-01 2.50940040e-01 2.94788552e-01 6.14303469e-01\n",
            "  4.67629777e-01 5.89631466e-02 2.54417350e-01]\n",
            " [4.50140712e-01 9.41332964e-02 6.18804117e-01 7.51155756e-02\n",
            "  4.69240536e-01 2.01657112e-01 9.83814439e-01]]\n"
          ]
        }
      ]
    },
    {
      "cell_type": "code",
      "source": [
        "#Bài 4:\n",
        "a = np.zeros((6, 6), int)\n",
        "np.fill_diagonal(a, 5)\n",
        "a"
      ],
      "metadata": {
        "colab": {
          "base_uri": "https://localhost:8080/"
        },
        "id": "2F7idSSoevx4",
        "outputId": "ff61605d-8e1d-4202-aacf-cfc8d8221c85"
      },
      "execution_count": 30,
      "outputs": [
        {
          "output_type": "execute_result",
          "data": {
            "text/plain": [
              "array([[5, 0, 0, 0, 0, 0],\n",
              "       [0, 5, 0, 0, 0, 0],\n",
              "       [0, 0, 5, 0, 0, 0],\n",
              "       [0, 0, 0, 5, 0, 0],\n",
              "       [0, 0, 0, 0, 5, 0],\n",
              "       [0, 0, 0, 0, 0, 5]])"
            ]
          },
          "metadata": {},
          "execution_count": 30
        }
      ]
    },
    {
      "cell_type": "code",
      "source": [
        "#Bài 5:\n",
        "np.triu(np.arange(3*4*5).reshape(3, 4, 5))"
      ],
      "metadata": {
        "colab": {
          "base_uri": "https://localhost:8080/"
        },
        "id": "NtGTgpNTgtho",
        "outputId": "816308fd-13da-47ea-d609-c5073f418b7c"
      },
      "execution_count": 38,
      "outputs": [
        {
          "output_type": "execute_result",
          "data": {
            "text/plain": [
              "array([[[ 0,  1,  2,  3,  4],\n",
              "        [ 0,  6,  7,  8,  9],\n",
              "        [ 0,  0, 12, 13, 14],\n",
              "        [ 0,  0,  0, 18, 19]],\n",
              "\n",
              "       [[20, 21, 22, 23, 24],\n",
              "        [ 0, 26, 27, 28, 29],\n",
              "        [ 0,  0, 32, 33, 34],\n",
              "        [ 0,  0,  0, 38, 39]],\n",
              "\n",
              "       [[40, 41, 42, 43, 44],\n",
              "        [ 0, 46, 47, 48, 49],\n",
              "        [ 0,  0, 52, 53, 54],\n",
              "        [ 0,  0,  0, 58, 59]]])"
            ]
          },
          "metadata": {},
          "execution_count": 38
        }
      ]
    },
    {
      "cell_type": "code",
      "source": [
        "#Bài 6:\n",
        "np.tril(np.arange(3*4*5).reshape(3, 4, 5))"
      ],
      "metadata": {
        "colab": {
          "base_uri": "https://localhost:8080/"
        },
        "id": "C3zVLLNph4fl",
        "outputId": "25d4518d-a7dd-40f6-c04c-def92b690552"
      },
      "execution_count": 40,
      "outputs": [
        {
          "output_type": "execute_result",
          "data": {
            "text/plain": [
              "array([[[ 0,  0,  0,  0,  0],\n",
              "        [ 5,  6,  0,  0,  0],\n",
              "        [10, 11, 12,  0,  0],\n",
              "        [15, 16, 17, 18,  0]],\n",
              "\n",
              "       [[20,  0,  0,  0,  0],\n",
              "        [25, 26,  0,  0,  0],\n",
              "        [30, 31, 32,  0,  0],\n",
              "        [35, 36, 37, 38,  0]],\n",
              "\n",
              "       [[40,  0,  0,  0,  0],\n",
              "        [45, 46,  0,  0,  0],\n",
              "        [50, 51, 52,  0,  0],\n",
              "        [55, 56, 57, 58,  0]]])"
            ]
          },
          "metadata": {},
          "execution_count": 40
        }
      ]
    },
    {
      "cell_type": "code",
      "source": [
        "#Bài 7:\n",
        "np.identity(5)"
      ],
      "metadata": {
        "colab": {
          "base_uri": "https://localhost:8080/"
        },
        "id": "UpwiRbaciRoc",
        "outputId": "3f1d5bbb-34ab-40eb-ada4-c93921346ecf"
      },
      "execution_count": 41,
      "outputs": [
        {
          "output_type": "execute_result",
          "data": {
            "text/plain": [
              "array([[1., 0., 0., 0., 0.],\n",
              "       [0., 1., 0., 0., 0.],\n",
              "       [0., 0., 1., 0., 0.],\n",
              "       [0., 0., 0., 1., 0.],\n",
              "       [0., 0., 0., 0., 1.]])"
            ]
          },
          "metadata": {},
          "execution_count": 41
        }
      ]
    },
    {
      "cell_type": "code",
      "source": [
        "#Bài 8:\n",
        "A = np.random.rand(6, 7)\n",
        "B = np.random.rand(6, 7)\n",
        "print('A + B:', A + B)\n",
        "\n",
        "x = int(input(\"Nhập 1 số:\"))\n",
        "C = np.random.rand(5, 8)\n",
        "print('C * x :', C * 2)\n",
        "\n",
        "D = np.random.rand(3, 7)\n",
        "print('D^T:',np.transpose(D))\n",
        "\n",
        "A_ = np.random.rand(5, 7)\n",
        "B_ = np.random.rand(7, 3)\n",
        "print('A * B : ', np.dot(A_,B_))\n",
        "\n",
        "A_1 = np.random.rand(5, 5)\n",
        "print('A^-1 : ', np.linalg.inv(A_1))"
      ],
      "metadata": {
        "colab": {
          "base_uri": "https://localhost:8080/"
        },
        "id": "-XN6UD6Li76Y",
        "outputId": "cf5d19d7-777a-430b-fcee-ae02935232b3"
      },
      "execution_count": 54,
      "outputs": [
        {
          "output_type": "stream",
          "name": "stdout",
          "text": [
            "A + B: [[0.88842101 0.73894895 0.74937905 0.95141496 1.49156326 1.10268657\n",
            "  1.47154836]\n",
            " [1.51972201 0.9452212  0.68729909 0.8768255  0.96229016 1.37198596\n",
            "  0.86265332]\n",
            " [1.08986445 0.72198721 0.61796444 1.11863237 1.17347726 0.89178866\n",
            "  0.93676643]\n",
            " [1.27932433 0.51036278 1.64830516 1.10086172 1.63608435 1.10484284\n",
            "  1.03160437]\n",
            " [1.62110486 0.20883381 1.55167032 1.94573239 0.5576786  0.57071663\n",
            "  1.00459132]\n",
            " [0.98018299 1.05432557 0.31574207 0.96950453 0.95432715 0.26343304\n",
            "  0.66639246]]\n",
            "Nhập 1 số:2\n",
            "C * x : [[1.94712481 0.92675352 1.67941964 0.23239388 1.48314774 1.90156293\n",
            "  0.68436445 0.9631652 ]\n",
            " [1.17744154 1.02966006 1.5576038  1.42090525 0.42114481 0.93147169\n",
            "  0.17924094 1.83407483]\n",
            " [0.14909312 1.14617876 0.93623369 0.74105281 1.24188674 0.28603041\n",
            "  1.84993799 0.99847768]\n",
            " [0.26525451 0.78145147 1.00886339 0.49764888 1.27844903 1.22582229\n",
            "  1.99380868 0.69160889]\n",
            " [0.53299669 0.09506426 1.56986664 0.13237266 0.50715959 0.65671638\n",
            "  0.00539139 0.7783774 ]]\n",
            "D^T: [[0.75913258 0.72015834 0.68704156]\n",
            " [0.24760897 0.32476757 0.62087701]\n",
            " [0.34501251 0.16491908 0.91950899]\n",
            " [0.95848626 0.86579314 0.8877126 ]\n",
            " [0.07803034 0.73611564 0.92860938]\n",
            " [0.29269878 0.02688625 0.46431526]\n",
            " [0.68218632 0.53708618 0.51223592]]\n",
            "A * B :  [[1.63700027 2.54652573 2.0463041 ]\n",
            " [2.4298577  3.24942911 2.56600445]\n",
            " [1.3016695  1.09683894 1.09400686]\n",
            " [0.95222762 2.11610159 1.59440512]\n",
            " [2.13606945 2.48525606 1.93081948]]\n",
            "A^-1 :  [[ -0.9031985   -0.5970649    1.76333123  -2.8563697    1.34549619]\n",
            " [ -0.70535391  -1.44630944  -3.36098834   8.00698318  -0.65349087]\n",
            " [ -0.38171081  -1.89673356  -3.01798677   4.45228138   1.24067919]\n",
            " [  3.13007515   3.11302298   6.70843623 -12.01366311  -1.69440949]\n",
            " [ -1.63353104   0.06343557  -3.62022912   6.36444164   0.54320124]]\n"
          ]
        }
      ]
    },
    {
      "cell_type": "code",
      "source": [
        "#Bài 9:\n",
        "a1 = np.arange(8)\n",
        "print('row vector:', a1)\n",
        "arr = np.array([[1, 2, 3]]).T\n",
        "print('columm vector:',arr)"
      ],
      "metadata": {
        "colab": {
          "base_uri": "https://localhost:8080/"
        },
        "id": "DjEGV1_RopF4",
        "outputId": "82feae07-5797-4748-f060-da5083ded530"
      },
      "execution_count": 60,
      "outputs": [
        {
          "output_type": "stream",
          "name": "stdout",
          "text": [
            "row vector: [0 1 2 3 4 5 6 7]\n",
            "columm vector: [[1]\n",
            " [2]\n",
            " [3]]\n"
          ]
        }
      ]
    }
  ]
}