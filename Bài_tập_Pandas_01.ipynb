{
  "nbformat": 4,
  "nbformat_minor": 0,
  "metadata": {
    "colab": {
      "name": "Bài tập Pandas 01.ipynb",
      "provenance": [],
      "authorship_tag": "ABX9TyNFZ4QWBLknYOXnfo7vzX7b",
      "include_colab_link": true
    },
    "kernelspec": {
      "name": "python3",
      "display_name": "Python 3"
    },
    "language_info": {
      "name": "python"
    }
  },
  "cells": [
    {
      "cell_type": "markdown",
      "metadata": {
        "id": "view-in-github",
        "colab_type": "text"
      },
      "source": [
        "<a href=\"https://colab.research.google.com/github/LBMH-lang/LBMH/blob/master/B%C3%A0i_t%E1%BA%ADp_Pandas_01.ipynb\" target=\"_parent\"><img src=\"https://colab.research.google.com/assets/colab-badge.svg\" alt=\"Open In Colab\"/></a>"
      ]
    },
    {
      "cell_type": "code",
      "execution_count": 1,
      "metadata": {
        "id": "RWjfBoMhp-jR"
      },
      "outputs": [],
      "source": [
        "import pandas as pd\n",
        "import numpy as np"
      ]
    },
    {
      "cell_type": "markdown",
      "source": [
        "Câu 1:"
      ],
      "metadata": {
        "id": "ROwb7iffq0vM"
      }
    },
    {
      "cell_type": "code",
      "source": [
        "S = pd.Series()\n",
        "print(S)"
      ],
      "metadata": {
        "colab": {
          "base_uri": "https://localhost:8080/"
        },
        "id": "MS1UvbTeqksb",
        "outputId": "12030937-8d08-4334-8acc-7629c95e257f"
      },
      "execution_count": 2,
      "outputs": [
        {
          "output_type": "stream",
          "name": "stdout",
          "text": [
            "Series([], dtype: float64)\n"
          ]
        },
        {
          "output_type": "stream",
          "name": "stderr",
          "text": [
            "/usr/local/lib/python3.7/dist-packages/ipykernel_launcher.py:1: DeprecationWarning: The default dtype for empty Series will be 'object' instead of 'float64' in a future version. Specify a dtype explicitly to silence this warning.\n",
            "  \"\"\"Entry point for launching an IPython kernel.\n"
          ]
        }
      ]
    },
    {
      "cell_type": "markdown",
      "source": [
        "Câu 2:"
      ],
      "metadata": {
        "id": "GqaNiUSXq3FH"
      }
    },
    {
      "cell_type": "code",
      "source": [
        "S1 = pd.Series(np.random.randint(100,size = 7))\n",
        "print(S1)"
      ],
      "metadata": {
        "colab": {
          "base_uri": "https://localhost:8080/"
        },
        "id": "ggsENLAUqvns",
        "outputId": "f3fbdb3f-1e8a-41ef-caa6-b21da99ae2f3"
      },
      "execution_count": 3,
      "outputs": [
        {
          "output_type": "stream",
          "name": "stdout",
          "text": [
            "0    62\n",
            "1     3\n",
            "2    72\n",
            "3    68\n",
            "4    29\n",
            "5    43\n",
            "6    41\n",
            "dtype: int64\n"
          ]
        }
      ]
    },
    {
      "cell_type": "markdown",
      "source": [
        "Câu 3:"
      ],
      "metadata": {
        "id": "eA09DgXxwPsL"
      }
    },
    {
      "cell_type": "code",
      "source": [
        "x = int(input(\"Nhập 1 số:\"))\n",
        "S3 = pd.Series(np.random.randint(x,size = 7))\n",
        "print(S3)"
      ],
      "metadata": {
        "colab": {
          "base_uri": "https://localhost:8080/"
        },
        "id": "E6AnZ3hOw7IV",
        "outputId": "df9ec96d-cb66-4e1c-9edf-6ea43b99d30d"
      },
      "execution_count": 8,
      "outputs": [
        {
          "output_type": "stream",
          "name": "stdout",
          "text": [
            "Nhập 1 số:15\n",
            "0    14\n",
            "1     2\n",
            "2    12\n",
            "3     7\n",
            "4     6\n",
            "5     5\n",
            "6     7\n",
            "dtype: int64\n"
          ]
        }
      ]
    },
    {
      "cell_type": "markdown",
      "source": [
        "Câu 4:"
      ],
      "metadata": {
        "id": "V7ByFA5hyALz"
      }
    },
    {
      "cell_type": "code",
      "source": [
        "z = np.array([[3], [6], [9], [2], [5], [7], [1]])\n",
        "S4 = pd.Series(np.random.randint(z,size = 7))\n",
        "print(S4)"
      ],
      "metadata": {
        "colab": {
          "base_uri": "https://localhost:8080/"
        },
        "id": "H1ph6oxy3iUv",
        "outputId": "889bb5fb-083a-4894-8af4-9b1ddaa1220a"
      },
      "execution_count": 17,
      "outputs": [
        {
          "output_type": "stream",
          "name": "stdout",
          "text": [
            "0    1\n",
            "1    0\n",
            "2    2\n",
            "3    0\n",
            "4    2\n",
            "5    2\n",
            "6    1\n",
            "dtype: int64\n"
          ]
        }
      ]
    },
    {
      "cell_type": "markdown",
      "source": [
        "Câu 5:"
      ],
      "metadata": {
        "id": "zMIIt1QW2z5D"
      }
    },
    {
      "cell_type": "code",
      "source": [
        "phones = ['Iphone',\"Samsung Note\",\"Samsung S\",\"Nokia\",\"Apple\"]\n",
        "quantities = [10,12,30,100,150]\n",
        "dictionary = dict(zip(phones, quantities))\n",
        "dictionary\n",
        "S2 = pd.Series(dictionary)\n",
        "print(S2)"
      ],
      "metadata": {
        "colab": {
          "base_uri": "https://localhost:8080/"
        },
        "id": "eD_Tj7fg2zmz",
        "outputId": "4da10484-306e-4f2f-f119-38409b80d877"
      },
      "execution_count": 18,
      "outputs": [
        {
          "output_type": "stream",
          "name": "stdout",
          "text": [
            "Iphone           10\n",
            "Samsung Note     12\n",
            "Samsung S        30\n",
            "Nokia           100\n",
            "Apple           150\n",
            "dtype: int64\n"
          ]
        }
      ]
    },
    {
      "cell_type": "markdown",
      "source": [
        "Câu 6:"
      ],
      "metadata": {
        "id": "5BCEjaRA6VeN"
      }
    },
    {
      "cell_type": "code",
      "source": [
        "S6 = pd.Series(np.random.randint(100,size = 20), index=[\"a\",\"b\",\"c\",\"d\",\"e\",\"f\",\"g\",\"h\",\"i\",\"j\",\"k\",\"l\",\"m\",\"n\",\"o\",\"p\",\"q\",\"s\",\"t\",\"u\"])\n",
        "print(S6)"
      ],
      "metadata": {
        "colab": {
          "base_uri": "https://localhost:8080/"
        },
        "id": "cOV5xrsM455r",
        "outputId": "50e2e6d8-bc56-42f6-e1b6-e8d8b9f8d418"
      },
      "execution_count": 20,
      "outputs": [
        {
          "output_type": "stream",
          "name": "stdout",
          "text": [
            "a    59\n",
            "b    48\n",
            "c    59\n",
            "d     0\n",
            "e    33\n",
            "f    66\n",
            "g    93\n",
            "h    15\n",
            "i    88\n",
            "j    66\n",
            "k    76\n",
            "l    25\n",
            "m    62\n",
            "n    11\n",
            "o    72\n",
            "p     2\n",
            "q    19\n",
            "s    32\n",
            "t    80\n",
            "u    51\n",
            "dtype: int64\n"
          ]
        }
      ]
    },
    {
      "cell_type": "markdown",
      "source": [
        "Câu 7:"
      ],
      "metadata": {
        "id": "Q8YVwEDl7clo"
      }
    },
    {
      "cell_type": "code",
      "source": [
        "S7 = np.arange(3, 7, dtype=int)\n",
        "S7_ = pd.Series(S7)\n",
        "print(S7_)"
      ],
      "metadata": {
        "colab": {
          "base_uri": "https://localhost:8080/"
        },
        "id": "xuezW1oK7d8T",
        "outputId": "f01ec6d5-0f77-42fe-f476-ce892012124e"
      },
      "execution_count": 21,
      "outputs": [
        {
          "output_type": "stream",
          "name": "stdout",
          "text": [
            "0    3\n",
            "1    4\n",
            "2    5\n",
            "3    6\n",
            "dtype: int64\n"
          ]
        }
      ]
    }
  ]
}