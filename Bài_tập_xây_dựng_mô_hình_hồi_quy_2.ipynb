{
  "nbformat": 4,
  "nbformat_minor": 0,
  "metadata": {
    "colab": {
      "name": "Bài tập xây dựng mô hình hồi quy.ipynb",
      "provenance": [],
      "collapsed_sections": [],
      "authorship_tag": "ABX9TyMtJZlgn8PmMLtN3POvgOFl",
      "include_colab_link": true
    },
    "kernelspec": {
      "name": "python3",
      "display_name": "Python 3"
    },
    "language_info": {
      "name": "python"
    }
  },
  "cells": [
    {
      "cell_type": "markdown",
      "metadata": {
        "id": "view-in-github",
        "colab_type": "text"
      },
      "source": [
        "<a href=\"https://colab.research.google.com/github/LBMH-lang/LBMH/blob/master/B%C3%A0i_t%E1%BA%ADp_x%C3%A2y_d%E1%BB%B1ng_m%C3%B4_h%C3%ACnh_h%E1%BB%93i_quy_2.ipynb\" target=\"_parent\"><img src=\"https://colab.research.google.com/assets/colab-badge.svg\" alt=\"Open In Colab\"/></a>"
      ]
    },
    {
      "cell_type": "code",
      "source": [
        "import numpy as np\n",
        "import pandas as pd\n",
        "import sklearn"
      ],
      "metadata": {
        "id": "ximcYm9fKSEH"
      },
      "execution_count": 1,
      "outputs": []
    },
    {
      "cell_type": "markdown",
      "source": [
        "# **Bài 1:** Hãy trình bày cách đọc 1 tập dữ liệu vào bộ nhớ (ví dụ: Iris). Yêu cầu giải thích bằng lời và triển khai bằng code sau đó."
      ],
      "metadata": {
        "id": "fYxTFaHPJ6S3"
      }
    },
    {
      "cell_type": "markdown",
      "source": [
        "Cài các thư viện cần thiết"
      ],
      "metadata": {
        "id": "UYtpGXijOKJF"
      }
    },
    {
      "cell_type": "code",
      "execution_count": 2,
      "metadata": {
        "id": "br5VhC9hJ2E5"
      },
      "outputs": [],
      "source": [
        "import matplotlib.pyplot as plt\n",
        "from sklearn import neighbors\n",
        "from sklearn import datasets"
      ]
    },
    {
      "cell_type": "markdown",
      "source": [
        "Tải datasets Iris:"
      ],
      "metadata": {
        "id": "C5QJw6EhOdlH"
      }
    },
    {
      "cell_type": "markdown",
      "source": [
        "- Tạo csv_url và chuyển tới nó url nơi có tập dữ liệu ' https://archive.ics.uci.edu/ml/machine-learning-databases/iris/iris.data' .\n",
        "- Tạo danh sách tên cột col_namesbằng cách sử dụng thông tin thuộc tính iris.\n",
        "- Tạo một đối tượng DataFrame của gấu trúc được gọi là iris."
      ],
      "metadata": {
        "id": "yNRf3ToKTqqt"
      }
    },
    {
      "cell_type": "code",
      "source": [
        "import pandas as pd\n",
        "\n",
        "data = pd.read_csv('http://archive.ics.uci.edu/ml/machine-learning-databases/iris/iris.data',header=None)\n",
        "data.columns = ['sepal length', 'sepal width', 'petal length', 'petal width', 'class']\n",
        "\n",
        "data.head()"
      ],
      "metadata": {
        "colab": {
          "base_uri": "https://localhost:8080/",
          "height": 206
        },
        "id": "9dphwHyWhfsf",
        "outputId": "0c24d423-068b-4f6c-d109-d03a28439bea"
      },
      "execution_count": 5,
      "outputs": [
        {
          "output_type": "execute_result",
          "data": {
            "text/plain": [
              "   sepal length  sepal width  petal length  petal width        class\n",
              "0           5.1          3.5           1.4          0.2  Iris-setosa\n",
              "1           4.9          3.0           1.4          0.2  Iris-setosa\n",
              "2           4.7          3.2           1.3          0.2  Iris-setosa\n",
              "3           4.6          3.1           1.5          0.2  Iris-setosa\n",
              "4           5.0          3.6           1.4          0.2  Iris-setosa"
            ],
            "text/html": [
              "\n",
              "  <div id=\"df-debae321-9a78-4e38-831a-b3dab4c2b6bb\">\n",
              "    <div class=\"colab-df-container\">\n",
              "      <div>\n",
              "<style scoped>\n",
              "    .dataframe tbody tr th:only-of-type {\n",
              "        vertical-align: middle;\n",
              "    }\n",
              "\n",
              "    .dataframe tbody tr th {\n",
              "        vertical-align: top;\n",
              "    }\n",
              "\n",
              "    .dataframe thead th {\n",
              "        text-align: right;\n",
              "    }\n",
              "</style>\n",
              "<table border=\"1\" class=\"dataframe\">\n",
              "  <thead>\n",
              "    <tr style=\"text-align: right;\">\n",
              "      <th></th>\n",
              "      <th>sepal length</th>\n",
              "      <th>sepal width</th>\n",
              "      <th>petal length</th>\n",
              "      <th>petal width</th>\n",
              "      <th>class</th>\n",
              "    </tr>\n",
              "  </thead>\n",
              "  <tbody>\n",
              "    <tr>\n",
              "      <th>0</th>\n",
              "      <td>5.1</td>\n",
              "      <td>3.5</td>\n",
              "      <td>1.4</td>\n",
              "      <td>0.2</td>\n",
              "      <td>Iris-setosa</td>\n",
              "    </tr>\n",
              "    <tr>\n",
              "      <th>1</th>\n",
              "      <td>4.9</td>\n",
              "      <td>3.0</td>\n",
              "      <td>1.4</td>\n",
              "      <td>0.2</td>\n",
              "      <td>Iris-setosa</td>\n",
              "    </tr>\n",
              "    <tr>\n",
              "      <th>2</th>\n",
              "      <td>4.7</td>\n",
              "      <td>3.2</td>\n",
              "      <td>1.3</td>\n",
              "      <td>0.2</td>\n",
              "      <td>Iris-setosa</td>\n",
              "    </tr>\n",
              "    <tr>\n",
              "      <th>3</th>\n",
              "      <td>4.6</td>\n",
              "      <td>3.1</td>\n",
              "      <td>1.5</td>\n",
              "      <td>0.2</td>\n",
              "      <td>Iris-setosa</td>\n",
              "    </tr>\n",
              "    <tr>\n",
              "      <th>4</th>\n",
              "      <td>5.0</td>\n",
              "      <td>3.6</td>\n",
              "      <td>1.4</td>\n",
              "      <td>0.2</td>\n",
              "      <td>Iris-setosa</td>\n",
              "    </tr>\n",
              "  </tbody>\n",
              "</table>\n",
              "</div>\n",
              "      <button class=\"colab-df-convert\" onclick=\"convertToInteractive('df-debae321-9a78-4e38-831a-b3dab4c2b6bb')\"\n",
              "              title=\"Convert this dataframe to an interactive table.\"\n",
              "              style=\"display:none;\">\n",
              "        \n",
              "  <svg xmlns=\"http://www.w3.org/2000/svg\" height=\"24px\"viewBox=\"0 0 24 24\"\n",
              "       width=\"24px\">\n",
              "    <path d=\"M0 0h24v24H0V0z\" fill=\"none\"/>\n",
              "    <path d=\"M18.56 5.44l.94 2.06.94-2.06 2.06-.94-2.06-.94-.94-2.06-.94 2.06-2.06.94zm-11 1L8.5 8.5l.94-2.06 2.06-.94-2.06-.94L8.5 2.5l-.94 2.06-2.06.94zm10 10l.94 2.06.94-2.06 2.06-.94-2.06-.94-.94-2.06-.94 2.06-2.06.94z\"/><path d=\"M17.41 7.96l-1.37-1.37c-.4-.4-.92-.59-1.43-.59-.52 0-1.04.2-1.43.59L10.3 9.45l-7.72 7.72c-.78.78-.78 2.05 0 2.83L4 21.41c.39.39.9.59 1.41.59.51 0 1.02-.2 1.41-.59l7.78-7.78 2.81-2.81c.8-.78.8-2.07 0-2.86zM5.41 20L4 18.59l7.72-7.72 1.47 1.35L5.41 20z\"/>\n",
              "  </svg>\n",
              "      </button>\n",
              "      \n",
              "  <style>\n",
              "    .colab-df-container {\n",
              "      display:flex;\n",
              "      flex-wrap:wrap;\n",
              "      gap: 12px;\n",
              "    }\n",
              "\n",
              "    .colab-df-convert {\n",
              "      background-color: #E8F0FE;\n",
              "      border: none;\n",
              "      border-radius: 50%;\n",
              "      cursor: pointer;\n",
              "      display: none;\n",
              "      fill: #1967D2;\n",
              "      height: 32px;\n",
              "      padding: 0 0 0 0;\n",
              "      width: 32px;\n",
              "    }\n",
              "\n",
              "    .colab-df-convert:hover {\n",
              "      background-color: #E2EBFA;\n",
              "      box-shadow: 0px 1px 2px rgba(60, 64, 67, 0.3), 0px 1px 3px 1px rgba(60, 64, 67, 0.15);\n",
              "      fill: #174EA6;\n",
              "    }\n",
              "\n",
              "    [theme=dark] .colab-df-convert {\n",
              "      background-color: #3B4455;\n",
              "      fill: #D2E3FC;\n",
              "    }\n",
              "\n",
              "    [theme=dark] .colab-df-convert:hover {\n",
              "      background-color: #434B5C;\n",
              "      box-shadow: 0px 1px 3px 1px rgba(0, 0, 0, 0.15);\n",
              "      filter: drop-shadow(0px 1px 2px rgba(0, 0, 0, 0.3));\n",
              "      fill: #FFFFFF;\n",
              "    }\n",
              "  </style>\n",
              "\n",
              "      <script>\n",
              "        const buttonEl =\n",
              "          document.querySelector('#df-debae321-9a78-4e38-831a-b3dab4c2b6bb button.colab-df-convert');\n",
              "        buttonEl.style.display =\n",
              "          google.colab.kernel.accessAllowed ? 'block' : 'none';\n",
              "\n",
              "        async function convertToInteractive(key) {\n",
              "          const element = document.querySelector('#df-debae321-9a78-4e38-831a-b3dab4c2b6bb');\n",
              "          const dataTable =\n",
              "            await google.colab.kernel.invokeFunction('convertToInteractive',\n",
              "                                                     [key], {});\n",
              "          if (!dataTable) return;\n",
              "\n",
              "          const docLinkHtml = 'Like what you see? Visit the ' +\n",
              "            '<a target=\"_blank\" href=https://colab.research.google.com/notebooks/data_table.ipynb>data table notebook</a>'\n",
              "            + ' to learn more about interactive tables.';\n",
              "          element.innerHTML = '';\n",
              "          dataTable['output_type'] = 'display_data';\n",
              "          await google.colab.output.renderOutput(dataTable, element);\n",
              "          const docLink = document.createElement('div');\n",
              "          docLink.innerHTML = docLinkHtml;\n",
              "          element.appendChild(docLink);\n",
              "        }\n",
              "      </script>\n",
              "    </div>\n",
              "  </div>\n",
              "  "
            ]
          },
          "metadata": {},
          "execution_count": 5
        }
      ]
    },
    {
      "cell_type": "markdown",
      "source": [
        "Sau khi tải tập datasets Iris, irisDataFrame kết quả có thể được xem bằng cách sử dụng các phương pháp DataFrame head() và tail() để xem 5 hàng đầu tiên và 5 hàng cuối cùng tương ứng. Các loại dữ liệu có thể được kiểm tra để đảm bảo chúng được suy ra chính xác bằng cách sử dụng dtypes. Sử dụng print chức năng này để in kết quả ra màn hình."
      ],
      "metadata": {
        "id": "C99-KjjhXCQ8"
      }
    },
    {
      "cell_type": "code",
      "source": [
        "csv_url = 'https://archive.ics.uci.edu/ml/machine-learning-databases/iris/iris.data'\n",
        "# using the attribute information as the column names\n",
        "col_names = ['Sepal_Length','Sepal_Width','Petal_Length','Petal_Width','Class']\n",
        "iris =  pd.read_csv(csv_url, names = col_names)"
      ],
      "metadata": {
        "id": "NKgESt9QTq-n"
      },
      "execution_count": 6,
      "outputs": []
    },
    {
      "cell_type": "code",
      "source": [
        "print(iris.head())"
      ],
      "metadata": {
        "colab": {
          "base_uri": "https://localhost:8080/"
        },
        "id": "FXpcylLfW3PE",
        "outputId": "5fd83961-d8bf-4833-ddd1-08c76094498e"
      },
      "execution_count": null,
      "outputs": [
        {
          "output_type": "stream",
          "name": "stdout",
          "text": [
            "   Sepal_Length  Sepal_Width  Petal_Length  Petal_Width        Class\n",
            "0           5.1          3.5           1.4          0.2  Iris-setosa\n",
            "1           4.9          3.0           1.4          0.2  Iris-setosa\n",
            "2           4.7          3.2           1.3          0.2  Iris-setosa\n",
            "3           4.6          3.1           1.5          0.2  Iris-setosa\n",
            "4           5.0          3.6           1.4          0.2  Iris-setosa\n"
          ]
        }
      ]
    },
    {
      "cell_type": "markdown",
      "source": [
        "# **Bài 2:** Từ tập dữ liệu trong bộ nhớ nêu trên, hãy tiến hành mô tả bằng các thông số thống kê mô tả và hình vẽ tương ứng."
      ],
      "metadata": {
        "id": "ZL4O77jmVrhy"
      }
    },
    {
      "cell_type": "code",
      "source": [
        "import matplotlib.pyplot as plt\n",
        "import seaborn as sns\n",
        "iris = datasets.load_iris()\n",
        "from mpl_toolkits.mplot3d import Axes3D\n",
        "from sklearn.decomposition import PCA\n",
        "import statistics as sta\n",
        "iris_X = iris.data\n",
        "iris_y = iris.target"
      ],
      "metadata": {
        "id": "jAYfC5zSVrQX"
      },
      "execution_count": 3,
      "outputs": []
    },
    {
      "cell_type": "markdown",
      "source": [
        "**Thống kê mô tả:**"
      ],
      "metadata": {
        "id": "EMtLnR_Rj0HO"
      }
    },
    {
      "cell_type": "markdown",
      "source": [
        "Đối với mỗi thuộc tính định lượng, hãy tính giá trị trung bình, độ lệch chuẩn, giá trị nhỏ nhất và lớn nhất của tập dữ liệu."
      ],
      "metadata": {
        "id": "ka3ZDW3BiAEw"
      }
    },
    {
      "cell_type": "code",
      "source": [
        "from pandas.api.types import is_numeric_dtype\n",
        "\n",
        "for col in data.columns:\n",
        "    if is_numeric_dtype(data[col]):\n",
        "        print('%s:' % (col))\n",
        "        print('\\t Mean = %.2f' % data[col].mean())\n",
        "        print('\\t Standard deviation = %.2f' % data[col].std())\n",
        "        print('\\t Minimum = %.2f' % data[col].min())\n",
        "        print('\\t Maximum = %.2f' % data[col].max())"
      ],
      "metadata": {
        "colab": {
          "base_uri": "https://localhost:8080/"
        },
        "id": "LS8BVmKSh5tB",
        "outputId": "5276ac9e-188f-480b-a32e-966653a448a2"
      },
      "execution_count": 7,
      "outputs": [
        {
          "output_type": "stream",
          "name": "stdout",
          "text": [
            "sepal length:\n",
            "\t Mean = 5.84\n",
            "\t Standard deviation = 0.83\n",
            "\t Minimum = 4.30\n",
            "\t Maximum = 7.90\n",
            "sepal width:\n",
            "\t Mean = 3.05\n",
            "\t Standard deviation = 0.43\n",
            "\t Minimum = 2.00\n",
            "\t Maximum = 4.40\n",
            "petal length:\n",
            "\t Mean = 3.76\n",
            "\t Standard deviation = 1.76\n",
            "\t Minimum = 1.00\n",
            "\t Maximum = 6.90\n",
            "petal width:\n",
            "\t Mean = 1.20\n",
            "\t Standard deviation = 0.76\n",
            "\t Minimum = 0.10\n",
            "\t Maximum = 2.50\n"
          ]
        }
      ]
    },
    {
      "cell_type": "markdown",
      "source": [
        "Đối với thuộc tính định tính (lớp), hãy đếm tần suất cho từng giá trị riêng biệt của tập dữ liệu."
      ],
      "metadata": {
        "id": "EGX7h_6-iamf"
      }
    },
    {
      "cell_type": "code",
      "source": [
        "data['class'].value_counts()"
      ],
      "metadata": {
        "colab": {
          "base_uri": "https://localhost:8080/"
        },
        "id": "GoGpC5qgid3c",
        "outputId": "2508b770-71c3-4b00-96e6-c46c03c22ea5"
      },
      "execution_count": 13,
      "outputs": [
        {
          "output_type": "execute_result",
          "data": {
            "text/plain": [
              "Iris-setosa        50\n",
              "Iris-versicolor    50\n",
              "Iris-virginica     50\n",
              "Name: class, dtype: int64"
            ]
          },
          "metadata": {},
          "execution_count": 13
        }
      ]
    },
    {
      "cell_type": "markdown",
      "source": [
        "Có thể hiển thị tóm tắt cho tất cả các thuộc tính đồng thời trong một bảng bằng cách sử dụng hàm description (). Nếu một thuộc tính là định lượng, nó sẽ hiển thị giá trị trung bình, độ lệch chuẩn và các lượng tử khác nhau (bao gồm giá trị nhỏ nhất, trung bình và tối đa). Nếu một thuộc tính là định tính, thì thuộc tính đó sẽ hiển thị số lượng giá trị duy nhất và giá trị hàng đầu (thường xuyên nhất) của tập dữ liệu."
      ],
      "metadata": {
        "id": "8V1l2glOijHH"
      }
    },
    {
      "cell_type": "code",
      "source": [
        "data.describe(include='all')"
      ],
      "metadata": {
        "colab": {
          "base_uri": "https://localhost:8080/",
          "height": 394
        },
        "id": "_sr3lr8YiyiR",
        "outputId": "d8f97106-8979-4c4c-dd23-8cbfd55d0629"
      },
      "execution_count": null,
      "outputs": [
        {
          "output_type": "execute_result",
          "data": {
            "text/plain": [
              "        sepal length  sepal width  petal length  petal width        class\n",
              "count     150.000000   150.000000    150.000000   150.000000          150\n",
              "unique           NaN          NaN           NaN          NaN            3\n",
              "top              NaN          NaN           NaN          NaN  Iris-setosa\n",
              "freq             NaN          NaN           NaN          NaN           50\n",
              "mean        5.843333     3.054000      3.758667     1.198667          NaN\n",
              "std         0.828066     0.433594      1.764420     0.763161          NaN\n",
              "min         4.300000     2.000000      1.000000     0.100000          NaN\n",
              "25%         5.100000     2.800000      1.600000     0.300000          NaN\n",
              "50%         5.800000     3.000000      4.350000     1.300000          NaN\n",
              "75%         6.400000     3.300000      5.100000     1.800000          NaN\n",
              "max         7.900000     4.400000      6.900000     2.500000          NaN"
            ],
            "text/html": [
              "\n",
              "  <div id=\"df-f473ce88-4987-4702-bc4c-56072431ec95\">\n",
              "    <div class=\"colab-df-container\">\n",
              "      <div>\n",
              "<style scoped>\n",
              "    .dataframe tbody tr th:only-of-type {\n",
              "        vertical-align: middle;\n",
              "    }\n",
              "\n",
              "    .dataframe tbody tr th {\n",
              "        vertical-align: top;\n",
              "    }\n",
              "\n",
              "    .dataframe thead th {\n",
              "        text-align: right;\n",
              "    }\n",
              "</style>\n",
              "<table border=\"1\" class=\"dataframe\">\n",
              "  <thead>\n",
              "    <tr style=\"text-align: right;\">\n",
              "      <th></th>\n",
              "      <th>sepal length</th>\n",
              "      <th>sepal width</th>\n",
              "      <th>petal length</th>\n",
              "      <th>petal width</th>\n",
              "      <th>class</th>\n",
              "    </tr>\n",
              "  </thead>\n",
              "  <tbody>\n",
              "    <tr>\n",
              "      <th>count</th>\n",
              "      <td>150.000000</td>\n",
              "      <td>150.000000</td>\n",
              "      <td>150.000000</td>\n",
              "      <td>150.000000</td>\n",
              "      <td>150</td>\n",
              "    </tr>\n",
              "    <tr>\n",
              "      <th>unique</th>\n",
              "      <td>NaN</td>\n",
              "      <td>NaN</td>\n",
              "      <td>NaN</td>\n",
              "      <td>NaN</td>\n",
              "      <td>3</td>\n",
              "    </tr>\n",
              "    <tr>\n",
              "      <th>top</th>\n",
              "      <td>NaN</td>\n",
              "      <td>NaN</td>\n",
              "      <td>NaN</td>\n",
              "      <td>NaN</td>\n",
              "      <td>Iris-setosa</td>\n",
              "    </tr>\n",
              "    <tr>\n",
              "      <th>freq</th>\n",
              "      <td>NaN</td>\n",
              "      <td>NaN</td>\n",
              "      <td>NaN</td>\n",
              "      <td>NaN</td>\n",
              "      <td>50</td>\n",
              "    </tr>\n",
              "    <tr>\n",
              "      <th>mean</th>\n",
              "      <td>5.843333</td>\n",
              "      <td>3.054000</td>\n",
              "      <td>3.758667</td>\n",
              "      <td>1.198667</td>\n",
              "      <td>NaN</td>\n",
              "    </tr>\n",
              "    <tr>\n",
              "      <th>std</th>\n",
              "      <td>0.828066</td>\n",
              "      <td>0.433594</td>\n",
              "      <td>1.764420</td>\n",
              "      <td>0.763161</td>\n",
              "      <td>NaN</td>\n",
              "    </tr>\n",
              "    <tr>\n",
              "      <th>min</th>\n",
              "      <td>4.300000</td>\n",
              "      <td>2.000000</td>\n",
              "      <td>1.000000</td>\n",
              "      <td>0.100000</td>\n",
              "      <td>NaN</td>\n",
              "    </tr>\n",
              "    <tr>\n",
              "      <th>25%</th>\n",
              "      <td>5.100000</td>\n",
              "      <td>2.800000</td>\n",
              "      <td>1.600000</td>\n",
              "      <td>0.300000</td>\n",
              "      <td>NaN</td>\n",
              "    </tr>\n",
              "    <tr>\n",
              "      <th>50%</th>\n",
              "      <td>5.800000</td>\n",
              "      <td>3.000000</td>\n",
              "      <td>4.350000</td>\n",
              "      <td>1.300000</td>\n",
              "      <td>NaN</td>\n",
              "    </tr>\n",
              "    <tr>\n",
              "      <th>75%</th>\n",
              "      <td>6.400000</td>\n",
              "      <td>3.300000</td>\n",
              "      <td>5.100000</td>\n",
              "      <td>1.800000</td>\n",
              "      <td>NaN</td>\n",
              "    </tr>\n",
              "    <tr>\n",
              "      <th>max</th>\n",
              "      <td>7.900000</td>\n",
              "      <td>4.400000</td>\n",
              "      <td>6.900000</td>\n",
              "      <td>2.500000</td>\n",
              "      <td>NaN</td>\n",
              "    </tr>\n",
              "  </tbody>\n",
              "</table>\n",
              "</div>\n",
              "      <button class=\"colab-df-convert\" onclick=\"convertToInteractive('df-f473ce88-4987-4702-bc4c-56072431ec95')\"\n",
              "              title=\"Convert this dataframe to an interactive table.\"\n",
              "              style=\"display:none;\">\n",
              "        \n",
              "  <svg xmlns=\"http://www.w3.org/2000/svg\" height=\"24px\"viewBox=\"0 0 24 24\"\n",
              "       width=\"24px\">\n",
              "    <path d=\"M0 0h24v24H0V0z\" fill=\"none\"/>\n",
              "    <path d=\"M18.56 5.44l.94 2.06.94-2.06 2.06-.94-2.06-.94-.94-2.06-.94 2.06-2.06.94zm-11 1L8.5 8.5l.94-2.06 2.06-.94-2.06-.94L8.5 2.5l-.94 2.06-2.06.94zm10 10l.94 2.06.94-2.06 2.06-.94-2.06-.94-.94-2.06-.94 2.06-2.06.94z\"/><path d=\"M17.41 7.96l-1.37-1.37c-.4-.4-.92-.59-1.43-.59-.52 0-1.04.2-1.43.59L10.3 9.45l-7.72 7.72c-.78.78-.78 2.05 0 2.83L4 21.41c.39.39.9.59 1.41.59.51 0 1.02-.2 1.41-.59l7.78-7.78 2.81-2.81c.8-.78.8-2.07 0-2.86zM5.41 20L4 18.59l7.72-7.72 1.47 1.35L5.41 20z\"/>\n",
              "  </svg>\n",
              "      </button>\n",
              "      \n",
              "  <style>\n",
              "    .colab-df-container {\n",
              "      display:flex;\n",
              "      flex-wrap:wrap;\n",
              "      gap: 12px;\n",
              "    }\n",
              "\n",
              "    .colab-df-convert {\n",
              "      background-color: #E8F0FE;\n",
              "      border: none;\n",
              "      border-radius: 50%;\n",
              "      cursor: pointer;\n",
              "      display: none;\n",
              "      fill: #1967D2;\n",
              "      height: 32px;\n",
              "      padding: 0 0 0 0;\n",
              "      width: 32px;\n",
              "    }\n",
              "\n",
              "    .colab-df-convert:hover {\n",
              "      background-color: #E2EBFA;\n",
              "      box-shadow: 0px 1px 2px rgba(60, 64, 67, 0.3), 0px 1px 3px 1px rgba(60, 64, 67, 0.15);\n",
              "      fill: #174EA6;\n",
              "    }\n",
              "\n",
              "    [theme=dark] .colab-df-convert {\n",
              "      background-color: #3B4455;\n",
              "      fill: #D2E3FC;\n",
              "    }\n",
              "\n",
              "    [theme=dark] .colab-df-convert:hover {\n",
              "      background-color: #434B5C;\n",
              "      box-shadow: 0px 1px 3px 1px rgba(0, 0, 0, 0.15);\n",
              "      filter: drop-shadow(0px 1px 2px rgba(0, 0, 0, 0.3));\n",
              "      fill: #FFFFFF;\n",
              "    }\n",
              "  </style>\n",
              "\n",
              "      <script>\n",
              "        const buttonEl =\n",
              "          document.querySelector('#df-f473ce88-4987-4702-bc4c-56072431ec95 button.colab-df-convert');\n",
              "        buttonEl.style.display =\n",
              "          google.colab.kernel.accessAllowed ? 'block' : 'none';\n",
              "\n",
              "        async function convertToInteractive(key) {\n",
              "          const element = document.querySelector('#df-f473ce88-4987-4702-bc4c-56072431ec95');\n",
              "          const dataTable =\n",
              "            await google.colab.kernel.invokeFunction('convertToInteractive',\n",
              "                                                     [key], {});\n",
              "          if (!dataTable) return;\n",
              "\n",
              "          const docLinkHtml = 'Like what you see? Visit the ' +\n",
              "            '<a target=\"_blank\" href=https://colab.research.google.com/notebooks/data_table.ipynb>data table notebook</a>'\n",
              "            + ' to learn more about interactive tables.';\n",
              "          element.innerHTML = '';\n",
              "          dataTable['output_type'] = 'display_data';\n",
              "          await google.colab.output.renderOutput(dataTable, element);\n",
              "          const docLink = document.createElement('div');\n",
              "          docLink.innerHTML = docLinkHtml;\n",
              "          element.appendChild(docLink);\n",
              "        }\n",
              "      </script>\n",
              "    </div>\n",
              "  </div>\n",
              "  "
            ]
          },
          "metadata": {},
          "execution_count": 10
        }
      ]
    },
    {
      "cell_type": "markdown",
      "source": [
        "Đối với thống kê đa biến, bạn có thể tính hiệp phương sai và mối tương quan giữa các cặp thuộc tính."
      ],
      "metadata": {
        "id": "lwSitAMCi3gP"
      }
    },
    {
      "cell_type": "code",
      "source": [
        "print('Giá trị phương sai:')\n",
        "data.cov()"
      ],
      "metadata": {
        "colab": {
          "base_uri": "https://localhost:8080/",
          "height": 193
        },
        "id": "eaYvDP_0i36x",
        "outputId": "9ed9a08d-f31a-4204-b32b-cfa348c9170e"
      },
      "execution_count": null,
      "outputs": [
        {
          "output_type": "stream",
          "name": "stdout",
          "text": [
            "Giá trị phương sai:\n"
          ]
        },
        {
          "output_type": "execute_result",
          "data": {
            "text/plain": [
              "              sepal length  sepal width  petal length  petal width\n",
              "sepal length      0.685694    -0.039268      1.273682     0.516904\n",
              "sepal width      -0.039268     0.188004     -0.321713    -0.117981\n",
              "petal length      1.273682    -0.321713      3.113179     1.296387\n",
              "petal width       0.516904    -0.117981      1.296387     0.582414"
            ],
            "text/html": [
              "\n",
              "  <div id=\"df-77063601-22b4-4859-b946-80cfa920c710\">\n",
              "    <div class=\"colab-df-container\">\n",
              "      <div>\n",
              "<style scoped>\n",
              "    .dataframe tbody tr th:only-of-type {\n",
              "        vertical-align: middle;\n",
              "    }\n",
              "\n",
              "    .dataframe tbody tr th {\n",
              "        vertical-align: top;\n",
              "    }\n",
              "\n",
              "    .dataframe thead th {\n",
              "        text-align: right;\n",
              "    }\n",
              "</style>\n",
              "<table border=\"1\" class=\"dataframe\">\n",
              "  <thead>\n",
              "    <tr style=\"text-align: right;\">\n",
              "      <th></th>\n",
              "      <th>sepal length</th>\n",
              "      <th>sepal width</th>\n",
              "      <th>petal length</th>\n",
              "      <th>petal width</th>\n",
              "    </tr>\n",
              "  </thead>\n",
              "  <tbody>\n",
              "    <tr>\n",
              "      <th>sepal length</th>\n",
              "      <td>0.685694</td>\n",
              "      <td>-0.039268</td>\n",
              "      <td>1.273682</td>\n",
              "      <td>0.516904</td>\n",
              "    </tr>\n",
              "    <tr>\n",
              "      <th>sepal width</th>\n",
              "      <td>-0.039268</td>\n",
              "      <td>0.188004</td>\n",
              "      <td>-0.321713</td>\n",
              "      <td>-0.117981</td>\n",
              "    </tr>\n",
              "    <tr>\n",
              "      <th>petal length</th>\n",
              "      <td>1.273682</td>\n",
              "      <td>-0.321713</td>\n",
              "      <td>3.113179</td>\n",
              "      <td>1.296387</td>\n",
              "    </tr>\n",
              "    <tr>\n",
              "      <th>petal width</th>\n",
              "      <td>0.516904</td>\n",
              "      <td>-0.117981</td>\n",
              "      <td>1.296387</td>\n",
              "      <td>0.582414</td>\n",
              "    </tr>\n",
              "  </tbody>\n",
              "</table>\n",
              "</div>\n",
              "      <button class=\"colab-df-convert\" onclick=\"convertToInteractive('df-77063601-22b4-4859-b946-80cfa920c710')\"\n",
              "              title=\"Convert this dataframe to an interactive table.\"\n",
              "              style=\"display:none;\">\n",
              "        \n",
              "  <svg xmlns=\"http://www.w3.org/2000/svg\" height=\"24px\"viewBox=\"0 0 24 24\"\n",
              "       width=\"24px\">\n",
              "    <path d=\"M0 0h24v24H0V0z\" fill=\"none\"/>\n",
              "    <path d=\"M18.56 5.44l.94 2.06.94-2.06 2.06-.94-2.06-.94-.94-2.06-.94 2.06-2.06.94zm-11 1L8.5 8.5l.94-2.06 2.06-.94-2.06-.94L8.5 2.5l-.94 2.06-2.06.94zm10 10l.94 2.06.94-2.06 2.06-.94-2.06-.94-.94-2.06-.94 2.06-2.06.94z\"/><path d=\"M17.41 7.96l-1.37-1.37c-.4-.4-.92-.59-1.43-.59-.52 0-1.04.2-1.43.59L10.3 9.45l-7.72 7.72c-.78.78-.78 2.05 0 2.83L4 21.41c.39.39.9.59 1.41.59.51 0 1.02-.2 1.41-.59l7.78-7.78 2.81-2.81c.8-.78.8-2.07 0-2.86zM5.41 20L4 18.59l7.72-7.72 1.47 1.35L5.41 20z\"/>\n",
              "  </svg>\n",
              "      </button>\n",
              "      \n",
              "  <style>\n",
              "    .colab-df-container {\n",
              "      display:flex;\n",
              "      flex-wrap:wrap;\n",
              "      gap: 12px;\n",
              "    }\n",
              "\n",
              "    .colab-df-convert {\n",
              "      background-color: #E8F0FE;\n",
              "      border: none;\n",
              "      border-radius: 50%;\n",
              "      cursor: pointer;\n",
              "      display: none;\n",
              "      fill: #1967D2;\n",
              "      height: 32px;\n",
              "      padding: 0 0 0 0;\n",
              "      width: 32px;\n",
              "    }\n",
              "\n",
              "    .colab-df-convert:hover {\n",
              "      background-color: #E2EBFA;\n",
              "      box-shadow: 0px 1px 2px rgba(60, 64, 67, 0.3), 0px 1px 3px 1px rgba(60, 64, 67, 0.15);\n",
              "      fill: #174EA6;\n",
              "    }\n",
              "\n",
              "    [theme=dark] .colab-df-convert {\n",
              "      background-color: #3B4455;\n",
              "      fill: #D2E3FC;\n",
              "    }\n",
              "\n",
              "    [theme=dark] .colab-df-convert:hover {\n",
              "      background-color: #434B5C;\n",
              "      box-shadow: 0px 1px 3px 1px rgba(0, 0, 0, 0.15);\n",
              "      filter: drop-shadow(0px 1px 2px rgba(0, 0, 0, 0.3));\n",
              "      fill: #FFFFFF;\n",
              "    }\n",
              "  </style>\n",
              "\n",
              "      <script>\n",
              "        const buttonEl =\n",
              "          document.querySelector('#df-77063601-22b4-4859-b946-80cfa920c710 button.colab-df-convert');\n",
              "        buttonEl.style.display =\n",
              "          google.colab.kernel.accessAllowed ? 'block' : 'none';\n",
              "\n",
              "        async function convertToInteractive(key) {\n",
              "          const element = document.querySelector('#df-77063601-22b4-4859-b946-80cfa920c710');\n",
              "          const dataTable =\n",
              "            await google.colab.kernel.invokeFunction('convertToInteractive',\n",
              "                                                     [key], {});\n",
              "          if (!dataTable) return;\n",
              "\n",
              "          const docLinkHtml = 'Like what you see? Visit the ' +\n",
              "            '<a target=\"_blank\" href=https://colab.research.google.com/notebooks/data_table.ipynb>data table notebook</a>'\n",
              "            + ' to learn more about interactive tables.';\n",
              "          element.innerHTML = '';\n",
              "          dataTable['output_type'] = 'display_data';\n",
              "          await google.colab.output.renderOutput(dataTable, element);\n",
              "          const docLink = document.createElement('div');\n",
              "          docLink.innerHTML = docLinkHtml;\n",
              "          element.appendChild(docLink);\n",
              "        }\n",
              "      </script>\n",
              "    </div>\n",
              "  </div>\n",
              "  "
            ]
          },
          "metadata": {},
          "execution_count": 11
        }
      ]
    },
    {
      "cell_type": "code",
      "source": [
        "print('Giá trị tương quan:')\n",
        "data.corr()"
      ],
      "metadata": {
        "colab": {
          "base_uri": "https://localhost:8080/",
          "height": 193
        },
        "id": "7kQ2AacbjOlm",
        "outputId": "5c6f74cf-f059-4392-d303-3297ebd26925"
      },
      "execution_count": null,
      "outputs": [
        {
          "output_type": "stream",
          "name": "stdout",
          "text": [
            "Giá trị tương quan:\n"
          ]
        },
        {
          "output_type": "execute_result",
          "data": {
            "text/plain": [
              "              sepal length  sepal width  petal length  petal width\n",
              "sepal length      1.000000    -0.109369      0.871754     0.817954\n",
              "sepal width      -0.109369     1.000000     -0.420516    -0.356544\n",
              "petal length      0.871754    -0.420516      1.000000     0.962757\n",
              "petal width       0.817954    -0.356544      0.962757     1.000000"
            ],
            "text/html": [
              "\n",
              "  <div id=\"df-21fdde6c-b03c-4bbd-8b57-b6bbb17539f7\">\n",
              "    <div class=\"colab-df-container\">\n",
              "      <div>\n",
              "<style scoped>\n",
              "    .dataframe tbody tr th:only-of-type {\n",
              "        vertical-align: middle;\n",
              "    }\n",
              "\n",
              "    .dataframe tbody tr th {\n",
              "        vertical-align: top;\n",
              "    }\n",
              "\n",
              "    .dataframe thead th {\n",
              "        text-align: right;\n",
              "    }\n",
              "</style>\n",
              "<table border=\"1\" class=\"dataframe\">\n",
              "  <thead>\n",
              "    <tr style=\"text-align: right;\">\n",
              "      <th></th>\n",
              "      <th>sepal length</th>\n",
              "      <th>sepal width</th>\n",
              "      <th>petal length</th>\n",
              "      <th>petal width</th>\n",
              "    </tr>\n",
              "  </thead>\n",
              "  <tbody>\n",
              "    <tr>\n",
              "      <th>sepal length</th>\n",
              "      <td>1.000000</td>\n",
              "      <td>-0.109369</td>\n",
              "      <td>0.871754</td>\n",
              "      <td>0.817954</td>\n",
              "    </tr>\n",
              "    <tr>\n",
              "      <th>sepal width</th>\n",
              "      <td>-0.109369</td>\n",
              "      <td>1.000000</td>\n",
              "      <td>-0.420516</td>\n",
              "      <td>-0.356544</td>\n",
              "    </tr>\n",
              "    <tr>\n",
              "      <th>petal length</th>\n",
              "      <td>0.871754</td>\n",
              "      <td>-0.420516</td>\n",
              "      <td>1.000000</td>\n",
              "      <td>0.962757</td>\n",
              "    </tr>\n",
              "    <tr>\n",
              "      <th>petal width</th>\n",
              "      <td>0.817954</td>\n",
              "      <td>-0.356544</td>\n",
              "      <td>0.962757</td>\n",
              "      <td>1.000000</td>\n",
              "    </tr>\n",
              "  </tbody>\n",
              "</table>\n",
              "</div>\n",
              "      <button class=\"colab-df-convert\" onclick=\"convertToInteractive('df-21fdde6c-b03c-4bbd-8b57-b6bbb17539f7')\"\n",
              "              title=\"Convert this dataframe to an interactive table.\"\n",
              "              style=\"display:none;\">\n",
              "        \n",
              "  <svg xmlns=\"http://www.w3.org/2000/svg\" height=\"24px\"viewBox=\"0 0 24 24\"\n",
              "       width=\"24px\">\n",
              "    <path d=\"M0 0h24v24H0V0z\" fill=\"none\"/>\n",
              "    <path d=\"M18.56 5.44l.94 2.06.94-2.06 2.06-.94-2.06-.94-.94-2.06-.94 2.06-2.06.94zm-11 1L8.5 8.5l.94-2.06 2.06-.94-2.06-.94L8.5 2.5l-.94 2.06-2.06.94zm10 10l.94 2.06.94-2.06 2.06-.94-2.06-.94-.94-2.06-.94 2.06-2.06.94z\"/><path d=\"M17.41 7.96l-1.37-1.37c-.4-.4-.92-.59-1.43-.59-.52 0-1.04.2-1.43.59L10.3 9.45l-7.72 7.72c-.78.78-.78 2.05 0 2.83L4 21.41c.39.39.9.59 1.41.59.51 0 1.02-.2 1.41-.59l7.78-7.78 2.81-2.81c.8-.78.8-2.07 0-2.86zM5.41 20L4 18.59l7.72-7.72 1.47 1.35L5.41 20z\"/>\n",
              "  </svg>\n",
              "      </button>\n",
              "      \n",
              "  <style>\n",
              "    .colab-df-container {\n",
              "      display:flex;\n",
              "      flex-wrap:wrap;\n",
              "      gap: 12px;\n",
              "    }\n",
              "\n",
              "    .colab-df-convert {\n",
              "      background-color: #E8F0FE;\n",
              "      border: none;\n",
              "      border-radius: 50%;\n",
              "      cursor: pointer;\n",
              "      display: none;\n",
              "      fill: #1967D2;\n",
              "      height: 32px;\n",
              "      padding: 0 0 0 0;\n",
              "      width: 32px;\n",
              "    }\n",
              "\n",
              "    .colab-df-convert:hover {\n",
              "      background-color: #E2EBFA;\n",
              "      box-shadow: 0px 1px 2px rgba(60, 64, 67, 0.3), 0px 1px 3px 1px rgba(60, 64, 67, 0.15);\n",
              "      fill: #174EA6;\n",
              "    }\n",
              "\n",
              "    [theme=dark] .colab-df-convert {\n",
              "      background-color: #3B4455;\n",
              "      fill: #D2E3FC;\n",
              "    }\n",
              "\n",
              "    [theme=dark] .colab-df-convert:hover {\n",
              "      background-color: #434B5C;\n",
              "      box-shadow: 0px 1px 3px 1px rgba(0, 0, 0, 0.15);\n",
              "      filter: drop-shadow(0px 1px 2px rgba(0, 0, 0, 0.3));\n",
              "      fill: #FFFFFF;\n",
              "    }\n",
              "  </style>\n",
              "\n",
              "      <script>\n",
              "        const buttonEl =\n",
              "          document.querySelector('#df-21fdde6c-b03c-4bbd-8b57-b6bbb17539f7 button.colab-df-convert');\n",
              "        buttonEl.style.display =\n",
              "          google.colab.kernel.accessAllowed ? 'block' : 'none';\n",
              "\n",
              "        async function convertToInteractive(key) {\n",
              "          const element = document.querySelector('#df-21fdde6c-b03c-4bbd-8b57-b6bbb17539f7');\n",
              "          const dataTable =\n",
              "            await google.colab.kernel.invokeFunction('convertToInteractive',\n",
              "                                                     [key], {});\n",
              "          if (!dataTable) return;\n",
              "\n",
              "          const docLinkHtml = 'Like what you see? Visit the ' +\n",
              "            '<a target=\"_blank\" href=https://colab.research.google.com/notebooks/data_table.ipynb>data table notebook</a>'\n",
              "            + ' to learn more about interactive tables.';\n",
              "          element.innerHTML = '';\n",
              "          dataTable['output_type'] = 'display_data';\n",
              "          await google.colab.output.renderOutput(dataTable, element);\n",
              "          const docLink = document.createElement('div');\n",
              "          docLink.innerHTML = docLinkHtml;\n",
              "          element.appendChild(docLink);\n",
              "        }\n",
              "      </script>\n",
              "    </div>\n",
              "  </div>\n",
              "  "
            ]
          },
          "metadata": {},
          "execution_count": 12
        }
      ]
    },
    {
      "cell_type": "markdown",
      "source": [
        "**Trực quan hóa dữ liệu:**"
      ],
      "metadata": {
        "id": "4zrcpe9pjo6w"
      }
    },
    {
      "cell_type": "markdown",
      "source": [
        "Đầu tiên hiển thị biểu đồ cho thuộc tính sepal length"
      ],
      "metadata": {
        "id": "tba43QdBkKfd"
      }
    },
    {
      "cell_type": "code",
      "source": [
        "%matplotlib inline\n",
        "\n",
        "data['sepal length'].hist(bins=8)"
      ],
      "metadata": {
        "colab": {
          "base_uri": "https://localhost:8080/",
          "height": 283
        },
        "id": "tkG3jwJ5jQle",
        "outputId": "87bcc519-e1ea-4c94-a774-6d5f0a73acfd"
      },
      "execution_count": null,
      "outputs": [
        {
          "output_type": "execute_result",
          "data": {
            "text/plain": [
              "<matplotlib.axes._subplots.AxesSubplot at 0x7faae73ed3d0>"
            ]
          },
          "metadata": {},
          "execution_count": 13
        },
        {
          "output_type": "display_data",
          "data": {
            "text/plain": [
              "<Figure size 432x288 with 1 Axes>"
            ],
            "image/png": "[encoded data removed]"
          },
          "metadata": {
            "needs_background": "light"
          }
        }
      ]
    },
    {
      "cell_type": "markdown",
      "source": [
        "Biểu đồ boxplot cũng có thể được sử dụng để hiển thị sự phân bố các giá trị cho từng thuộc tính."
      ],
      "metadata": {
        "id": "YqlYOcvckmX_"
      }
    },
    {
      "cell_type": "code",
      "source": [
        "data.boxplot()"
      ],
      "metadata": {
        "colab": {
          "base_uri": "https://localhost:8080/",
          "height": 283
        },
        "id": "a4k8NrbFkmv2",
        "outputId": "b4a9bb1e-eda8-44d0-ff42-87b20f241f37"
      },
      "execution_count": null,
      "outputs": [
        {
          "output_type": "execute_result",
          "data": {
            "text/plain": [
              "<matplotlib.axes._subplots.AxesSubplot at 0x7faae6e97490>"
            ]
          },
          "metadata": {},
          "execution_count": 14
        },
        {
          "output_type": "display_data",
          "data": {
            "text/plain": [
              "<Figure size 432x288 with 1 Axes>"
            ],
            "image/png": "[encoded data removed]"
          },
          "metadata": {
            "needs_background": "light"
          }
        }
      ]
    },
    {
      "cell_type": "markdown",
      "source": [
        " Đối với mỗi cặp thuộc tính, chúng ta có thể sử dụng scatter plot để hình dung sự phân bố chung của chúng."
      ],
      "metadata": {
        "id": "YYWu9zlYk4Cy"
      }
    },
    {
      "cell_type": "code",
      "source": [
        "fig, axes = plt.subplots(3, 2, figsize=(12,12))\n",
        "index = 0\n",
        "for i in range(3):\n",
        "    for j in range(i+1,4):\n",
        "        ax1 = int(index/2)\n",
        "        ax2 = index % 2\n",
        "        axes[ax1][ax2].scatter(data[data.columns[i]], data[data.columns[j]], color='red')\n",
        "        axes[ax1][ax2].set_xlabel(data.columns[i])\n",
        "        axes[ax1][ax2].set_ylabel(data.columns[j])\n",
        "        index = index + 1"
      ],
      "metadata": {
        "colab": {
          "base_uri": "https://localhost:8080/",
          "height": 716
        },
        "id": "sefRtmfTk3v6",
        "outputId": "e6e04c98-edda-4015-d298-373347fb7d32"
      },
      "execution_count": null,
      "outputs": [
        {
          "output_type": "display_data",
          "data": {
            "text/plain": [
              "<Figure size 864x864 with 6 Axes>"
            ],
            "image/png": "[encoded data removed]"
          },
          "metadata": {
            "needs_background": "light"
          }
        }
      ]
    },
    {
      "cell_type": "code",
      "source": [
        "from  pandas.plotting  import parallel_coordinates \n",
        "%matplotlib inline \n",
        "parallel_coordinates( data , 'class' )\n"
      ],
      "metadata": {
        "id": "PG2lwKaNTRbQ",
        "outputId": "0c1e443b-2a1c-4f4f-b0a2-aebc1498533f",
        "colab": {
          "base_uri": "https://localhost:8080/",
          "height": 283
        }
      },
      "execution_count": 15,
      "outputs": [
        {
          "output_type": "execute_result",
          "data": {
            "text/plain": [
              "<matplotlib.axes._subplots.AxesSubplot at 0x7f103cf6e0d0>"
            ]
          },
          "metadata": {},
          "execution_count": 15
        },
        {
          "output_type": "display_data",
          "data": {
            "text/plain": [
              "<Figure size 432x288 with 1 Axes>"
            ],
            "image/png": "[encoded data removed]"
          },
          "metadata": {
            "needs_background": "light"
          }
        }
      ]
    },
    {
      "cell_type": "code",
      "source": [
        ""
      ],
      "metadata": {
        "id": "Kvbs4Sm8S7oi"
      },
      "execution_count": null,
      "outputs": []
    },
    {
      "cell_type": "markdown",
      "source": [
        "# **Bài 3:** Từ tập dữ liệu trong bộ nhớ nêu trên, hãy:\n",
        "# - Trình bày cách xác định dữ liệu và xác định nhãn lớp. Code tương ứng\n",
        "# - Trình bày cách chia tập dữ liệu ban đầu thành tập dữ liệu huấn luyện và tập dữ liệu kiểm thử. Code tương ứng."
      ],
      "metadata": {
        "id": "DlqIOV75oRXK"
      }
    },
    {
      "cell_type": "code",
      "source": [
        "iris = datasets.load_iris()\n",
        "X = iris.data[:, :2]  # we only take the first two features.\n",
        "y = iris.target\n",
        "\n",
        "x_min, x_max = X[:, 0].min() - 0.5, X[:, 0].max() + 0.5\n",
        "y_min, y_max = X[:, 1].min() - 0.5, X[:, 1].max() + 0.5\n",
        "\n",
        "print ('Number of classes: %d' %len(np.unique(iris_y)))\n",
        "print ('Number of data points: %d' %len(iris_y))\n",
        "X0 = iris_X[iris_y == 0,:]\n",
        "print ('\\nSamples from class 0:\\n', X0[:5,:])\n",
        "\n",
        "X1 = iris_X[iris_y == 1,:]\n",
        "print ('\\nSamples from class 1:\\n', X1[:5,:])\n",
        "\n",
        "X2 = iris_X[iris_y == 2,:]\n",
        "print ('\\nSamples from class 2:\\n', X2[:5,:])"
      ],
      "metadata": {
        "colab": {
          "base_uri": "https://localhost:8080/"
        },
        "id": "9SGRj3q8qW7o",
        "outputId": "088dbf60-e640-4c93-93ad-73e7fb84a279"
      },
      "execution_count": null,
      "outputs": [
        {
          "output_type": "stream",
          "name": "stdout",
          "text": [
            "Number of classes: 3\n",
            "Number of data points: 150\n",
            "\n",
            "Samples from class 0:\n",
            " [[5.1 3.5 1.4 0.2]\n",
            " [4.9 3.  1.4 0.2]\n",
            " [4.7 3.2 1.3 0.2]\n",
            " [4.6 3.1 1.5 0.2]\n",
            " [5.  3.6 1.4 0.2]]\n",
            "\n",
            "Samples from class 1:\n",
            " [[7.  3.2 4.7 1.4]\n",
            " [6.4 3.2 4.5 1.5]\n",
            " [6.9 3.1 4.9 1.5]\n",
            " [5.5 2.3 4.  1.3]\n",
            " [6.5 2.8 4.6 1.5]]\n",
            "\n",
            "Samples from class 2:\n",
            " [[6.3 3.3 6.  2.5]\n",
            " [5.8 2.7 5.1 1.9]\n",
            " [7.1 3.  5.9 2.1]\n",
            " [6.3 2.9 5.6 1.8]\n",
            " [6.5 3.  5.8 2.2]]\n"
          ]
        }
      ]
    },
    {
      "cell_type": "code",
      "source": [
        "from sklearn.model_selection import train_test_split\n",
        "X_train, X_test, y_train, y_test = train_test_split(iris_X, iris_y, test_size=50)\n",
        "\n",
        "print(\"Training size: %d\" %len(y_train))\n",
        "print(\"Test size    : %d\" %len(y_test))"
      ],
      "metadata": {
        "colab": {
          "base_uri": "https://localhost:8080/"
        },
        "id": "WBezWFgZq_cI",
        "outputId": "c38b5959-0474-49fc-a719-faa603d24950"
      },
      "execution_count": null,
      "outputs": [
        {
          "output_type": "stream",
          "name": "stdout",
          "text": [
            "Training size: 100\n",
            "Test size    : 50\n"
          ]
        }
      ]
    },
    {
      "cell_type": "code",
      "source": [
        "\n",
        "plt.figure(2, figsize=(8, 6))\n",
        "plt.clf()\n",
        "\n",
        "# Plot the training points\n",
        "plt.scatter(X[:, 0], X[:, 1], c=y, cmap=plt.cm.Set1, edgecolor=\"k\")\n",
        "plt.xlabel(\"Sepal length\")\n",
        "plt.ylabel(\"Sepal width\")\n",
        "\n",
        "plt.xlim(x_min, x_max)\n",
        "plt.ylim(y_min, y_max)\n",
        "plt.xticks(())\n",
        "plt.yticks(())\n",
        "\n",
        "# To getter a better understanding of interaction of the dimensions\n",
        "# plot the first three PCA dimensions\n",
        "fig = plt.figure(1, figsize=(8, 6))\n",
        "ax = Axes3D(fig, elev=-150, azim=110)\n",
        "X_reduced = PCA(n_components=3).fit_transform(iris.data)\n",
        "ax.scatter(\n",
        "    X_reduced[:, 0],\n",
        "    X_reduced[:, 1],\n",
        "    X_reduced[:, 2],\n",
        "    c=y,\n",
        "    cmap=plt.cm.Set1,\n",
        "    edgecolor=\"k\",\n",
        "    s=40,\n",
        ")\n",
        "ax.set_title(\"First three PCA directions\")\n",
        "ax.set_xlabel(\"1st eigenvector\")\n",
        "ax.w_xaxis.set_ticklabels([])\n",
        "ax.set_ylabel(\"2nd eigenvector\")\n",
        "ax.w_yaxis.set_ticklabels([])\n",
        "ax.set_zlabel(\"3rd eigenvector\")\n",
        "ax.w_zaxis.set_ticklabels([])\n",
        "\n",
        "plt.show()"
      ],
      "metadata": {
        "colab": {
          "base_uri": "https://localhost:8080/",
          "height": 816
        },
        "id": "kUYV2WJVpYmL",
        "outputId": "0bd755c1-b96a-47f9-e44a-0eef66b1094e"
      },
      "execution_count": null,
      "outputs": [
        {
          "output_type": "display_data",
          "data": {
            "text/plain": [
              "<Figure size 576x432 with 1 Axes>"
            ],
            "image/png": "[encoded data removed]"
          },
          "metadata": {}
        },
        {
          "output_type": "display_data",
          "data": {
            "text/plain": [
              "<Figure size 576x432 with 1 Axes>"
            ],
            "image/png": "[encoded data removed]"
          },
          "metadata": {
            "needs_background": "light"
          }
        }
      ]
    },
    {
      "cell_type": "markdown",
      "source": [
        "# **Bài 4:** Hãy trình bày lý thuyết về phương pháp 10-fold cross validation và code minh họa"
      ],
      "metadata": {
        "id": "3WsthMt2X9v9"
      }
    },
    {
      "cell_type": "markdown",
      "source": [
        "Cross validation là một kỹ thuật lấy mẫu để đánh giá mô hình học máy trong trường hợp dữ liệu không được dồi dào cho lắm.\n",
        "\n",
        "Tham số quan trọng trong kỹ thuật này là k, đại diện cho số nhóm mà dữ liệu sẽ được chia ra. Vì lý do đó, nó được mang tên k-fold cross-validation. Khi giá trị của k được lựa chọn, người ta sử dụng trực tiếp giá trị đó trong tên của phương pháp đánh giá. Ví dụ với k=10, phương pháp sẽ mang tên 10-fold Cross validation. "
      ],
      "metadata": {
        "id": "KFvfd3Hycmg6"
      }
    },
    {
      "cell_type": "markdown",
      "source": [
        "Kỹ thuật này thường bao gồm các bước như sau:\n",
        "\n",
        "1. Xáo trộn dataset một cách ngẫu nhiên\n",
        "2. Chia dataset thành k nhóm\n",
        "3. Với mỗi nhóm:\n",
        "- Sử dụng nhóm hiện tại để đánh giá hiệu quả mô hình\n",
        "- Các nhóm còn lại được sử dụng để huấn luyện mô hình\n",
        "- Huấn luyện mô hình\n",
        "- Đánh giá và sau đó hủy mô hình\n",
        "- Tổng hợp hiệu quả của mô hình dựa từ các số liệu đánh giá"
      ],
      "metadata": {
        "id": "eCeeQ7-znFoD"
      }
    },
    {
      "cell_type": "markdown",
      "source": [
        "- Giá trị k là thông số quan trọng để có thể đánh giá chính xác mô hình\n",
        "\n",
        "- Giá trị k=10 là một cấu hình rất phổ biến. Bạn nên sử dụng giá trị này nếu như gặp khó khăn để lựa chọn một giá trị thích hợp cho bài toán của bạn. Ngoài ra, bạn cũng nên chọn giá trị của k sao cho có thể chia đều các mẫu vào các nhóm. Thư viện scikit-learn cung cấp các cài đặt đầy đủ của cross-validation. "
      ],
      "metadata": {
        "id": "AP3QDTcwt1F-"
      }
    },
    {
      "cell_type": "code",
      "source": [
        "from numpy import array\n",
        "from sklearn.model_selection import KFold\n",
        "# data sample\n",
        "data2 = array([0.1, 0.2, 0.3, 0.4, 0.5, 0.6, 0.7, 0.8, 0.9, 1.0, 1.1, 1.2, 1.3, 1.4, 1.5, 1.6, 1.7, 1.8, 1.9, 2.0])\n",
        "# prepare cross validation\n",
        "kfold = KFold(n_splits=10, shuffle=True, random_state=1)\n",
        "# enumerate splits\n",
        "for train, test in kfold.split(data2):\n",
        "\tprint('train: %s, test: %s' % (data2[train], data2[test]))"
      ],
      "metadata": {
        "colab": {
          "base_uri": "https://localhost:8080/"
        },
        "id": "iHFic2_5oKXk",
        "outputId": "60c8d234-aed1-43e2-e1d7-8949c6f40168"
      },
      "execution_count": null,
      "outputs": [
        {
          "output_type": "stream",
          "name": "stdout",
          "text": [
            "train: [0.1 0.2 0.3 0.5 0.6 0.7 0.8 0.9 1.  1.1 1.2 1.3 1.4 1.5 1.6 1.8 1.9 2. ], test: [0.4 1.7]\n",
            "train: [0.1 0.2 0.3 0.4 0.5 0.6 0.8 0.9 1.  1.2 1.3 1.4 1.5 1.6 1.7 1.8 1.9 2. ], test: [0.7 1.1]\n",
            "train: [0.1 0.2 0.4 0.5 0.6 0.7 0.8 0.9 1.  1.1 1.2 1.3 1.4 1.6 1.7 1.8 1.9 2. ], test: [0.3 1.5]\n",
            "train: [0.1 0.2 0.3 0.4 0.6 0.7 0.8 0.9 1.  1.1 1.2 1.3 1.4 1.5 1.6 1.7 1.9 2. ], test: [0.5 1.8]\n",
            "train: [0.1 0.3 0.4 0.5 0.6 0.7 0.9 1.  1.1 1.2 1.3 1.4 1.5 1.6 1.7 1.8 1.9 2. ], test: [0.2 0.8]\n",
            "train: [0.2 0.3 0.4 0.5 0.6 0.7 0.8 0.9 1.  1.1 1.2 1.3 1.5 1.6 1.7 1.8 1.9 2. ], test: [0.1 1.4]\n",
            "train: [0.1 0.2 0.3 0.4 0.5 0.6 0.7 0.8 0.9 1.  1.1 1.2 1.3 1.4 1.5 1.6 1.7 1.8], test: [1.9 2. ]\n",
            "train: [0.1 0.2 0.3 0.4 0.5 0.6 0.7 0.8 0.9 1.1 1.2 1.3 1.4 1.5 1.7 1.8 1.9 2. ], test: [1.  1.6]\n",
            "train: [0.1 0.2 0.3 0.4 0.5 0.6 0.7 0.8 1.  1.1 1.2 1.4 1.5 1.6 1.7 1.8 1.9 2. ], test: [0.9 1.3]\n",
            "train: [0.1 0.2 0.3 0.4 0.5 0.7 0.8 0.9 1.  1.1 1.3 1.4 1.5 1.6 1.7 1.8 1.9 2. ], test: [0.6 1.2]\n"
          ]
        }
      ]
    },
    {
      "cell_type": "code",
      "source": [
        "#Cài đặt các thư viện cần thiết\n",
        "from numpy import mean\n",
        "from numpy import isnan\n",
        "from numpy import asarray\n",
        "from numpy import polyfit\n",
        "from scipy.stats import pearsonr\n",
        "from matplotlib import pyplot\n",
        "from sklearn.datasets import make_classification\n",
        "from sklearn.model_selection import KFold\n",
        "from sklearn.model_selection import LeaveOneOut\n",
        "from sklearn.model_selection import cross_val_score\n",
        "from sklearn.linear_model import LogisticRegression\n",
        "from sklearn.linear_model import RidgeClassifier\n",
        "from sklearn.linear_model import SGDClassifier\n",
        "from sklearn.linear_model import PassiveAggressiveClassifier\n",
        "from sklearn.neighbors import KNeighborsClassifier\n",
        "from sklearn.tree import DecisionTreeClassifier\n",
        "from sklearn.tree import ExtraTreeClassifier\n",
        "from sklearn.svm import LinearSVC\n",
        "from sklearn.svm import SVC\n",
        "from sklearn.naive_bayes import GaussianNB\n",
        "from sklearn.ensemble import AdaBoostClassifier\n",
        "from sklearn.ensemble import BaggingClassifier\n",
        "from sklearn.ensemble import RandomForestClassifier\n",
        "from sklearn.ensemble import ExtraTreesClassifier\n",
        "from sklearn.gaussian_process import GaussianProcessClassifier\n",
        "from sklearn.ensemble import GradientBoostingClassifier\n",
        "from sklearn.discriminant_analysis import LinearDiscriminantAnalysis\n",
        "from sklearn.discriminant_analysis import QuadraticDiscriminantAnalysis\n",
        "\n",
        "# Tạo dataset\n",
        "def get_dataset(n_samples=100):\n",
        "\tX, y = make_classification(n_samples=n_samples, n_features=20, n_informative=15, n_redundant=5, random_state=1)\n",
        "\treturn X, y\n",
        " \n",
        "# Lấy danh sách các mô hình để đánh giá\n",
        "def get_models():\n",
        "\tmodels = list()\n",
        "\tmodels.append(LogisticRegression())\n",
        "\tmodels.append(RidgeClassifier())\n",
        "\tmodels.append(SGDClassifier())\n",
        "\tmodels.append(PassiveAggressiveClassifier())\n",
        "\tmodels.append(KNeighborsClassifier())\n",
        "\tmodels.append(DecisionTreeClassifier())\n",
        "\tmodels.append(ExtraTreeClassifier())\n",
        "\tmodels.append(LinearSVC())\n",
        "\tmodels.append(SVC())\n",
        "\tmodels.append(GaussianNB())\n",
        "\tmodels.append(AdaBoostClassifier())\n",
        "\tmodels.append(BaggingClassifier())\n",
        "\tmodels.append(RandomForestClassifier())\n",
        "\tmodels.append(ExtraTreesClassifier())\n",
        "\tmodels.append(GaussianProcessClassifier())\n",
        "\tmodels.append(GradientBoostingClassifier())\n",
        "\tmodels.append(LinearDiscriminantAnalysis())\n",
        "\tmodels.append(QuadraticDiscriminantAnalysis())\n",
        "\treturn models\n",
        "\n",
        "# Đánh giá mô hình bằng cách sử dụng một điều kiện test nhất định\n",
        "def evaluate_model(cv, model):\n",
        "\t# Lấy dataset\n",
        "\tX, y = get_dataset()\n",
        "\t# Đánh giá mô hình\n",
        "\tscores = cross_val_score(model, X, y, scoring='accuracy', cv=cv, n_jobs=-1)\n",
        "\t# return scores\n",
        "\treturn mean(scores)\n",
        " \n",
        "# Xác định các điều kiện test\n",
        "ideal_cv = LeaveOneOut()\n",
        "cv = KFold(n_splits=10, shuffle=True, random_state=1)\n",
        "# Lấy danh sách các mô hình để xem xét\n",
        "models = get_models()\n",
        "# Thu được kết quả\n",
        "ideal_results, cv_results = list(), list()\n",
        "# Đánh giá từng mô hình\n",
        "for model in models:\n",
        "\t# Đánh giá mô hình bằng cách sử dụng từng điều kiện test\n",
        "\tcv_mean = evaluate_model(cv, model)\n",
        "\tideal_mean = evaluate_model(ideal_cv, model)\n",
        "\t# Kiểm tra kết quả không hợp lệ\n",
        "\tif isnan(cv_mean) or isnan(ideal_mean):\n",
        "\t\tcontinue\n",
        "\t# Lưu trữ kết quả\n",
        "\tcv_results.append(cv_mean)\n",
        "\tideal_results.append(ideal_mean)\n",
        "\t# Tóm tắt tiến độ\n",
        "\tprint('>%s: ideal=%.3f, cv=%.3f' % (type(model).__name__, ideal_mean, cv_mean))\n",
        "# Tính toán mối tương quan giữa mỗi điều kiện test\n",
        "corr, _ = pearsonr(cv_results, ideal_results)\n",
        "print('Correlation: %.3f' % corr)\n",
        "# Biểu đồ scatter plot của kết quả\n",
        "pyplot.scatter(cv_results, ideal_results)\n",
        "# Vẽ dòng phù hợp \n",
        "coeff, bias = polyfit(cv_results, ideal_results, 1)\n",
        "line = coeff * asarray(cv_results) + bias\n",
        "pyplot.plot(cv_results, line, color='r')\n",
        "# Biểu đồ label của kết quả\n",
        "pyplot.title('10-fold CV vs LOOCV Mean Accuracy')\n",
        "pyplot.xlabel('Mean Accuracy (10-fold CV)')\n",
        "pyplot.ylabel('Mean Accuracy (LOOCV)')\n",
        "# Trình chiếu biểu đồ\n",
        "pyplot.show()"
      ],
      "metadata": {
        "colab": {
          "base_uri": "https://localhost:8080/",
          "height": 645
        },
        "id": "8guqABZljk8J",
        "outputId": "ac448a2e-e683-4f7c-d303-94299f227746"
      },
      "execution_count": null,
      "outputs": [
        {
          "output_type": "stream",
          "name": "stdout",
          "text": [
            ">LogisticRegression: ideal=0.840, cv=0.850\n",
            ">RidgeClassifier: ideal=0.830, cv=0.830\n",
            ">SGDClassifier: ideal=0.760, cv=0.790\n",
            ">PassiveAggressiveClassifier: ideal=0.820, cv=0.810\n",
            ">KNeighborsClassifier: ideal=0.760, cv=0.770\n",
            ">DecisionTreeClassifier: ideal=0.740, cv=0.690\n",
            ">ExtraTreeClassifier: ideal=0.610, cv=0.710\n",
            ">LinearSVC: ideal=0.830, cv=0.860\n",
            ">SVC: ideal=0.900, cv=0.880\n",
            ">GaussianNB: ideal=0.730, cv=0.720\n",
            ">AdaBoostClassifier: ideal=0.740, cv=0.740\n",
            ">BaggingClassifier: ideal=0.720, cv=0.730\n",
            ">RandomForestClassifier: ideal=0.820, cv=0.780\n",
            ">ExtraTreesClassifier: ideal=0.860, cv=0.800\n",
            ">GaussianProcessClassifier: ideal=0.790, cv=0.760\n",
            ">GradientBoostingClassifier: ideal=0.820, cv=0.820\n",
            ">LinearDiscriminantAnalysis: ideal=0.830, cv=0.830\n",
            ">QuadraticDiscriminantAnalysis: ideal=0.860, cv=0.700\n",
            "Correlation: 0.680\n"
          ]
        },
        {
          "output_type": "display_data",
          "data": {
            "text/plain": [
              "<Figure size 432x288 with 1 Axes>"
            ],
            "image/png": "[encoded data removed]"
          },
          "metadata": {
            "needs_background": "light"
          }
        }
      ]
    },
    {
      "cell_type": "markdown",
      "source": [
        "# **Bài 5:** Hãy trình bày lý thuyết về các chủ điểm sau:\n",
        "# - Bias là gì?\n",
        "# - Overfitting là gì?\n",
        "# - RMSE là gì?\n",
        "# - Precision là gì?"
      ],
      "metadata": {
        "id": "0eBGUZwszWRM"
      }
    },
    {
      "cell_type": "markdown",
      "source": [
        "- Bias: nghĩa là độ lệch, biểu thị sự chênh lệch giữa giá trị trung bình mà mô hình dự đoán và giá trị thực tế của dữ liệu.\n",
        "\n",
        "- Overfitting là hiện tượng khi mô hình xây dựng thể hiện được chi tiết bộ dữ liệu huấn luyện. Điều này có nghĩa là cả dữ liệu nhiễu, hoặc dữ liệu bất thường trong tập huấn luyện đều được chọn và học để đưa ra quy luật mô hình.\n",
        "\n",
        "- Root-Mean-Square Error ( RMSE ) là một biện pháp thường được sử dụng trong những khác biệt giữa các giá trị (mẫu hoặc các giá trị dân) được dự đoán bởi một mô hình hay một ước lượng và các giá trị quan sát được. RMSE đại diện cho căn bậc hai của thời điểm mẫu thứ hai về sự khác biệt giữa các giá trị dự đoán và giá trị quan sát hoặc giá trị trung bình bậc hai của những khác biệt này.\n",
        "\n",
        "- Xét bài toán phân loại nhị phân trong hình dưới. Ta cũng coi một trong hai lớp là positive, lớp còn lại là negative.\n",
        "![image.png](data:image/png;base64,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)\n",
        "Với một cách xác định một lớp là positive, Precision được định nghĩa là tỉ lệ số điểm true positive trong số những điểm được phân loại là positive (TP + FP)."
      ],
      "metadata": {
        "id": "OrH9er7pz7Rn"
      }
    },
    {
      "cell_type": "markdown",
      "source": [
        "# **Bài 6:** Hãy trình bày phương pháp đánh giá mô hình bằng cách sử dụng tập dữ liệu kiểm thử (test dataset) và code tương ứng"
      ],
      "metadata": {
        "id": "__gv7mOK3AZ_"
      }
    },
    {
      "cell_type": "markdown",
      "source": [
        "Phương pháp đánh giá mô hình giúp chúng ta lựa chọn được mô hình phù hợp nhất đối với bài toán của mình, bao gồm các thành phần:\n",
        "- Accuracy(Sự chính xác)\n",
        "- Confusion matrix(Ma trận hỗn tạp)\n",
        "- Precision(Độ chính xác)\n",
        "- Recall(Gợi lại)\n",
        "- F-Score"
      ],
      "metadata": {
        "id": "FbDbGTf3uIzt"
      }
    },
    {
      "cell_type": "code",
      "source": [
        "import numpy as np\n",
        "import pandas as pd\n",
        "from sklearn.model_selection import train_test_split\n",
        "from sklearn.ensemble import RandomForestClassifier\n",
        "#Drop id column\n",
        "\n",
        "X = data.iloc[:, :-1].values\n",
        "y = data.iloc[:, 4].values\n",
        "#Chia mảng thành các tập hợp con test và train ngẫu nhiên\n",
        "X_train, X_test, y_train, y_test = train_test_split(X, y, test_size=0.30)\n",
        "\n",
        "print(\"\\n30% test data:\")\n",
        "print(X_test)\n",
        "print(y_test)\n"
      ],
      "metadata": {
        "colab": {
          "base_uri": "https://localhost:8080/"
        },
        "id": "hjTMIodxoo3w",
        "outputId": "38e663a0-05d7-477c-8a0b-cc7203815d01"
      },
      "execution_count": null,
      "outputs": [
        {
          "output_type": "stream",
          "name": "stdout",
          "text": [
            "\n",
            "30% test data:\n",
            "[[6.7 3.1 4.7 1.5]\n",
            " [5.8 2.7 5.1 1.9]\n",
            " [4.9 3.1 1.5 0.1]\n",
            " [6.8 3.2 5.9 2.3]\n",
            " [7.2 3.6 6.1 2.5]\n",
            " [4.9 2.5 4.5 1.7]\n",
            " [5.  3.4 1.6 0.4]\n",
            " [6.4 2.8 5.6 2.1]\n",
            " [5.6 3.  4.5 1.5]\n",
            " [6.4 3.1 5.5 1.8]\n",
            " [5.7 3.8 1.7 0.3]\n",
            " [5.  3.  1.6 0.2]\n",
            " [5.1 3.5 1.4 0.3]\n",
            " [5.6 2.9 3.6 1.3]\n",
            " [5.  3.5 1.3 0.3]\n",
            " [5.1 3.8 1.5 0.3]\n",
            " [5.1 3.8 1.6 0.2]\n",
            " [6.  2.9 4.5 1.5]\n",
            " [6.1 2.8 4.7 1.2]\n",
            " [7.1 3.  5.9 2.1]\n",
            " [6.4 2.8 5.6 2.2]\n",
            " [6.5 3.  5.2 2. ]\n",
            " [7.7 2.6 6.9 2.3]\n",
            " [7.  3.2 4.7 1.4]\n",
            " [6.  3.4 4.5 1.6]\n",
            " [5.8 2.7 3.9 1.2]\n",
            " [6.3 2.3 4.4 1.3]\n",
            " [6.4 3.2 5.3 2.3]\n",
            " [6.6 3.  4.4 1.4]\n",
            " [5.8 2.7 4.1 1. ]\n",
            " [5.9 3.  5.1 1.8]\n",
            " [6.5 3.  5.8 2.2]\n",
            " [6.3 3.3 4.7 1.6]\n",
            " [6.1 2.9 4.7 1.4]\n",
            " [4.6 3.4 1.4 0.3]\n",
            " [6.6 2.9 4.6 1.3]\n",
            " [4.6 3.2 1.4 0.2]\n",
            " [7.2 3.  5.8 1.6]\n",
            " [7.3 2.9 6.3 1.8]\n",
            " [6.3 2.7 4.9 1.8]\n",
            " [6.8 3.  5.5 2.1]\n",
            " [7.6 3.  6.6 2.1]\n",
            " [6.  2.2 4.  1. ]\n",
            " [5.9 3.  4.2 1.5]\n",
            " [5.2 2.7 3.9 1.4]]\n",
            "['Iris-versicolor' 'Iris-virginica' 'Iris-setosa' 'Iris-virginica'\n",
            " 'Iris-virginica' 'Iris-virginica' 'Iris-setosa' 'Iris-virginica'\n",
            " 'Iris-versicolor' 'Iris-virginica' 'Iris-setosa' 'Iris-setosa'\n",
            " 'Iris-setosa' 'Iris-versicolor' 'Iris-setosa' 'Iris-setosa' 'Iris-setosa'\n",
            " 'Iris-versicolor' 'Iris-versicolor' 'Iris-virginica' 'Iris-virginica'\n",
            " 'Iris-virginica' 'Iris-virginica' 'Iris-versicolor' 'Iris-versicolor'\n",
            " 'Iris-versicolor' 'Iris-versicolor' 'Iris-virginica' 'Iris-versicolor'\n",
            " 'Iris-versicolor' 'Iris-virginica' 'Iris-virginica' 'Iris-versicolor'\n",
            " 'Iris-versicolor' 'Iris-setosa' 'Iris-versicolor' 'Iris-setosa'\n",
            " 'Iris-virginica' 'Iris-virginica' 'Iris-virginica' 'Iris-virginica'\n",
            " 'Iris-virginica' 'Iris-versicolor' 'Iris-versicolor' 'Iris-versicolor']\n"
          ]
        }
      ]
    },
    {
      "cell_type": "code",
      "source": [
        "# Training a binary classifier using Random Forest Algorithm with default hyperparameters\n",
        "classifier = RandomForestClassifier(random_state=18)\n",
        "classifier.fit(X_train, y_train)\n",
        "\n",
        "# Here X_test, y_test are the test data points\n",
        "predictions = classifier.predict(X_test)"
      ],
      "metadata": {
        "id": "r_aQbKAoTj9x"
      },
      "execution_count": null,
      "outputs": []
    },
    {
      "cell_type": "markdown",
      "source": [
        "Accuracy là tỷ lệ phần trăm dự đoán đúng cho dữ liệu thử nghiệm. Nó có thể được tính toán dễ dàng bằng cách chia số lần dự đoán đúng cho tổng số lần dự đoán."
      ],
      "metadata": {
        "id": "tPvl8i6VRedL"
      }
    },
    {
      "cell_type": "code",
      "source": [
        "from sklearn.metrics import accuracy_score\n",
        "# Calculating the accuracy of classifier\n",
        "print(f\"Accuracy of the classifier is: {accuracy_score(y_test, predictions)}\")"
      ],
      "metadata": {
        "colab": {
          "base_uri": "https://localhost:8080/"
        },
        "id": "L7BRsjp6Re2n",
        "outputId": "a8f6fc91-53c5-4d07-cfa6-4b315c3ecb6b"
      },
      "execution_count": null,
      "outputs": [
        {
          "output_type": "stream",
          "name": "stdout",
          "text": [
            "Accuracy of the classifier is: 0.9333333333333333\n"
          ]
        }
      ]
    },
    {
      "cell_type": "markdown",
      "source": [
        "Confusion matrix là ma trận vuông N chiều, trong đó N đại diện cho tổng số lớp hoặc danh mục mục tiêu. Confusion matrix có thể được sử dụng để đánh giá một bộ phân loại bất cứ khi nào tập dữ liệu bị mất cân bằng."
      ],
      "metadata": {
        "id": "ezH-HRBpUne_"
      }
    },
    {
      "cell_type": "code",
      "source": [
        "# importing all necessary libraries\n",
        "import matplotlib.pyplot as plt\n",
        "from sklearn.metrics import confusion_matrix\n",
        "from sklearn.metrics import plot_confusion_matrix\n",
        "\n",
        "# confusion_matrix funnction a matrix containing the summary of predictions\n",
        "print(confusion_matrix(y_test, predictions))\n",
        "\n",
        "# plot_confusion_matrix function is used to visualize the confusion matrix\n",
        "plot_confusion_matrix(classifier, X_test, y_test)\n",
        "plt.show()"
      ],
      "metadata": {
        "colab": {
          "base_uri": "https://localhost:8080/",
          "height": 391
        },
        "id": "sxBUcGngUn3m",
        "outputId": "37f7ab68-2c0b-4c5e-db39-39ce03052f34"
      },
      "execution_count": null,
      "outputs": [
        {
          "output_type": "stream",
          "name": "stdout",
          "text": [
            "[[ 5  6  4]\n",
            " [ 2  3 10]\n",
            " [ 3  9  3]]\n"
          ]
        },
        {
          "output_type": "stream",
          "name": "stderr",
          "text": [
            "/usr/local/lib/python3.7/dist-packages/sklearn/utils/deprecation.py:87: FutureWarning: Function plot_confusion_matrix is deprecated; Function `plot_confusion_matrix` is deprecated in 1.0 and will be removed in 1.2. Use one of the class methods: ConfusionMatrixDisplay.from_predictions or ConfusionMatrixDisplay.from_estimator.\n",
            "  warnings.warn(msg, category=FutureWarning)\n"
          ]
        },
        {
          "output_type": "display_data",
          "data": {
            "text/plain": [
              "<Figure size 432x288 with 2 Axes>"
            ],
            "image/png": "[encoded data removed]"
          },
          "metadata": {
            "needs_background": "light"
          }
        }
      ]
    },
    {
      "cell_type": "markdown",
      "source": [
        "Precision là phần nhỏ của các ví dụ có liên quan (tích cực thực sự) trong số tất cả các ví dụ được dự đoán là thuộc một lớp nhất định."
      ],
      "metadata": {
        "id": "bH26ulQxUDWo"
      }
    },
    {
      "cell_type": "code",
      "source": [
        "# Importing all necessary libraries\n",
        "from sklearn.metrics import accuracy_score\n",
        "# Calculating the accuracy of classifier\n",
        "print(f\"Accuracy of the classifier is: {accuracy_score(y_test, predictions)}\")"
      ],
      "metadata": {
        "colab": {
          "base_uri": "https://localhost:8080/"
        },
        "id": "VoBMImY_UD-a",
        "outputId": "88479a07-7940-42d0-ab4b-1fe2f9fc02dc"
      },
      "execution_count": null,
      "outputs": [
        {
          "output_type": "stream",
          "name": "stdout",
          "text": [
            "Accuracy of the classifier is: 0.9777777777777777\n"
          ]
        }
      ]
    },
    {
      "cell_type": "markdown",
      "source": [
        "Recall là phần nhỏ của các ví dụ được dự đoán thuộc về một lớp so với tất cả các ví dụ thực sự thuộc về lớp đó."
      ],
      "metadata": {
        "id": "05G2RIS0Ucvx"
      }
    },
    {
      "cell_type": "code",
      "source": [
        "# Importing all necessary libraries\n",
        "from sklearn.metrics import recall_score\n",
        "\n",
        "# Calculating the recall score of classifier\n",
        "print(f\"Recall Score of the classifier is: {recall_score(y_test, predictions)}\")"
      ],
      "metadata": {
        "id": "Psx4bpMVUdLY"
      },
      "execution_count": null,
      "outputs": []
    },
    {
      "cell_type": "markdown",
      "source": [
        "F1-Score được sử dụng khi cả độ chính xác và thu hồi đều quan trọng đối với trường hợp sử dụng. Điểm F1 là trung bình hài hòa của độ chính xác và thu hồi."
      ],
      "metadata": {
        "id": "erYPOHqBXQLm"
      }
    },
    {
      "cell_type": "code",
      "source": [
        "# Importing all necessary libraries\n",
        "from sklearn.metrics import f1_score\n",
        "\n",
        "# Calculating the F1 score of classifier\n",
        "print(f\"F1 Score of the classifier is: {f1_score(y_test, predictions)}\")"
      ],
      "metadata": {
        "id": "a76OSkBQXplG"
      },
      "execution_count": null,
      "outputs": []
    },
    {
      "cell_type": "markdown",
      "source": [
        "# **Bài 7:** Bạn hãy lựa chọn 1 tập dữ liệu phù hợp với bài toán hồi quy tuyến tính và xây dựng mô hình hồi quy tuyến tính theo từng bước (kèm với mô tả của từng bước)"
      ],
      "metadata": {
        "id": "QcoELnpmelN1"
      }
    },
    {
      "cell_type": "markdown",
      "source": [
        "- **Bước 1:** Tải dữ liệu\n",
        "\n",
        "Cài đặt các thư viện cần thiết, rồi từ đó load tập dữ liệu Iris"
      ],
      "metadata": {
        "id": "nkTybUwFg2fR"
      }
    },
    {
      "cell_type": "code",
      "source": [
        "import numpy as np\n",
        "from sklearn.linear_model import LinearRegression\n",
        "from sklearn import neighbors\n",
        "from sklearn import datasets"
      ],
      "metadata": {
        "id": "kMtSm_Iee5bM"
      },
      "execution_count": null,
      "outputs": []
    },
    {
      "cell_type": "code",
      "source": [
        "data = pd.read_csv('http://archive.ics.uci.edu/ml/machine-learning-databases/iris/iris.data',header=None)\n",
        "data.columns = ['sepal length', 'sepal width', 'petal length', 'petal width', 'class']\n",
        "\n",
        "data.head()"
      ],
      "metadata": {
        "colab": {
          "base_uri": "https://localhost:8080/",
          "height": 206
        },
        "id": "dngy-TedhAUn",
        "outputId": "294a9315-2781-4c89-e5dd-97ef5521dfda"
      },
      "execution_count": null,
      "outputs": [
        {
          "output_type": "execute_result",
          "data": {
            "text/plain": [
              "   sepal length  sepal width  petal length  petal width        class\n",
              "0           5.1          3.5           1.4          0.2  Iris-setosa\n",
              "1           4.9          3.0           1.4          0.2  Iris-setosa\n",
              "2           4.7          3.2           1.3          0.2  Iris-setosa\n",
              "3           4.6          3.1           1.5          0.2  Iris-setosa\n",
              "4           5.0          3.6           1.4          0.2  Iris-setosa"
            ],
            "text/html": [
              "\n",
              "  <div id=\"df-906cad81-da75-4f43-928c-12204a9116e5\">\n",
              "    <div class=\"colab-df-container\">\n",
              "      <div>\n",
              "<style scoped>\n",
              "    .dataframe tbody tr th:only-of-type {\n",
              "        vertical-align: middle;\n",
              "    }\n",
              "\n",
              "    .dataframe tbody tr th {\n",
              "        vertical-align: top;\n",
              "    }\n",
              "\n",
              "    .dataframe thead th {\n",
              "        text-align: right;\n",
              "    }\n",
              "</style>\n",
              "<table border=\"1\" class=\"dataframe\">\n",
              "  <thead>\n",
              "    <tr style=\"text-align: right;\">\n",
              "      <th></th>\n",
              "      <th>sepal length</th>\n",
              "      <th>sepal width</th>\n",
              "      <th>petal length</th>\n",
              "      <th>petal width</th>\n",
              "      <th>class</th>\n",
              "    </tr>\n",
              "  </thead>\n",
              "  <tbody>\n",
              "    <tr>\n",
              "      <th>0</th>\n",
              "      <td>5.1</td>\n",
              "      <td>3.5</td>\n",
              "      <td>1.4</td>\n",
              "      <td>0.2</td>\n",
              "      <td>Iris-setosa</td>\n",
              "    </tr>\n",
              "    <tr>\n",
              "      <th>1</th>\n",
              "      <td>4.9</td>\n",
              "      <td>3.0</td>\n",
              "      <td>1.4</td>\n",
              "      <td>0.2</td>\n",
              "      <td>Iris-setosa</td>\n",
              "    </tr>\n",
              "    <tr>\n",
              "      <th>2</th>\n",
              "      <td>4.7</td>\n",
              "      <td>3.2</td>\n",
              "      <td>1.3</td>\n",
              "      <td>0.2</td>\n",
              "      <td>Iris-setosa</td>\n",
              "    </tr>\n",
              "    <tr>\n",
              "      <th>3</th>\n",
              "      <td>4.6</td>\n",
              "      <td>3.1</td>\n",
              "      <td>1.5</td>\n",
              "      <td>0.2</td>\n",
              "      <td>Iris-setosa</td>\n",
              "    </tr>\n",
              "    <tr>\n",
              "      <th>4</th>\n",
              "      <td>5.0</td>\n",
              "      <td>3.6</td>\n",
              "      <td>1.4</td>\n",
              "      <td>0.2</td>\n",
              "      <td>Iris-setosa</td>\n",
              "    </tr>\n",
              "  </tbody>\n",
              "</table>\n",
              "</div>\n",
              "      <button class=\"colab-df-convert\" onclick=\"convertToInteractive('df-906cad81-da75-4f43-928c-12204a9116e5')\"\n",
              "              title=\"Convert this dataframe to an interactive table.\"\n",
              "              style=\"display:none;\">\n",
              "        \n",
              "  <svg xmlns=\"http://www.w3.org/2000/svg\" height=\"24px\"viewBox=\"0 0 24 24\"\n",
              "       width=\"24px\">\n",
              "    <path d=\"M0 0h24v24H0V0z\" fill=\"none\"/>\n",
              "    <path d=\"M18.56 5.44l.94 2.06.94-2.06 2.06-.94-2.06-.94-.94-2.06-.94 2.06-2.06.94zm-11 1L8.5 8.5l.94-2.06 2.06-.94-2.06-.94L8.5 2.5l-.94 2.06-2.06.94zm10 10l.94 2.06.94-2.06 2.06-.94-2.06-.94-.94-2.06-.94 2.06-2.06.94z\"/><path d=\"M17.41 7.96l-1.37-1.37c-.4-.4-.92-.59-1.43-.59-.52 0-1.04.2-1.43.59L10.3 9.45l-7.72 7.72c-.78.78-.78 2.05 0 2.83L4 21.41c.39.39.9.59 1.41.59.51 0 1.02-.2 1.41-.59l7.78-7.78 2.81-2.81c.8-.78.8-2.07 0-2.86zM5.41 20L4 18.59l7.72-7.72 1.47 1.35L5.41 20z\"/>\n",
              "  </svg>\n",
              "      </button>\n",
              "      \n",
              "  <style>\n",
              "    .colab-df-container {\n",
              "      display:flex;\n",
              "      flex-wrap:wrap;\n",
              "      gap: 12px;\n",
              "    }\n",
              "\n",
              "    .colab-df-convert {\n",
              "      background-color: #E8F0FE;\n",
              "      border: none;\n",
              "      border-radius: 50%;\n",
              "      cursor: pointer;\n",
              "      display: none;\n",
              "      fill: #1967D2;\n",
              "      height: 32px;\n",
              "      padding: 0 0 0 0;\n",
              "      width: 32px;\n",
              "    }\n",
              "\n",
              "    .colab-df-convert:hover {\n",
              "      background-color: #E2EBFA;\n",
              "      box-shadow: 0px 1px 2px rgba(60, 64, 67, 0.3), 0px 1px 3px 1px rgba(60, 64, 67, 0.15);\n",
              "      fill: #174EA6;\n",
              "    }\n",
              "\n",
              "    [theme=dark] .colab-df-convert {\n",
              "      background-color: #3B4455;\n",
              "      fill: #D2E3FC;\n",
              "    }\n",
              "\n",
              "    [theme=dark] .colab-df-convert:hover {\n",
              "      background-color: #434B5C;\n",
              "      box-shadow: 0px 1px 3px 1px rgba(0, 0, 0, 0.15);\n",
              "      filter: drop-shadow(0px 1px 2px rgba(0, 0, 0, 0.3));\n",
              "      fill: #FFFFFF;\n",
              "    }\n",
              "  </style>\n",
              "\n",
              "      <script>\n",
              "        const buttonEl =\n",
              "          document.querySelector('#df-906cad81-da75-4f43-928c-12204a9116e5 button.colab-df-convert');\n",
              "        buttonEl.style.display =\n",
              "          google.colab.kernel.accessAllowed ? 'block' : 'none';\n",
              "\n",
              "        async function convertToInteractive(key) {\n",
              "          const element = document.querySelector('#df-906cad81-da75-4f43-928c-12204a9116e5');\n",
              "          const dataTable =\n",
              "            await google.colab.kernel.invokeFunction('convertToInteractive',\n",
              "                                                     [key], {});\n",
              "          if (!dataTable) return;\n",
              "\n",
              "          const docLinkHtml = 'Like what you see? Visit the ' +\n",
              "            '<a target=\"_blank\" href=https://colab.research.google.com/notebooks/data_table.ipynb>data table notebook</a>'\n",
              "            + ' to learn more about interactive tables.';\n",
              "          element.innerHTML = '';\n",
              "          dataTable['output_type'] = 'display_data';\n",
              "          await google.colab.output.renderOutput(dataTable, element);\n",
              "          const docLink = document.createElement('div');\n",
              "          docLink.innerHTML = docLinkHtml;\n",
              "          element.appendChild(docLink);\n",
              "        }\n",
              "      </script>\n",
              "    </div>\n",
              "  </div>\n",
              "  "
            ]
          },
          "metadata": {},
          "execution_count": 27
        }
      ]
    },
    {
      "cell_type": "markdown",
      "source": [
        "- **Bước 2:** Mô tả dữ liệu"
      ],
      "metadata": {
        "id": "--EL6z5xhAnF"
      }
    },
    {
      "cell_type": "markdown",
      "source": [
        "Tập dữ liệu Iris đưa ra các phép đo tính bằng cm của các biến chiều dài và chiều rộng của đài hoa và chiều dài và chiều rộng của cánh hoa , tương ứng đối với 50 bông hoa từ 3 loài trong số 3 loài iris. Các loài là Iris setosa , versicolor , và virginica ."
      ],
      "metadata": {
        "id": "vM1XH6UewV_a"
      }
    },
    {
      "cell_type": "code",
      "source": [
        ""
      ],
      "metadata": {
        "id": "dEgujF0xhEAI"
      },
      "execution_count": null,
      "outputs": []
    },
    {
      "cell_type": "markdown",
      "source": [
        "- **Bước 3:** Phân chia train – test (tỉ lệ 70% -30%)"
      ],
      "metadata": {
        "id": "MXzuCwuGhExP"
      }
    },
    {
      "cell_type": "markdown",
      "source": [
        "Viết code Python bằng Scikit-learning để chia tập Iris dataset thành 70% dữ liệu train và 30% dữ liệu test."
      ],
      "metadata": {
        "id": "H0KkDtG-w4rD"
      }
    },
    {
      "cell_type": "code",
      "source": [
        "import pandas as pd\n",
        "from sklearn.model_selection import train_test_split\n",
        "from sklearn.neighbors import KNeighborsClassifier\n",
        "#Drop id column\n",
        "\n",
        "X = data.iloc[:, :-1].values\n",
        "y = data.iloc[:, 4].values\n",
        "#Split arrays or matrices into random train and test subsets\n",
        "X_train, X_test, y_train, y_test = train_test_split(X, y, test_size=0.30)\n",
        "\n",
        "print(\"\\n70% train data:\")\n",
        "print(X_train)\n",
        "print(y_train)\n",
        "print(\"\\n30% test data:\")\n",
        "print(X_test)\n",
        "print(y_test)\n",
        "\n",
        "#Create KNN Classifier\n",
        "#Number of neighbors to use by default for kneighbors queries.\n",
        "knn = KNeighborsClassifier(n_neighbors=5)\n",
        "#Train the model using the training sets\n",
        "knn.fit(X_train, y_train)\n",
        "#Predict the response for test dataset\n",
        "print(\"Response for test dataset:\")\n",
        "y_pred = knn.predict(X_test)\n",
        "print(y_pred)"
      ],
      "metadata": {
        "colab": {
          "base_uri": "https://localhost:8080/"
        },
        "id": "oeQBfJhqhN-_",
        "outputId": "68efb2a5-04bf-49c5-834f-364229d81f15"
      },
      "execution_count": null,
      "outputs": [
        {
          "output_type": "stream",
          "name": "stdout",
          "text": [
            "\n",
            "70% train data:\n",
            "[[5.7 2.8 4.1 1.3]\n",
            " [6.1 2.8 4.  1.3]\n",
            " [6.7 3.  5.  1.7]\n",
            " [5.4 3.9 1.7 0.4]\n",
            " [6.9 3.1 5.4 2.1]\n",
            " [6.8 3.  5.5 2.1]\n",
            " [5.  2.  3.5 1. ]\n",
            " [5.4 3.4 1.5 0.4]\n",
            " [6.  2.2 5.  1.5]\n",
            " [7.1 3.  5.9 2.1]\n",
            " [6.5 2.8 4.6 1.5]\n",
            " [5.4 3.4 1.7 0.2]\n",
            " [7.7 3.  6.1 2.3]\n",
            " [5.4 3.  4.5 1.5]\n",
            " [6.1 2.8 4.7 1.2]\n",
            " [5.2 2.7 3.9 1.4]\n",
            " [5.1 3.8 1.9 0.4]\n",
            " [6.  2.9 4.5 1.5]\n",
            " [5.  3.4 1.6 0.4]\n",
            " [5.  3.2 1.2 0.2]\n",
            " [5.8 2.7 3.9 1.2]\n",
            " [5.7 2.8 4.5 1.3]\n",
            " [7.4 2.8 6.1 1.9]\n",
            " [6.3 2.8 5.1 1.5]\n",
            " [4.9 3.  1.4 0.2]\n",
            " [6.3 3.3 4.7 1.6]\n",
            " [6.1 2.9 4.7 1.4]\n",
            " [5.  3.5 1.3 0.3]\n",
            " [5.4 3.9 1.3 0.4]\n",
            " [4.6 3.1 1.5 0.2]\n",
            " [5.8 2.7 4.1 1. ]\n",
            " [6.  3.  4.8 1.8]\n",
            " [5.1 3.8 1.6 0.2]\n",
            " [6.4 3.2 5.3 2.3]\n",
            " [6.4 2.9 4.3 1.3]\n",
            " [6.4 2.8 5.6 2.1]\n",
            " [6.3 2.5 4.9 1.5]\n",
            " [7.2 3.2 6.  1.8]\n",
            " [6.  3.4 4.5 1.6]\n",
            " [4.7 3.2 1.3 0.2]\n",
            " [6.7 3.1 4.7 1.5]\n",
            " [5.8 2.7 5.1 1.9]\n",
            " [5.1 3.3 1.7 0.5]\n",
            " [6.6 2.9 4.6 1.3]\n",
            " [6.9 3.1 5.1 2.3]\n",
            " [7.9 3.8 6.4 2. ]\n",
            " [6.2 2.2 4.5 1.5]\n",
            " [4.8 3.  1.4 0.1]\n",
            " [7.3 2.9 6.3 1.8]\n",
            " [5.9 3.  5.1 1.8]\n",
            " [4.6 3.6 1.  0.2]\n",
            " [6.7 3.3 5.7 2.5]\n",
            " [6.7 3.1 4.4 1.4]\n",
            " [5.5 2.6 4.4 1.2]\n",
            " [5.5 4.2 1.4 0.2]\n",
            " [6.7 3.3 5.7 2.1]\n",
            " [7.7 2.6 6.9 2.3]\n",
            " [6.9 3.2 5.7 2.3]\n",
            " [6.1 2.6 5.6 1.4]\n",
            " [4.8 3.  1.4 0.3]\n",
            " [6.5 3.2 5.1 2. ]\n",
            " [5.8 2.7 5.1 1.9]\n",
            " [5.7 3.  4.2 1.2]\n",
            " [6.7 3.  5.2 2.3]\n",
            " [4.3 3.  1.1 0.1]\n",
            " [6.7 2.5 5.8 1.8]\n",
            " [5.2 3.5 1.5 0.2]\n",
            " [6.9 3.1 4.9 1.5]\n",
            " [5.1 3.4 1.5 0.2]\n",
            " [4.4 3.  1.3 0.2]\n",
            " [6.3 3.3 6.  2.5]\n",
            " [4.9 2.4 3.3 1. ]\n",
            " [5.5 2.5 4.  1.3]\n",
            " [6.8 2.8 4.8 1.4]\n",
            " [6.4 3.2 4.5 1.5]\n",
            " [6.3 2.7 4.9 1.8]\n",
            " [5.3 3.7 1.5 0.2]\n",
            " [6.2 3.4 5.4 2.3]\n",
            " [5.9 3.  4.2 1.5]\n",
            " [6.  2.7 5.1 1.6]\n",
            " [5.2 3.4 1.4 0.2]\n",
            " [6.7 3.1 5.6 2.4]\n",
            " [4.8 3.1 1.6 0.2]\n",
            " [7.7 2.8 6.7 2. ]\n",
            " [5.6 3.  4.5 1.5]\n",
            " [5.6 2.9 3.6 1.3]\n",
            " [5.6 2.7 4.2 1.3]\n",
            " [7.2 3.  5.8 1.6]\n",
            " [4.9 2.5 4.5 1.7]\n",
            " [5.  3.6 1.4 0.2]\n",
            " [7.7 3.8 6.7 2.2]\n",
            " [7.  3.2 4.7 1.4]\n",
            " [6.1 3.  4.9 1.8]\n",
            " [5.4 3.7 1.5 0.2]\n",
            " [5.1 3.8 1.5 0.3]\n",
            " [6.  2.2 4.  1. ]\n",
            " [5.1 3.5 1.4 0.2]\n",
            " [5.9 3.2 4.8 1.8]\n",
            " [6.5 3.  5.2 2. ]\n",
            " [7.6 3.  6.6 2.1]\n",
            " [4.5 2.3 1.3 0.3]\n",
            " [4.9 3.1 1.5 0.1]\n",
            " [4.6 3.2 1.4 0.2]\n",
            " [4.9 3.1 1.5 0.1]\n",
            " [5.5 2.3 4.  1.3]]\n",
            "['Iris-versicolor' 'Iris-versicolor' 'Iris-versicolor' 'Iris-setosa'\n",
            " 'Iris-virginica' 'Iris-virginica' 'Iris-versicolor' 'Iris-setosa'\n",
            " 'Iris-virginica' 'Iris-virginica' 'Iris-versicolor' 'Iris-setosa'\n",
            " 'Iris-virginica' 'Iris-versicolor' 'Iris-versicolor' 'Iris-versicolor'\n",
            " 'Iris-setosa' 'Iris-versicolor' 'Iris-setosa' 'Iris-setosa'\n",
            " 'Iris-versicolor' 'Iris-versicolor' 'Iris-virginica' 'Iris-virginica'\n",
            " 'Iris-setosa' 'Iris-versicolor' 'Iris-versicolor' 'Iris-setosa'\n",
            " 'Iris-setosa' 'Iris-setosa' 'Iris-versicolor' 'Iris-virginica'\n",
            " 'Iris-setosa' 'Iris-virginica' 'Iris-versicolor' 'Iris-virginica'\n",
            " 'Iris-versicolor' 'Iris-virginica' 'Iris-versicolor' 'Iris-setosa'\n",
            " 'Iris-versicolor' 'Iris-virginica' 'Iris-setosa' 'Iris-versicolor'\n",
            " 'Iris-virginica' 'Iris-virginica' 'Iris-versicolor' 'Iris-setosa'\n",
            " 'Iris-virginica' 'Iris-virginica' 'Iris-setosa' 'Iris-virginica'\n",
            " 'Iris-versicolor' 'Iris-versicolor' 'Iris-setosa' 'Iris-virginica'\n",
            " 'Iris-virginica' 'Iris-virginica' 'Iris-virginica' 'Iris-setosa'\n",
            " 'Iris-virginica' 'Iris-virginica' 'Iris-versicolor' 'Iris-virginica'\n",
            " 'Iris-setosa' 'Iris-virginica' 'Iris-setosa' 'Iris-versicolor'\n",
            " 'Iris-setosa' 'Iris-setosa' 'Iris-virginica' 'Iris-versicolor'\n",
            " 'Iris-versicolor' 'Iris-versicolor' 'Iris-versicolor' 'Iris-virginica'\n",
            " 'Iris-setosa' 'Iris-virginica' 'Iris-versicolor' 'Iris-versicolor'\n",
            " 'Iris-setosa' 'Iris-virginica' 'Iris-setosa' 'Iris-virginica'\n",
            " 'Iris-versicolor' 'Iris-versicolor' 'Iris-versicolor' 'Iris-virginica'\n",
            " 'Iris-virginica' 'Iris-setosa' 'Iris-virginica' 'Iris-versicolor'\n",
            " 'Iris-virginica' 'Iris-setosa' 'Iris-setosa' 'Iris-versicolor'\n",
            " 'Iris-setosa' 'Iris-versicolor' 'Iris-virginica' 'Iris-virginica'\n",
            " 'Iris-setosa' 'Iris-setosa' 'Iris-setosa' 'Iris-setosa' 'Iris-versicolor']\n",
            "\n",
            "30% test data:\n",
            "[[7.2 3.6 6.1 2.5]\n",
            " [5.7 3.8 1.7 0.3]\n",
            " [5.7 2.9 4.2 1.3]\n",
            " [5.  3.3 1.4 0.2]\n",
            " [5.7 2.5 5.  2. ]\n",
            " [4.6 3.4 1.4 0.3]\n",
            " [5.5 3.5 1.3 0.2]\n",
            " [5.8 4.  1.2 0.2]\n",
            " [5.7 4.4 1.5 0.4]\n",
            " [6.8 3.2 5.9 2.3]\n",
            " [6.4 2.8 5.6 2.2]\n",
            " [6.5 3.  5.8 2.2]\n",
            " [4.8 3.4 1.9 0.2]\n",
            " [6.3 2.3 4.4 1.3]\n",
            " [5.  3.  1.6 0.2]\n",
            " [6.2 2.9 4.3 1.3]\n",
            " [6.1 3.  4.6 1.4]\n",
            " [6.2 2.8 4.8 1.8]\n",
            " [6.5 3.  5.5 1.8]\n",
            " [5.5 2.4 3.7 1. ]\n",
            " [5.2 4.1 1.5 0.1]\n",
            " [5.7 2.6 3.5 1. ]\n",
            " [5.  3.4 1.5 0.2]\n",
            " [4.7 3.2 1.6 0.2]\n",
            " [4.8 3.4 1.6 0.2]\n",
            " [5.6 3.  4.1 1.3]\n",
            " [6.3 2.5 5.  1.9]\n",
            " [4.4 2.9 1.4 0.2]\n",
            " [6.3 3.4 5.6 2.4]\n",
            " [5.1 3.5 1.4 0.3]\n",
            " [5.1 3.7 1.5 0.4]\n",
            " [5.5 2.4 3.8 1.1]\n",
            " [6.4 2.7 5.3 1.9]\n",
            " [5.6 2.5 3.9 1.1]\n",
            " [5.  3.5 1.6 0.6]\n",
            " [6.6 3.  4.4 1.4]\n",
            " [5.1 2.5 3.  1.1]\n",
            " [5.8 2.8 5.1 2.4]\n",
            " [6.4 3.1 5.5 1.8]\n",
            " [5.8 2.6 4.  1.2]\n",
            " [4.4 3.2 1.3 0.2]\n",
            " [6.3 2.9 5.6 1.8]\n",
            " [4.9 3.1 1.5 0.1]\n",
            " [5.6 2.8 4.9 2. ]\n",
            " [5.  2.3 3.3 1. ]]\n",
            "['Iris-virginica' 'Iris-setosa' 'Iris-versicolor' 'Iris-setosa'\n",
            " 'Iris-virginica' 'Iris-setosa' 'Iris-setosa' 'Iris-setosa' 'Iris-setosa'\n",
            " 'Iris-virginica' 'Iris-virginica' 'Iris-virginica' 'Iris-setosa'\n",
            " 'Iris-versicolor' 'Iris-setosa' 'Iris-versicolor' 'Iris-versicolor'\n",
            " 'Iris-virginica' 'Iris-virginica' 'Iris-versicolor' 'Iris-setosa'\n",
            " 'Iris-versicolor' 'Iris-setosa' 'Iris-setosa' 'Iris-setosa'\n",
            " 'Iris-versicolor' 'Iris-virginica' 'Iris-setosa' 'Iris-virginica'\n",
            " 'Iris-setosa' 'Iris-setosa' 'Iris-versicolor' 'Iris-virginica'\n",
            " 'Iris-versicolor' 'Iris-setosa' 'Iris-versicolor' 'Iris-versicolor'\n",
            " 'Iris-virginica' 'Iris-virginica' 'Iris-versicolor' 'Iris-setosa'\n",
            " 'Iris-virginica' 'Iris-setosa' 'Iris-virginica' 'Iris-versicolor']\n",
            "Response for test dataset:\n",
            "['Iris-virginica' 'Iris-setosa' 'Iris-versicolor' 'Iris-setosa'\n",
            " 'Iris-virginica' 'Iris-setosa' 'Iris-setosa' 'Iris-setosa' 'Iris-setosa'\n",
            " 'Iris-virginica' 'Iris-virginica' 'Iris-virginica' 'Iris-setosa'\n",
            " 'Iris-versicolor' 'Iris-setosa' 'Iris-versicolor' 'Iris-versicolor'\n",
            " 'Iris-virginica' 'Iris-virginica' 'Iris-versicolor' 'Iris-setosa'\n",
            " 'Iris-versicolor' 'Iris-setosa' 'Iris-setosa' 'Iris-setosa'\n",
            " 'Iris-versicolor' 'Iris-virginica' 'Iris-setosa' 'Iris-virginica'\n",
            " 'Iris-setosa' 'Iris-setosa' 'Iris-versicolor' 'Iris-virginica'\n",
            " 'Iris-versicolor' 'Iris-setosa' 'Iris-versicolor' 'Iris-versicolor'\n",
            " 'Iris-virginica' 'Iris-virginica' 'Iris-versicolor' 'Iris-setosa'\n",
            " 'Iris-virginica' 'Iris-setosa' 'Iris-virginica' 'Iris-versicolor']\n"
          ]
        }
      ]
    },
    {
      "cell_type": "markdown",
      "source": [
        "- **Bước 4:** Huấn luyện mô hình với train set (10-fold cross validation)\n",
        "Từ thư viện sklearn import KFold"
      ],
      "metadata": {
        "id": "bhHD7rgehNmM"
      }
    },
    {
      "cell_type": "markdown",
      "source": [
        "- Thư viện máy học Python scikit-learning cung cấp k-fold cross validation thông qua lớp RepeatedKFold .\n",
        "\n",
        "- Các tham số chính là số lần gấp ( n_splits ), là “ k ” trong cross validation và số lần lặp lại ( n_repeats ).\n",
        "\n",
        "- Giá trị mặc định tốt cho k là k = 10."
      ],
      "metadata": {
        "id": "fhf58UM0Mpgv"
      }
    },
    {
      "cell_type": "code",
      "source": [
        "from sklearn.metrics import accuracy_score\n",
        "from sklearn.model_selection import KFold\n",
        "\n",
        "from sklearn import tree\n",
        "from sklearn import naive_bayes\n",
        "from sklearn import svm\n",
        "from sklearn.ensemble import RandomForestClassifier, GradientBoostingClassifier\n",
        "from sklearn.neural_network import MLPClassifier\n",
        "\n",
        "\n",
        "#Read data\n",
        "data.columns = [\"Calyx length\",\"Calyx width\",\"Petal length\",\"petal width\",\"category\"]\n",
        "\n",
        "\n",
        "\n",
        "k = 10\n",
        "kf = KFold(n_splits=k, shuffle=True)\n",
        "\n",
        "def eval_model(model_name,model):\n",
        "    accuracies = []\n",
        "    i=0\n",
        "    for train_index, test_index in kf.split(data): #split\n",
        "        x_train, x_test = X.loc[train_index] ,X.loc[test_index]\n",
        "        y_train, y_test = Y.loc[train_index] ,Y.loc[test_index]\n",
        "        \n",
        "        model.fit(x_train,y_train) #train\n",
        "        y_predict = model.predict(x_test) #Forecast\n",
        "        \n",
        "        accuracy = accuracy_score(y_pred=y_predict,y_true=y_test) #accuracy\n",
        "        accuracies.append(accuracy)\n",
        "        i+=1\n",
        "        print('The first{}round: {}'.format(i,accuracy))\n",
        "        \n",
        "    print(model_name+\"Model accuracy: \",np.mean(accuracies))\n",
        "    \n",
        "    \n",
        "models={\n",
        "        'decision tree':lambda:tree.DecisionTreeClassifier(),\n",
        "        'random forest':lambda:RandomForestClassifier(n_estimators=100),\n",
        "        'naive bayes':lambda:naive_bayes.GaussianNB(),\n",
        "        'svm':lambda:svm.SVC(gamma='scale'),\n",
        "        'GBDT':lambda:GradientBoostingClassifier(),\n",
        "        'MLP':lambda:MLPClassifier(max_iter=1000),        \n",
        "        }\n",
        "\n",
        "\n",
        "for name,m in models.items():\n",
        "    eval_model(name,m())\n"
      ],
      "metadata": {
        "colab": {
          "base_uri": "https://localhost:8080/"
        },
        "id": "5yefbSJP21sB",
        "outputId": "6d9f1c12-5fc4-4914-9de8-da31e57af4d5"
      },
      "execution_count": null,
      "outputs": [
        {
          "output_type": "stream",
          "name": "stdout",
          "text": [
            "The first1round: 1.0\n",
            "The first2round: 0.8666666666666667\n",
            "The first3round: 1.0\n",
            "The first4round: 0.9333333333333333\n",
            "The first5round: 0.9333333333333333\n",
            "The first6round: 0.9333333333333333\n",
            "The first7round: 1.0\n",
            "The first8round: 0.9333333333333333\n",
            "The first9round: 1.0\n",
            "The first10round: 1.0\n",
            "decision treeModel accuracy:  0.96\n",
            "The first1round: 0.9333333333333333\n",
            "The first2round: 0.9333333333333333\n",
            "The first3round: 1.0\n",
            "The first4round: 1.0\n",
            "The first5round: 1.0\n",
            "The first6round: 1.0\n",
            "The first7round: 0.8666666666666667\n",
            "The first8round: 1.0\n",
            "The first9round: 0.9333333333333333\n",
            "The first10round: 0.9333333333333333\n",
            "random forestModel accuracy:  0.96\n",
            "The first1round: 0.9333333333333333\n",
            "The first2round: 0.9333333333333333\n",
            "The first3round: 0.9333333333333333\n",
            "The first4round: 1.0\n",
            "The first5round: 0.8666666666666667\n",
            "The first6round: 1.0\n",
            "The first7round: 0.8666666666666667\n",
            "The first8round: 1.0\n",
            "The first9round: 1.0\n",
            "The first10round: 0.9333333333333333\n",
            "naive bayesModel accuracy:  0.9466666666666667\n",
            "The first1round: 1.0\n",
            "The first2round: 1.0\n",
            "The first3round: 0.9333333333333333\n",
            "The first4round: 0.9333333333333333\n",
            "The first5round: 1.0\n",
            "The first6round: 0.9333333333333333\n",
            "The first7round: 1.0\n",
            "The first8round: 1.0\n",
            "The first9round: 0.9333333333333333\n",
            "The first10round: 1.0\n",
            "svmModel accuracy:  0.9733333333333334\n",
            "The first1round: 1.0\n",
            "The first2round: 1.0\n",
            "The first3round: 1.0\n",
            "The first4round: 0.9333333333333333\n",
            "The first5round: 0.8666666666666667\n",
            "The first6round: 0.9333333333333333\n",
            "The first7round: 1.0\n",
            "The first8round: 0.9333333333333333\n",
            "The first9round: 1.0\n",
            "The first10round: 0.9333333333333333\n",
            "GBDTModel accuracy:  0.9600000000000002\n",
            "The first1round: 1.0\n",
            "The first2round: 0.9333333333333333\n",
            "The first3round: 1.0\n",
            "The first4round: 1.0\n",
            "The first5round: 1.0\n",
            "The first6round: 0.9333333333333333\n",
            "The first7round: 0.9333333333333333\n",
            "The first8round: 1.0\n",
            "The first9round: 1.0\n",
            "The first10round: 1.0\n",
            "MLPModel accuracy:  0.9800000000000001\n"
          ]
        }
      ]
    },
    {
      "cell_type": "markdown",
      "source": [
        "- **Bước 5:** Kiểm thử mô hình với test set\n",
        " \n",
        " Dự đoán phản hồi cho test dataset (SepalLength Cm, SepalWidthCm, PetalLength, PetalWidth Cm) bằng cách sử dụng  thuật toán K Nearest Neighbor."
      ],
      "metadata": {
        "id": "8y-iSRJvhVN-"
      }
    },
    {
      "cell_type": "code",
      "source": [
        "print(\"\\n30% test data:\")\n",
        "print(X_test)\n",
        "print(y_test)\n",
        "#Number of neighbors to use by default for kneighbors queries.\n",
        "knn = KNeighborsClassifier(n_neighbors=5)\n",
        "#Train the model using the training sets\n",
        "knn.fit(X_train, y_train)\n",
        "#Predict the response for test dataset\n",
        "print(\"Response for test dataset:\")\n",
        "y_pred = knn.predict(X_test)\n",
        "print(y_pred)"
      ],
      "metadata": {
        "colab": {
          "base_uri": "https://localhost:8080/"
        },
        "id": "mBvXIQWJhajB",
        "outputId": "cbade9cf-bf0b-4ac2-cd22-f243cbe23aaf"
      },
      "execution_count": null,
      "outputs": [
        {
          "output_type": "stream",
          "name": "stdout",
          "text": [
            "\n",
            "30% test data:\n",
            "     Calyx length  Calyx width  Petal length  petal width\n",
            "14            5.8          4.0           1.2          0.2\n",
            "98            5.1          2.5           3.0          1.1\n",
            "75            6.6          3.0           4.4          1.4\n",
            "16            5.4          3.9           1.3          0.4\n",
            "131           7.9          3.8           6.4          2.0\n",
            "56            6.3          3.3           4.7          1.6\n",
            "141           6.9          3.1           5.1          2.3\n",
            "44            5.1          3.8           1.9          0.4\n",
            "29            4.7          3.2           1.6          0.2\n",
            "120           6.9          3.2           5.7          2.3\n",
            "94            5.6          2.7           4.2          1.3\n",
            "5             5.4          3.9           1.7          0.4\n",
            "102           7.1          3.0           5.9          2.1\n",
            "51            6.4          3.2           4.5          1.5\n",
            "78            6.0          2.9           4.5          1.5\n",
            "42            4.4          3.2           1.3          0.2\n",
            "92            5.8          2.6           4.0          1.2\n",
            "66            5.6          3.0           4.5          1.5\n",
            "31            5.4          3.4           1.5          0.4\n",
            "35            5.0          3.2           1.2          0.2\n",
            "90            5.5          2.6           4.4          1.2\n",
            "84            5.4          3.0           4.5          1.5\n",
            "77            6.7          3.0           5.0          1.7\n",
            "40            5.0          3.5           1.3          0.3\n",
            "125           7.2          3.2           6.0          1.8\n",
            "99            5.7          2.8           4.1          1.3\n",
            "33            5.5          4.2           1.4          0.2\n",
            "19            5.1          3.8           1.5          0.3\n",
            "73            6.1          2.8           4.7          1.2\n",
            "146           6.3          2.5           5.0          1.9\n",
            "91            6.1          3.0           4.6          1.4\n",
            "135           7.7          3.0           6.1          2.3\n",
            "69            5.6          2.5           3.9          1.1\n",
            "128           6.4          2.8           5.6          2.1\n",
            "114           5.8          2.8           5.1          2.4\n",
            "48            5.3          3.7           1.5          0.2\n",
            "53            5.5          2.3           4.0          1.3\n",
            "28            5.2          3.4           1.4          0.2\n",
            "54            6.5          2.8           4.6          1.5\n",
            "108           6.7          2.5           5.8          1.8\n",
            "112           6.8          3.0           5.5          2.1\n",
            "17            5.1          3.5           1.4          0.3\n",
            "119           6.0          2.2           5.0          1.5\n",
            "103           6.3          2.9           5.6          1.8\n",
            "58            6.6          2.9           4.6          1.3\n",
            "118           7.7          2.6           6.9          2.3\n",
            "18            5.7          3.8           1.7          0.3\n",
            "4             5.0          3.6           1.4          0.2\n",
            "45            4.8          3.0           1.4          0.3\n",
            "59            5.2          2.7           3.9          1.4\n",
            "39            5.1          3.4           1.5          0.2\n",
            "36            5.5          3.5           1.3          0.2\n",
            "117           7.7          3.8           6.7          2.2\n",
            "139           6.9          3.1           5.4          2.1\n",
            "107           7.3          2.9           6.3          1.8\n",
            "132           6.4          2.8           5.6          2.2\n",
            "126           6.2          2.8           4.8          1.8\n",
            "85            6.0          3.4           4.5          1.6\n",
            "122           7.7          2.8           6.7          2.0\n",
            "95            5.7          3.0           4.2          1.2\n",
            "['Iris-setosa' 'Iris-versicolor' 'Iris-versicolor' 'Iris-setosa'\n",
            " 'Iris-virginica' 'Iris-versicolor' 'Iris-virginica' 'Iris-setosa'\n",
            " 'Iris-setosa' 'Iris-virginica' 'Iris-versicolor' 'Iris-setosa'\n",
            " 'Iris-virginica' 'Iris-versicolor' 'Iris-versicolor' 'Iris-setosa'\n",
            " 'Iris-versicolor' 'Iris-versicolor' 'Iris-setosa' 'Iris-setosa'\n",
            " 'Iris-versicolor' 'Iris-versicolor' 'Iris-versicolor' 'Iris-setosa'\n",
            " 'Iris-virginica' 'Iris-versicolor' 'Iris-setosa' 'Iris-setosa'\n",
            " 'Iris-versicolor' 'Iris-virginica' 'Iris-versicolor' 'Iris-virginica'\n",
            " 'Iris-versicolor' 'Iris-virginica' 'Iris-virginica' 'Iris-setosa'\n",
            " 'Iris-versicolor' 'Iris-setosa' 'Iris-versicolor' 'Iris-virginica'\n",
            " 'Iris-virginica' 'Iris-setosa' 'Iris-virginica' 'Iris-virginica'\n",
            " 'Iris-versicolor' 'Iris-virginica' 'Iris-setosa' 'Iris-setosa'\n",
            " 'Iris-setosa' 'Iris-versicolor' 'Iris-setosa' 'Iris-setosa'\n",
            " 'Iris-virginica' 'Iris-virginica' 'Iris-virginica' 'Iris-virginica'\n",
            " 'Iris-virginica' 'Iris-versicolor' 'Iris-virginica' 'Iris-versicolor']\n",
            "Response for test dataset:\n",
            "['Iris-setosa' 'Iris-versicolor' 'Iris-versicolor' 'Iris-setosa'\n",
            " 'Iris-virginica' 'Iris-versicolor' 'Iris-virginica' 'Iris-setosa'\n",
            " 'Iris-setosa' 'Iris-virginica' 'Iris-versicolor' 'Iris-setosa'\n",
            " 'Iris-virginica' 'Iris-versicolor' 'Iris-versicolor' 'Iris-setosa'\n",
            " 'Iris-versicolor' 'Iris-versicolor' 'Iris-setosa' 'Iris-setosa'\n",
            " 'Iris-versicolor' 'Iris-versicolor' 'Iris-versicolor' 'Iris-setosa'\n",
            " 'Iris-virginica' 'Iris-versicolor' 'Iris-setosa' 'Iris-setosa'\n",
            " 'Iris-versicolor' 'Iris-virginica' 'Iris-versicolor' 'Iris-virginica'\n",
            " 'Iris-versicolor' 'Iris-virginica' 'Iris-virginica' 'Iris-setosa'\n",
            " 'Iris-versicolor' 'Iris-setosa' 'Iris-versicolor' 'Iris-virginica'\n",
            " 'Iris-virginica' 'Iris-setosa' 'Iris-versicolor' 'Iris-virginica'\n",
            " 'Iris-versicolor' 'Iris-virginica' 'Iris-setosa' 'Iris-setosa'\n",
            " 'Iris-setosa' 'Iris-versicolor' 'Iris-setosa' 'Iris-setosa'\n",
            " 'Iris-virginica' 'Iris-virginica' 'Iris-virginica' 'Iris-virginica'\n",
            " 'Iris-virginica' 'Iris-versicolor' 'Iris-virginica' 'Iris-versicolor']\n"
          ]
        }
      ]
    },
    {
      "cell_type": "markdown",
      "source": [
        "- **Bước 6:** Trình bày kết quả và nhận xét\n",
        " Chúng ta sẽ chạy hồi quy tuyến tính."
      ],
      "metadata": {
        "id": "UmXAh6ZMhe5L"
      }
    },
    {
      "cell_type": "code",
      "source": [
        "from sklearn.model_selection import train_test_split\n",
        "X_train, X_test, y_train, y_test = train_test_split(iris_X, iris_y, test_size=50)\n",
        "\n",
        "print(\"Training size: %d\" %len(y_train))\n",
        "print(\"Test size    : %d\" %len(y_test))"
      ],
      "metadata": {
        "colab": {
          "base_uri": "https://localhost:8080/"
        },
        "outputId": "c38b5959-0474-49fc-a719-faa603d24950",
        "id": "sKkqOz1WRpmW"
      },
      "execution_count": null,
      "outputs": [
        {
          "output_type": "stream",
          "name": "stdout",
          "text": [
            "Training size: 100\n",
            "Test size    : 50\n"
          ]
        }
      ]
    },
    {
      "cell_type": "code",
      "source": [
        "# create linear regression object\n",
        "reg = LinearRegression(fit_intercept=False)\n",
        " \n",
        "# train the model using the training sets\n",
        "reg.fit(X_train, y_train)\n",
        " \n",
        "# regression coefficients\n",
        "print('Coefficients: ', reg.coef_)\n",
        " \n",
        "# variance score: 1 means perfect prediction\n",
        "print('Variance score: {}'.format(reg.score(X_test, y_test)))\n",
        " \n",
        "# plot for residual error\n",
        " \n",
        "## setting plot style\n",
        "plt.style.use('fivethirtyeight')\n",
        " \n",
        "## plotting residual errors in training data\n",
        "plt.scatter(reg.predict(X_train), reg.predict(X_train) - y_train,\n",
        "            color = \"green\", s = 10, label = 'Train data')\n",
        " \n",
        "## plotting residual errors in test data\n",
        "plt.scatter(reg.predict(X_test), reg.predict(X_test) - y_test,\n",
        "            color = \"blue\", s = 10, label = 'Test data')\n",
        " \n",
        "## plotting line for zero residual error\n",
        "plt.hlines(y = 0, xmin = 0, xmax = 50, linewidth = 2)\n",
        " \n",
        "## plotting legend\n",
        "plt.legend(loc = 'upper right')\n",
        " \n",
        "## plot title\n",
        "plt.title(\"Residual errors\")\n",
        " \n",
        "## method call for showing the plot\n",
        "plt.show()"
      ],
      "metadata": {
        "colab": {
          "base_uri": "https://localhost:8080/",
          "height": 340
        },
        "id": "R0BU1GtGCv8V",
        "outputId": "5a4c7fc1-6f5f-4dcf-b171-ffc61678789e"
      },
      "execution_count": null,
      "outputs": [
        {
          "output_type": "stream",
          "name": "stdout",
          "text": [
            "Coefficients:  [-0.12740387  0.03352481  0.2581965   0.57327081]\n",
            "Variance score: 0.9131571637791617\n"
          ]
        },
        {
          "output_type": "display_data",
          "data": {
            "text/plain": [
              "<Figure size 432x288 with 1 Axes>"
            ],
            "image/png": "[encoded data removed]"
          },
          "metadata": {}
        }
      ]
    },
    {
      "cell_type": "code",
      "source": [
        "lm = LinearRegression()\n",
        "lm.fit(X_train, y_train)\n",
        "\n",
        "Y_pred = lm.predict(X_test)\n",
        "\n",
        "plt.scatter(y_test, Y_pred)"
      ],
      "metadata": {
        "colab": {
          "base_uri": "https://localhost:8080/",
          "height": 300
        },
        "id": "CVID1teBR0CH",
        "outputId": "8434e34c-ffa1-42ce-b7bb-ec2b90ad097b"
      },
      "execution_count": null,
      "outputs": [
        {
          "output_type": "execute_result",
          "data": {
            "text/plain": [
              "<matplotlib.collections.PathCollection at 0x7faae04c91d0>"
            ]
          },
          "metadata": {},
          "execution_count": 89
        },
        {
          "output_type": "display_data",
          "data": {
            "text/plain": [
              "<Figure size 432x288 with 1 Axes>"
            ],
            "image/png": "[encoded data removed]"
          },
          "metadata": {}
        }
      ]
    },
    {
      "cell_type": "markdown",
      "source": [
        "Để kiểm tra mức độ lỗi của một mô hình, chúng ta có thể sử dụng Mean Squared Error. Đây là một trong các phương pháp để đo trung bình của ô vuông của sai số. Về cơ bản, nó sẽ kiểm tra sự khác biệt giữa giá trị thực tế và giá trị dự đoán. Để sử dụng nó, chúng ta có thể sử dụng hàm bình phương trung bình sai số của scikit-learn bằng cách chạy đoạn mã này"
      ],
      "metadata": {
        "id": "pLC8MAbdfq2x"
      }
    },
    {
      "cell_type": "code",
      "source": [
        "mse = sklearn.metrics.mean_squared_error(y_test, Y_pred)\n",
        "print(mse)"
      ],
      "metadata": {
        "colab": {
          "base_uri": "https://localhost:8080/"
        },
        "id": "CpJXSQUAfMy0",
        "outputId": "fb18be22-ea51-47f0-8a46-a2adc85c5764"
      },
      "execution_count": null,
      "outputs": [
        {
          "output_type": "stream",
          "name": "stdout",
          "text": [
            "0.05150532499372993\n"
          ]
        }
      ]
    },
    {
      "cell_type": "markdown",
      "source": [
        "Kết quả:\n",
        "- Hệ số mô hình: [-0.12740387  0.03352481  0.2581965   0.57327081]\n",
        "- Điểm phương sai: 0.91\n",
        "\n",
        "- Mức độ chính xác của mô hình là 95%\n",
        "- Mức độ sai số là 5%"
      ],
      "metadata": {
        "id": "EXbzl27JSWGb"
      }
    },
    {
      "cell_type": "markdown",
      "source": [
        "Nhận xét: Mô hình Linear Regression hoạt động tương đối tốt với mức độ sai số nhỏ và độ chính xác cao."
      ],
      "metadata": {
        "id": "8oTNOPpT8aIx"
      }
    },
    {
      "cell_type": "markdown",
      "source": [
        "# **Bài 9:** Bạn hãy lựa chọn 1tập dữ liệu phù hợp với bài toán hồi quy logistic và xây dựng mô hình hồi quy logistic theo từng bước (kèm với mô tả của từng bước)"
      ],
      "metadata": {
        "id": "zm10SYx2_N_c"
      }
    },
    {
      "cell_type": "markdown",
      "source": [
        "- **Bước 1:** Tải dữ liệu\n"
      ],
      "metadata": {
        "id": "ZME_hLphd4q7"
      }
    },
    {
      "cell_type": "markdown",
      "source": [
        "Tải tập dữ liệu chứa thông tin của người dùng từ cơ sở dữ liệu công ty.\n",
        "\n",
        "Cài các thư viện cần thiết."
      ],
      "metadata": {
        "id": "tZ5l2u4qnrmK"
      }
    },
    {
      "cell_type": "code",
      "source": [
        "import pandas as pd\n",
        "import numpy as np\n",
        "import matplotlib.pyplot as plt"
      ],
      "metadata": {
        "id": "j8E2_qeFhivs"
      },
      "execution_count": null,
      "outputs": []
    },
    {
      "cell_type": "code",
      "source": [
        "dataset = pd.read_csv('User_Data.csv')\n",
        "dataset.head()"
      ],
      "metadata": {
        "colab": {
          "base_uri": "https://localhost:8080/",
          "height": 206
        },
        "id": "9jgQnnBPofOF",
        "outputId": "d95197e2-12fe-433c-b666-334fdac6a426"
      },
      "execution_count": null,
      "outputs": [
        {
          "output_type": "execute_result",
          "data": {
            "text/plain": [
              "    User ID  Gender  Age  EstimatedSalary  Purchased\n",
              "0  15624510    Male   19            19000          0\n",
              "1  15810944    Male   35            20000          0\n",
              "2  15668575  Female   26            43000          0\n",
              "3  15603246  Female   27            57000          0\n",
              "4  15804002    Male   19            76000          0"
            ],
            "text/html": [
              "\n",
              "  <div id=\"df-446d8cd0-2ced-473d-b809-81838c07e2b5\">\n",
              "    <div class=\"colab-df-container\">\n",
              "      <div>\n",
              "<style scoped>\n",
              "    .dataframe tbody tr th:only-of-type {\n",
              "        vertical-align: middle;\n",
              "    }\n",
              "\n",
              "    .dataframe tbody tr th {\n",
              "        vertical-align: top;\n",
              "    }\n",
              "\n",
              "    .dataframe thead th {\n",
              "        text-align: right;\n",
              "    }\n",
              "</style>\n",
              "<table border=\"1\" class=\"dataframe\">\n",
              "  <thead>\n",
              "    <tr style=\"text-align: right;\">\n",
              "      <th></th>\n",
              "      <th>User ID</th>\n",
              "      <th>Gender</th>\n",
              "      <th>Age</th>\n",
              "      <th>EstimatedSalary</th>\n",
              "      <th>Purchased</th>\n",
              "    </tr>\n",
              "  </thead>\n",
              "  <tbody>\n",
              "    <tr>\n",
              "      <th>0</th>\n",
              "      <td>15624510</td>\n",
              "      <td>Male</td>\n",
              "      <td>19</td>\n",
              "      <td>19000</td>\n",
              "      <td>0</td>\n",
              "    </tr>\n",
              "    <tr>\n",
              "      <th>1</th>\n",
              "      <td>15810944</td>\n",
              "      <td>Male</td>\n",
              "      <td>35</td>\n",
              "      <td>20000</td>\n",
              "      <td>0</td>\n",
              "    </tr>\n",
              "    <tr>\n",
              "      <th>2</th>\n",
              "      <td>15668575</td>\n",
              "      <td>Female</td>\n",
              "      <td>26</td>\n",
              "      <td>43000</td>\n",
              "      <td>0</td>\n",
              "    </tr>\n",
              "    <tr>\n",
              "      <th>3</th>\n",
              "      <td>15603246</td>\n",
              "      <td>Female</td>\n",
              "      <td>27</td>\n",
              "      <td>57000</td>\n",
              "      <td>0</td>\n",
              "    </tr>\n",
              "    <tr>\n",
              "      <th>4</th>\n",
              "      <td>15804002</td>\n",
              "      <td>Male</td>\n",
              "      <td>19</td>\n",
              "      <td>76000</td>\n",
              "      <td>0</td>\n",
              "    </tr>\n",
              "  </tbody>\n",
              "</table>\n",
              "</div>\n",
              "      <button class=\"colab-df-convert\" onclick=\"convertToInteractive('df-446d8cd0-2ced-473d-b809-81838c07e2b5')\"\n",
              "              title=\"Convert this dataframe to an interactive table.\"\n",
              "              style=\"display:none;\">\n",
              "        \n",
              "  <svg xmlns=\"http://www.w3.org/2000/svg\" height=\"24px\"viewBox=\"0 0 24 24\"\n",
              "       width=\"24px\">\n",
              "    <path d=\"M0 0h24v24H0V0z\" fill=\"none\"/>\n",
              "    <path d=\"M18.56 5.44l.94 2.06.94-2.06 2.06-.94-2.06-.94-.94-2.06-.94 2.06-2.06.94zm-11 1L8.5 8.5l.94-2.06 2.06-.94-2.06-.94L8.5 2.5l-.94 2.06-2.06.94zm10 10l.94 2.06.94-2.06 2.06-.94-2.06-.94-.94-2.06-.94 2.06-2.06.94z\"/><path d=\"M17.41 7.96l-1.37-1.37c-.4-.4-.92-.59-1.43-.59-.52 0-1.04.2-1.43.59L10.3 9.45l-7.72 7.72c-.78.78-.78 2.05 0 2.83L4 21.41c.39.39.9.59 1.41.59.51 0 1.02-.2 1.41-.59l7.78-7.78 2.81-2.81c.8-.78.8-2.07 0-2.86zM5.41 20L4 18.59l7.72-7.72 1.47 1.35L5.41 20z\"/>\n",
              "  </svg>\n",
              "      </button>\n",
              "      \n",
              "  <style>\n",
              "    .colab-df-container {\n",
              "      display:flex;\n",
              "      flex-wrap:wrap;\n",
              "      gap: 12px;\n",
              "    }\n",
              "\n",
              "    .colab-df-convert {\n",
              "      background-color: #E8F0FE;\n",
              "      border: none;\n",
              "      border-radius: 50%;\n",
              "      cursor: pointer;\n",
              "      display: none;\n",
              "      fill: #1967D2;\n",
              "      height: 32px;\n",
              "      padding: 0 0 0 0;\n",
              "      width: 32px;\n",
              "    }\n",
              "\n",
              "    .colab-df-convert:hover {\n",
              "      background-color: #E2EBFA;\n",
              "      box-shadow: 0px 1px 2px rgba(60, 64, 67, 0.3), 0px 1px 3px 1px rgba(60, 64, 67, 0.15);\n",
              "      fill: #174EA6;\n",
              "    }\n",
              "\n",
              "    [theme=dark] .colab-df-convert {\n",
              "      background-color: #3B4455;\n",
              "      fill: #D2E3FC;\n",
              "    }\n",
              "\n",
              "    [theme=dark] .colab-df-convert:hover {\n",
              "      background-color: #434B5C;\n",
              "      box-shadow: 0px 1px 3px 1px rgba(0, 0, 0, 0.15);\n",
              "      filter: drop-shadow(0px 1px 2px rgba(0, 0, 0, 0.3));\n",
              "      fill: #FFFFFF;\n",
              "    }\n",
              "  </style>\n",
              "\n",
              "      <script>\n",
              "        const buttonEl =\n",
              "          document.querySelector('#df-446d8cd0-2ced-473d-b809-81838c07e2b5 button.colab-df-convert');\n",
              "        buttonEl.style.display =\n",
              "          google.colab.kernel.accessAllowed ? 'block' : 'none';\n",
              "\n",
              "        async function convertToInteractive(key) {\n",
              "          const element = document.querySelector('#df-446d8cd0-2ced-473d-b809-81838c07e2b5');\n",
              "          const dataTable =\n",
              "            await google.colab.kernel.invokeFunction('convertToInteractive',\n",
              "                                                     [key], {});\n",
              "          if (!dataTable) return;\n",
              "\n",
              "          const docLinkHtml = 'Like what you see? Visit the ' +\n",
              "            '<a target=\"_blank\" href=https://colab.research.google.com/notebooks/data_table.ipynb>data table notebook</a>'\n",
              "            + ' to learn more about interactive tables.';\n",
              "          element.innerHTML = '';\n",
              "          dataTable['output_type'] = 'display_data';\n",
              "          await google.colab.output.renderOutput(dataTable, element);\n",
              "          const docLink = document.createElement('div');\n",
              "          docLink.innerHTML = docLinkHtml;\n",
              "          element.appendChild(docLink);\n",
              "        }\n",
              "      </script>\n",
              "    </div>\n",
              "  </div>\n",
              "  "
            ]
          },
          "metadata": {},
          "execution_count": 3
        }
      ]
    },
    {
      "cell_type": "markdown",
      "source": [
        "Để dự đoán liệu người dùng có mua sản phẩm hay không, người ta cần tìm hiểu mối quan hệ giữa Tuổi và Mức lương ước tính. Ở đây ID người dùng và Giới tính không phải là yếu tố quan trọng để tìm ra điều này. "
      ],
      "metadata": {
        "id": "C7SXeWjDpSPX"
      }
    },
    {
      "cell_type": "code",
      "source": [
        "# input\n",
        "x = dataset.iloc[:, [2, 3]].values\n",
        "\n",
        "# output\n",
        "y = dataset.iloc[:, 4].values\n"
      ],
      "metadata": {
        "id": "9fsxaRpppQtK"
      },
      "execution_count": null,
      "outputs": []
    },
    {
      "cell_type": "markdown",
      "source": [
        "- **Bước 2:** Mô tả dữ liệu"
      ],
      "metadata": {
        "id": "gzYE8_oXnLxi"
      }
    },
    {
      "cell_type": "markdown",
      "source": [
        "Nó chứa thông tin về UserID, Giới tính, Tuổi, Ước tính giá trị, Đã mua. Chúng tôi đang sử dụng tập dữ liệu này để dự đoán rằng người dùng có mua sản phẩm mới ra mắt của công ty hay không. \n",
        "Dữ liệu - User_Data "
      ],
      "metadata": {
        "id": "N32BuHQ6o67r"
      }
    },
    {
      "cell_type": "markdown",
      "source": [
        "- **Bước 3:** Phân chia train – test (tỉ lệ 70% -30%)"
      ],
      "metadata": {
        "id": "fDusbit6pDcX"
      }
    },
    {
      "cell_type": "markdown",
      "source": [
        "Tách tập dữ liệu để train và test. 70% dữ liệu được sử dụng để train mô hình và 30% dữ liệu được sử dụng để test hiệu suất của mô hình"
      ],
      "metadata": {
        "id": "Bfz1sKt6pl-u"
      }
    },
    {
      "cell_type": "code",
      "source": [
        "from sklearn.model_selection import train_test_split\n",
        "xtrain, xtest, ytrain, ytest = train_test_split(\n",
        "\t\tx, y, test_size = 0.30, random_state = 0)\n"
      ],
      "metadata": {
        "id": "sKNYeAq-o7XU"
      },
      "execution_count": null,
      "outputs": []
    },
    {
      "cell_type": "markdown",
      "source": [
        "Bây giờ thực hiện chia tỷ lệ tính năng ở đây vì các giá trị Độ tuổi và Mức lương ước tính nằm trong các phạm vi khác nhau. Nếu chúng ta không chia tỷ lệ các tính năng thì tính năng Mức lương ước tính sẽ chiếm ưu thế trong tính năng Độ tuổi khi mô hình tìm thấy nearest neighbor với điểm dữ liệu trong không gian dữ liệu. "
      ],
      "metadata": {
        "id": "1fT6GxYKqRfK"
      }
    },
    {
      "cell_type": "code",
      "source": [
        "from sklearn.preprocessing import StandardScaler\n",
        "sc_x = StandardScaler()\n",
        "xtrain = sc_x.fit_transform(xtrain)\n",
        "xtest = sc_x.transform(xtest)\n",
        "\n",
        "print (xtrain[0:10, :])\n"
      ],
      "metadata": {
        "colab": {
          "base_uri": "https://localhost:8080/"
        },
        "id": "q0FbfUVnqemH",
        "outputId": "dbb35ec9-72fd-48c0-f84c-64b66bdf9652"
      },
      "execution_count": null,
      "outputs": [
        {
          "output_type": "stream",
          "name": "stdout",
          "text": [
            "[[-1.1631724  -1.5849703 ]\n",
            " [ 2.17018137  0.93098672]\n",
            " [ 0.0133054   1.22017719]\n",
            " [ 0.20938504  1.07558195]\n",
            " [ 0.40546467 -0.48604654]\n",
            " [-0.28081405 -0.31253226]\n",
            " [ 0.99370357 -0.8330751 ]\n",
            " [ 0.99370357  1.8563962 ]\n",
            " [ 0.0133054   1.24909623]\n",
            " [-0.86905295  2.26126285]]\n"
          ]
        }
      ]
    },
    {
      "cell_type": "markdown",
      "source": [
        "Ở đây một khi thấy rằng các giá trị của các tính năng Tuổi và Lương ước tính được ẩn và bây giờ ở đó từ -1 đến 1. Do đó, mỗi tính năng sẽ đóng góp như nhau trong việc đưa ra quyết định, tức là hoàn thiện giả thuyết. \n",
        "Cuối cùng, chúng tôi đang train mô hình hồi quy logistic của mình. "
      ],
      "metadata": {
        "id": "4PYqw98RrFry"
      }
    },
    {
      "cell_type": "code",
      "source": [
        "from sklearn.linear_model import LogisticRegression\n",
        "classifier = LogisticRegression(random_state = 0)\n",
        "classifier.fit(xtrain, ytrain)\n"
      ],
      "metadata": {
        "colab": {
          "base_uri": "https://localhost:8080/"
        },
        "id": "j58zfuLjrLja",
        "outputId": "d1266c8d-b38d-4aed-bd44-778660efbab8"
      },
      "execution_count": null,
      "outputs": [
        {
          "output_type": "execute_result",
          "data": {
            "text/plain": [
              "LogisticRegression(random_state=0)"
            ]
          },
          "metadata": {},
          "execution_count": 13
        }
      ]
    },
    {
      "cell_type": "markdown",
      "source": [
        "Kiểm tra hiệu suất của mô hình - Ma trận hỗn tạp "
      ],
      "metadata": {
        "id": "hJ4J6grwrq_R"
      }
    },
    {
      "cell_type": "code",
      "source": [
        "from sklearn.metrics import confusion_matrix\n",
        "cm = confusion_matrix(ytest, y_pred)\n",
        "\n",
        "print (\"Confusion Matrix : \\n\", cm)\n"
      ],
      "metadata": {
        "colab": {
          "base_uri": "https://localhost:8080/"
        },
        "id": "-6OW5Opyr13j",
        "outputId": "f17faacb-6a27-4cd6-ce5a-6e3a3e57d138"
      },
      "execution_count": null,
      "outputs": [
        {
          "output_type": "stream",
          "name": "stdout",
          "text": [
            "Confusion Matrix : \n",
            " [[74  5]\n",
            " [11 30]]\n"
          ]
        }
      ]
    },
    {
      "cell_type": "markdown",
      "source": [
        "- **Bước 4:** Huấn luyện mô hình với train set (10-fold cross validation)"
      ],
      "metadata": {
        "id": "bAXXowK3r9dg"
      }
    },
    {
      "cell_type": "markdown",
      "source": [
        "- Thư viện máy học Python scikit-learning cung cấp k-fold cross validation thông qua lớp RepeatedKFold .\n",
        "\n",
        "- Các tham số chính là số lần gấp ( n_splits ), là “ k ” trong cross validation và số lần lặp lại ( n_repeats ).\n",
        "\n",
        "- Giá trị mặc định tốt cho k là k = 10."
      ],
      "metadata": {
        "id": "hvDwgx4WNI7I"
      }
    },
    {
      "cell_type": "code",
      "source": [
        "# evaluate a logistic regression model using k-fold cross-validation\n",
        "from numpy import mean\n",
        "from numpy import std\n",
        "from sklearn.datasets import make_classification\n",
        "from sklearn.model_selection import KFold\n",
        "from sklearn.model_selection import cross_val_score\n",
        "from sklearn.linear_model import LogisticRegression\n",
        "\n",
        "# prepare the cross-validation procedure\n",
        "cv = KFold(n_splits=10, random_state=1, shuffle=True)\n",
        "# create model\n",
        "model = LogisticRegression()\n",
        "# evaluate model\n",
        "scores = cross_val_score(model, xtrain, ytrain, scoring='accuracy', cv=cv, n_jobs=-1)\n",
        "# report performance\n",
        "print('Accuracy: %.3f (%.3f)' % (mean(scores), std(scores)))"
      ],
      "metadata": {
        "colab": {
          "base_uri": "https://localhost:8080/"
        },
        "id": "w6anhS7GLZSQ",
        "outputId": "351312a9-6266-4b52-b176-f6d6270f7287"
      },
      "execution_count": null,
      "outputs": [
        {
          "output_type": "stream",
          "name": "stdout",
          "text": [
            "Accuracy: 0.632 (0.107)\n"
          ]
        }
      ]
    },
    {
      "cell_type": "markdown",
      "source": [
        "- **Bước 5:** Kiểm thử mô hình với test set"
      ],
      "metadata": {
        "id": "JLlNrFaVL9Se"
      }
    },
    {
      "cell_type": "markdown",
      "source": [
        "Sau khi train mô hình, đã đến lúc sử dụng nó để dự đoán trên test dataset. "
      ],
      "metadata": {
        "id": "eXtOhb8-rS9l"
      }
    },
    {
      "cell_type": "code",
      "source": [
        "y_pred = classifier.predict(xtest)\n"
      ],
      "metadata": {
        "id": "xtSdyd1irSui"
      },
      "execution_count": null,
      "outputs": []
    },
    {
      "cell_type": "code",
      "source": [
        "print(\"\\n30% test data:\")\n",
        "print(xtest)\n",
        "print(ytest)"
      ],
      "metadata": {
        "colab": {
          "base_uri": "https://localhost:8080/"
        },
        "id": "60JMQFLZ6Kt7",
        "outputId": "a6be4693-426b-459b-b508-fddf89f2622d"
      },
      "execution_count": null,
      "outputs": [
        {
          "output_type": "stream",
          "name": "stdout",
          "text": [
            "\n",
            "30% test data:\n",
            "[[    30  87000]\n",
            " [    38  50000]\n",
            " [    35  75000]\n",
            " [    30  79000]\n",
            " [    35  50000]\n",
            " [    27  20000]\n",
            " [    31  15000]\n",
            " [    36 144000]\n",
            " [    18  68000]\n",
            " [    47  43000]\n",
            " [    30  49000]\n",
            " [    28  55000]\n",
            " [    37  55000]\n",
            " [    39  77000]\n",
            " [    20  86000]\n",
            " [    32 117000]\n",
            " [    37  77000]\n",
            " [    19  85000]\n",
            " [    55 130000]\n",
            " [    35  22000]\n",
            " [    35  47000]\n",
            " [    47 144000]\n",
            " [    41  51000]\n",
            " [    47 105000]\n",
            " [    23  28000]\n",
            " [    49 141000]\n",
            " [    28  87000]\n",
            " [    29  80000]\n",
            " [    37  62000]\n",
            " [    32  86000]\n",
            " [    21  88000]\n",
            " [    37  79000]\n",
            " [    57  60000]\n",
            " [    37  53000]\n",
            " [    24  58000]\n",
            " [    18  52000]\n",
            " [    22  81000]\n",
            " [    34  43000]\n",
            " [    31  34000]\n",
            " [    49  36000]\n",
            " [    27  88000]\n",
            " [    41  52000]\n",
            " [    27  84000]\n",
            " [    35  20000]\n",
            " [    43 112000]\n",
            " [    27  58000]\n",
            " [    37  80000]\n",
            " [    52  90000]\n",
            " [    26  30000]\n",
            " [    49  86000]\n",
            " [    57 122000]\n",
            " [    34  25000]\n",
            " [    35  57000]\n",
            " [    34 115000]\n",
            " [    59  88000]\n",
            " [    45  32000]\n",
            " [    29  83000]\n",
            " [    26  80000]\n",
            " [    49  28000]\n",
            " [    23  20000]\n",
            " [    32  18000]\n",
            " [    60  42000]\n",
            " [    19  76000]\n",
            " [    36  99000]\n",
            " [    19  26000]\n",
            " [    60  83000]\n",
            " [    24  89000]\n",
            " [    27  58000]\n",
            " [    40  47000]\n",
            " [    42  70000]\n",
            " [    32 150000]\n",
            " [    35  77000]\n",
            " [    22  63000]\n",
            " [    45  22000]\n",
            " [    27  89000]\n",
            " [    18  82000]\n",
            " [    42  79000]\n",
            " [    40  60000]\n",
            " [    53  34000]\n",
            " [    47 107000]\n",
            " [    58 144000]\n",
            " [    59  83000]\n",
            " [    24  55000]\n",
            " [    26  35000]\n",
            " [    58  38000]\n",
            " [    42  80000]\n",
            " [    40  75000]\n",
            " [    59 130000]\n",
            " [    46  41000]\n",
            " [    41  60000]\n",
            " [    42  64000]\n",
            " [    37 146000]\n",
            " [    23  48000]\n",
            " [    25  33000]\n",
            " [    24  84000]\n",
            " [    27  96000]\n",
            " [    23  63000]\n",
            " [    48  33000]\n",
            " [    48  90000]\n",
            " [    42 104000]\n",
            " [    44  39000]\n",
            " [    32 120000]\n",
            " [    38  50000]\n",
            " [    32 135000]\n",
            " [    52  21000]\n",
            " [    53 104000]\n",
            " [    39  42000]\n",
            " [    38  61000]\n",
            " [    36  50000]\n",
            " [    36  63000]\n",
            " [    35  25000]\n",
            " [    35  50000]\n",
            " [    42  73000]\n",
            " [    47  49000]\n",
            " [    59  29000]\n",
            " [    49  65000]\n",
            " [    45 131000]\n",
            " [    31  89000]\n",
            " [    46  82000]\n",
            " [    47  51000]]\n",
            "[0 0 0 0 0 0 0 1 0 0 0 0 0 0 0 0 0 0 1 0 0 1 0 1 0 1 0 0 0 0 0 1 1 0 0 0 0\n",
            " 0 0 1 0 0 0 0 1 0 0 1 0 1 1 0 0 0 1 1 0 0 1 0 0 1 0 1 0 1 0 0 0 0 1 0 0 1\n",
            " 0 0 0 0 1 1 1 0 0 0 1 1 0 1 1 0 0 1 0 0 0 1 0 1 1 1 0 1 0 1 1 1 0 0 0 0 0\n",
            " 0 1 1 1 0 1 0 0 1]\n"
          ]
        }
      ]
    },
    {
      "cell_type": "markdown",
      "source": [
        "- **Bước 6:** Trình bày kết quả và nhận xét"
      ],
      "metadata": {
        "id": "YTJjcoNt7SFL"
      }
    },
    {
      "cell_type": "markdown",
      "source": [
        "Tìm độ sai số:"
      ],
      "metadata": {
        "id": "VKTQr_ftS0qS"
      }
    },
    {
      "cell_type": "code",
      "source": [
        "mse2 = sklearn.metrics.mean_squared_error(ytest, y_pred)\n",
        "print(mse2)"
      ],
      "metadata": {
        "colab": {
          "base_uri": "https://localhost:8080/"
        },
        "id": "nYYQSUkJ-r02",
        "outputId": "3382f8aa-37ca-40bd-df86-5543629f051a"
      },
      "execution_count": null,
      "outputs": [
        {
          "output_type": "stream",
          "name": "stdout",
          "text": [
            "0.3416666666666667\n"
          ]
        }
      ]
    },
    {
      "cell_type": "markdown",
      "source": [
        "Kết quả: \n",
        "- Độ chính xác mô hình là 63%\n",
        "- Độ sai số của mô hình là 34%"
      ],
      "metadata": {
        "id": "F4E7jOSJ8CmI"
      }
    },
    {
      "cell_type": "markdown",
      "source": [
        "Nhận xét: Sau khi phân tích các thước đo hiệu suất - độ chính xác và ma trận hỗn tạp và biểu đồ, ta có thể nói rõ ràng rằng mô hình đang hoạt động khá tốt."
      ],
      "metadata": {
        "id": "NKBs7lrC7XRK"
      }
    },
    {
      "cell_type": "markdown",
      "source": [
        "# **Bài 8:** Bạn hãy lựa chọn 1 tập dữ liệu phù hợp với bài toán hồi quy phi tuyến và xây dựng mô hình hồi quy phi tuyến theo từng bước (kèm với mô tả của từng bước)"
      ],
      "metadata": {
        "id": "PaYwP4HK0lKD"
      }
    },
    {
      "cell_type": "markdown",
      "source": [
        "- **Bước 1:** Tải dữ liệu"
      ],
      "metadata": {
        "id": "8x3lmxR8_ZsW"
      }
    },
    {
      "cell_type": "markdown",
      "source": [
        "- Cài đặt các thư viện cần thiết\n",
        "- Tải dataset "
      ],
      "metadata": {
        "id": "8abGBbGPBgFe"
      }
    },
    {
      "cell_type": "code",
      "source": [
        "# downloading dataset\n",
        "! wget -nv -O china_gdp.csv https://s3-api.us-geo.objectstorage.softlayer.net/cf-courses-data/CognitiveClass/ML0101ENv3/labs/china_gdp.csv"
      ],
      "metadata": {
        "colab": {
          "base_uri": "https://localhost:8080/"
        },
        "id": "yquffAIj_OwP",
        "outputId": "d538cf3e-d299-482c-845f-344478363d8d"
      },
      "execution_count": null,
      "outputs": [
        {
          "output_type": "stream",
          "name": "stdout",
          "text": [
            "2022-03-23 13:47:06 URL:https://s3-api.us-geo.objectstorage.softlayer.net/cf-courses-data/CognitiveClass/ML0101ENv3/labs/china_gdp.csv [1218/1218] -> \"china_gdp.csv\" [1]\n"
          ]
        }
      ]
    },
    {
      "cell_type": "code",
      "source": [
        "df = pd.read_csv(\"china_gdp.csv\")\n",
        "df.head(10)"
      ],
      "metadata": {
        "colab": {
          "base_uri": "https://localhost:8080/",
          "height": 363
        },
        "id": "BFAz6LRUDBKe",
        "outputId": "5f145ba4-6580-45d6-bf69-3b35e326eb1e"
      },
      "execution_count": null,
      "outputs": [
        {
          "output_type": "execute_result",
          "data": {
            "text/plain": [
              "   Year         Value\n",
              "0  1960  5.918412e+10\n",
              "1  1961  4.955705e+10\n",
              "2  1962  4.668518e+10\n",
              "3  1963  5.009730e+10\n",
              "4  1964  5.906225e+10\n",
              "5  1965  6.970915e+10\n",
              "6  1966  7.587943e+10\n",
              "7  1967  7.205703e+10\n",
              "8  1968  6.999350e+10\n",
              "9  1969  7.871882e+10"
            ],
            "text/html": [
              "\n",
              "  <div id=\"df-f9e58e2e-8f26-47c5-aedd-944b7d6aba22\">\n",
              "    <div class=\"colab-df-container\">\n",
              "      <div>\n",
              "<style scoped>\n",
              "    .dataframe tbody tr th:only-of-type {\n",
              "        vertical-align: middle;\n",
              "    }\n",
              "\n",
              "    .dataframe tbody tr th {\n",
              "        vertical-align: top;\n",
              "    }\n",
              "\n",
              "    .dataframe thead th {\n",
              "        text-align: right;\n",
              "    }\n",
              "</style>\n",
              "<table border=\"1\" class=\"dataframe\">\n",
              "  <thead>\n",
              "    <tr style=\"text-align: right;\">\n",
              "      <th></th>\n",
              "      <th>Year</th>\n",
              "      <th>Value</th>\n",
              "    </tr>\n",
              "  </thead>\n",
              "  <tbody>\n",
              "    <tr>\n",
              "      <th>0</th>\n",
              "      <td>1960</td>\n",
              "      <td>5.918412e+10</td>\n",
              "    </tr>\n",
              "    <tr>\n",
              "      <th>1</th>\n",
              "      <td>1961</td>\n",
              "      <td>4.955705e+10</td>\n",
              "    </tr>\n",
              "    <tr>\n",
              "      <th>2</th>\n",
              "      <td>1962</td>\n",
              "      <td>4.668518e+10</td>\n",
              "    </tr>\n",
              "    <tr>\n",
              "      <th>3</th>\n",
              "      <td>1963</td>\n",
              "      <td>5.009730e+10</td>\n",
              "    </tr>\n",
              "    <tr>\n",
              "      <th>4</th>\n",
              "      <td>1964</td>\n",
              "      <td>5.906225e+10</td>\n",
              "    </tr>\n",
              "    <tr>\n",
              "      <th>5</th>\n",
              "      <td>1965</td>\n",
              "      <td>6.970915e+10</td>\n",
              "    </tr>\n",
              "    <tr>\n",
              "      <th>6</th>\n",
              "      <td>1966</td>\n",
              "      <td>7.587943e+10</td>\n",
              "    </tr>\n",
              "    <tr>\n",
              "      <th>7</th>\n",
              "      <td>1967</td>\n",
              "      <td>7.205703e+10</td>\n",
              "    </tr>\n",
              "    <tr>\n",
              "      <th>8</th>\n",
              "      <td>1968</td>\n",
              "      <td>6.999350e+10</td>\n",
              "    </tr>\n",
              "    <tr>\n",
              "      <th>9</th>\n",
              "      <td>1969</td>\n",
              "      <td>7.871882e+10</td>\n",
              "    </tr>\n",
              "  </tbody>\n",
              "</table>\n",
              "</div>\n",
              "      <button class=\"colab-df-convert\" onclick=\"convertToInteractive('df-f9e58e2e-8f26-47c5-aedd-944b7d6aba22')\"\n",
              "              title=\"Convert this dataframe to an interactive table.\"\n",
              "              style=\"display:none;\">\n",
              "        \n",
              "  <svg xmlns=\"http://www.w3.org/2000/svg\" height=\"24px\"viewBox=\"0 0 24 24\"\n",
              "       width=\"24px\">\n",
              "    <path d=\"M0 0h24v24H0V0z\" fill=\"none\"/>\n",
              "    <path d=\"M18.56 5.44l.94 2.06.94-2.06 2.06-.94-2.06-.94-.94-2.06-.94 2.06-2.06.94zm-11 1L8.5 8.5l.94-2.06 2.06-.94-2.06-.94L8.5 2.5l-.94 2.06-2.06.94zm10 10l.94 2.06.94-2.06 2.06-.94-2.06-.94-.94-2.06-.94 2.06-2.06.94z\"/><path d=\"M17.41 7.96l-1.37-1.37c-.4-.4-.92-.59-1.43-.59-.52 0-1.04.2-1.43.59L10.3 9.45l-7.72 7.72c-.78.78-.78 2.05 0 2.83L4 21.41c.39.39.9.59 1.41.59.51 0 1.02-.2 1.41-.59l7.78-7.78 2.81-2.81c.8-.78.8-2.07 0-2.86zM5.41 20L4 18.59l7.72-7.72 1.47 1.35L5.41 20z\"/>\n",
              "  </svg>\n",
              "      </button>\n",
              "      \n",
              "  <style>\n",
              "    .colab-df-container {\n",
              "      display:flex;\n",
              "      flex-wrap:wrap;\n",
              "      gap: 12px;\n",
              "    }\n",
              "\n",
              "    .colab-df-convert {\n",
              "      background-color: #E8F0FE;\n",
              "      border: none;\n",
              "      border-radius: 50%;\n",
              "      cursor: pointer;\n",
              "      display: none;\n",
              "      fill: #1967D2;\n",
              "      height: 32px;\n",
              "      padding: 0 0 0 0;\n",
              "      width: 32px;\n",
              "    }\n",
              "\n",
              "    .colab-df-convert:hover {\n",
              "      background-color: #E2EBFA;\n",
              "      box-shadow: 0px 1px 2px rgba(60, 64, 67, 0.3), 0px 1px 3px 1px rgba(60, 64, 67, 0.15);\n",
              "      fill: #174EA6;\n",
              "    }\n",
              "\n",
              "    [theme=dark] .colab-df-convert {\n",
              "      background-color: #3B4455;\n",
              "      fill: #D2E3FC;\n",
              "    }\n",
              "\n",
              "    [theme=dark] .colab-df-convert:hover {\n",
              "      background-color: #434B5C;\n",
              "      box-shadow: 0px 1px 3px 1px rgba(0, 0, 0, 0.15);\n",
              "      filter: drop-shadow(0px 1px 2px rgba(0, 0, 0, 0.3));\n",
              "      fill: #FFFFFF;\n",
              "    }\n",
              "  </style>\n",
              "\n",
              "      <script>\n",
              "        const buttonEl =\n",
              "          document.querySelector('#df-f9e58e2e-8f26-47c5-aedd-944b7d6aba22 button.colab-df-convert');\n",
              "        buttonEl.style.display =\n",
              "          google.colab.kernel.accessAllowed ? 'block' : 'none';\n",
              "\n",
              "        async function convertToInteractive(key) {\n",
              "          const element = document.querySelector('#df-f9e58e2e-8f26-47c5-aedd-944b7d6aba22');\n",
              "          const dataTable =\n",
              "            await google.colab.kernel.invokeFunction('convertToInteractive',\n",
              "                                                     [key], {});\n",
              "          if (!dataTable) return;\n",
              "\n",
              "          const docLinkHtml = 'Like what you see? Visit the ' +\n",
              "            '<a target=\"_blank\" href=https://colab.research.google.com/notebooks/data_table.ipynb>data table notebook</a>'\n",
              "            + ' to learn more about interactive tables.';\n",
              "          element.innerHTML = '';\n",
              "          dataTable['output_type'] = 'display_data';\n",
              "          await google.colab.output.renderOutput(dataTable, element);\n",
              "          const docLink = document.createElement('div');\n",
              "          docLink.innerHTML = docLinkHtml;\n",
              "          element.appendChild(docLink);\n",
              "        }\n",
              "      </script>\n",
              "    </div>\n",
              "  </div>\n",
              "  "
            ]
          },
          "metadata": {},
          "execution_count": 20
        }
      ]
    },
    {
      "cell_type": "markdown",
      "source": [
        "- **Bước 2:** Mô tả dữ liệu"
      ],
      "metadata": {
        "id": "ni15JY-7DW_q"
      }
    },
    {
      "cell_type": "markdown",
      "source": [
        "Mô hình phi tuyến tính với điểm dữ liệu tương ứng với GDP của Trung Quốc từ năm 1960 đến năm 2014. Ta tải xuống tập dữ liệu có hai cột, cột đầu tiên: một năm từ 1960 đến 2014, cột thứ hai: Tổng thu nhập quốc nội hàng năm tương ứng của Trung Quốc tính bằng đô la Mỹ trong năm đó."
      ],
      "metadata": {
        "id": "iHxp6lnpDYl-"
      }
    },
    {
      "cell_type": "markdown",
      "source": [
        "Vẽ dataset:"
      ],
      "metadata": {
        "id": "ryX_JeeYFYNz"
      }
    },
    {
      "cell_type": "code",
      "source": [
        "plt.figure(figsize=(8,5))\n",
        "x8_data, y8_data = (df[\"Year\"].values, df[\"Value\"].values)\n",
        "plt.plot(x8_data, y8_data, 'ro')\n",
        "plt.ylabel('GDP')\n",
        "plt.xlabel('Year')\n",
        "plt.show()"
      ],
      "metadata": {
        "colab": {
          "base_uri": "https://localhost:8080/",
          "height": 344
        },
        "id": "_rwL8kEiE8vu",
        "outputId": "89e4dd83-c7ef-4253-b757-5175fc48930f"
      },
      "execution_count": null,
      "outputs": [
        {
          "output_type": "display_data",
          "data": {
            "text/plain": [
              "<Figure size 576x360 with 1 Axes>"
            ],
            "image/png": "[encoded data removed]"
          },
          "metadata": {
            "needs_background": "light"
          }
        }
      ]
    },
    {
      "cell_type": "markdown",
      "source": [
        "Theo biểu đồ, ta xác định rằng hàm logistic có thể là một xấp xỉ tốt, vì nó có đặc tính là bắt đầu với tốc độ tăng trưởng chậm, tăng trưởng nhanh ở giữa và sau đó giảm lại ở cuối; như minh họa bên dưới:"
      ],
      "metadata": {
        "id": "YT_yPvOTGHvO"
      }
    },
    {
      "cell_type": "code",
      "source": [
        "X8 = np.arange(-5.0, 5.0, 0.1)\n",
        "Y8 = 1.0 / (1.0 + np.exp(-X8))\n",
        "\n",
        "plt.plot(X8,Y8) \n",
        "plt.ylabel('Dependent Variable')\n",
        "plt.xlabel('Indepdendent Variable')\n",
        "plt.show()"
      ],
      "metadata": {
        "colab": {
          "base_uri": "https://localhost:8080/",
          "height": 278
        },
        "id": "DW_qY5sGGWH_",
        "outputId": "e1c664b3-00b4-4a78-e0a3-7bc0b33685aa"
      },
      "execution_count": null,
      "outputs": [
        {
          "output_type": "display_data",
          "data": {
            "text/plain": [
              "<Figure size 432x288 with 1 Axes>"
            ],
            "image/png": "[encoded data removed]"
          },
          "metadata": {
            "needs_background": "light"
          }
        }
      ]
    },
    {
      "cell_type": "markdown",
      "source": [
        "Build mô hình"
      ],
      "metadata": {
        "id": "d7sxx_8HHgi-"
      }
    },
    {
      "cell_type": "code",
      "source": [
        "def sigmoid(x, Beta_1, Beta_2):\n",
        "     y8 = 1 / (1 + np.exp(-Beta_1*(x-Beta_2)))\n",
        "     return y8"
      ],
      "metadata": {
        "id": "S6zHPkkCHRFk"
      },
      "execution_count": null,
      "outputs": []
    },
    {
      "cell_type": "markdown",
      "source": [
        "Dòng sigmoid mẫu có thể phù hợp với dữ liệu:"
      ],
      "metadata": {
        "id": "uPX49cylHmKt"
      }
    },
    {
      "cell_type": "code",
      "source": [
        "beta_1 = 0.10\n",
        "beta_2 = 1990.0\n",
        "\n",
        "#logistic function\n",
        "Y8_pred = sigmoid(x8_data, beta_1 , beta_2)\n",
        "\n",
        "#plot initial prediction against datapoints\n",
        "plt.plot(x8_data, Y8_pred*15000000000000.)\n",
        "plt.plot(x8_data, y8_data, 'ro')"
      ],
      "metadata": {
        "colab": {
          "base_uri": "https://localhost:8080/",
          "height": 294
        },
        "id": "3gu411gVHlyC",
        "outputId": "515853ce-781f-493b-b164-a9480fb1afa4"
      },
      "execution_count": null,
      "outputs": [
        {
          "output_type": "execute_result",
          "data": {
            "text/plain": [
              "[<matplotlib.lines.Line2D at 0x7f3e7ac10b10>]"
            ]
          },
          "metadata": {},
          "execution_count": 39
        },
        {
          "output_type": "display_data",
          "data": {
            "text/plain": [
              "<Figure size 432x288 with 1 Axes>"
            ],
            "image/png": "[encoded data removed]"
          },
          "metadata": {
            "needs_background": "light"
          }
        }
      ]
    },
    {
      "cell_type": "markdown",
      "source": [
        "Chuẩn hóa x và y"
      ],
      "metadata": {
        "id": "rBm16X8dIsJz"
      }
    },
    {
      "cell_type": "code",
      "source": [
        "x8data  = x8_data / max ( x8_data ) \n",
        "y8data  = y8_data / max ( y8_data )"
      ],
      "metadata": {
        "id": "EAwzXvTQItqJ"
      },
      "execution_count": null,
      "outputs": []
    },
    {
      "cell_type": "markdown",
      "source": [
        "- **Bước 3:** Phân chia train – test (tỉ lệ 70% -30%)"
      ],
      "metadata": {
        "id": "Rxdx5PEVJGV9"
      }
    },
    {
      "cell_type": "markdown",
      "source": [
        "Tách tập dữ liệu để train và test. 70% dữ liệu được sử dụng để train mô hình và 30% dữ liệu được sử dụng để test hiệu suất của mô hình"
      ],
      "metadata": {
        "id": "O4X1WQdJJV1Q"
      }
    },
    {
      "cell_type": "code",
      "source": [
        "from sklearn.model_selection import train_test_split\n",
        "\n",
        "x8train, x8test, y8train, y8test = train_test_split(\n",
        "\t\tx8data, y8data, test_size = 0.30, random_state = 0)\n"
      ],
      "metadata": {
        "id": "XTi3Jt2CJgEc"
      },
      "execution_count": null,
      "outputs": []
    },
    {
      "cell_type": "markdown",
      "source": [
        "- **Bước 4:** Huấn luyện mô hình với train set (10-fold cross validation)"
      ],
      "metadata": {
        "id": "jFUx0OoOKoG6"
      }
    },
    {
      "cell_type": "markdown",
      "source": [
        "- Thư viện máy học Python scikit-learning cung cấp k-fold cross validation thông qua lớp RepeatedKFold .\n",
        "\n",
        "- Các tham số chính là số lần gấp ( n_splits ), là “ k ” trong cross validation và số lần lặp lại ( n_repeats ).\n",
        "\n",
        "- Giá trị mặc định tốt cho k là k = 10."
      ],
      "metadata": {
        "id": "nVODjeXfNFsW"
      }
    },
    {
      "cell_type": "code",
      "source": [
        "# evaluate a logistic regression model using k-fold cross-validation\n",
        "from numpy import mean\n",
        "from numpy import std\n",
        "from sklearn.datasets import make_classification\n",
        "from sklearn.model_selection import KFold\n",
        "from sklearn.model_selection import cross_val_score\n",
        "from sklearn.linear_model import LogisticRegression\n",
        "\n",
        "# prepare the cross-validation procedure\n",
        "cv = KFold(n_splits=10, random_state=1, shuffle=True)\n",
        "# create model\n",
        "model = LogisticRegression()\n",
        "# evaluate model\n",
        "scores = cross_val_score(model, x8train, y8train, scoring='accuracy', cv=cv, n_jobs=-1)\n",
        "# report performance\n",
        "print('Accuracy: %.3f (%.3f)' % (mean(scores), std(scores)))"
      ],
      "metadata": {
        "colab": {
          "base_uri": "https://localhost:8080/"
        },
        "outputId": "3c2ff30b-09d2-44a3-838e-18e42b82a20d",
        "id": "xdGz6sxFK8Im"
      },
      "execution_count": null,
      "outputs": [
        {
          "output_type": "stream",
          "name": "stdout",
          "text": [
            "Accuracy: nan (nan)\n"
          ]
        },
        {
          "output_type": "stream",
          "name": "stderr",
          "text": [
            "/usr/local/lib/python3.7/dist-packages/sklearn/model_selection/_validation.py:372: FitFailedWarning: \n",
            "10 fits failed out of a total of 10.\n",
            "The score on these train-test partitions for these parameters will be set to nan.\n",
            "If these failures are not expected, you can try to debug them by setting error_score='raise'.\n",
            "\n",
            "Below are more details about the failures:\n",
            "--------------------------------------------------------------------------------\n",
            "1 fits failed with the following error:\n",
            "Traceback (most recent call last):\n",
            "  File \"/usr/local/lib/python3.7/dist-packages/sklearn/model_selection/_validation.py\", line 680, in _fit_and_score\n",
            "    estimator.fit(X_train, y_train, **fit_params)\n",
            "  File \"/usr/local/lib/python3.7/dist-packages/sklearn/linear_model/_logistic.py\", line 1514, in fit\n",
            "    accept_large_sparse=solver not in [\"liblinear\", \"sag\", \"saga\"],\n",
            "  File \"/usr/local/lib/python3.7/dist-packages/sklearn/base.py\", line 581, in _validate_data\n",
            "    X, y = check_X_y(X, y, **check_params)\n",
            "  File \"/usr/local/lib/python3.7/dist-packages/sklearn/utils/validation.py\", line 976, in check_X_y\n",
            "    estimator=estimator,\n",
            "  File \"/usr/local/lib/python3.7/dist-packages/sklearn/utils/validation.py\", line 773, in check_array\n",
            "    \"if it contains a single sample.\".format(array)\n",
            "ValueError: Expected 2D array, got 1D array instead:\n",
            "array=[0.97666336 0.98013903 0.9980139  0.98212512 0.99900695 0.99006951\n",
            " 0.98063555 0.97567031 0.98758689 0.98113208 0.99950348 0.98311817\n",
            " 0.99702085 0.97715988 0.9796425  0.98560079 0.9816286  0.99354518\n",
            " 1.         0.99205561 0.97914598 0.99404171 0.98510427 0.97616683\n",
            " 0.98460775 0.99106256 0.98262165 0.97765641 0.99255214 0.99851043\n",
            " 0.97467726 0.97318769 0.99652433 0.99503476].\n",
            "Reshape your data either using array.reshape(-1, 1) if your data has a single feature or array.reshape(1, -1) if it contains a single sample.\n",
            "\n",
            "--------------------------------------------------------------------------------\n",
            "1 fits failed with the following error:\n",
            "Traceback (most recent call last):\n",
            "  File \"/usr/local/lib/python3.7/dist-packages/sklearn/model_selection/_validation.py\", line 680, in _fit_and_score\n",
            "    estimator.fit(X_train, y_train, **fit_params)\n",
            "  File \"/usr/local/lib/python3.7/dist-packages/sklearn/linear_model/_logistic.py\", line 1514, in fit\n",
            "    accept_large_sparse=solver not in [\"liblinear\", \"sag\", \"saga\"],\n",
            "  File \"/usr/local/lib/python3.7/dist-packages/sklearn/base.py\", line 581, in _validate_data\n",
            "    X, y = check_X_y(X, y, **check_params)\n",
            "  File \"/usr/local/lib/python3.7/dist-packages/sklearn/utils/validation.py\", line 976, in check_X_y\n",
            "    estimator=estimator,\n",
            "  File \"/usr/local/lib/python3.7/dist-packages/sklearn/utils/validation.py\", line 773, in check_array\n",
            "    \"if it contains a single sample.\".format(array)\n",
            "ValueError: Expected 2D array, got 1D array instead:\n",
            "array=[0.97666336 0.98013903 0.98659384 0.99056604 0.9980139  0.98212512\n",
            " 0.99900695 0.99006951 0.98063555 0.97567031 0.98758689 0.98113208\n",
            " 0.99950348 0.98311817 0.99702085 0.97715988 0.9796425  0.98560079\n",
            " 0.9816286  0.99354518 1.         0.97368421 0.97914598 0.99404171\n",
            " 0.97616683 0.99106256 0.9836147  0.98262165 0.97765641 0.99255214\n",
            " 0.99851043 0.97467726 0.99652433 0.99503476].\n",
            "Reshape your data either using array.reshape(-1, 1) if your data has a single feature or array.reshape(1, -1) if it contains a single sample.\n",
            "\n",
            "--------------------------------------------------------------------------------\n",
            "1 fits failed with the following error:\n",
            "Traceback (most recent call last):\n",
            "  File \"/usr/local/lib/python3.7/dist-packages/sklearn/model_selection/_validation.py\", line 680, in _fit_and_score\n",
            "    estimator.fit(X_train, y_train, **fit_params)\n",
            "  File \"/usr/local/lib/python3.7/dist-packages/sklearn/linear_model/_logistic.py\", line 1514, in fit\n",
            "    accept_large_sparse=solver not in [\"liblinear\", \"sag\", \"saga\"],\n",
            "  File \"/usr/local/lib/python3.7/dist-packages/sklearn/base.py\", line 581, in _validate_data\n",
            "    X, y = check_X_y(X, y, **check_params)\n",
            "  File \"/usr/local/lib/python3.7/dist-packages/sklearn/utils/validation.py\", line 976, in check_X_y\n",
            "    estimator=estimator,\n",
            "  File \"/usr/local/lib/python3.7/dist-packages/sklearn/utils/validation.py\", line 773, in check_array\n",
            "    \"if it contains a single sample.\".format(array)\n",
            "ValueError: Expected 2D array, got 1D array instead:\n",
            "array=[0.97666336 0.98013903 0.98659384 0.99056604 0.9980139  0.98212512\n",
            " 0.99900695 0.99006951 0.98063555 0.97567031 0.98758689 0.98113208\n",
            " 0.99950348 0.98311817 0.99702085 0.97715988 0.9796425  0.9816286\n",
            " 1.         0.99205561 0.97368421 0.97914598 0.98510427 0.97616683\n",
            " 0.98460775 0.99106256 0.9836147  0.97765641 0.99255214 0.99851043\n",
            " 0.97467726 0.97318769 0.99652433 0.99503476].\n",
            "Reshape your data either using array.reshape(-1, 1) if your data has a single feature or array.reshape(1, -1) if it contains a single sample.\n",
            "\n",
            "--------------------------------------------------------------------------------\n",
            "1 fits failed with the following error:\n",
            "Traceback (most recent call last):\n",
            "  File \"/usr/local/lib/python3.7/dist-packages/sklearn/model_selection/_validation.py\", line 680, in _fit_and_score\n",
            "    estimator.fit(X_train, y_train, **fit_params)\n",
            "  File \"/usr/local/lib/python3.7/dist-packages/sklearn/linear_model/_logistic.py\", line 1514, in fit\n",
            "    accept_large_sparse=solver not in [\"liblinear\", \"sag\", \"saga\"],\n",
            "  File \"/usr/local/lib/python3.7/dist-packages/sklearn/base.py\", line 581, in _validate_data\n",
            "    X, y = check_X_y(X, y, **check_params)\n",
            "  File \"/usr/local/lib/python3.7/dist-packages/sklearn/utils/validation.py\", line 976, in check_X_y\n",
            "    estimator=estimator,\n",
            "  File \"/usr/local/lib/python3.7/dist-packages/sklearn/utils/validation.py\", line 773, in check_array\n",
            "    \"if it contains a single sample.\".format(array)\n",
            "ValueError: Expected 2D array, got 1D array instead:\n",
            "array=[0.97666336 0.98013903 0.98659384 0.99056604 0.9980139  0.98212512\n",
            " 0.99900695 0.99006951 0.98063555 0.97567031 0.98758689 0.98113208\n",
            " 0.99950348 0.98311817 0.99702085 0.97715988 0.9796425  0.98560079\n",
            " 0.9816286  0.99354518 1.         0.99205561 0.97368421 0.97914598\n",
            " 0.99404171 0.98510427 0.98460775 0.9836147  0.98262165 0.99255214\n",
            " 0.99851043 0.97318769 0.99652433 0.99503476].\n",
            "Reshape your data either using array.reshape(-1, 1) if your data has a single feature or array.reshape(1, -1) if it contains a single sample.\n",
            "\n",
            "--------------------------------------------------------------------------------\n",
            "1 fits failed with the following error:\n",
            "Traceback (most recent call last):\n",
            "  File \"/usr/local/lib/python3.7/dist-packages/sklearn/model_selection/_validation.py\", line 680, in _fit_and_score\n",
            "    estimator.fit(X_train, y_train, **fit_params)\n",
            "  File \"/usr/local/lib/python3.7/dist-packages/sklearn/linear_model/_logistic.py\", line 1514, in fit\n",
            "    accept_large_sparse=solver not in [\"liblinear\", \"sag\", \"saga\"],\n",
            "  File \"/usr/local/lib/python3.7/dist-packages/sklearn/base.py\", line 581, in _validate_data\n",
            "    X, y = check_X_y(X, y, **check_params)\n",
            "  File \"/usr/local/lib/python3.7/dist-packages/sklearn/utils/validation.py\", line 976, in check_X_y\n",
            "    estimator=estimator,\n",
            "  File \"/usr/local/lib/python3.7/dist-packages/sklearn/utils/validation.py\", line 773, in check_array\n",
            "    \"if it contains a single sample.\".format(array)\n",
            "ValueError: Expected 2D array, got 1D array instead:\n",
            "array=[0.97666336 0.98013903 0.98659384 0.99056604 0.98212512 0.99900695\n",
            " 0.99006951 0.98063555 0.97567031 0.98113208 0.99950348 0.98311817\n",
            " 0.97715988 0.9796425  0.98560079 0.9816286  0.99354518 1.\n",
            " 0.99205561 0.97368421 0.97914598 0.99404171 0.98510427 0.97616683\n",
            " 0.98460775 0.99106256 0.9836147  0.98262165 0.97765641 0.99255214\n",
            " 0.97467726 0.97318769 0.99652433 0.99503476].\n",
            "Reshape your data either using array.reshape(-1, 1) if your data has a single feature or array.reshape(1, -1) if it contains a single sample.\n",
            "\n",
            "--------------------------------------------------------------------------------\n",
            "1 fits failed with the following error:\n",
            "Traceback (most recent call last):\n",
            "  File \"/usr/local/lib/python3.7/dist-packages/sklearn/model_selection/_validation.py\", line 680, in _fit_and_score\n",
            "    estimator.fit(X_train, y_train, **fit_params)\n",
            "  File \"/usr/local/lib/python3.7/dist-packages/sklearn/linear_model/_logistic.py\", line 1514, in fit\n",
            "    accept_large_sparse=solver not in [\"liblinear\", \"sag\", \"saga\"],\n",
            "  File \"/usr/local/lib/python3.7/dist-packages/sklearn/base.py\", line 581, in _validate_data\n",
            "    X, y = check_X_y(X, y, **check_params)\n",
            "  File \"/usr/local/lib/python3.7/dist-packages/sklearn/utils/validation.py\", line 976, in check_X_y\n",
            "    estimator=estimator,\n",
            "  File \"/usr/local/lib/python3.7/dist-packages/sklearn/utils/validation.py\", line 773, in check_array\n",
            "    \"if it contains a single sample.\".format(array)\n",
            "ValueError: Expected 2D array, got 1D array instead:\n",
            "array=[0.97666336 0.98013903 0.98659384 0.99056604 0.9980139  0.98212512\n",
            " 0.99900695 0.99006951 0.98063555 0.97567031 0.98758689 0.98113208\n",
            " 0.99950348 0.98311817 0.99702085 0.97715988 0.9796425  0.98560079\n",
            " 0.99354518 0.99205561 0.97368421 0.99404171 0.98510427 0.97616683\n",
            " 0.98460775 0.99106256 0.9836147  0.98262165 0.97765641 0.99851043\n",
            " 0.97467726 0.97318769 0.99652433 0.99503476].\n",
            "Reshape your data either using array.reshape(-1, 1) if your data has a single feature or array.reshape(1, -1) if it contains a single sample.\n",
            "\n",
            "--------------------------------------------------------------------------------\n",
            "1 fits failed with the following error:\n",
            "Traceback (most recent call last):\n",
            "  File \"/usr/local/lib/python3.7/dist-packages/sklearn/model_selection/_validation.py\", line 680, in _fit_and_score\n",
            "    estimator.fit(X_train, y_train, **fit_params)\n",
            "  File \"/usr/local/lib/python3.7/dist-packages/sklearn/linear_model/_logistic.py\", line 1514, in fit\n",
            "    accept_large_sparse=solver not in [\"liblinear\", \"sag\", \"saga\"],\n",
            "  File \"/usr/local/lib/python3.7/dist-packages/sklearn/base.py\", line 581, in _validate_data\n",
            "    X, y = check_X_y(X, y, **check_params)\n",
            "  File \"/usr/local/lib/python3.7/dist-packages/sklearn/utils/validation.py\", line 976, in check_X_y\n",
            "    estimator=estimator,\n",
            "  File \"/usr/local/lib/python3.7/dist-packages/sklearn/utils/validation.py\", line 773, in check_array\n",
            "    \"if it contains a single sample.\".format(array)\n",
            "ValueError: Expected 2D array, got 1D array instead:\n",
            "array=[0.97666336 0.98013903 0.98659384 0.99056604 0.9980139  0.98212512\n",
            " 0.98063555 0.97567031 0.98758689 0.98113208 0.99950348 0.99702085\n",
            " 0.97715988 0.9796425  0.98560079 0.9816286  0.99354518 1.\n",
            " 0.99205561 0.97368421 0.97914598 0.99404171 0.98510427 0.97616683\n",
            " 0.98460775 0.99106256 0.9836147  0.98262165 0.97765641 0.99255214\n",
            " 0.99851043 0.97467726 0.97318769 0.99503476].\n",
            "Reshape your data either using array.reshape(-1, 1) if your data has a single feature or array.reshape(1, -1) if it contains a single sample.\n",
            "\n",
            "--------------------------------------------------------------------------------\n",
            "1 fits failed with the following error:\n",
            "Traceback (most recent call last):\n",
            "  File \"/usr/local/lib/python3.7/dist-packages/sklearn/model_selection/_validation.py\", line 680, in _fit_and_score\n",
            "    estimator.fit(X_train, y_train, **fit_params)\n",
            "  File \"/usr/local/lib/python3.7/dist-packages/sklearn/linear_model/_logistic.py\", line 1514, in fit\n",
            "    accept_large_sparse=solver not in [\"liblinear\", \"sag\", \"saga\"],\n",
            "  File \"/usr/local/lib/python3.7/dist-packages/sklearn/base.py\", line 581, in _validate_data\n",
            "    X, y = check_X_y(X, y, **check_params)\n",
            "  File \"/usr/local/lib/python3.7/dist-packages/sklearn/utils/validation.py\", line 976, in check_X_y\n",
            "    estimator=estimator,\n",
            "  File \"/usr/local/lib/python3.7/dist-packages/sklearn/utils/validation.py\", line 773, in check_array\n",
            "    \"if it contains a single sample.\".format(array)\n",
            "ValueError: Expected 2D array, got 1D array instead:\n",
            "array=[0.98659384 0.99056604 0.9980139  0.98212512 0.99900695 0.99006951\n",
            " 0.98063555 0.97567031 0.98758689 0.98113208 0.99950348 0.98311817\n",
            " 0.99702085 0.98560079 0.9816286  0.99354518 1.         0.99205561\n",
            " 0.97368421 0.97914598 0.99404171 0.98510427 0.97616683 0.98460775\n",
            " 0.99106256 0.9836147  0.98262165 0.97765641 0.99255214 0.99851043\n",
            " 0.97467726 0.97318769 0.99652433 0.99503476].\n",
            "Reshape your data either using array.reshape(-1, 1) if your data has a single feature or array.reshape(1, -1) if it contains a single sample.\n",
            "\n",
            "--------------------------------------------------------------------------------\n",
            "1 fits failed with the following error:\n",
            "Traceback (most recent call last):\n",
            "  File \"/usr/local/lib/python3.7/dist-packages/sklearn/model_selection/_validation.py\", line 680, in _fit_and_score\n",
            "    estimator.fit(X_train, y_train, **fit_params)\n",
            "  File \"/usr/local/lib/python3.7/dist-packages/sklearn/linear_model/_logistic.py\", line 1514, in fit\n",
            "    accept_large_sparse=solver not in [\"liblinear\", \"sag\", \"saga\"],\n",
            "  File \"/usr/local/lib/python3.7/dist-packages/sklearn/base.py\", line 581, in _validate_data\n",
            "    X, y = check_X_y(X, y, **check_params)\n",
            "  File \"/usr/local/lib/python3.7/dist-packages/sklearn/utils/validation.py\", line 976, in check_X_y\n",
            "    estimator=estimator,\n",
            "  File \"/usr/local/lib/python3.7/dist-packages/sklearn/utils/validation.py\", line 773, in check_array\n",
            "    \"if it contains a single sample.\".format(array)\n",
            "ValueError: Expected 2D array, got 1D array instead:\n",
            "array=[0.97666336 0.98013903 0.98659384 0.99056604 0.9980139  0.99900695\n",
            " 0.99006951 0.98063555 0.98758689 0.99950348 0.98311817 0.99702085\n",
            " 0.97715988 0.9796425  0.98560079 0.9816286  0.99354518 1.\n",
            " 0.99205561 0.97368421 0.97914598 0.99404171 0.98510427 0.97616683\n",
            " 0.98460775 0.99106256 0.9836147  0.98262165 0.97765641 0.99255214\n",
            " 0.99851043 0.97467726 0.97318769 0.99652433 0.99503476].\n",
            "Reshape your data either using array.reshape(-1, 1) if your data has a single feature or array.reshape(1, -1) if it contains a single sample.\n",
            "\n",
            "--------------------------------------------------------------------------------\n",
            "1 fits failed with the following error:\n",
            "Traceback (most recent call last):\n",
            "  File \"/usr/local/lib/python3.7/dist-packages/sklearn/model_selection/_validation.py\", line 680, in _fit_and_score\n",
            "    estimator.fit(X_train, y_train, **fit_params)\n",
            "  File \"/usr/local/lib/python3.7/dist-packages/sklearn/linear_model/_logistic.py\", line 1514, in fit\n",
            "    accept_large_sparse=solver not in [\"liblinear\", \"sag\", \"saga\"],\n",
            "  File \"/usr/local/lib/python3.7/dist-packages/sklearn/base.py\", line 581, in _validate_data\n",
            "    X, y = check_X_y(X, y, **check_params)\n",
            "  File \"/usr/local/lib/python3.7/dist-packages/sklearn/utils/validation.py\", line 976, in check_X_y\n",
            "    estimator=estimator,\n",
            "  File \"/usr/local/lib/python3.7/dist-packages/sklearn/utils/validation.py\", line 773, in check_array\n",
            "    \"if it contains a single sample.\".format(array)\n",
            "ValueError: Expected 2D array, got 1D array instead:\n",
            "array=[0.97666336 0.98013903 0.98659384 0.99056604 0.9980139  0.98212512\n",
            " 0.99900695 0.99006951 0.97567031 0.98758689 0.98113208 0.98311817\n",
            " 0.99702085 0.97715988 0.9796425  0.98560079 0.9816286  0.99354518\n",
            " 1.         0.99205561 0.97368421 0.97914598 0.99404171 0.98510427\n",
            " 0.97616683 0.98460775 0.99106256 0.9836147  0.98262165 0.97765641\n",
            " 0.99255214 0.99851043 0.97467726 0.97318769 0.99652433].\n",
            "Reshape your data either using array.reshape(-1, 1) if your data has a single feature or array.reshape(1, -1) if it contains a single sample.\n",
            "\n",
            "  warnings.warn(some_fits_failed_message, FitFailedWarning)\n"
          ]
        }
      ]
    },
    {
      "cell_type": "markdown",
      "source": [
        "- **Bước 5:** Kiểm thử mô hình với test set"
      ],
      "metadata": {
        "id": "mR6p103fMSbV"
      }
    },
    {
      "cell_type": "markdown",
      "source": [
        "Sau khi train mô hình, đã đến lúc sử dụng nó để dự đoán trên test dataset. "
      ],
      "metadata": {
        "id": "rwaipbUgNey2"
      }
    },
    {
      "cell_type": "code",
      "source": [
        "print(\"\\n30% test data:\")\n",
        "print(x8test)\n",
        "print(y8test)"
      ],
      "metadata": {
        "colab": {
          "base_uri": "https://localhost:8080/"
        },
        "outputId": "d351c151-d0f4-4d06-aa1a-e8e90261c800",
        "id": "9YTyV9dPRd7y"
      },
      "execution_count": null,
      "outputs": [
        {
          "output_type": "stream",
          "name": "stdout",
          "text": [
            "\n",
            "30% test data:\n",
            "[0.99553128 0.98957299 0.99304866 0.98609732 0.97864945 0.97418073\n",
            " 0.98907646 0.99453823 0.99602781 0.98808342 0.97517378 0.97815293\n",
            " 0.98709037 0.98411122 0.98857994 0.99751738 0.99155909]\n",
            "[0.21908602 0.04276985 0.11639597 0.02885665 0.00951846 0.00450854\n",
            " 0.04103727 0.15933902 0.26362418 0.03466722 0.00570384 0.00883705\n",
            " 0.03000746 0.01965745 0.03683833 0.48860473 0.09253259]\n"
          ]
        }
      ]
    },
    {
      "cell_type": "markdown",
      "source": [
        "- **Bước 6:** Trình bày kết quả và nhận xét"
      ],
      "metadata": {
        "id": "E2qX6t4JS-Ly"
      }
    },
    {
      "cell_type": "markdown",
      "source": [
        "Tìm độ sai số:"
      ],
      "metadata": {
        "id": "IcGm3RXwS6Wx"
      }
    },
    {
      "cell_type": "code",
      "source": [
        "mse3 = sklearn.metrics.mean_squared_error(y8data, Y8_pred)\n",
        "print(mse3)"
      ],
      "metadata": {
        "colab": {
          "base_uri": "https://localhost:8080/"
        },
        "outputId": "32170453-58d2-4bb8-dfed-221a12311e66",
        "id": "i9d3y8lERvfg"
      },
      "execution_count": null,
      "outputs": [
        {
          "output_type": "stream",
          "name": "stdout",
          "text": [
            "0.14239383422872237\n"
          ]
        }
      ]
    },
    {
      "cell_type": "markdown",
      "source": [
        "Kết quả: \n",
        "- Độ chính xác mô hình là 98%\n",
        "- Độ sai số của mô hình là 2%"
      ],
      "metadata": {
        "id": "paSgkO-SUShR"
      }
    },
    {
      "cell_type": "markdown",
      "source": [
        "Nhận xét: Mô hình Non-Linear Regression hoạt động tương đối tốt vì có độ sai số thấp "
      ],
      "metadata": {
        "id": "8kUISsPCTG75"
      }
    }
  ]
}