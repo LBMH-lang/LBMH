{
  "nbformat": 4,
  "nbformat_minor": 0,
  "metadata": {
    "colab": {
      "name": "Bài 5:  Thao tác với vòng lặp for.ipynb",
      "provenance": [],
      "authorship_tag": "ABX9TyMmLFb4W94D0Ih2YDhcxSCH",
      "include_colab_link": true
    },
    "kernelspec": {
      "name": "python3",
      "display_name": "Python 3"
    }
  },
  "cells": [
    {
      "cell_type": "markdown",
      "metadata": {
        "id": "view-in-github",
        "colab_type": "text"
      },
      "source": [
        "<a href=\"https://colab.research.google.com/github/LBMH-lang/LBMH/blob/master/B%C3%A0i_5_Thao_t%C3%A1c_v%E1%BB%9Bi_v%C3%B2ng_l%E1%BA%B7p_for.ipynb\" target=\"_parent\"><img src=\"https://colab.research.google.com/assets/colab-badge.svg\" alt=\"Open In Colab\"/></a>"
      ]
    },
    {
      "cell_type": "markdown",
      "metadata": {
        "id": "4WvlGp1roMJk"
      },
      "source": [
        "Tạo một List gồm cấc số thực (có thể tạo bằng tay hoặc ngẫu nhiên) (lưu ý: nằm ngoài vòng lặp)"
      ]
    },
    {
      "cell_type": "code",
      "metadata": {
        "id": "qiq86IwG6YtQ"
      },
      "source": [
        "i= [1, 2, 3, 4, 5]"
      ],
      "execution_count": 2,
      "outputs": []
    },
    {
      "cell_type": "markdown",
      "metadata": {
        "id": "6JNVpN2ejIHU"
      },
      "source": [
        "Thực hiện lặp truy xuất đến từng phần tử trong List và in giá trị của từng phần tử ra màn hình"
      ]
    },
    {
      "cell_type": "code",
      "metadata": {
        "colab": {
          "base_uri": "https://localhost:8080/"
        },
        "id": "g_48k67wjKJb",
        "outputId": "2bc6238a-f8e5-4a4e-bca2-a933b97d55d3"
      },
      "source": [
        "for x in range (5):\n",
        "  print(i[0])"
      ],
      "execution_count": 15,
      "outputs": [
        {
          "output_type": "stream",
          "text": [
            "1\n",
            "1\n",
            "1\n",
            "1\n",
            "1\n"
          ],
          "name": "stdout"
        }
      ]
    },
    {
      "cell_type": "code",
      "metadata": {
        "colab": {
          "base_uri": "https://localhost:8080/"
        },
        "id": "bL9NygrVnJMU",
        "outputId": "582e2f92-6030-40f3-a131-41271c37eb58"
      },
      "source": [
        "for x in range (5):\n",
        "  print(i[1])"
      ],
      "execution_count": 16,
      "outputs": [
        {
          "output_type": "stream",
          "text": [
            "2\n",
            "2\n",
            "2\n",
            "2\n",
            "2\n"
          ],
          "name": "stdout"
        }
      ]
    },
    {
      "cell_type": "code",
      "metadata": {
        "colab": {
          "base_uri": "https://localhost:8080/"
        },
        "id": "ynwWgT3_nXwC",
        "outputId": "c551df4c-c481-401b-a7b0-b8d70f8fb9e9"
      },
      "source": [
        "for x in range (5):\n",
        "  print(i[2])"
      ],
      "execution_count": 17,
      "outputs": [
        {
          "output_type": "stream",
          "text": [
            "3\n",
            "3\n",
            "3\n",
            "3\n",
            "3\n"
          ],
          "name": "stdout"
        }
      ]
    },
    {
      "cell_type": "code",
      "metadata": {
        "colab": {
          "base_uri": "https://localhost:8080/"
        },
        "id": "UjqePsDsnm2y",
        "outputId": "729a9878-23c9-4c86-8286-897b0c77b731"
      },
      "source": [
        "for x in range (5):\n",
        "  print(i[3])"
      ],
      "execution_count": 18,
      "outputs": [
        {
          "output_type": "stream",
          "text": [
            "4\n",
            "4\n",
            "4\n",
            "4\n",
            "4\n"
          ],
          "name": "stdout"
        }
      ]
    },
    {
      "cell_type": "code",
      "metadata": {
        "colab": {
          "base_uri": "https://localhost:8080/"
        },
        "id": "LZ_MbO-Ynpxi",
        "outputId": "675fcf62-ea22-4633-f222-2b968ea56060"
      },
      "source": [
        "for x in range (5):\n",
        "  print(i[4])"
      ],
      "execution_count": 22,
      "outputs": [
        {
          "output_type": "stream",
          "text": [
            "5\n",
            "5\n",
            "5\n",
            "5\n",
            "5\n"
          ],
          "name": "stdout"
        }
      ]
    }
  ]
}