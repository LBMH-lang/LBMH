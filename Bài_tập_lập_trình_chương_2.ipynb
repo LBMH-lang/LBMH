{
  "nbformat": 4,
  "nbformat_minor": 0,
  "metadata": {
    "colab": {
      "name": "Bài tập lập trình chương 2.ipynb",
      "provenance": [],
      "authorship_tag": "ABX9TyPp4PJdrp3fpcNIYV8IWDeA",
      "include_colab_link": true
    },
    "kernelspec": {
      "name": "python3",
      "display_name": "Python 3"
    }
  },
  "cells": [
    {
      "cell_type": "markdown",
      "metadata": {
        "id": "view-in-github",
        "colab_type": "text"
      },
      "source": [
        "<a href=\"https://colab.research.google.com/github/LBMH-lang/LBMH/blob/master/B%C3%A0i_t%E1%BA%ADp_l%E1%BA%ADp_tr%C3%ACnh_ch%C6%B0%C6%A1ng_2.ipynb\" target=\"_parent\"><img src=\"https://colab.research.google.com/assets/colab-badge.svg\" alt=\"Open In Colab\"/></a>"
      ]
    },
    {
      "cell_type": "markdown",
      "metadata": {
        "id": "fJRTi8zPYUpE"
      },
      "source": [
        "Bài 1: Lập trình nhập vào từ bàn phím 2 số nguyên và tính:"
      ]
    },
    {
      "cell_type": "markdown",
      "metadata": {
        "id": "ZUULhi66b3b8"
      },
      "source": [
        "Tổng của 2 số:"
      ]
    },
    {
      "cell_type": "code",
      "metadata": {
        "id": "FDbpL8MZYL7H",
        "outputId": "5c696c2c-093f-4110-a267-28f9e8f71e58",
        "colab": {
          "base_uri": "https://localhost:8080/",
          "height": 68
        }
      },
      "source": [
        "a = int(input(\"a =\"))\n",
        "b = int(input(\"b =\"))\n",
        "c=a+b\n",
        "print(\"a+b=\", c)"
      ],
      "execution_count": 2,
      "outputs": [
        {
          "output_type": "stream",
          "text": [
            "a =4\n",
            "b =2\n",
            "a+b= 6\n"
          ],
          "name": "stdout"
        }
      ]
    },
    {
      "cell_type": "markdown",
      "metadata": {
        "id": "Yxfq6hRrYP4r"
      },
      "source": [
        "Tích của 2 số:"
      ]
    },
    {
      "cell_type": "code",
      "metadata": {
        "id": "625gqap5cHa-",
        "outputId": "b8c90b7c-c2b4-48b0-bcff-688cf2d6a739",
        "colab": {
          "base_uri": "https://localhost:8080/",
          "height": 68
        }
      },
      "source": [
        "a = int(input(\"a =\"))\n",
        "b = int(input(\"b =\"))\n",
        "c=a*b\n",
        "print(\"a*b=\", c)"
      ],
      "execution_count": 3,
      "outputs": [
        {
          "output_type": "stream",
          "text": [
            "a =5\n",
            "b =6\n",
            "a*b= 30\n"
          ],
          "name": "stdout"
        }
      ]
    },
    {
      "cell_type": "markdown",
      "metadata": {
        "id": "tM0W-6qIcZn0"
      },
      "source": [
        "Hiệu của 2 số:"
      ]
    },
    {
      "cell_type": "code",
      "metadata": {
        "id": "Olaq0cw3c2Uv",
        "outputId": "1ed0efc4-26cf-4036-8988-694a5f92a9ba",
        "colab": {
          "base_uri": "https://localhost:8080/",
          "height": 68
        }
      },
      "source": [
        "a = int(input(\"a =\"))\n",
        "b = int(input(\"b =\"))\n",
        "c=a-b\n",
        "print(\"a-b=\", c)"
      ],
      "execution_count": 4,
      "outputs": [
        {
          "output_type": "stream",
          "text": [
            "a =20\n",
            "b =10\n",
            "a-b= 10\n"
          ],
          "name": "stdout"
        }
      ]
    },
    {
      "cell_type": "markdown",
      "metadata": {
        "id": "kzkaj2rrdGIN"
      },
      "source": [
        "Phép chia lấy phần dư của 2 số:"
      ]
    },
    {
      "cell_type": "code",
      "metadata": {
        "id": "ceFzDr-hdKib",
        "outputId": "b4aff302-fdf3-4938-b3d1-4bb733ed52a0",
        "colab": {
          "base_uri": "https://localhost:8080/",
          "height": 68
        }
      },
      "source": [
        "a = int(input(\"a =\"))\n",
        "b = int(input(\"b =\"))\n",
        "c=a%b\n",
        "print(\"a%b=\", c)"
      ],
      "execution_count": 5,
      "outputs": [
        {
          "output_type": "stream",
          "text": [
            "a =10\n",
            "b =3\n",
            "a%b= 1\n"
          ],
          "name": "stdout"
        }
      ]
    },
    {
      "cell_type": "markdown",
      "metadata": {
        "id": "mNpXppv_dfuV"
      },
      "source": [
        "Phép chia lấy phần nguyên của 2 số"
      ]
    },
    {
      "cell_type": "code",
      "metadata": {
        "id": "LCc7oRUvdj1T",
        "outputId": "2b18114d-0edf-488f-aa77-2727b93d03e3",
        "colab": {
          "base_uri": "https://localhost:8080/",
          "height": 68
        }
      },
      "source": [
        "a = int(input(\"a =\"))\n",
        "b = int(input(\"b =\"))\n",
        "c=a//b\n",
        "print(\"a//b=\", c)"
      ],
      "execution_count": 6,
      "outputs": [
        {
          "output_type": "stream",
          "text": [
            "a =8\n",
            "b =3\n",
            "a//b= 2\n"
          ],
          "name": "stdout"
        }
      ]
    },
    {
      "cell_type": "markdown",
      "metadata": {
        "id": "RuUSN4mEeVOm"
      },
      "source": [
        "\n",
        "Bài 2: Lập trình nhập vào từ bàn phím 2 số thực và tính:"
      ]
    },
    {
      "cell_type": "markdown",
      "metadata": {
        "id": "E21NRyUZet9k"
      },
      "source": [
        "Tổng của 2 số"
      ]
    },
    {
      "cell_type": "code",
      "metadata": {
        "id": "vpDU_odOfLet",
        "outputId": "50b98842-25f2-409c-b785-67defb4daaba",
        "colab": {
          "base_uri": "https://localhost:8080/",
          "height": 68
        }
      },
      "source": [
        "a = float(input(\"a=\"))\n",
        "b = float(input(\"b=\"))\n",
        "c=a+b\n",
        "print(\"a+b=\",c)"
      ],
      "execution_count": 8,
      "outputs": [
        {
          "output_type": "stream",
          "text": [
            "a=0.5\n",
            "b=0.5\n",
            "a+b= 1.0\n"
          ],
          "name": "stdout"
        }
      ]
    },
    {
      "cell_type": "markdown",
      "metadata": {
        "id": "WN1fd-Yrf9m7"
      },
      "source": [
        "Tích của 2 số:"
      ]
    },
    {
      "cell_type": "code",
      "metadata": {
        "id": "oE8KbD7TgCod",
        "outputId": "3fa92fb8-f88f-46c4-dd7b-0bef5e3578fb",
        "colab": {
          "base_uri": "https://localhost:8080/",
          "height": 68
        }
      },
      "source": [
        "a = float(input(\"a=\"))\n",
        "b = float(input(\"b=\"))\n",
        "c=a*b\n",
        "print(\"a*b=\",c)"
      ],
      "execution_count": 10,
      "outputs": [
        {
          "output_type": "stream",
          "text": [
            "a=5.5\n",
            "b=2.5\n",
            "a*b= 13.75\n"
          ],
          "name": "stdout"
        }
      ]
    },
    {
      "cell_type": "markdown",
      "metadata": {
        "id": "BSziFcErgerD"
      },
      "source": [
        "Hiệu của 2 số:"
      ]
    },
    {
      "cell_type": "code",
      "metadata": {
        "id": "8rKrTxd_giKL",
        "outputId": "a287ce36-014e-4396-9997-2086a25f468d",
        "colab": {
          "base_uri": "https://localhost:8080/",
          "height": 68
        }
      },
      "source": [
        "a = float(input(\"a=\"))\n",
        "b = float(input(\"b=\"))\n",
        "c=a-b\n",
        "print(\"a-b=\",c)"
      ],
      "execution_count": 11,
      "outputs": [
        {
          "output_type": "stream",
          "text": [
            "a=20\n",
            "b=12.5\n",
            "a-b= 7.5\n"
          ],
          "name": "stdout"
        }
      ]
    },
    {
      "cell_type": "markdown",
      "metadata": {
        "id": "17oscvTlg9J9"
      },
      "source": [
        "Thương của 2 số"
      ]
    },
    {
      "cell_type": "code",
      "metadata": {
        "id": "3ZuyfPt0hEsD",
        "outputId": "b2f3720a-ad33-4ae9-c41c-ae0c64354a30",
        "colab": {
          "base_uri": "https://localhost:8080/",
          "height": 68
        }
      },
      "source": [
        "a = float(input(\"a=\"))\n",
        "b = float(input(\"b=\"))\n",
        "c=a/b\n",
        "print(\"a/b=\",c)"
      ],
      "execution_count": 13,
      "outputs": [
        {
          "output_type": "stream",
          "text": [
            "a=20\n",
            "b=0.5\n",
            "a/b= 40.0\n"
          ],
          "name": "stdout"
        }
      ]
    },
    {
      "cell_type": "markdown",
      "metadata": {
        "id": "qVsaBIDWhgqA"
      },
      "source": [
        "Bài 3: (Sử dụng các hàm toán học) Nhập một số từ bàn phím và tính:"
      ]
    },
    {
      "cell_type": "markdown",
      "metadata": {
        "id": "Qm5EoQZJhmG0"
      },
      "source": [
        "Trị tuyệt đối"
      ]
    },
    {
      "cell_type": "code",
      "metadata": {
        "id": "Q2y6pKIHhqUv",
        "outputId": "fcecb2e2-6854-4cfa-e3dd-81051947e79b",
        "colab": {
          "base_uri": "https://localhost:8080/",
          "height": 68
        }
      },
      "source": [
        "\n",
        "a = float(input(\"a=\"))\n",
        "b = float(input(\"b=\"))\n",
        "\n",
        "c=a-b\n",
        "print(\"a-b=\",abs(c))"
      ],
      "execution_count": 16,
      "outputs": [
        {
          "output_type": "stream",
          "text": [
            "a=4.5\n",
            "b=5\n",
            "a-b= 0.5\n"
          ],
          "name": "stdout"
        }
      ]
    },
    {
      "cell_type": "markdown",
      "metadata": {
        "id": "LxvQGbkBlER4"
      },
      "source": [
        "Lấy phần nguyên của số"
      ]
    },
    {
      "cell_type": "code",
      "metadata": {
        "id": "mj8OTWwRlIKP",
        "outputId": "5807b3c1-e194-40aa-be32-660fdbc4b88a",
        "colab": {
          "base_uri": "https://localhost:8080/",
          "height": 68
        }
      },
      "source": [
        "a = float(input(\"a=\"))\n",
        "b = float(input(\"b=\"))\n",
        "c=a-b\n",
        "print(\"a-b=\",int(c))"
      ],
      "execution_count": 17,
      "outputs": [
        {
          "output_type": "stream",
          "text": [
            "a=20\n",
            "b=1.5\n",
            "a-b= 18\n"
          ],
          "name": "stdout"
        }
      ]
    },
    {
      "cell_type": "markdown",
      "metadata": {
        "id": "qgixC4FRl9ab"
      },
      "source": [
        "Chuyển đổi thành số thực"
      ]
    },
    {
      "cell_type": "code",
      "metadata": {
        "id": "2NJg9qeVmCWd",
        "outputId": "fefc98f5-5b29-40ca-a6ec-4da6193734bc",
        "colab": {
          "base_uri": "https://localhost:8080/",
          "height": 68
        }
      },
      "source": [
        "a = float(input(\"a=\"))\n",
        "b = float(input(\"b=\"))\n",
        "c=a-b\n",
        "print(\"a-b=\",float(c))"
      ],
      "execution_count": 18,
      "outputs": [
        {
          "output_type": "stream",
          "text": [
            "a=5\n",
            "b=20\n",
            "a-b= -15.0\n"
          ],
          "name": "stdout"
        }
      ]
    },
    {
      "cell_type": "markdown",
      "metadata": {
        "id": "5nRNlMHxnKf-"
      },
      "source": [
        "(nhập thêm 1 số từ bàn phím) và tính lũy thừa $ x^y $"
      ]
    },
    {
      "cell_type": "code",
      "metadata": {
        "id": "MCp1rg8MnzL9",
        "outputId": "bbac2341-2cbf-4fb9-b796-3fd4847f906b",
        "colab": {
          "base_uri": "https://localhost:8080/",
          "height": 68
        }
      },
      "source": [
        "a = float(input(\"a=\"))\n",
        "b = float(input(\"b=\"))\n",
        "c=a**b\n",
        "print(\"a**b=\",c)"
      ],
      "execution_count": 19,
      "outputs": [
        {
          "output_type": "stream",
          "text": [
            "a=2\n",
            "b=3\n",
            "a**b= 8.0\n"
          ],
          "name": "stdout"
        }
      ]
    },
    {
      "cell_type": "markdown",
      "metadata": {
        "id": "-BetR3IOov-p"
      },
      "source": [
        "Tính căn bậc hai"
      ]
    },
    {
      "cell_type": "code",
      "metadata": {
        "id": "SS7G2U2GoxVp",
        "outputId": "749a5c46-ad7b-4e80-ba13-e33d7faa0dac",
        "colab": {
          "base_uri": "https://localhost:8080/",
          "height": 68
        }
      },
      "source": [
        "a = float(input(\"a=\"))\n",
        "b = float(input(\"b=\"))\n",
        "c=a**b\n",
        "print(\"a**b=\",c)"
      ],
      "execution_count": 20,
      "outputs": [
        {
          "output_type": "stream",
          "text": [
            "a=5\n",
            "b=2\n",
            "a**b= 25.0\n"
          ],
          "name": "stdout"
        }
      ]
    },
    {
      "cell_type": "markdown",
      "metadata": {
        "id": "Rt4mMExNqc_l"
      },
      "source": [
        " Nhập 2 số từ bàn phím và thực hiện các phép so sánh sau giữa 2 số:"
      ]
    },
    {
      "cell_type": "code",
      "metadata": {
        "id": "3kGHjx-Rq77W",
        "outputId": "4d3dbfab-59e0-4ac8-d3f9-fbd8cb5071cb",
        "colab": {
          "base_uri": "https://localhost:8080/",
          "height": 68
        }
      },
      "source": [
        "a = float(input(\"a=\"))\n",
        "b = float(input(\"b=\"))\n",
        "print(a>= b //True)"
      ],
      "execution_count": 21,
      "outputs": [
        {
          "output_type": "stream",
          "text": [
            "a=10\n",
            "b=2\n",
            "True\n"
          ],
          "name": "stdout"
        }
      ]
    },
    {
      "cell_type": "code",
      "metadata": {
        "id": "2_aJr6X6saFe",
        "outputId": "c05cdb58-ce35-4a03-8839-ac5b4ef1040e",
        "colab": {
          "base_uri": "https://localhost:8080/",
          "height": 68
        }
      },
      "source": [
        "a = float(input(\"a=\"))\n",
        "b = float(input(\"b=\"))\n",
        "print(a<= b //True)"
      ],
      "execution_count": 23,
      "outputs": [
        {
          "output_type": "stream",
          "text": [
            "a=2.5\n",
            "b=12\n",
            "True\n"
          ],
          "name": "stdout"
        }
      ]
    },
    {
      "cell_type": "code",
      "metadata": {
        "id": "Dbsk7N3Ls_kv",
        "outputId": "d43fc0d9-5013-4efb-b49b-98b3a5783a1b",
        "colab": {
          "base_uri": "https://localhost:8080/",
          "height": 68
        }
      },
      "source": [
        "a = float(input(\"a=\"))\n",
        "b = float(input(\"b=\"))\n",
        "print(a>b //True)"
      ],
      "execution_count": 24,
      "outputs": [
        {
          "output_type": "stream",
          "text": [
            "a=20\n",
            "b=10\n",
            "True\n"
          ],
          "name": "stdout"
        }
      ]
    },
    {
      "cell_type": "code",
      "metadata": {
        "id": "nGVSqu8atBFE",
        "outputId": "8b6d2905-1bce-4c43-b52b-8ebc8261fe14",
        "colab": {
          "base_uri": "https://localhost:8080/",
          "height": 68
        }
      },
      "source": [
        "a = float(input(\"a=\"))\n",
        "b = float(input(\"b=\"))\n",
        "print(a<b //True)"
      ],
      "execution_count": 25,
      "outputs": [
        {
          "output_type": "stream",
          "text": [
            "a=3.2\n",
            "b=20.1\n",
            "True\n"
          ],
          "name": "stdout"
        }
      ]
    },
    {
      "cell_type": "code",
      "metadata": {
        "id": "Cfh91Z7ZtgtG",
        "outputId": "557c8a6e-3069-490c-e83f-6d5105e878b9",
        "colab": {
          "base_uri": "https://localhost:8080/",
          "height": 68
        }
      },
      "source": [
        "a = float(input(\"a=\"))\n",
        "b = int(input(\"b=\"))\n",
        "print(a!= b //True)"
      ],
      "execution_count": 27,
      "outputs": [
        {
          "output_type": "stream",
          "text": [
            "a=5.5\n",
            "b=12\n",
            "True\n"
          ],
          "name": "stdout"
        }
      ]
    },
    {
      "cell_type": "markdown",
      "metadata": {
        "id": "YSqLVy2et3z_"
      },
      "source": [
        "\n",
        "Bài 5: Nhập 1 chuỗi ký tự từ bàn phím:"
      ]
    },
    {
      "cell_type": "markdown",
      "metadata": {
        "id": "_GXkyWAbt7V2"
      },
      "source": [
        "Chuyển thành chuỗi in hoa"
      ]
    },
    {
      "cell_type": "code",
      "metadata": {
        "id": "BmZ0K10ZuAQQ",
        "outputId": "8ee151b3-921e-4881-8f69-fcd51d72e317",
        "colab": {
          "base_uri": "https://localhost:8080/",
          "height": 34
        }
      },
      "source": [
        "str1 = \"    Vi du ham PYTHON swapcase()    \"\n",
        "print (str1.upper())"
      ],
      "execution_count": 28,
      "outputs": [
        {
          "output_type": "stream",
          "text": [
            "    VI DU HAM PYTHON SWAPCASE()    \n"
          ],
          "name": "stdout"
        }
      ]
    },
    {
      "cell_type": "code",
      "metadata": {
        "id": "1_WrIdq3u6D2",
        "outputId": "f5627221-7830-4e21-8da2-66ae835cac3e",
        "colab": {
          "base_uri": "https://localhost:8080/",
          "height": 34
        }
      },
      "source": [
        "str1 = \"Vi Du Ham lower() Trong Python\";\n",
        "print (str1.lower())"
      ],
      "execution_count": 29,
      "outputs": [
        {
          "output_type": "stream",
          "text": [
            "vi du ham lower() trong python\n"
          ],
          "name": "stdout"
        }
      ]
    },
    {
      "cell_type": "markdown",
      "metadata": {
        "id": "fxiGDwLVwfas"
      },
      "source": [
        "Bài 6: Xuất ra màn hình 1 chuỗi ký từ nằm trên nhiều hàng (có thể là 1 bài thơ tùy ý bạn lựa chọn)"
      ]
    },
    {
      "cell_type": "code",
      "metadata": {
        "id": "fvdN-z9pzCws",
        "outputId": "52345a15-a2f8-4f01-928f-da651204c0e0",
        "colab": {
          "base_uri": "https://localhost:8080/",
          "height": 34
        }
      },
      "source": [
        "print(\"a\", end = ' ')\n",
        "print(\"b\", end = ' ')\n",
        "print(\"c\", end = ' ')\n"
      ],
      "execution_count": 42,
      "outputs": [
        {
          "output_type": "stream",
          "text": [
            "a b c "
          ],
          "name": "stdout"
        }
      ]
    }
  ]
}