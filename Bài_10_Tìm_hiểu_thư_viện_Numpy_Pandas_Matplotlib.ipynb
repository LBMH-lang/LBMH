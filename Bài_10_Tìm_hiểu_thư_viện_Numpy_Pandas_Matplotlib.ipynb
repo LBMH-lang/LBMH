{
  "nbformat": 4,
  "nbformat_minor": 0,
  "metadata": {
    "colab": {
      "name": "Bài 10: Tìm hiểu thư viện Numpy - Pandas - Matplotlib.ipynb",
      "provenance": [],
      "authorship_tag": "ABX9TyNkwi51836XWIIDbBYEI9Ue",
      "include_colab_link": true
    },
    "kernelspec": {
      "name": "python3",
      "display_name": "Python 3"
    }
  },
  "cells": [
    {
      "cell_type": "markdown",
      "metadata": {
        "id": "view-in-github",
        "colab_type": "text"
      },
      "source": [
        "<a href=\"https://colab.research.google.com/github/LBMH-lang/LBMH/blob/master/B%C3%A0i_10_T%C3%ACm_hi%E1%BB%83u_th%C6%B0_vi%E1%BB%87n_Numpy_Pandas_Matplotlib.ipynb\" target=\"_parent\"><img src=\"https://colab.research.google.com/assets/colab-badge.svg\" alt=\"Open In Colab\"/></a>"
      ]
    },
    {
      "cell_type": "code",
      "metadata": {
        "id": "qmwV14YE8nj6"
      },
      "source": [
        "import numpy as np"
      ],
      "execution_count": 1,
      "outputs": []
    },
    {
      "cell_type": "code",
      "metadata": {
        "id": "Iv6BmQn-8zMU"
      },
      "source": [
        "A = np.array([[1,2,3], [4,5,6], [7,8,9]])"
      ],
      "execution_count": 2,
      "outputs": []
    },
    {
      "cell_type": "code",
      "metadata": {
        "colab": {
          "base_uri": "https://localhost:8080/"
        },
        "id": "s92shmXS83h9",
        "outputId": "4bea2f3a-94c5-40fb-a078-0b4eaacb0050"
      },
      "source": [
        "A"
      ],
      "execution_count": 3,
      "outputs": [
        {
          "output_type": "execute_result",
          "data": {
            "text/plain": [
              "array([[1, 2, 3],\n",
              "       [4, 5, 6],\n",
              "       [7, 8, 9]])"
            ]
          },
          "metadata": {
            "tags": []
          },
          "execution_count": 3
        }
      ]
    },
    {
      "cell_type": "code",
      "metadata": {
        "id": "YT0TT3Q686UD"
      },
      "source": [
        "B = np.array([[1,2,2], [2,3,2], [4,6,5]])"
      ],
      "execution_count": 4,
      "outputs": []
    },
    {
      "cell_type": "code",
      "metadata": {
        "colab": {
          "base_uri": "https://localhost:8080/"
        },
        "id": "doFh-sfH9Qgk",
        "outputId": "41702e74-72bb-4928-ad83-2fcc0814b99f"
      },
      "source": [
        "B"
      ],
      "execution_count": 5,
      "outputs": [
        {
          "output_type": "execute_result",
          "data": {
            "text/plain": [
              "array([[1, 2, 2],\n",
              "       [2, 3, 2],\n",
              "       [4, 6, 5]])"
            ]
          },
          "metadata": {
            "tags": []
          },
          "execution_count": 5
        }
      ]
    },
    {
      "cell_type": "code",
      "metadata": {
        "colab": {
          "base_uri": "https://localhost:8080/"
        },
        "id": "7BidjLBM9R18",
        "outputId": "d329eec4-f005-409c-f574-acb52a3e8507"
      },
      "source": [
        "print ('A + B: \\n', A+B)\n",
        "print ('A * B: \\n', A*B)"
      ],
      "execution_count": 6,
      "outputs": [
        {
          "output_type": "stream",
          "text": [
            "A + B: \n",
            " [[ 2  4  5]\n",
            " [ 6  8  8]\n",
            " [11 14 14]]\n",
            "A * B: \n",
            " [[ 1  4  6]\n",
            " [ 8 15 12]\n",
            " [28 48 45]]\n"
          ],
          "name": "stdout"
        }
      ]
    }
  ]
}