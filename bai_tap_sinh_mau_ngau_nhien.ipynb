{
  "nbformat": 4,
  "nbformat_minor": 0,
  "metadata": {
    "kernelspec": {
      "display_name": "Python 3",
      "language": "python",
      "name": "python3"
    },
    "language_info": {
      "codemirror_mode": {
        "name": "ipython",
        "version": 3
      },
      "file_extension": ".py",
      "mimetype": "text/x-python",
      "name": "python",
      "nbconvert_exporter": "python",
      "pygments_lexer": "ipython3",
      "version": "3.7.3"
    },
    "colab": {
      "name": "bai-tap-sinh-mau-ngau-nhien.ipynb",
      "provenance": [],
      "include_colab_link": true
    }
  },
  "cells": [
    {
      "cell_type": "markdown",
      "metadata": {
        "id": "view-in-github",
        "colab_type": "text"
      },
      "source": [
        "<a href=\"https://colab.research.google.com/github/LBMH-lang/LBMH/blob/master/bai_tap_sinh_mau_ngau_nhien.ipynb\" target=\"_parent\"><img src=\"https://colab.research.google.com/assets/colab-badge.svg\" alt=\"Open In Colab\"/></a>"
      ]
    },
    {
      "cell_type": "markdown",
      "metadata": {
        "id": "olctj8-IXkrB"
      },
      "source": [
        "Sử dụng thư viện Numpy\n",
        "\n",
        "1. Sinh mẫu ngẫu nhiên bằng hàm arange trong khoảng [-15, 27] với khoảng cách là 0.7 và in kết quả ra màn hình"
      ]
    },
    {
      "cell_type": "code",
      "metadata": {
        "id": "wotXtd3xYDtn"
      },
      "source": [
        "import numpy as np\n",
        "import random\n",
        "from scipy import stats"
      ],
      "execution_count": 18,
      "outputs": []
    },
    {
      "cell_type": "code",
      "metadata": {
        "id": "93Ug5_0MXkrF",
        "outputId": "0e77ae2c-558b-475f-e96e-1d1c799e3f54",
        "colab": {
          "base_uri": "https://localhost:8080/"
        }
      },
      "source": [
        "sample_4 = np.arange(-15, 27, 0.7)\n",
        "print(sample_4)"
      ],
      "execution_count": 14,
      "outputs": [
        {
          "output_type": "stream",
          "text": [
            "[-15.  -14.3 -13.6 -12.9 -12.2 -11.5 -10.8 -10.1  -9.4  -8.7  -8.   -7.3\n",
            "  -6.6  -5.9  -5.2  -4.5  -3.8  -3.1  -2.4  -1.7  -1.   -0.3   0.4   1.1\n",
            "   1.8   2.5   3.2   3.9   4.6   5.3   6.    6.7   7.4   8.1   8.8   9.5\n",
            "  10.2  10.9  11.6  12.3  13.   13.7  14.4  15.1  15.8  16.5  17.2  17.9\n",
            "  18.6  19.3  20.   20.7  21.4  22.1  22.8  23.5  24.2  24.9  25.6  26.3\n",
            "  27. ]\n"
          ],
          "name": "stdout"
        }
      ]
    },
    {
      "cell_type": "markdown",
      "metadata": {
        "id": "SoBoB_XvXkrG"
      },
      "source": [
        "2. Sinh mẫu ngẫu nhiên theo phân phối chuẩn với mean = 2.7 std = 1.2 và size = 40\n",
        "In kết quả ra màn hình"
      ]
    },
    {
      "cell_type": "code",
      "metadata": {
        "id": "xDE-o86UXkrG",
        "outputId": "ffa0d7a1-85f3-4dc1-9603-cf9997b46b99",
        "colab": {
          "base_uri": "https://localhost:8080/"
        }
      },
      "source": [
        "#Code\n",
        "sample_2 = samples = np.random.normal(2.7, 1.2, 40)\n",
        "print(sample_2)"
      ],
      "execution_count": 3,
      "outputs": [
        {
          "output_type": "stream",
          "text": [
            "[2.42117099 2.1880458  4.94564469 2.93344338 3.04928456 2.72911683\n",
            " 0.06700796 4.23048494 2.34404471 2.58763165 1.8551567  3.57019374\n",
            " 2.82390677 2.73207579 1.62334925 3.34328817 1.97469855 1.83135827\n",
            " 2.01861282 4.23674548 2.07910874 1.98382725 3.62717926 3.01837287\n",
            " 2.19815602 2.20679021 2.64817396 2.15966255 1.98820117 3.75243484\n",
            " 3.05202386 2.67005812 0.72124133 2.88801308 3.75026912 3.63732329\n",
            " 4.4483297  2.54919051 1.9175512  0.87367878]\n"
          ],
          "name": "stdout"
        }
      ]
    },
    {
      "cell_type": "markdown",
      "metadata": {
        "id": "aRT4XL8UXkrH"
      },
      "source": [
        "3. Sinh mẫu ngẫu nhiên từ vector ['Viet Nam', 'Britain', 'France', 'Russia', 'Singapore'] \n",
        "\n",
        "với kích thước là 17 theo phân phối chuẩn"
      ]
    },
    {
      "cell_type": "code",
      "metadata": {
        "id": "nfbbXPw5XkrH",
        "outputId": "06d0011f-21c1-4700-c2b0-6a50c6ea52fa",
        "colab": {
          "base_uri": "https://localhost:8080/"
        }
      },
      "source": [
        "#Code\n",
        "vector = ['Viet Nam', 'Britain', 'France', 'Russia', 'Singapore']\n",
        "random.choices(vector, k=17)"
      ],
      "execution_count": 15,
      "outputs": [
        {
          "output_type": "execute_result",
          "data": {
            "text/plain": [
              "['Viet Nam',\n",
              " 'Britain',\n",
              " 'Viet Nam',\n",
              " 'Russia',\n",
              " 'France',\n",
              " 'Russia',\n",
              " 'Britain',\n",
              " 'Singapore',\n",
              " 'Russia',\n",
              " 'France',\n",
              " 'Britain',\n",
              " 'Britain',\n",
              " 'Singapore',\n",
              " 'Viet Nam',\n",
              " 'Russia',\n",
              " 'France',\n",
              " 'Russia']"
            ]
          },
          "metadata": {
            "tags": []
          },
          "execution_count": 15
        }
      ]
    },
    {
      "cell_type": "markdown",
      "metadata": {
        "id": "YR-HNrN0XkrH"
      },
      "source": [
        "4. Sinh mẫu ngẫu nhiên ở câu 3 nhưng không theo phân phối chuẩn mà theo 1 vector đặc tả giá trị xác suất do bạn chọn"
      ]
    },
    {
      "cell_type": "code",
      "metadata": {
        "id": "6U9jgGhAXkrH",
        "outputId": "12202b93-92a8-47fc-dac2-4a08301022ab",
        "colab": {
          "base_uri": "https://localhost:8080/"
        }
      },
      "source": [
        "#Code\n",
        "sample_4= np.random.choice(['Viet Nam', 'Britain', 'France', 'Russia', 'Singapore'], 10, p = [0.2, 0.3, 0.3, 0.1,0.1])\n",
        "sample_4"
      ],
      "execution_count": 17,
      "outputs": [
        {
          "output_type": "execute_result",
          "data": {
            "text/plain": [
              "array(['Britain', 'France', 'Russia', 'Britain', 'France', 'Viet Nam',\n",
              "       'France', 'France', 'Singapore', 'Britain'], dtype='<U9')"
            ]
          },
          "metadata": {
            "tags": []
          },
          "execution_count": 17
        }
      ]
    },
    {
      "cell_type": "markdown",
      "metadata": {
        "id": "pOLvmf_AXkrI"
      },
      "source": [
        "Sử dụng thư việc scipy.stats để sinh mẫu ngẫu nhiên\n",
        "\n",
        "1. Sinh mẫu ngẫu nhiên theo phân phối chuẩn với mean = 12.7, std = 2.6 và size = 30. In kết quả ra màn hình"
      ]
    },
    {
      "cell_type": "code",
      "metadata": {
        "id": "6LDmUzlxXkrI",
        "outputId": "2c1256b5-90ce-41f3-9cc4-f460ba6f6b6f",
        "colab": {
          "base_uri": "https://localhost:8080/"
        }
      },
      "source": [
        "#Code\n",
        "sample_9 = stats.norm.rvs(12.7, 2.6 , 30 )\n",
        "print(sample_9[:10])"
      ],
      "execution_count": 19,
      "outputs": [
        {
          "output_type": "stream",
          "text": [
            "[15.84833094 11.26993861 12.82295225 12.47343319 12.58154164 13.42706484\n",
            " 10.3154435   9.24084856 12.74666697 16.20805989]\n"
          ],
          "name": "stdout"
        }
      ]
    },
    {
      "cell_type": "markdown",
      "metadata": {
        "id": "3XUlGo9hXkrI"
      },
      "source": [
        "2. Hãy sinh một mẫu ngẫu nhiên theo phân phối Poisson"
      ]
    },
    {
      "cell_type": "code",
      "metadata": {
        "id": "Hq0Z5e56XkrI",
        "outputId": "53463cbb-48b1-4dcc-bb80-c888d785b172",
        "colab": {
          "base_uri": "https://localhost:8080/"
        }
      },
      "source": [
        "#Code\n",
        "sample_10 = stats.poisson.rvs(loc=18,mu=30,size=1000)\n",
        "print(sample_10[:10])"
      ],
      "execution_count": 20,
      "outputs": [
        {
          "output_type": "stream",
          "text": [
            "[51 42 53 49 47 44 47 48 54 42]\n"
          ],
          "name": "stdout"
        }
      ]
    },
    {
      "cell_type": "code",
      "metadata": {
        "id": "_fTKsgUCXkrJ"
      },
      "source": [
        ""
      ],
      "execution_count": null,
      "outputs": []
    }
  ]
}